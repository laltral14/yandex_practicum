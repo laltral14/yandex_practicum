{
 "cells": [
  {
   "cell_type": "markdown",
   "id": "c1165499",
   "metadata": {
    "deletable": false,
    "editable": false,
    "id": "c81daeeb"
   },
   "source": [
    "# Исследование надежности заемщиков\n"
   ]
  },
  {
   "cell_type": "code",
   "execution_count": 1,
   "id": "cc3b959a",
   "metadata": {
    "deletable": false,
    "id": "7bcf75c9"
   },
   "outputs": [],
   "source": [
    "import pandas as pd\n",
    "import seaborn as sns\n",
    "import matplotlib.pylab as plt\n",
    "\n",
    "try:\n",
    "    data = pd.read_csv('/datasets/data.csv')\n",
    "except:\n",
    "    data = pd.read_csv('https://code.s3.yandex.net/datasets/data.csv')"
   ]
  },
  {
   "cell_type": "code",
   "execution_count": 2,
   "id": "1a7b814c",
   "metadata": {
    "deletable": false,
    "id": "2a7cab99",
    "outputId": "1a8f3ef2-d323-4ec2-ddf7-89670b5944c4"
   },
   "outputs": [
    {
     "data": {
      "text/html": [
       "<div>\n",
       "<style scoped>\n",
       "    .dataframe tbody tr th:only-of-type {\n",
       "        vertical-align: middle;\n",
       "    }\n",
       "\n",
       "    .dataframe tbody tr th {\n",
       "        vertical-align: top;\n",
       "    }\n",
       "\n",
       "    .dataframe thead th {\n",
       "        text-align: right;\n",
       "    }\n",
       "</style>\n",
       "<table border=\"1\" class=\"dataframe\">\n",
       "  <thead>\n",
       "    <tr style=\"text-align: right;\">\n",
       "      <th></th>\n",
       "      <th>children</th>\n",
       "      <th>days_employed</th>\n",
       "      <th>dob_years</th>\n",
       "      <th>education</th>\n",
       "      <th>education_id</th>\n",
       "      <th>family_status</th>\n",
       "      <th>family_status_id</th>\n",
       "      <th>gender</th>\n",
       "      <th>income_type</th>\n",
       "      <th>debt</th>\n",
       "      <th>total_income</th>\n",
       "      <th>purpose</th>\n",
       "    </tr>\n",
       "  </thead>\n",
       "  <tbody>\n",
       "    <tr>\n",
       "      <th>0</th>\n",
       "      <td>1</td>\n",
       "      <td>-8437.673028</td>\n",
       "      <td>42</td>\n",
       "      <td>высшее</td>\n",
       "      <td>0</td>\n",
       "      <td>женат / замужем</td>\n",
       "      <td>0</td>\n",
       "      <td>F</td>\n",
       "      <td>сотрудник</td>\n",
       "      <td>0</td>\n",
       "      <td>253875.639453</td>\n",
       "      <td>покупка жилья</td>\n",
       "    </tr>\n",
       "    <tr>\n",
       "      <th>1</th>\n",
       "      <td>1</td>\n",
       "      <td>-4024.803754</td>\n",
       "      <td>36</td>\n",
       "      <td>среднее</td>\n",
       "      <td>1</td>\n",
       "      <td>женат / замужем</td>\n",
       "      <td>0</td>\n",
       "      <td>F</td>\n",
       "      <td>сотрудник</td>\n",
       "      <td>0</td>\n",
       "      <td>112080.014102</td>\n",
       "      <td>приобретение автомобиля</td>\n",
       "    </tr>\n",
       "    <tr>\n",
       "      <th>2</th>\n",
       "      <td>0</td>\n",
       "      <td>-5623.422610</td>\n",
       "      <td>33</td>\n",
       "      <td>Среднее</td>\n",
       "      <td>1</td>\n",
       "      <td>женат / замужем</td>\n",
       "      <td>0</td>\n",
       "      <td>M</td>\n",
       "      <td>сотрудник</td>\n",
       "      <td>0</td>\n",
       "      <td>145885.952297</td>\n",
       "      <td>покупка жилья</td>\n",
       "    </tr>\n",
       "    <tr>\n",
       "      <th>3</th>\n",
       "      <td>3</td>\n",
       "      <td>-4124.747207</td>\n",
       "      <td>32</td>\n",
       "      <td>среднее</td>\n",
       "      <td>1</td>\n",
       "      <td>женат / замужем</td>\n",
       "      <td>0</td>\n",
       "      <td>M</td>\n",
       "      <td>сотрудник</td>\n",
       "      <td>0</td>\n",
       "      <td>267628.550329</td>\n",
       "      <td>дополнительное образование</td>\n",
       "    </tr>\n",
       "    <tr>\n",
       "      <th>4</th>\n",
       "      <td>0</td>\n",
       "      <td>340266.072047</td>\n",
       "      <td>53</td>\n",
       "      <td>среднее</td>\n",
       "      <td>1</td>\n",
       "      <td>гражданский брак</td>\n",
       "      <td>1</td>\n",
       "      <td>F</td>\n",
       "      <td>пенсионер</td>\n",
       "      <td>0</td>\n",
       "      <td>158616.077870</td>\n",
       "      <td>сыграть свадьбу</td>\n",
       "    </tr>\n",
       "    <tr>\n",
       "      <th>5</th>\n",
       "      <td>0</td>\n",
       "      <td>-926.185831</td>\n",
       "      <td>27</td>\n",
       "      <td>высшее</td>\n",
       "      <td>0</td>\n",
       "      <td>гражданский брак</td>\n",
       "      <td>1</td>\n",
       "      <td>M</td>\n",
       "      <td>компаньон</td>\n",
       "      <td>0</td>\n",
       "      <td>255763.565419</td>\n",
       "      <td>покупка жилья</td>\n",
       "    </tr>\n",
       "    <tr>\n",
       "      <th>6</th>\n",
       "      <td>0</td>\n",
       "      <td>-2879.202052</td>\n",
       "      <td>43</td>\n",
       "      <td>высшее</td>\n",
       "      <td>0</td>\n",
       "      <td>женат / замужем</td>\n",
       "      <td>0</td>\n",
       "      <td>F</td>\n",
       "      <td>компаньон</td>\n",
       "      <td>0</td>\n",
       "      <td>240525.971920</td>\n",
       "      <td>операции с жильем</td>\n",
       "    </tr>\n",
       "    <tr>\n",
       "      <th>7</th>\n",
       "      <td>0</td>\n",
       "      <td>-152.779569</td>\n",
       "      <td>50</td>\n",
       "      <td>СРЕДНЕЕ</td>\n",
       "      <td>1</td>\n",
       "      <td>женат / замужем</td>\n",
       "      <td>0</td>\n",
       "      <td>M</td>\n",
       "      <td>сотрудник</td>\n",
       "      <td>0</td>\n",
       "      <td>135823.934197</td>\n",
       "      <td>образование</td>\n",
       "    </tr>\n",
       "    <tr>\n",
       "      <th>8</th>\n",
       "      <td>2</td>\n",
       "      <td>-6929.865299</td>\n",
       "      <td>35</td>\n",
       "      <td>ВЫСШЕЕ</td>\n",
       "      <td>0</td>\n",
       "      <td>гражданский брак</td>\n",
       "      <td>1</td>\n",
       "      <td>F</td>\n",
       "      <td>сотрудник</td>\n",
       "      <td>0</td>\n",
       "      <td>95856.832424</td>\n",
       "      <td>на проведение свадьбы</td>\n",
       "    </tr>\n",
       "    <tr>\n",
       "      <th>9</th>\n",
       "      <td>0</td>\n",
       "      <td>-2188.756445</td>\n",
       "      <td>41</td>\n",
       "      <td>среднее</td>\n",
       "      <td>1</td>\n",
       "      <td>женат / замужем</td>\n",
       "      <td>0</td>\n",
       "      <td>M</td>\n",
       "      <td>сотрудник</td>\n",
       "      <td>0</td>\n",
       "      <td>144425.938277</td>\n",
       "      <td>покупка жилья для семьи</td>\n",
       "    </tr>\n",
       "    <tr>\n",
       "      <th>10</th>\n",
       "      <td>2</td>\n",
       "      <td>-4171.483647</td>\n",
       "      <td>36</td>\n",
       "      <td>высшее</td>\n",
       "      <td>0</td>\n",
       "      <td>женат / замужем</td>\n",
       "      <td>0</td>\n",
       "      <td>M</td>\n",
       "      <td>компаньон</td>\n",
       "      <td>0</td>\n",
       "      <td>113943.491460</td>\n",
       "      <td>покупка недвижимости</td>\n",
       "    </tr>\n",
       "    <tr>\n",
       "      <th>11</th>\n",
       "      <td>0</td>\n",
       "      <td>-792.701887</td>\n",
       "      <td>40</td>\n",
       "      <td>среднее</td>\n",
       "      <td>1</td>\n",
       "      <td>женат / замужем</td>\n",
       "      <td>0</td>\n",
       "      <td>F</td>\n",
       "      <td>сотрудник</td>\n",
       "      <td>0</td>\n",
       "      <td>77069.234271</td>\n",
       "      <td>покупка коммерческой недвижимости</td>\n",
       "    </tr>\n",
       "    <tr>\n",
       "      <th>12</th>\n",
       "      <td>0</td>\n",
       "      <td>NaN</td>\n",
       "      <td>65</td>\n",
       "      <td>среднее</td>\n",
       "      <td>1</td>\n",
       "      <td>гражданский брак</td>\n",
       "      <td>1</td>\n",
       "      <td>M</td>\n",
       "      <td>пенсионер</td>\n",
       "      <td>0</td>\n",
       "      <td>NaN</td>\n",
       "      <td>сыграть свадьбу</td>\n",
       "    </tr>\n",
       "    <tr>\n",
       "      <th>13</th>\n",
       "      <td>0</td>\n",
       "      <td>-1846.641941</td>\n",
       "      <td>54</td>\n",
       "      <td>неоконченное высшее</td>\n",
       "      <td>2</td>\n",
       "      <td>женат / замужем</td>\n",
       "      <td>0</td>\n",
       "      <td>F</td>\n",
       "      <td>сотрудник</td>\n",
       "      <td>0</td>\n",
       "      <td>130458.228857</td>\n",
       "      <td>приобретение автомобиля</td>\n",
       "    </tr>\n",
       "    <tr>\n",
       "      <th>14</th>\n",
       "      <td>0</td>\n",
       "      <td>-1844.956182</td>\n",
       "      <td>56</td>\n",
       "      <td>высшее</td>\n",
       "      <td>0</td>\n",
       "      <td>гражданский брак</td>\n",
       "      <td>1</td>\n",
       "      <td>F</td>\n",
       "      <td>компаньон</td>\n",
       "      <td>1</td>\n",
       "      <td>165127.911772</td>\n",
       "      <td>покупка жилой недвижимости</td>\n",
       "    </tr>\n",
       "    <tr>\n",
       "      <th>15</th>\n",
       "      <td>1</td>\n",
       "      <td>-972.364419</td>\n",
       "      <td>26</td>\n",
       "      <td>среднее</td>\n",
       "      <td>1</td>\n",
       "      <td>женат / замужем</td>\n",
       "      <td>0</td>\n",
       "      <td>F</td>\n",
       "      <td>сотрудник</td>\n",
       "      <td>0</td>\n",
       "      <td>116820.904450</td>\n",
       "      <td>строительство собственной недвижимости</td>\n",
       "    </tr>\n",
       "    <tr>\n",
       "      <th>16</th>\n",
       "      <td>0</td>\n",
       "      <td>-1719.934226</td>\n",
       "      <td>35</td>\n",
       "      <td>среднее</td>\n",
       "      <td>1</td>\n",
       "      <td>женат / замужем</td>\n",
       "      <td>0</td>\n",
       "      <td>F</td>\n",
       "      <td>сотрудник</td>\n",
       "      <td>0</td>\n",
       "      <td>289202.704229</td>\n",
       "      <td>недвижимость</td>\n",
       "    </tr>\n",
       "    <tr>\n",
       "      <th>17</th>\n",
       "      <td>0</td>\n",
       "      <td>-2369.999720</td>\n",
       "      <td>33</td>\n",
       "      <td>высшее</td>\n",
       "      <td>0</td>\n",
       "      <td>гражданский брак</td>\n",
       "      <td>1</td>\n",
       "      <td>M</td>\n",
       "      <td>сотрудник</td>\n",
       "      <td>0</td>\n",
       "      <td>90410.586745</td>\n",
       "      <td>строительство недвижимости</td>\n",
       "    </tr>\n",
       "    <tr>\n",
       "      <th>18</th>\n",
       "      <td>0</td>\n",
       "      <td>400281.136913</td>\n",
       "      <td>53</td>\n",
       "      <td>среднее</td>\n",
       "      <td>1</td>\n",
       "      <td>вдовец / вдова</td>\n",
       "      <td>2</td>\n",
       "      <td>F</td>\n",
       "      <td>пенсионер</td>\n",
       "      <td>0</td>\n",
       "      <td>56823.777243</td>\n",
       "      <td>на покупку подержанного автомобиля</td>\n",
       "    </tr>\n",
       "    <tr>\n",
       "      <th>19</th>\n",
       "      <td>0</td>\n",
       "      <td>-10038.818549</td>\n",
       "      <td>48</td>\n",
       "      <td>СРЕДНЕЕ</td>\n",
       "      <td>1</td>\n",
       "      <td>в разводе</td>\n",
       "      <td>3</td>\n",
       "      <td>F</td>\n",
       "      <td>сотрудник</td>\n",
       "      <td>0</td>\n",
       "      <td>242831.107982</td>\n",
       "      <td>на покупку своего автомобиля</td>\n",
       "    </tr>\n",
       "  </tbody>\n",
       "</table>\n",
       "</div>"
      ],
      "text/plain": [
       "    children  days_employed  dob_years            education  education_id  \\\n",
       "0          1   -8437.673028         42               высшее             0   \n",
       "1          1   -4024.803754         36              среднее             1   \n",
       "2          0   -5623.422610         33              Среднее             1   \n",
       "3          3   -4124.747207         32              среднее             1   \n",
       "4          0  340266.072047         53              среднее             1   \n",
       "5          0    -926.185831         27               высшее             0   \n",
       "6          0   -2879.202052         43               высшее             0   \n",
       "7          0    -152.779569         50              СРЕДНЕЕ             1   \n",
       "8          2   -6929.865299         35               ВЫСШЕЕ             0   \n",
       "9          0   -2188.756445         41              среднее             1   \n",
       "10         2   -4171.483647         36               высшее             0   \n",
       "11         0    -792.701887         40              среднее             1   \n",
       "12         0            NaN         65              среднее             1   \n",
       "13         0   -1846.641941         54  неоконченное высшее             2   \n",
       "14         0   -1844.956182         56               высшее             0   \n",
       "15         1    -972.364419         26              среднее             1   \n",
       "16         0   -1719.934226         35              среднее             1   \n",
       "17         0   -2369.999720         33               высшее             0   \n",
       "18         0  400281.136913         53              среднее             1   \n",
       "19         0  -10038.818549         48              СРЕДНЕЕ             1   \n",
       "\n",
       "       family_status  family_status_id gender income_type  debt  \\\n",
       "0    женат / замужем                 0      F   сотрудник     0   \n",
       "1    женат / замужем                 0      F   сотрудник     0   \n",
       "2    женат / замужем                 0      M   сотрудник     0   \n",
       "3    женат / замужем                 0      M   сотрудник     0   \n",
       "4   гражданский брак                 1      F   пенсионер     0   \n",
       "5   гражданский брак                 1      M   компаньон     0   \n",
       "6    женат / замужем                 0      F   компаньон     0   \n",
       "7    женат / замужем                 0      M   сотрудник     0   \n",
       "8   гражданский брак                 1      F   сотрудник     0   \n",
       "9    женат / замужем                 0      M   сотрудник     0   \n",
       "10   женат / замужем                 0      M   компаньон     0   \n",
       "11   женат / замужем                 0      F   сотрудник     0   \n",
       "12  гражданский брак                 1      M   пенсионер     0   \n",
       "13   женат / замужем                 0      F   сотрудник     0   \n",
       "14  гражданский брак                 1      F   компаньон     1   \n",
       "15   женат / замужем                 0      F   сотрудник     0   \n",
       "16   женат / замужем                 0      F   сотрудник     0   \n",
       "17  гражданский брак                 1      M   сотрудник     0   \n",
       "18    вдовец / вдова                 2      F   пенсионер     0   \n",
       "19         в разводе                 3      F   сотрудник     0   \n",
       "\n",
       "     total_income                                 purpose  \n",
       "0   253875.639453                           покупка жилья  \n",
       "1   112080.014102                 приобретение автомобиля  \n",
       "2   145885.952297                           покупка жилья  \n",
       "3   267628.550329              дополнительное образование  \n",
       "4   158616.077870                         сыграть свадьбу  \n",
       "5   255763.565419                           покупка жилья  \n",
       "6   240525.971920                       операции с жильем  \n",
       "7   135823.934197                             образование  \n",
       "8    95856.832424                   на проведение свадьбы  \n",
       "9   144425.938277                 покупка жилья для семьи  \n",
       "10  113943.491460                    покупка недвижимости  \n",
       "11   77069.234271       покупка коммерческой недвижимости  \n",
       "12            NaN                         сыграть свадьбу  \n",
       "13  130458.228857                 приобретение автомобиля  \n",
       "14  165127.911772              покупка жилой недвижимости  \n",
       "15  116820.904450  строительство собственной недвижимости  \n",
       "16  289202.704229                            недвижимость  \n",
       "17   90410.586745              строительство недвижимости  \n",
       "18   56823.777243      на покупку подержанного автомобиля  \n",
       "19  242831.107982            на покупку своего автомобиля  "
      ]
     },
     "execution_count": 2,
     "metadata": {},
     "output_type": "execute_result"
    }
   ],
   "source": [
    "data.head(20)"
   ]
  },
  {
   "cell_type": "code",
   "execution_count": 3,
   "id": "5f8693b7",
   "metadata": {
    "deletable": false,
    "id": "2b757bca",
    "outputId": "15376089-8dad-46c9-b520-c05248d43158"
   },
   "outputs": [
    {
     "name": "stdout",
     "output_type": "stream",
     "text": [
      "<class 'pandas.core.frame.DataFrame'>\n",
      "RangeIndex: 21525 entries, 0 to 21524\n",
      "Data columns (total 12 columns):\n",
      " #   Column            Non-Null Count  Dtype  \n",
      "---  ------            --------------  -----  \n",
      " 0   children          21525 non-null  int64  \n",
      " 1   days_employed     19351 non-null  float64\n",
      " 2   dob_years         21525 non-null  int64  \n",
      " 3   education         21525 non-null  object \n",
      " 4   education_id      21525 non-null  int64  \n",
      " 5   family_status     21525 non-null  object \n",
      " 6   family_status_id  21525 non-null  int64  \n",
      " 7   gender            21525 non-null  object \n",
      " 8   income_type       21525 non-null  object \n",
      " 9   debt              21525 non-null  int64  \n",
      " 10  total_income      19351 non-null  float64\n",
      " 11  purpose           21525 non-null  object \n",
      "dtypes: float64(2), int64(5), object(5)\n",
      "memory usage: 2.0+ MB\n"
     ]
    }
   ],
   "source": [
    "data.info()"
   ]
  },
  {
   "cell_type": "markdown",
   "id": "98bdd1d1",
   "metadata": {
    "deletable": false,
    "editable": false,
    "id": "333ec665"
   },
   "source": [
    "## Предобработка данных"
   ]
  },
  {
   "cell_type": "markdown",
   "id": "0bcc3af8",
   "metadata": {
    "deletable": false,
    "editable": false,
    "id": "02d92d53"
   },
   "source": [
    "### Удаление пропусков"
   ]
  },
  {
   "cell_type": "code",
   "execution_count": 4,
   "id": "083a4803",
   "metadata": {
    "deletable": false,
    "id": "7f9b2309",
    "outputId": "81f4d817-781c-465c-ed15-91ce4446810d",
    "scrolled": true
   },
   "outputs": [
    {
     "data": {
      "text/plain": [
       "children               0\n",
       "days_employed       2174\n",
       "dob_years              0\n",
       "education              0\n",
       "education_id           0\n",
       "family_status          0\n",
       "family_status_id       0\n",
       "gender                 0\n",
       "income_type            0\n",
       "debt                   0\n",
       "total_income        2174\n",
       "purpose                0\n",
       "dtype: int64"
      ]
     },
     "execution_count": 4,
     "metadata": {},
     "output_type": "execute_result"
    }
   ],
   "source": [
    "data.isna().sum()"
   ]
  },
  {
   "cell_type": "code",
   "execution_count": 5,
   "id": "7a86e21a",
   "metadata": {},
   "outputs": [
    {
     "name": "stdout",
     "output_type": "stream",
     "text": [
      "Процент пропуска данных в общием трудовом стаже в днях: 10%\n",
      "Процент пропуска данных в ежемесячном доходе: 10%\n"
     ]
    }
   ],
   "source": [
    "petcent_of_missing_data_days_employed = data['days_employed'].isna().sum()/len(data['days_employed'])\n",
    "petcent_of_missing_data_total_income = data['total_income'].isna().sum()/len(data['total_income'])\n",
    "print(f'Процент пропуска данных в общием трудовом стаже в днях: {petcent_of_missing_data_days_employed:.0%}')\n",
    "print(f'Процент пропуска данных в ежемесячном доходе: {petcent_of_missing_data_total_income:.0%}')"
   ]
  },
  {
   "cell_type": "code",
   "execution_count": 6,
   "id": "d013d06e",
   "metadata": {},
   "outputs": [
    {
     "data": {
      "text/html": [
       "<div>\n",
       "<style scoped>\n",
       "    .dataframe tbody tr th:only-of-type {\n",
       "        vertical-align: middle;\n",
       "    }\n",
       "\n",
       "    .dataframe tbody tr th {\n",
       "        vertical-align: top;\n",
       "    }\n",
       "\n",
       "    .dataframe thead th {\n",
       "        text-align: right;\n",
       "    }\n",
       "</style>\n",
       "<table border=\"1\" class=\"dataframe\">\n",
       "  <thead>\n",
       "    <tr style=\"text-align: right;\">\n",
       "      <th></th>\n",
       "      <th>children</th>\n",
       "      <th>days_employed</th>\n",
       "      <th>dob_years</th>\n",
       "      <th>education</th>\n",
       "      <th>education_id</th>\n",
       "      <th>family_status</th>\n",
       "      <th>family_status_id</th>\n",
       "      <th>gender</th>\n",
       "      <th>income_type</th>\n",
       "      <th>debt</th>\n",
       "      <th>total_income</th>\n",
       "      <th>purpose</th>\n",
       "    </tr>\n",
       "  </thead>\n",
       "  <tbody>\n",
       "    <tr>\n",
       "      <th>12</th>\n",
       "      <td>0</td>\n",
       "      <td>NaN</td>\n",
       "      <td>65</td>\n",
       "      <td>среднее</td>\n",
       "      <td>1</td>\n",
       "      <td>гражданский брак</td>\n",
       "      <td>1</td>\n",
       "      <td>M</td>\n",
       "      <td>пенсионер</td>\n",
       "      <td>0</td>\n",
       "      <td>NaN</td>\n",
       "      <td>сыграть свадьбу</td>\n",
       "    </tr>\n",
       "    <tr>\n",
       "      <th>26</th>\n",
       "      <td>0</td>\n",
       "      <td>NaN</td>\n",
       "      <td>41</td>\n",
       "      <td>среднее</td>\n",
       "      <td>1</td>\n",
       "      <td>женат / замужем</td>\n",
       "      <td>0</td>\n",
       "      <td>M</td>\n",
       "      <td>госслужащий</td>\n",
       "      <td>0</td>\n",
       "      <td>NaN</td>\n",
       "      <td>образование</td>\n",
       "    </tr>\n",
       "    <tr>\n",
       "      <th>29</th>\n",
       "      <td>0</td>\n",
       "      <td>NaN</td>\n",
       "      <td>63</td>\n",
       "      <td>среднее</td>\n",
       "      <td>1</td>\n",
       "      <td>Не женат / не замужем</td>\n",
       "      <td>4</td>\n",
       "      <td>F</td>\n",
       "      <td>пенсионер</td>\n",
       "      <td>0</td>\n",
       "      <td>NaN</td>\n",
       "      <td>строительство жилой недвижимости</td>\n",
       "    </tr>\n",
       "    <tr>\n",
       "      <th>41</th>\n",
       "      <td>0</td>\n",
       "      <td>NaN</td>\n",
       "      <td>50</td>\n",
       "      <td>среднее</td>\n",
       "      <td>1</td>\n",
       "      <td>женат / замужем</td>\n",
       "      <td>0</td>\n",
       "      <td>F</td>\n",
       "      <td>госслужащий</td>\n",
       "      <td>0</td>\n",
       "      <td>NaN</td>\n",
       "      <td>сделка с подержанным автомобилем</td>\n",
       "    </tr>\n",
       "    <tr>\n",
       "      <th>55</th>\n",
       "      <td>0</td>\n",
       "      <td>NaN</td>\n",
       "      <td>54</td>\n",
       "      <td>среднее</td>\n",
       "      <td>1</td>\n",
       "      <td>гражданский брак</td>\n",
       "      <td>1</td>\n",
       "      <td>F</td>\n",
       "      <td>пенсионер</td>\n",
       "      <td>1</td>\n",
       "      <td>NaN</td>\n",
       "      <td>сыграть свадьбу</td>\n",
       "    </tr>\n",
       "    <tr>\n",
       "      <th>...</th>\n",
       "      <td>...</td>\n",
       "      <td>...</td>\n",
       "      <td>...</td>\n",
       "      <td>...</td>\n",
       "      <td>...</td>\n",
       "      <td>...</td>\n",
       "      <td>...</td>\n",
       "      <td>...</td>\n",
       "      <td>...</td>\n",
       "      <td>...</td>\n",
       "      <td>...</td>\n",
       "      <td>...</td>\n",
       "    </tr>\n",
       "    <tr>\n",
       "      <th>21489</th>\n",
       "      <td>2</td>\n",
       "      <td>NaN</td>\n",
       "      <td>47</td>\n",
       "      <td>Среднее</td>\n",
       "      <td>1</td>\n",
       "      <td>женат / замужем</td>\n",
       "      <td>0</td>\n",
       "      <td>M</td>\n",
       "      <td>компаньон</td>\n",
       "      <td>0</td>\n",
       "      <td>NaN</td>\n",
       "      <td>сделка с автомобилем</td>\n",
       "    </tr>\n",
       "    <tr>\n",
       "      <th>21495</th>\n",
       "      <td>1</td>\n",
       "      <td>NaN</td>\n",
       "      <td>50</td>\n",
       "      <td>среднее</td>\n",
       "      <td>1</td>\n",
       "      <td>гражданский брак</td>\n",
       "      <td>1</td>\n",
       "      <td>F</td>\n",
       "      <td>сотрудник</td>\n",
       "      <td>0</td>\n",
       "      <td>NaN</td>\n",
       "      <td>свадьба</td>\n",
       "    </tr>\n",
       "    <tr>\n",
       "      <th>21497</th>\n",
       "      <td>0</td>\n",
       "      <td>NaN</td>\n",
       "      <td>48</td>\n",
       "      <td>ВЫСШЕЕ</td>\n",
       "      <td>0</td>\n",
       "      <td>женат / замужем</td>\n",
       "      <td>0</td>\n",
       "      <td>F</td>\n",
       "      <td>компаньон</td>\n",
       "      <td>0</td>\n",
       "      <td>NaN</td>\n",
       "      <td>строительство недвижимости</td>\n",
       "    </tr>\n",
       "    <tr>\n",
       "      <th>21502</th>\n",
       "      <td>1</td>\n",
       "      <td>NaN</td>\n",
       "      <td>42</td>\n",
       "      <td>среднее</td>\n",
       "      <td>1</td>\n",
       "      <td>женат / замужем</td>\n",
       "      <td>0</td>\n",
       "      <td>F</td>\n",
       "      <td>сотрудник</td>\n",
       "      <td>0</td>\n",
       "      <td>NaN</td>\n",
       "      <td>строительство жилой недвижимости</td>\n",
       "    </tr>\n",
       "    <tr>\n",
       "      <th>21510</th>\n",
       "      <td>2</td>\n",
       "      <td>NaN</td>\n",
       "      <td>28</td>\n",
       "      <td>среднее</td>\n",
       "      <td>1</td>\n",
       "      <td>женат / замужем</td>\n",
       "      <td>0</td>\n",
       "      <td>F</td>\n",
       "      <td>сотрудник</td>\n",
       "      <td>0</td>\n",
       "      <td>NaN</td>\n",
       "      <td>приобретение автомобиля</td>\n",
       "    </tr>\n",
       "  </tbody>\n",
       "</table>\n",
       "<p>2174 rows × 12 columns</p>\n",
       "</div>"
      ],
      "text/plain": [
       "       children  days_employed  dob_years education  education_id  \\\n",
       "12            0            NaN         65   среднее             1   \n",
       "26            0            NaN         41   среднее             1   \n",
       "29            0            NaN         63   среднее             1   \n",
       "41            0            NaN         50   среднее             1   \n",
       "55            0            NaN         54   среднее             1   \n",
       "...         ...            ...        ...       ...           ...   \n",
       "21489         2            NaN         47   Среднее             1   \n",
       "21495         1            NaN         50   среднее             1   \n",
       "21497         0            NaN         48    ВЫСШЕЕ             0   \n",
       "21502         1            NaN         42   среднее             1   \n",
       "21510         2            NaN         28   среднее             1   \n",
       "\n",
       "               family_status  family_status_id gender  income_type  debt  \\\n",
       "12          гражданский брак                 1      M    пенсионер     0   \n",
       "26           женат / замужем                 0      M  госслужащий     0   \n",
       "29     Не женат / не замужем                 4      F    пенсионер     0   \n",
       "41           женат / замужем                 0      F  госслужащий     0   \n",
       "55          гражданский брак                 1      F    пенсионер     1   \n",
       "...                      ...               ...    ...          ...   ...   \n",
       "21489        женат / замужем                 0      M    компаньон     0   \n",
       "21495       гражданский брак                 1      F    сотрудник     0   \n",
       "21497        женат / замужем                 0      F    компаньон     0   \n",
       "21502        женат / замужем                 0      F    сотрудник     0   \n",
       "21510        женат / замужем                 0      F    сотрудник     0   \n",
       "\n",
       "       total_income                           purpose  \n",
       "12              NaN                   сыграть свадьбу  \n",
       "26              NaN                       образование  \n",
       "29              NaN  строительство жилой недвижимости  \n",
       "41              NaN  сделка с подержанным автомобилем  \n",
       "55              NaN                   сыграть свадьбу  \n",
       "...             ...                               ...  \n",
       "21489           NaN              сделка с автомобилем  \n",
       "21495           NaN                           свадьба  \n",
       "21497           NaN        строительство недвижимости  \n",
       "21502           NaN  строительство жилой недвижимости  \n",
       "21510           NaN           приобретение автомобиля  \n",
       "\n",
       "[2174 rows x 12 columns]"
      ]
     },
     "execution_count": 6,
     "metadata": {},
     "output_type": "execute_result"
    }
   ],
   "source": [
    "#Проверяем данные с пропуском в столбце общего трудового стажа в днях\n",
    "data.loc[data['days_employed'].isna()]"
   ]
  },
  {
   "cell_type": "code",
   "execution_count": 7,
   "id": "41c0f811",
   "metadata": {},
   "outputs": [
    {
     "data": {
      "text/html": [
       "<div>\n",
       "<style scoped>\n",
       "    .dataframe tbody tr th:only-of-type {\n",
       "        vertical-align: middle;\n",
       "    }\n",
       "\n",
       "    .dataframe tbody tr th {\n",
       "        vertical-align: top;\n",
       "    }\n",
       "\n",
       "    .dataframe thead th {\n",
       "        text-align: right;\n",
       "    }\n",
       "</style>\n",
       "<table border=\"1\" class=\"dataframe\">\n",
       "  <thead>\n",
       "    <tr style=\"text-align: right;\">\n",
       "      <th></th>\n",
       "      <th>children</th>\n",
       "      <th>days_employed</th>\n",
       "      <th>dob_years</th>\n",
       "      <th>education</th>\n",
       "      <th>education_id</th>\n",
       "      <th>family_status</th>\n",
       "      <th>family_status_id</th>\n",
       "      <th>gender</th>\n",
       "      <th>income_type</th>\n",
       "      <th>debt</th>\n",
       "      <th>total_income</th>\n",
       "      <th>purpose</th>\n",
       "    </tr>\n",
       "  </thead>\n",
       "  <tbody>\n",
       "    <tr>\n",
       "      <th>12</th>\n",
       "      <td>0</td>\n",
       "      <td>NaN</td>\n",
       "      <td>65</td>\n",
       "      <td>среднее</td>\n",
       "      <td>1</td>\n",
       "      <td>гражданский брак</td>\n",
       "      <td>1</td>\n",
       "      <td>M</td>\n",
       "      <td>пенсионер</td>\n",
       "      <td>0</td>\n",
       "      <td>NaN</td>\n",
       "      <td>сыграть свадьбу</td>\n",
       "    </tr>\n",
       "    <tr>\n",
       "      <th>26</th>\n",
       "      <td>0</td>\n",
       "      <td>NaN</td>\n",
       "      <td>41</td>\n",
       "      <td>среднее</td>\n",
       "      <td>1</td>\n",
       "      <td>женат / замужем</td>\n",
       "      <td>0</td>\n",
       "      <td>M</td>\n",
       "      <td>госслужащий</td>\n",
       "      <td>0</td>\n",
       "      <td>NaN</td>\n",
       "      <td>образование</td>\n",
       "    </tr>\n",
       "    <tr>\n",
       "      <th>29</th>\n",
       "      <td>0</td>\n",
       "      <td>NaN</td>\n",
       "      <td>63</td>\n",
       "      <td>среднее</td>\n",
       "      <td>1</td>\n",
       "      <td>Не женат / не замужем</td>\n",
       "      <td>4</td>\n",
       "      <td>F</td>\n",
       "      <td>пенсионер</td>\n",
       "      <td>0</td>\n",
       "      <td>NaN</td>\n",
       "      <td>строительство жилой недвижимости</td>\n",
       "    </tr>\n",
       "    <tr>\n",
       "      <th>41</th>\n",
       "      <td>0</td>\n",
       "      <td>NaN</td>\n",
       "      <td>50</td>\n",
       "      <td>среднее</td>\n",
       "      <td>1</td>\n",
       "      <td>женат / замужем</td>\n",
       "      <td>0</td>\n",
       "      <td>F</td>\n",
       "      <td>госслужащий</td>\n",
       "      <td>0</td>\n",
       "      <td>NaN</td>\n",
       "      <td>сделка с подержанным автомобилем</td>\n",
       "    </tr>\n",
       "    <tr>\n",
       "      <th>55</th>\n",
       "      <td>0</td>\n",
       "      <td>NaN</td>\n",
       "      <td>54</td>\n",
       "      <td>среднее</td>\n",
       "      <td>1</td>\n",
       "      <td>гражданский брак</td>\n",
       "      <td>1</td>\n",
       "      <td>F</td>\n",
       "      <td>пенсионер</td>\n",
       "      <td>1</td>\n",
       "      <td>NaN</td>\n",
       "      <td>сыграть свадьбу</td>\n",
       "    </tr>\n",
       "    <tr>\n",
       "      <th>...</th>\n",
       "      <td>...</td>\n",
       "      <td>...</td>\n",
       "      <td>...</td>\n",
       "      <td>...</td>\n",
       "      <td>...</td>\n",
       "      <td>...</td>\n",
       "      <td>...</td>\n",
       "      <td>...</td>\n",
       "      <td>...</td>\n",
       "      <td>...</td>\n",
       "      <td>...</td>\n",
       "      <td>...</td>\n",
       "    </tr>\n",
       "    <tr>\n",
       "      <th>21489</th>\n",
       "      <td>2</td>\n",
       "      <td>NaN</td>\n",
       "      <td>47</td>\n",
       "      <td>Среднее</td>\n",
       "      <td>1</td>\n",
       "      <td>женат / замужем</td>\n",
       "      <td>0</td>\n",
       "      <td>M</td>\n",
       "      <td>компаньон</td>\n",
       "      <td>0</td>\n",
       "      <td>NaN</td>\n",
       "      <td>сделка с автомобилем</td>\n",
       "    </tr>\n",
       "    <tr>\n",
       "      <th>21495</th>\n",
       "      <td>1</td>\n",
       "      <td>NaN</td>\n",
       "      <td>50</td>\n",
       "      <td>среднее</td>\n",
       "      <td>1</td>\n",
       "      <td>гражданский брак</td>\n",
       "      <td>1</td>\n",
       "      <td>F</td>\n",
       "      <td>сотрудник</td>\n",
       "      <td>0</td>\n",
       "      <td>NaN</td>\n",
       "      <td>свадьба</td>\n",
       "    </tr>\n",
       "    <tr>\n",
       "      <th>21497</th>\n",
       "      <td>0</td>\n",
       "      <td>NaN</td>\n",
       "      <td>48</td>\n",
       "      <td>ВЫСШЕЕ</td>\n",
       "      <td>0</td>\n",
       "      <td>женат / замужем</td>\n",
       "      <td>0</td>\n",
       "      <td>F</td>\n",
       "      <td>компаньон</td>\n",
       "      <td>0</td>\n",
       "      <td>NaN</td>\n",
       "      <td>строительство недвижимости</td>\n",
       "    </tr>\n",
       "    <tr>\n",
       "      <th>21502</th>\n",
       "      <td>1</td>\n",
       "      <td>NaN</td>\n",
       "      <td>42</td>\n",
       "      <td>среднее</td>\n",
       "      <td>1</td>\n",
       "      <td>женат / замужем</td>\n",
       "      <td>0</td>\n",
       "      <td>F</td>\n",
       "      <td>сотрудник</td>\n",
       "      <td>0</td>\n",
       "      <td>NaN</td>\n",
       "      <td>строительство жилой недвижимости</td>\n",
       "    </tr>\n",
       "    <tr>\n",
       "      <th>21510</th>\n",
       "      <td>2</td>\n",
       "      <td>NaN</td>\n",
       "      <td>28</td>\n",
       "      <td>среднее</td>\n",
       "      <td>1</td>\n",
       "      <td>женат / замужем</td>\n",
       "      <td>0</td>\n",
       "      <td>F</td>\n",
       "      <td>сотрудник</td>\n",
       "      <td>0</td>\n",
       "      <td>NaN</td>\n",
       "      <td>приобретение автомобиля</td>\n",
       "    </tr>\n",
       "  </tbody>\n",
       "</table>\n",
       "<p>2174 rows × 12 columns</p>\n",
       "</div>"
      ],
      "text/plain": [
       "       children  days_employed  dob_years education  education_id  \\\n",
       "12            0            NaN         65   среднее             1   \n",
       "26            0            NaN         41   среднее             1   \n",
       "29            0            NaN         63   среднее             1   \n",
       "41            0            NaN         50   среднее             1   \n",
       "55            0            NaN         54   среднее             1   \n",
       "...         ...            ...        ...       ...           ...   \n",
       "21489         2            NaN         47   Среднее             1   \n",
       "21495         1            NaN         50   среднее             1   \n",
       "21497         0            NaN         48    ВЫСШЕЕ             0   \n",
       "21502         1            NaN         42   среднее             1   \n",
       "21510         2            NaN         28   среднее             1   \n",
       "\n",
       "               family_status  family_status_id gender  income_type  debt  \\\n",
       "12          гражданский брак                 1      M    пенсионер     0   \n",
       "26           женат / замужем                 0      M  госслужащий     0   \n",
       "29     Не женат / не замужем                 4      F    пенсионер     0   \n",
       "41           женат / замужем                 0      F  госслужащий     0   \n",
       "55          гражданский брак                 1      F    пенсионер     1   \n",
       "...                      ...               ...    ...          ...   ...   \n",
       "21489        женат / замужем                 0      M    компаньон     0   \n",
       "21495       гражданский брак                 1      F    сотрудник     0   \n",
       "21497        женат / замужем                 0      F    компаньон     0   \n",
       "21502        женат / замужем                 0      F    сотрудник     0   \n",
       "21510        женат / замужем                 0      F    сотрудник     0   \n",
       "\n",
       "       total_income                           purpose  \n",
       "12              NaN                   сыграть свадьбу  \n",
       "26              NaN                       образование  \n",
       "29              NaN  строительство жилой недвижимости  \n",
       "41              NaN  сделка с подержанным автомобилем  \n",
       "55              NaN                   сыграть свадьбу  \n",
       "...             ...                               ...  \n",
       "21489           NaN              сделка с автомобилем  \n",
       "21495           NaN                           свадьба  \n",
       "21497           NaN        строительство недвижимости  \n",
       "21502           NaN  строительство жилой недвижимости  \n",
       "21510           NaN           приобретение автомобиля  \n",
       "\n",
       "[2174 rows x 12 columns]"
      ]
     },
     "execution_count": 7,
     "metadata": {},
     "output_type": "execute_result"
    }
   ],
   "source": [
    "#Проверяем данные с пропуском в столбце ежемесячного дохода\n",
    "data.loc[data['total_income'].isna()]"
   ]
  },
  {
   "cell_type": "code",
   "execution_count": 8,
   "id": "ca3e126d",
   "metadata": {
    "deletable": false,
    "id": "42006a93"
   },
   "outputs": [],
   "source": [
    "for t in data['income_type'].unique():\n",
    "    data.loc[(data['income_type'] == t) & (data['total_income'].isna()), 'total_income'] = \\\n",
    "    data.loc[(data['income_type'] == t), 'total_income'].median()"
   ]
  },
  {
   "cell_type": "markdown",
   "id": "2e4d9a98",
   "metadata": {
    "deletable": false,
    "editable": false,
    "id": "89da5ece"
   },
   "source": [
    "### Обработка аномальных значений"
   ]
  },
  {
   "cell_type": "code",
   "execution_count": 9,
   "id": "d6fac0f9",
   "metadata": {
    "deletable": false,
    "id": "f6f055bf"
   },
   "outputs": [],
   "source": [
    "data['days_employed'] = data['days_employed'].abs()"
   ]
  },
  {
   "cell_type": "code",
   "execution_count": 10,
   "id": "96950fe9",
   "metadata": {
    "deletable": false,
    "id": "85a5faf6",
    "outputId": "801ef80e-522b-4668-f34e-565af7432bcf"
   },
   "outputs": [
    {
     "data": {
      "text/plain": [
       "income_type\n",
       "безработный        366413.652744\n",
       "в декрете            3296.759962\n",
       "госслужащий          2689.368353\n",
       "компаньон            1547.382223\n",
       "пенсионер          365213.306266\n",
       "предприниматель       520.848083\n",
       "сотрудник            1574.202821\n",
       "студент               578.751554\n",
       "Name: days_employed, dtype: float64"
      ]
     },
     "execution_count": 10,
     "metadata": {},
     "output_type": "execute_result"
    }
   ],
   "source": [
    "data.groupby('income_type')['days_employed'].agg('median')"
   ]
  },
  {
   "cell_type": "markdown",
   "id": "8a74373e",
   "metadata": {
    "deletable": false,
    "editable": false,
    "id": "38d1a030"
   },
   "source": [
    "У двух типов (безработные и пенсионеры) получатся аномально большие значения. Исправить такие значения сложно, поэтому оставьте их как есть. Тем более этот столбец не понадобится вам для исследования."
   ]
  },
  {
   "cell_type": "code",
   "execution_count": 11,
   "id": "6eab7b99",
   "metadata": {
    "deletable": false,
    "id": "ef5056eb",
    "outputId": "6975b15c-7f95-4697-d16d-a0c79b657b03"
   },
   "outputs": [
    {
     "data": {
      "text/plain": [
       "array([ 1,  0,  3,  2, -1,  4, 20,  5], dtype=int64)"
      ]
     },
     "execution_count": 11,
     "metadata": {},
     "output_type": "execute_result"
    }
   ],
   "source": [
    "data['children'].unique()"
   ]
  },
  {
   "cell_type": "code",
   "execution_count": 12,
   "id": "3e2d5cba",
   "metadata": {
    "deletable": false,
    "id": "3ff9801d"
   },
   "outputs": [],
   "source": [
    "data = data[(data['children'] != -1) & (data['children'] != 20)]"
   ]
  },
  {
   "cell_type": "code",
   "execution_count": 13,
   "id": "f52d9ef5",
   "metadata": {
    "deletable": false,
    "id": "ad4fa8b7",
    "outputId": "b2097101-d49d-44d9-901b-32a65c9463d1"
   },
   "outputs": [
    {
     "data": {
      "text/plain": [
       "array([1, 0, 3, 2, 4, 5], dtype=int64)"
      ]
     },
     "execution_count": 13,
     "metadata": {},
     "output_type": "execute_result"
    }
   ],
   "source": [
    "data['children'].unique()"
   ]
  },
  {
   "cell_type": "markdown",
   "id": "a0f2a7b3",
   "metadata": {
    "deletable": false,
    "editable": false,
    "id": "75440b63"
   },
   "source": [
    "### Удаление пропусков (продолжение)"
   ]
  },
  {
   "cell_type": "code",
   "execution_count": 14,
   "id": "310eec15",
   "metadata": {
    "deletable": false,
    "id": "af6b1a7e"
   },
   "outputs": [],
   "source": [
    "for t in data['income_type'].unique():\n",
    "    data.loc[(data['income_type'] == t) & (data['days_employed'].isna()), 'days_employed'] = \\\n",
    "    data.loc[(data['income_type'] == t), 'days_employed'].median()"
   ]
  },
  {
   "cell_type": "code",
   "execution_count": 15,
   "id": "c5b0c37e",
   "metadata": {
    "deletable": false,
    "id": "55f78bc2",
    "outputId": "8da1e4e1-358e-4e87-98c9-f261bce0a7b2"
   },
   "outputs": [
    {
     "data": {
      "text/plain": [
       "children            0\n",
       "days_employed       0\n",
       "dob_years           0\n",
       "education           0\n",
       "education_id        0\n",
       "family_status       0\n",
       "family_status_id    0\n",
       "gender              0\n",
       "income_type         0\n",
       "debt                0\n",
       "total_income        0\n",
       "purpose             0\n",
       "dtype: int64"
      ]
     },
     "execution_count": 15,
     "metadata": {},
     "output_type": "execute_result"
    }
   ],
   "source": [
    "data.isna().sum()"
   ]
  },
  {
   "cell_type": "markdown",
   "id": "32a46942",
   "metadata": {
    "deletable": false,
    "editable": false,
    "id": "ddc81e43"
   },
   "source": [
    "### Изменение типов данных"
   ]
  },
  {
   "cell_type": "code",
   "execution_count": 16,
   "id": "beaa7c70",
   "metadata": {
    "deletable": false,
    "id": "920b65ad"
   },
   "outputs": [],
   "source": [
    "data['total_income'] = data['total_income'].astype(int)"
   ]
  },
  {
   "cell_type": "markdown",
   "id": "dc0dfcf3",
   "metadata": {
    "deletable": false,
    "editable": false,
    "id": "80c420ba"
   },
   "source": [
    "### Обработка дубликатов"
   ]
  },
  {
   "cell_type": "code",
   "execution_count": 17,
   "id": "286f5373",
   "metadata": {
    "deletable": false
   },
   "outputs": [],
   "source": [
    "data['education'] = data['education'].str.lower()"
   ]
  },
  {
   "cell_type": "code",
   "execution_count": 18,
   "id": "52189e76",
   "metadata": {
    "deletable": false,
    "id": "3ee445e4",
    "outputId": "9684deba-1934-42d1-99e1-cda61740f822"
   },
   "outputs": [
    {
     "data": {
      "text/plain": [
       "71"
      ]
     },
     "execution_count": 18,
     "metadata": {},
     "output_type": "execute_result"
    }
   ],
   "source": [
    "data.duplicated().sum()"
   ]
  },
  {
   "cell_type": "code",
   "execution_count": 19,
   "id": "29438a49",
   "metadata": {
    "deletable": false,
    "id": "8575fe05"
   },
   "outputs": [],
   "source": [
    "data = data.drop_duplicates()"
   ]
  },
  {
   "cell_type": "markdown",
   "id": "265e2cbe",
   "metadata": {
    "deletable": false,
    "editable": false,
    "id": "9904cf55"
   },
   "source": [
    "### Категоризация данных"
   ]
  },
  {
   "cell_type": "code",
   "execution_count": 20,
   "id": "9f88d608",
   "metadata": {
    "deletable": false,
    "id": "e1771346"
   },
   "outputs": [],
   "source": [
    "def categorize_income(income):\n",
    "    try:\n",
    "        if 0 <= income <= 30000:\n",
    "            return 'E'\n",
    "        elif 30001 <= income <= 50000:\n",
    "            return 'D'\n",
    "        elif 50001 <= income <= 200000:\n",
    "            return 'C'\n",
    "        elif 200001 <= income <= 1000000:\n",
    "            return 'B'\n",
    "        elif income >= 1000001:\n",
    "            return 'A'\n",
    "    except:\n",
    "        pass"
   ]
  },
  {
   "cell_type": "code",
   "execution_count": 21,
   "id": "d1761680",
   "metadata": {
    "deletable": false,
    "id": "d5f3586d"
   },
   "outputs": [],
   "source": [
    "data['total_income_category'] = data['total_income'].apply(categorize_income)"
   ]
  },
  {
   "cell_type": "code",
   "execution_count": 22,
   "id": "8c57ead3",
   "metadata": {
    "deletable": false,
    "id": "f67ce9b3",
    "outputId": "673c12d9-7d7e-4ae0-9812-c622c89dd244"
   },
   "outputs": [
    {
     "data": {
      "text/plain": [
       "array(['покупка жилья', 'приобретение автомобиля',\n",
       "       'дополнительное образование', 'сыграть свадьбу',\n",
       "       'операции с жильем', 'образование', 'на проведение свадьбы',\n",
       "       'покупка жилья для семьи', 'покупка недвижимости',\n",
       "       'покупка коммерческой недвижимости', 'покупка жилой недвижимости',\n",
       "       'строительство собственной недвижимости', 'недвижимость',\n",
       "       'строительство недвижимости', 'на покупку подержанного автомобиля',\n",
       "       'на покупку своего автомобиля',\n",
       "       'операции с коммерческой недвижимостью',\n",
       "       'строительство жилой недвижимости', 'жилье',\n",
       "       'операции со своей недвижимостью', 'автомобили',\n",
       "       'заняться образованием', 'сделка с подержанным автомобилем',\n",
       "       'получение образования', 'автомобиль', 'свадьба',\n",
       "       'получение дополнительного образования', 'покупка своего жилья',\n",
       "       'операции с недвижимостью', 'получение высшего образования',\n",
       "       'свой автомобиль', 'сделка с автомобилем',\n",
       "       'профильное образование', 'высшее образование',\n",
       "       'покупка жилья для сдачи', 'на покупку автомобиля', 'ремонт жилью',\n",
       "       'заняться высшим образованием'], dtype=object)"
      ]
     },
     "execution_count": 22,
     "metadata": {},
     "output_type": "execute_result"
    }
   ],
   "source": [
    "data['purpose'].unique()"
   ]
  },
  {
   "cell_type": "code",
   "execution_count": 23,
   "id": "caf0a53b",
   "metadata": {
    "deletable": false,
    "id": "e149fab4"
   },
   "outputs": [],
   "source": [
    "def categorize_purpose(row):\n",
    "    try:\n",
    "        if 'автом' in row:\n",
    "            return 'операции с автомобилем'\n",
    "        elif 'жил' in row or 'недвиж' in row:\n",
    "            return 'операции с недвижимостью'\n",
    "        elif 'свад' in row:\n",
    "            return 'проведение свадьбы'\n",
    "        elif 'образов' in row:\n",
    "            return 'получение образования'\n",
    "    except:\n",
    "        return 'нет категории'"
   ]
  },
  {
   "cell_type": "code",
   "execution_count": 24,
   "id": "bf24a254",
   "metadata": {
    "deletable": false,
    "id": "bf36e69b"
   },
   "outputs": [],
   "source": [
    "data['purpose_category'] = data['purpose'].apply(categorize_purpose)"
   ]
  },
  {
   "cell_type": "markdown",
   "id": "2162fd1c",
   "metadata": {
    "deletable": false,
    "editable": false,
    "id": "09b242bf"
   },
   "source": [
    "### Шаг 3. Исследуйте данные и ответьте на вопросы"
   ]
  },
  {
   "cell_type": "markdown",
   "id": "046ef3b3",
   "metadata": {
    "deletable": false,
    "editable": false,
    "id": "c5d66278"
   },
   "source": [
    "#### 3.1 Есть ли зависимость между количеством детей и возвратом кредита в срок?"
   ]
  },
  {
   "cell_type": "code",
   "execution_count": 25,
   "id": "17720e03",
   "metadata": {
    "deletable": false,
    "id": "2cacfc4a"
   },
   "outputs": [
    {
     "data": {
      "image/png": "[encoded data removed]",
      "text/plain": [
       "<Figure size 640x480 with 1 Axes>"
      ]
     },
     "metadata": {},
     "output_type": "display_data"
    }
   ],
   "source": [
    "#находим процент невозврата кредита по заемщикам, сгруппированным по количеству детей\n",
    "children_debt_percent = (data.groupby('children')['debt'].sum() / data.groupby('children')['children'].count()*100)\n",
    "children_debt_percent = children_debt_percent.reset_index()\n",
    "children_debt_percent.columns = ['children', 'children_debt_percent']\n",
    "\n",
    "#строим график процента невозврата кредита по заемщикам, сгруппированным по количеству детей\n",
    "plot_children_status_debt = sns.barplot(y='children_debt_percent', x='children', data = children_debt_percent, color='steelblue')\n",
    "plot_children_status_debt.set(ylabel='процент невозврата кредита', xlabel='количество детей заемщика')\n",
    "plt.show()"
   ]
  },
  {
   "cell_type": "markdown",
   "id": "00b2c1d8",
   "metadata": {},
   "source": [
    "<div class=\"alert alert-success\" style=\"border-radius: 15px; box-shadow: 4px 4px 4px; border: 1px solid \">\n",
    "<h2> Комментарий ревьюера  ✔️</h2>\n",
    "    \n",
    "Здорово, что стараешься визуализировать результаты. Хорошим тоном является наличие заголовка и подписей осей. Но это еще будет в курсе. \n",
    "\n",
    "\n",
    "Обрати внимание на то, что ты делишь сумму на количество, а это не что иное, как среднее. Действия у тебя верные. В столбце `debt` единицами обозначено наличие задолженности. Нулем — ее отсутствие. Так, сумма столбца будет равна сумме единичек или числу должников, а применение метода **count** вернет общее количество кредитов. Таким образом, для поиска доли должников надо разделить сумму на количество. Можно это сделать в одной группировке:\n",
    "</div>"
   ]
  },
  {
   "cell_type": "code",
   "execution_count": 26,
   "id": "b49cefc1",
   "metadata": {},
   "outputs": [
    {
     "data": {
      "text/html": [
       "<div>\n",
       "<style scoped>\n",
       "    .dataframe tbody tr th:only-of-type {\n",
       "        vertical-align: middle;\n",
       "    }\n",
       "\n",
       "    .dataframe tbody tr th {\n",
       "        vertical-align: top;\n",
       "    }\n",
       "\n",
       "    .dataframe thead th {\n",
       "        text-align: right;\n",
       "    }\n",
       "</style>\n",
       "<table border=\"1\" class=\"dataframe\">\n",
       "  <thead>\n",
       "    <tr style=\"text-align: right;\">\n",
       "      <th></th>\n",
       "      <th>count</th>\n",
       "      <th>sum</th>\n",
       "      <th>mean</th>\n",
       "    </tr>\n",
       "    <tr>\n",
       "      <th>children</th>\n",
       "      <th></th>\n",
       "      <th></th>\n",
       "      <th></th>\n",
       "    </tr>\n",
       "  </thead>\n",
       "  <tbody>\n",
       "    <tr>\n",
       "      <th>0</th>\n",
       "      <td>14091</td>\n",
       "      <td>1063</td>\n",
       "      <td>0.075438</td>\n",
       "    </tr>\n",
       "    <tr>\n",
       "      <th>1</th>\n",
       "      <td>4808</td>\n",
       "      <td>444</td>\n",
       "      <td>0.092346</td>\n",
       "    </tr>\n",
       "    <tr>\n",
       "      <th>2</th>\n",
       "      <td>2052</td>\n",
       "      <td>194</td>\n",
       "      <td>0.094542</td>\n",
       "    </tr>\n",
       "    <tr>\n",
       "      <th>3</th>\n",
       "      <td>330</td>\n",
       "      <td>27</td>\n",
       "      <td>0.081818</td>\n",
       "    </tr>\n",
       "    <tr>\n",
       "      <th>4</th>\n",
       "      <td>41</td>\n",
       "      <td>4</td>\n",
       "      <td>0.097561</td>\n",
       "    </tr>\n",
       "    <tr>\n",
       "      <th>5</th>\n",
       "      <td>9</td>\n",
       "      <td>0</td>\n",
       "      <td>0.000000</td>\n",
       "    </tr>\n",
       "  </tbody>\n",
       "</table>\n",
       "</div>"
      ],
      "text/plain": [
       "          count   sum      mean\n",
       "children                       \n",
       "0         14091  1063  0.075438\n",
       "1          4808   444  0.092346\n",
       "2          2052   194  0.094542\n",
       "3           330    27  0.081818\n",
       "4            41     4  0.097561\n",
       "5             9     0  0.000000"
      ]
     },
     "execution_count": 26,
     "metadata": {},
     "output_type": "execute_result"
    }
   ],
   "source": [
    "# КОД РЕВЬЮЕРА\n",
    "\n",
    "data.groupby('children')['debt'].agg(['count','sum','mean'])"
   ]
  },
  {
   "cell_type": "code",
   "execution_count": 27,
   "id": "fa7957eb",
   "metadata": {},
   "outputs": [
    {
     "data": {
      "text/html": [
       "<div>\n",
       "<style scoped>\n",
       "    .dataframe tbody tr th:only-of-type {\n",
       "        vertical-align: middle;\n",
       "    }\n",
       "\n",
       "    .dataframe tbody tr th {\n",
       "        vertical-align: top;\n",
       "    }\n",
       "\n",
       "    .dataframe thead th {\n",
       "        text-align: right;\n",
       "    }\n",
       "</style>\n",
       "<table border=\"1\" class=\"dataframe\">\n",
       "  <thead>\n",
       "    <tr style=\"text-align: right;\">\n",
       "      <th></th>\n",
       "      <th>count</th>\n",
       "      <th>sum</th>\n",
       "      <th>my_mean</th>\n",
       "    </tr>\n",
       "    <tr>\n",
       "      <th>children</th>\n",
       "      <th></th>\n",
       "      <th></th>\n",
       "      <th></th>\n",
       "    </tr>\n",
       "  </thead>\n",
       "  <tbody>\n",
       "    <tr>\n",
       "      <th>0</th>\n",
       "      <td>14091</td>\n",
       "      <td>1063</td>\n",
       "      <td>7.543822</td>\n",
       "    </tr>\n",
       "    <tr>\n",
       "      <th>1</th>\n",
       "      <td>4808</td>\n",
       "      <td>444</td>\n",
       "      <td>9.234609</td>\n",
       "    </tr>\n",
       "    <tr>\n",
       "      <th>2</th>\n",
       "      <td>2052</td>\n",
       "      <td>194</td>\n",
       "      <td>9.454191</td>\n",
       "    </tr>\n",
       "    <tr>\n",
       "      <th>3</th>\n",
       "      <td>330</td>\n",
       "      <td>27</td>\n",
       "      <td>8.181818</td>\n",
       "    </tr>\n",
       "    <tr>\n",
       "      <th>4</th>\n",
       "      <td>41</td>\n",
       "      <td>4</td>\n",
       "      <td>9.756098</td>\n",
       "    </tr>\n",
       "    <tr>\n",
       "      <th>5</th>\n",
       "      <td>9</td>\n",
       "      <td>0</td>\n",
       "      <td>0.000000</td>\n",
       "    </tr>\n",
       "  </tbody>\n",
       "</table>\n",
       "</div>"
      ],
      "text/plain": [
       "          count   sum   my_mean\n",
       "children                       \n",
       "0         14091  1063  7.543822\n",
       "1          4808   444  9.234609\n",
       "2          2052   194  9.454191\n",
       "3           330    27  8.181818\n",
       "4            41     4  9.756098\n",
       "5             9     0  0.000000"
      ]
     },
     "execution_count": 27,
     "metadata": {},
     "output_type": "execute_result"
    }
   ],
   "source": [
    "# КОД РЕВЬЮЕРА\n",
    "\n",
    "def my_mean(x): return x.mean()*100\n",
    "\n",
    "# В кач-ве агрегирования можно любую функцию брать.\n",
    "data.groupby('children')['debt'].agg(['count', 'sum', my_mean])"
   ]
  },
  {
   "cell_type": "code",
   "execution_count": 28,
   "id": "f19adcac",
   "metadata": {},
   "outputs": [
    {
     "data": {
      "text/html": [
       "<div>\n",
       "<style scoped>\n",
       "    .dataframe tbody tr th:only-of-type {\n",
       "        vertical-align: middle;\n",
       "    }\n",
       "\n",
       "    .dataframe tbody tr th {\n",
       "        vertical-align: top;\n",
       "    }\n",
       "\n",
       "    .dataframe thead th {\n",
       "        text-align: right;\n",
       "    }\n",
       "</style>\n",
       "<table border=\"1\" class=\"dataframe\">\n",
       "  <thead>\n",
       "    <tr style=\"text-align: right;\">\n",
       "      <th></th>\n",
       "      <th>count</th>\n",
       "      <th>sum</th>\n",
       "      <th>my_mean</th>\n",
       "    </tr>\n",
       "    <tr>\n",
       "      <th>children</th>\n",
       "      <th></th>\n",
       "      <th></th>\n",
       "      <th></th>\n",
       "    </tr>\n",
       "  </thead>\n",
       "  <tbody>\n",
       "    <tr>\n",
       "      <th>0</th>\n",
       "      <td>14091</td>\n",
       "      <td>1063</td>\n",
       "      <td>7.54%</td>\n",
       "    </tr>\n",
       "    <tr>\n",
       "      <th>1</th>\n",
       "      <td>4808</td>\n",
       "      <td>444</td>\n",
       "      <td>9.23%</td>\n",
       "    </tr>\n",
       "    <tr>\n",
       "      <th>2</th>\n",
       "      <td>2052</td>\n",
       "      <td>194</td>\n",
       "      <td>9.45%</td>\n",
       "    </tr>\n",
       "    <tr>\n",
       "      <th>3</th>\n",
       "      <td>330</td>\n",
       "      <td>27</td>\n",
       "      <td>8.18%</td>\n",
       "    </tr>\n",
       "    <tr>\n",
       "      <th>4</th>\n",
       "      <td>41</td>\n",
       "      <td>4</td>\n",
       "      <td>9.76%</td>\n",
       "    </tr>\n",
       "    <tr>\n",
       "      <th>5</th>\n",
       "      <td>9</td>\n",
       "      <td>0</td>\n",
       "      <td>0.00%</td>\n",
       "    </tr>\n",
       "  </tbody>\n",
       "</table>\n",
       "</div>"
      ],
      "text/plain": [
       "          count   sum my_mean\n",
       "children                     \n",
       "0         14091  1063  7.54% \n",
       "1          4808   444  9.23% \n",
       "2          2052   194  9.45% \n",
       "3           330    27  8.18% \n",
       "4            41     4  9.76% \n",
       "5             9     0  0.00% "
      ]
     },
     "execution_count": 28,
     "metadata": {},
     "output_type": "execute_result"
    }
   ],
   "source": [
    "# КОД РЕВЬЮЕРА\n",
    "\n",
    "def my_mean(x): return '{:.2%} '.format(x.mean())\n",
    "\n",
    "data.groupby('children')['debt'].agg(['count', 'sum', my_mean])"
   ]
  },
  {
   "cell_type": "code",
   "execution_count": 29,
   "id": "73a720d1",
   "metadata": {},
   "outputs": [
    {
     "data": {
      "image/png": "[encoded data removed]",
      "text/plain": [
       "<Figure size 640x480 with 1 Axes>"
      ]
     },
     "metadata": {},
     "output_type": "display_data"
    }
   ],
   "source": [
    "#находим процент невозврата кредита по заемщикам, сгруппированным по наличию детей\n",
    "without_children_debt_percent = children_debt_percent['children_debt_percent'][0]\n",
    "with_children_debt_percent = (children_debt_percent['children_debt_percent'][1]+children_debt_percent['children_debt_percent'][2]+children_debt_percent['children_debt_percent'][3]+children_debt_percent['children_debt_percent'][4])/4\n",
    "data_children_debt_percent = {'Без детей': without_children_debt_percent, 'С детьми': with_children_debt_percent}\n",
    "\n",
    "#строим график процента невозврата кредита по заемщикам, сгруппированным по наличию детей\n",
    "plot_children_status_debt = sns.barplot(x = ['Без детей', 'С детьми'], y = [without_children_debt_percent, with_children_debt_percent], color='steelblue')\n",
    "plot_children_status_debt.set(ylabel='процент невозврата кредита')\n",
    "plt.show()"
   ]
  },
  {
   "cell_type": "code",
   "execution_count": 30,
   "id": "12c9e1f3",
   "metadata": {},
   "outputs": [
    {
     "name": "stdout",
     "output_type": "stream",
     "text": [
      "Число заемщиков без детей: 14091, средний процент невозврата кредита 7.54%\n",
      "Число заемщиков c детьми: 7240, средний процент невозврата кредита 9.16%\n"
     ]
    }
   ],
   "source": [
    "amount_without_children = data.loc[data.loc[:,'children'] == 0]['children'].count()\n",
    "amount_with_children = data.loc[data.loc[:,'children'] != 0]['children'].count()\n",
    "\n",
    "print(f'Число заемщиков без детей: {amount_without_children}, средний процент невозврата кредита {without_children_debt_percent/100:.2%}')\n",
    "print(f'Число заемщиков c детьми: {amount_with_children}, средний процент невозврата кредита {with_children_debt_percent/100:.2%}')"
   ]
  },
  {
   "cell_type": "markdown",
   "id": "5f3b8737",
   "metadata": {
    "deletable": false,
    "id": "3a6b99ec"
   },
   "source": [
    "**Вывод: В ходе изучения данных было установлено что наиболее многочисленна группа заемщиков - группа заемщиков без детей. Если исключить малочисленную группу заемщиков с 5 детьми, то возврат процент невозврата кредита меньше всего группе заемщиков без детей, также процент невозврата кредита относительно небольшой в группе заемщиков с 3 детьми. Повышенный процент невозврата кредита наблюдается в группах замщиков с 1, 2 и 4 детьми. Исходя из данных нельзя вывести зависимость процента невозврата кредита от количества детей заемщика если у заемщика есть дети. При этом можно утверждать что в группе заемщиков без детей процент невозврата кредита меньше чем в группе заемщиков с детьми.**"
   ]
  },
  {
   "cell_type": "markdown",
   "id": "2fd54a13",
   "metadata": {
    "deletable": false,
    "editable": false,
    "id": "97be82ca"
   },
   "source": [
    "#### 3.2 Есть ли зависимость между семейным положением и возвратом кредита в срок?"
   ]
  },
  {
   "cell_type": "code",
   "execution_count": 31,
   "id": "abc67def",
   "metadata": {
    "deletable": false,
    "id": "dc3f7ee8"
   },
   "outputs": [
    {
     "data": {
      "image/png": "[encoded data removed]",
      "text/plain": [
       "<Figure size 640x480 with 1 Axes>"
      ]
     },
     "metadata": {},
     "output_type": "display_data"
    }
   ],
   "source": [
    "#находим процент невозврата кредита по заемщикам, сгруппированным по семейному статусу заемщика\n",
    "family_status_debt_percent = (data.groupby('family_status')['debt'].sum() / data.groupby('family_status')['family_status_id'].count()*100)\n",
    "family_status_debt_percent = family_status_debt_percent.reset_index()\n",
    "family_status_debt_percent.columns = ['family_status', 'family_status_debt_percent']\n",
    "\n",
    "#строим график процента невозврата кредита по заемщикам, сгруппированным по семейному статусу заемщика\n",
    "plot_family_status_debt = sns.barplot(y='family_status_debt_percent', x='family_status', data = family_status_debt_percent, color='steelblue')\n",
    "plot_family_status_debt.set(ylabel='процент невозврата кредита', xlabel='семейный статус заемщика')\n",
    "plt.xticks(rotation=90)\n",
    "plt.show()"
   ]
  },
  {
   "cell_type": "code",
   "execution_count": 32,
   "id": "6745bc78",
   "metadata": {},
   "outputs": [
    {
     "data": {
      "text/html": [
       "<div>\n",
       "<style scoped>\n",
       "    .dataframe tbody tr th:only-of-type {\n",
       "        vertical-align: middle;\n",
       "    }\n",
       "\n",
       "    .dataframe tbody tr th {\n",
       "        vertical-align: top;\n",
       "    }\n",
       "\n",
       "    .dataframe thead th {\n",
       "        text-align: right;\n",
       "    }\n",
       "</style>\n",
       "<table border=\"1\" class=\"dataframe\">\n",
       "  <thead>\n",
       "    <tr style=\"text-align: right;\">\n",
       "      <th></th>\n",
       "      <th>count</th>\n",
       "      <th>my_mean</th>\n",
       "    </tr>\n",
       "    <tr>\n",
       "      <th>family_status</th>\n",
       "      <th></th>\n",
       "      <th></th>\n",
       "    </tr>\n",
       "  </thead>\n",
       "  <tbody>\n",
       "    <tr>\n",
       "      <th>Не женат / не замужем</th>\n",
       "      <td>2796</td>\n",
       "      <td>9.76%</td>\n",
       "    </tr>\n",
       "    <tr>\n",
       "      <th>в разводе</th>\n",
       "      <td>1189</td>\n",
       "      <td>7.06%</td>\n",
       "    </tr>\n",
       "    <tr>\n",
       "      <th>вдовец / вдова</th>\n",
       "      <td>951</td>\n",
       "      <td>6.62%</td>\n",
       "    </tr>\n",
       "    <tr>\n",
       "      <th>гражданский брак</th>\n",
       "      <td>4134</td>\n",
       "      <td>9.31%</td>\n",
       "    </tr>\n",
       "    <tr>\n",
       "      <th>женат / замужем</th>\n",
       "      <td>12261</td>\n",
       "      <td>7.56%</td>\n",
       "    </tr>\n",
       "  </tbody>\n",
       "</table>\n",
       "</div>"
      ],
      "text/plain": [
       "                       count my_mean\n",
       "family_status                       \n",
       "Не женат / не замужем   2796  9.76% \n",
       "в разводе               1189  7.06% \n",
       "вдовец / вдова           951  6.62% \n",
       "гражданский брак        4134  9.31% \n",
       "женат / замужем        12261  7.56% "
      ]
     },
     "execution_count": 32,
     "metadata": {},
     "output_type": "execute_result"
    }
   ],
   "source": [
    "data.groupby('family_status')['debt'].agg(['count', my_mean])"
   ]
  },
  {
   "cell_type": "markdown",
   "id": "34b3631c",
   "metadata": {
    "deletable": false,
    "id": "1cef7837"
   },
   "source": [
    "**Вывод: Исходя из данных пониженный процент невозврата кредита наблюдается в группах заемщиков, находящихся в разводе, вдовцов/вдов и женатых/замужем. Повышенный процент невозварта кредита наблюдается в группах заемщиков не женатых/не замужем, находящихся в гражданском браке. Можно следать вывод, что предпочтительные выдавать займы людям, находящимся в браке, либо уже прошедших через брак. По количественному анализу групп заемщиков выделяется многочисленная группа заемщиков находящихся в браке (женат/замужем).** "
   ]
  },
  {
   "cell_type": "markdown",
   "id": "a5ae327a",
   "metadata": {
    "deletable": false,
    "editable": false,
    "id": "1e8b2fca"
   },
   "source": [
    "#### 3.3 Есть ли зависимость между уровнем дохода и возвратом кредита в срок?"
   ]
  },
  {
   "cell_type": "code",
   "execution_count": 33,
   "id": "4390be66",
   "metadata": {
    "deletable": false,
    "id": "cd7e3720"
   },
   "outputs": [
    {
     "data": {
      "image/png": "[encoded data removed]",
      "text/plain": [
       "<Figure size 640x480 with 1 Axes>"
      ]
     },
     "metadata": {},
     "output_type": "display_data"
    }
   ],
   "source": [
    "#находим процент невозврата кредита по заемщикам, сгруппированным по категории дохода заемщика\n",
    "income_category_debt_percent = (data.groupby('total_income_category')['debt'].sum() / data.groupby('total_income_category')['total_income_category'].count()*100)\n",
    "income_category_debt_percent = income_category_debt_percent.reset_index()\n",
    "income_category_debt_percent.columns = ['total_income_category', 'income_category_debt_percent']\n",
    "\n",
    "#строим график процента невозврата кредита по заемщикам, сгруппированным по категории дохода заемщика\n",
    "plot_income_category_debt = sns.barplot(y='income_category_debt_percent', x='total_income_category', data = income_category_debt_percent, color='steelblue')\n",
    "plot_income_category_debt.set(ylabel='процент невозврата кредита', xlabel='категория доходов заемщика')\n",
    "plt.show()"
   ]
  },
  {
   "cell_type": "code",
   "execution_count": 34,
   "id": "e3d45a56",
   "metadata": {},
   "outputs": [
    {
     "data": {
      "text/html": [
       "<div>\n",
       "<style scoped>\n",
       "    .dataframe tbody tr th:only-of-type {\n",
       "        vertical-align: middle;\n",
       "    }\n",
       "\n",
       "    .dataframe tbody tr th {\n",
       "        vertical-align: top;\n",
       "    }\n",
       "\n",
       "    .dataframe thead th {\n",
       "        text-align: right;\n",
       "    }\n",
       "</style>\n",
       "<table border=\"1\" class=\"dataframe\">\n",
       "  <thead>\n",
       "    <tr style=\"text-align: right;\">\n",
       "      <th></th>\n",
       "      <th>count</th>\n",
       "      <th>my_mean</th>\n",
       "    </tr>\n",
       "    <tr>\n",
       "      <th>total_income_category</th>\n",
       "      <th></th>\n",
       "      <th></th>\n",
       "    </tr>\n",
       "  </thead>\n",
       "  <tbody>\n",
       "    <tr>\n",
       "      <th>A</th>\n",
       "      <td>25</td>\n",
       "      <td>8.00%</td>\n",
       "    </tr>\n",
       "    <tr>\n",
       "      <th>B</th>\n",
       "      <td>5014</td>\n",
       "      <td>7.06%</td>\n",
       "    </tr>\n",
       "    <tr>\n",
       "      <th>C</th>\n",
       "      <td>15921</td>\n",
       "      <td>8.50%</td>\n",
       "    </tr>\n",
       "    <tr>\n",
       "      <th>D</th>\n",
       "      <td>349</td>\n",
       "      <td>6.02%</td>\n",
       "    </tr>\n",
       "    <tr>\n",
       "      <th>E</th>\n",
       "      <td>22</td>\n",
       "      <td>9.09%</td>\n",
       "    </tr>\n",
       "  </tbody>\n",
       "</table>\n",
       "</div>"
      ],
      "text/plain": [
       "                       count my_mean\n",
       "total_income_category               \n",
       "A                         25  8.00% \n",
       "B                       5014  7.06% \n",
       "C                      15921  8.50% \n",
       "D                        349  6.02% \n",
       "E                         22  9.09% "
      ]
     },
     "execution_count": 34,
     "metadata": {},
     "output_type": "execute_result"
    }
   ],
   "source": [
    "data.groupby('total_income_category')['debt'].agg(['count', my_mean])"
   ]
  },
  {
   "cell_type": "markdown",
   "id": "eaf787e2",
   "metadata": {
    "deletable": false,
    "id": "e8593def"
   },
   "source": [
    "**Вывод: Исходя из количественных данных по каждой группе заемщиков, из выборки можно убрать две малочиченнеые группы заемщиков (A и E), которые представляют из себя самую богатую группу заемщиков и самую бедную группу заемщиков соответственно. Самая многочисленная - группа людей со \"средними доходами\" (группа C). Группа С представляет собой ненадежную категорию замщиков. Более низкий процент невозврата кредита наблюдается в группах с доходами выше средних (группа B) и с доходами ниже средних (группа D).** "
   ]
  },
  {
   "cell_type": "markdown",
   "id": "a00af31e",
   "metadata": {
    "deletable": false,
    "editable": false,
    "id": "99ecbd1f"
   },
   "source": [
    "#### 3.4 Как разные цели кредита влияют на его возврат в срок?"
   ]
  },
  {
   "cell_type": "code",
   "execution_count": 35,
   "id": "da962256",
   "metadata": {
    "deletable": false,
    "id": "2b687290"
   },
   "outputs": [
    {
     "data": {
      "image/png": "[encoded data removed]",
      "text/plain": [
       "<Figure size 640x480 with 1 Axes>"
      ]
     },
     "metadata": {},
     "output_type": "display_data"
    }
   ],
   "source": [
    "#находим процент невозврата кредита по заемщикам, сгруппированным по цели займа заемщика\n",
    "purpose_category_debt_percent = (data.groupby('purpose_category')['debt'].sum() / data.groupby('purpose_category')['purpose_category'].count()*100)\n",
    "purpose_category_debt_percent = purpose_category_debt_percent.reset_index()\n",
    "purpose_category_debt_percent.columns = ['purpose_category', 'purpose_category_debt_percent']\n",
    "\n",
    "#строим график процента невозврата кредита по заемщикам, сгруппированным по цели займа заемщика\n",
    "plot_income_category_debt = sns.barplot(y='purpose_category_debt_percent', x='purpose_category', data = purpose_category_debt_percent, color='steelblue')\n",
    "plot_income_category_debt.set(ylabel='процент невозврата кредита', xlabel='цель займа')\n",
    "plt.xticks(rotation=90)\n",
    "plt.show()"
   ]
  },
  {
   "cell_type": "code",
   "execution_count": 36,
   "id": "5d7803ee",
   "metadata": {},
   "outputs": [
    {
     "data": {
      "text/html": [
       "<div>\n",
       "<style scoped>\n",
       "    .dataframe tbody tr th:only-of-type {\n",
       "        vertical-align: middle;\n",
       "    }\n",
       "\n",
       "    .dataframe tbody tr th {\n",
       "        vertical-align: top;\n",
       "    }\n",
       "\n",
       "    .dataframe thead th {\n",
       "        text-align: right;\n",
       "    }\n",
       "</style>\n",
       "<table border=\"1\" class=\"dataframe\">\n",
       "  <thead>\n",
       "    <tr style=\"text-align: right;\">\n",
       "      <th></th>\n",
       "      <th>count</th>\n",
       "      <th>my_mean</th>\n",
       "    </tr>\n",
       "    <tr>\n",
       "      <th>purpose_category</th>\n",
       "      <th></th>\n",
       "      <th></th>\n",
       "    </tr>\n",
       "  </thead>\n",
       "  <tbody>\n",
       "    <tr>\n",
       "      <th>операции с автомобилем</th>\n",
       "      <td>4279</td>\n",
       "      <td>9.35%</td>\n",
       "    </tr>\n",
       "    <tr>\n",
       "      <th>операции с недвижимостью</th>\n",
       "      <td>10751</td>\n",
       "      <td>7.26%</td>\n",
       "    </tr>\n",
       "    <tr>\n",
       "      <th>получение образования</th>\n",
       "      <td>3988</td>\n",
       "      <td>9.25%</td>\n",
       "    </tr>\n",
       "    <tr>\n",
       "      <th>проведение свадьбы</th>\n",
       "      <td>2313</td>\n",
       "      <td>7.91%</td>\n",
       "    </tr>\n",
       "  </tbody>\n",
       "</table>\n",
       "</div>"
      ],
      "text/plain": [
       "                          count my_mean\n",
       "purpose_category                       \n",
       "операции с автомобилем     4279  9.35% \n",
       "операции с недвижимостью  10751  7.26% \n",
       "получение образования      3988  9.25% \n",
       "проведение свадьбы         2313  7.91% "
      ]
     },
     "execution_count": 36,
     "metadata": {},
     "output_type": "execute_result"
    }
   ],
   "source": [
    "data.groupby('purpose_category')['debt'].agg(['count', my_mean])"
   ]
  },
  {
   "cell_type": "markdown",
   "id": "34ee9e83",
   "metadata": {
    "deletable": false,
    "id": "b4bb2ce6"
   },
   "source": [
    "**Вывод: Группы людей берущих займы для проведения операций с недвижимостью и для проведения свадьбы обладают более низким процентом невозврата кредита. Самая многочесленная группа заемщиков - люди берущие займы для операций с недвижимостью.** "
   ]
  },
  {
   "cell_type": "markdown",
   "id": "692f9de5",
   "metadata": {
    "deletable": false,
    "editable": false,
    "id": "09c3ac4c"
   },
   "source": [
    "#### 3.5 Приведите возможные причины появления пропусков в исходных данных."
   ]
  },
  {
   "cell_type": "markdown",
   "id": "d4871c34",
   "metadata": {
    "deletable": false,
    "id": "9da2ceda"
   },
   "source": [
    "*Ответ: Пропуски в исходных данных в колонках days_employed и total_income связаны между собой так, как количество пропусков по этим колонкам совпадает. Данные пропуски являются  случайными и скорее всего это может быть связано с ошибками при заполнении базы данных из источника данных.* "
   ]
  },
  {
   "cell_type": "markdown",
   "id": "461e84ef",
   "metadata": {
    "deletable": false,
    "editable": false,
    "id": "7b0487d6"
   },
   "source": [
    "#### 3.6 Объясните, почему заполнить пропуски медианным значением — лучшее решение для количественных переменных."
   ]
  },
  {
   "cell_type": "markdown",
   "id": "735a2e3d",
   "metadata": {
    "deletable": false,
    "id": "7ecf2b8e"
   },
   "source": [
    "*Ответ: Пропуски в количественных переменных лучше заполнять медианными значениями, найденными по каждой группе отдельно так, как мединные значение лучше предстваляют выборку. Средние арифметические значения может быть сильно искажено из-за аномальных значений.* "
   ]
  },
  {
   "cell_type": "markdown",
   "id": "6ea4de48",
   "metadata": {
    "deletable": false,
    "editable": false,
    "id": "6db5255a"
   },
   "source": [
    "### Шаг 4: общий вывод."
   ]
  },
  {
   "cell_type": "markdown",
   "id": "cb64e30a",
   "metadata": {
    "deletable": false,
    "id": "bad65432"
   },
   "source": [
    "Для полноценного исследования надежности заемщиков (кредитного скоринга), необходимо делать более объемное иследование, проверяя гипотезы по всем группам заемщиков в комплексе. В рамках данного проекта были предобработаны данные для исследования и проверены некоторые гипотезы по отдельным группам заемщиков. Из результатов исследования были исключены малочисленные группы заемщиков, как непрезентативные.  \n",
    "    \n",
    "В ходе данного исследования были выявлены следующие результаты по группам заемщиков:    \n",
    " \n",
    "* В исследовании по семейному положению заемщика самой надежной оказалась группа заемщиков без детей, процент невозврата кредита в срок - 7.54%. Самой ненадежной - группа заемщиков с 4 детьми, процент невозврата кредита в срок - 9.76%.\n",
    "  \n",
    "* В исследовании по количеству детей заемщика самой надежной оказалась группа овдовевших, процент невозврата кредита в срок - 6.62%. Самой ненадежной - группа не женатых / не бывших замужем заемщиков, процент невозврата кредита в срок - 9.76%. Также надежными оказались группы заемщиков находящихся в разводе (процент невозврата кредита в срок - 7.06%) и женатых / находящихся замужем (процент невозврата кредита в срок -7.56%).\n",
    "\n",
    "* В исследовании по уровню доходов заемщика самой надежной оказалась группа D (доходы от 30001 до 50000), процент невозврата кредита в срок - 6.02%. Самой ненадежной - группа C (доходы от 50001 до 200000), процент невозврата кредита в срок - 8.50%.\n",
    "    \n",
    "* В исследовании по цели займа самой надежной оказалась группа заемщиков, совершающих операции с недвижимостью, процент невозврата кредита в срок - 7.26%. Самой ненадежной - группа заемщиков, совершающих операции с автомобилем, процент невозврата кредита в срок - 9.35%. Также надежной оказалась группа заемщиков берущих займы на проведение свадьбы (процент невозврата кредита в срок - 7.91%). Ненадежной оказалась группа заемщиков берущих займы на получение образования (процент невозврата кредита в срок - 9.25%).      \n",
    "\n",
    "В дальнейшем возможно продолжить исследования, проверять более сложные гипотезы, используя сводные таблицы для сочетания нескольких параметров заемщиков."
   ]
  }
 ],
 "metadata": {
  "ExecuteTimeLog": [
   {
    "duration": 586,
    "start_time": "2023-01-23T09:47:02.835Z"
   },
   {
    "duration": 25,
    "start_time": "2023-01-23T09:47:05.645Z"
   },
   {
    "duration": 18,
    "start_time": "2023-01-23T09:47:08.553Z"
   },
   {
    "duration": 13,
    "start_time": "2023-01-23T09:47:11.988Z"
   },
   {
    "duration": 44,
    "start_time": "2023-01-23T09:48:11.723Z"
   },
   {
    "duration": 5,
    "start_time": "2023-01-23T09:48:26.781Z"
   },
   {
    "duration": 6,
    "start_time": "2023-01-23T09:50:07.657Z"
   },
   {
    "duration": 5,
    "start_time": "2023-01-23T09:51:04.002Z"
   },
   {
    "duration": 5,
    "start_time": "2023-01-23T09:51:11.499Z"
   },
   {
    "duration": 6,
    "start_time": "2023-01-23T09:51:21.423Z"
   },
   {
    "duration": 6,
    "start_time": "2023-01-23T09:52:39.279Z"
   },
   {
    "duration": 25,
    "start_time": "2023-01-23T09:55:18.764Z"
   },
   {
    "duration": 24,
    "start_time": "2023-01-23T09:57:05.031Z"
   },
   {
    "duration": 31,
    "start_time": "2023-01-23T09:57:12.797Z"
   },
   {
    "duration": 7,
    "start_time": "2023-01-23T09:57:18.528Z"
   },
   {
    "duration": 38,
    "start_time": "2023-01-23T09:57:30.676Z"
   },
   {
    "duration": 4,
    "start_time": "2023-01-23T09:57:31.786Z"
   },
   {
    "duration": 10,
    "start_time": "2023-01-23T09:57:32.243Z"
   },
   {
    "duration": 7,
    "start_time": "2023-01-23T09:57:32.953Z"
   },
   {
    "duration": 11,
    "start_time": "2023-01-23T09:57:33.864Z"
   },
   {
    "duration": 6,
    "start_time": "2023-01-23T09:57:34.660Z"
   },
   {
    "duration": 54,
    "start_time": "2023-01-23T09:57:35.744Z"
   },
   {
    "duration": 13,
    "start_time": "2023-01-23T09:57:36.819Z"
   },
   {
    "duration": 5,
    "start_time": "2023-01-23T09:57:37.486Z"
   },
   {
    "duration": 13,
    "start_time": "2023-01-23T09:57:38.068Z"
   },
   {
    "duration": 23,
    "start_time": "2023-01-23T09:57:38.541Z"
   },
   {
    "duration": 22,
    "start_time": "2023-01-23T09:57:38.987Z"
   },
   {
    "duration": 4,
    "start_time": "2023-01-23T09:57:39.578Z"
   },
   {
    "duration": 22,
    "start_time": "2023-01-23T09:57:39.794Z"
   },
   {
    "duration": 7,
    "start_time": "2023-01-23T09:57:40.185Z"
   },
   {
    "duration": 5,
    "start_time": "2023-01-23T09:57:40.567Z"
   },
   {
    "duration": 10,
    "start_time": "2023-01-23T09:57:40.781Z"
   },
   {
    "duration": 30,
    "start_time": "2023-01-23T10:31:46.017Z"
   },
   {
    "duration": 30,
    "start_time": "2023-01-23T10:31:56.560Z"
   },
   {
    "duration": 552,
    "start_time": "2023-01-23T10:32:24.357Z"
   },
   {
    "duration": 13,
    "start_time": "2023-01-23T10:32:43.361Z"
   },
   {
    "duration": 28,
    "start_time": "2023-01-23T10:33:00.593Z"
   },
   {
    "duration": 29,
    "start_time": "2023-01-23T10:33:07.596Z"
   },
   {
    "duration": 24,
    "start_time": "2023-01-23T10:33:08.108Z"
   },
   {
    "duration": 31,
    "start_time": "2023-01-23T10:33:19.565Z"
   },
   {
    "duration": 51,
    "start_time": "2023-01-23T10:38:39.057Z"
   },
   {
    "duration": 8,
    "start_time": "2023-01-23T10:38:43.696Z"
   },
   {
    "duration": 555,
    "start_time": "2023-01-23T10:38:56.016Z"
   },
   {
    "duration": 9,
    "start_time": "2023-01-23T10:39:03.053Z"
   },
   {
    "duration": 13,
    "start_time": "2023-01-23T10:39:49.053Z"
   },
   {
    "duration": 10,
    "start_time": "2023-01-23T10:40:03.971Z"
   },
   {
    "duration": 31,
    "start_time": "2023-01-23T10:40:08.424Z"
   },
   {
    "duration": 10,
    "start_time": "2023-01-23T10:40:09.153Z"
   },
   {
    "duration": 8,
    "start_time": "2023-01-23T10:40:19.170Z"
   },
   {
    "duration": 30,
    "start_time": "2023-01-23T10:40:28.496Z"
   },
   {
    "duration": 11,
    "start_time": "2023-01-23T10:40:33.194Z"
   },
   {
    "duration": 11,
    "start_time": "2023-01-23T10:42:27.787Z"
   },
   {
    "duration": 10,
    "start_time": "2023-01-23T10:42:55.868Z"
   },
   {
    "duration": 11,
    "start_time": "2023-01-23T10:43:10.716Z"
   },
   {
    "duration": 10,
    "start_time": "2023-01-23T10:43:15.057Z"
   },
   {
    "duration": 17,
    "start_time": "2023-01-23T10:46:08.693Z"
   },
   {
    "duration": 31,
    "start_time": "2023-01-23T10:48:53.498Z"
   },
   {
    "duration": 998,
    "start_time": "2023-01-23T10:49:51.892Z"
   },
   {
    "duration": 698,
    "start_time": "2023-01-23T10:49:55.906Z"
   },
   {
    "duration": 747,
    "start_time": "2023-01-23T10:50:11.869Z"
   },
   {
    "duration": 30,
    "start_time": "2023-01-23T10:50:13.700Z"
   },
   {
    "duration": 23,
    "start_time": "2023-01-23T10:50:14.295Z"
   },
   {
    "duration": 760,
    "start_time": "2023-01-23T10:50:18.253Z"
   },
   {
    "duration": 564,
    "start_time": "2023-01-23T10:50:33.803Z"
   },
   {
    "duration": 26,
    "start_time": "2023-01-23T10:50:34.369Z"
   },
   {
    "duration": 18,
    "start_time": "2023-01-23T10:50:34.397Z"
   },
   {
    "duration": 19,
    "start_time": "2023-01-23T10:50:34.417Z"
   },
   {
    "duration": 6,
    "start_time": "2023-01-23T10:50:34.438Z"
   },
   {
    "duration": 52,
    "start_time": "2023-01-23T10:50:34.446Z"
   },
   {
    "duration": 24,
    "start_time": "2023-01-23T10:50:34.500Z"
   },
   {
    "duration": 66,
    "start_time": "2023-01-23T10:50:34.526Z"
   },
   {
    "duration": 5,
    "start_time": "2023-01-23T10:50:34.594Z"
   },
   {
    "duration": 15,
    "start_time": "2023-01-23T10:50:34.602Z"
   },
   {
    "duration": 7,
    "start_time": "2023-01-23T10:50:34.619Z"
   },
   {
    "duration": 10,
    "start_time": "2023-01-23T10:50:34.628Z"
   },
   {
    "duration": 6,
    "start_time": "2023-01-23T10:50:34.639Z"
   },
   {
    "duration": 72,
    "start_time": "2023-01-23T10:50:34.647Z"
   },
   {
    "duration": 14,
    "start_time": "2023-01-23T10:50:34.721Z"
   },
   {
    "duration": 9,
    "start_time": "2023-01-23T10:50:34.737Z"
   },
   {
    "duration": 42,
    "start_time": "2023-01-23T10:50:34.749Z"
   },
   {
    "duration": 36,
    "start_time": "2023-01-23T10:50:34.794Z"
   },
   {
    "duration": 52,
    "start_time": "2023-01-23T10:50:34.832Z"
   },
   {
    "duration": 10,
    "start_time": "2023-01-23T10:50:34.887Z"
   },
   {
    "duration": 14,
    "start_time": "2023-01-23T10:50:34.899Z"
   },
   {
    "duration": 26,
    "start_time": "2023-01-23T10:50:34.915Z"
   },
   {
    "duration": 8,
    "start_time": "2023-01-23T10:50:34.943Z"
   },
   {
    "duration": 5,
    "start_time": "2023-01-23T10:50:34.954Z"
   },
   {
    "duration": 9,
    "start_time": "2023-01-23T10:50:34.985Z"
   },
   {
    "duration": 8,
    "start_time": "2023-01-23T10:50:34.997Z"
   },
   {
    "duration": 10,
    "start_time": "2023-01-23T10:50:35.007Z"
   },
   {
    "duration": 7,
    "start_time": "2023-01-23T10:50:35.021Z"
   },
   {
    "duration": 12,
    "start_time": "2023-01-23T10:50:35.030Z"
   },
   {
    "duration": 96,
    "start_time": "2023-01-23T10:50:42.021Z"
   },
   {
    "duration": 26,
    "start_time": "2023-01-23T10:50:45.872Z"
   },
   {
    "duration": 26,
    "start_time": "2023-01-23T10:50:46.519Z"
   },
   {
    "duration": 19,
    "start_time": "2023-01-23T10:50:47.433Z"
   },
   {
    "duration": 7,
    "start_time": "2023-01-23T10:50:47.614Z"
   },
   {
    "duration": 26,
    "start_time": "2023-01-23T10:50:47.812Z"
   },
   {
    "duration": 26,
    "start_time": "2023-01-23T10:50:47.965Z"
   },
   {
    "duration": 50,
    "start_time": "2023-01-23T10:50:48.319Z"
   },
   {
    "duration": 5,
    "start_time": "2023-01-23T10:50:48.874Z"
   },
   {
    "duration": 10,
    "start_time": "2023-01-23T10:50:49.288Z"
   },
   {
    "duration": 5,
    "start_time": "2023-01-23T10:50:50.209Z"
   },
   {
    "duration": 8,
    "start_time": "2023-01-23T10:50:50.837Z"
   },
   {
    "duration": 6,
    "start_time": "2023-01-23T10:50:51.312Z"
   },
   {
    "duration": 56,
    "start_time": "2023-01-23T10:50:51.899Z"
   },
   {
    "duration": 17,
    "start_time": "2023-01-23T10:50:52.286Z"
   },
   {
    "duration": 6,
    "start_time": "2023-01-23T10:50:53.603Z"
   },
   {
    "duration": 19,
    "start_time": "2023-01-23T10:51:01.917Z"
   },
   {
    "duration": 31,
    "start_time": "2023-01-23T10:51:02.464Z"
   },
   {
    "duration": 28,
    "start_time": "2023-01-23T10:51:02.929Z"
   },
   {
    "duration": 10,
    "start_time": "2023-01-23T10:51:03.512Z"
   },
   {
    "duration": 5,
    "start_time": "2023-01-23T10:51:05.969Z"
   },
   {
    "duration": 16,
    "start_time": "2023-01-23T10:51:06.477Z"
   },
   {
    "duration": 11,
    "start_time": "2023-01-23T10:51:07.275Z"
   },
   {
    "duration": 5,
    "start_time": "2023-01-23T10:51:07.852Z"
   },
   {
    "duration": 14,
    "start_time": "2023-01-23T10:51:08.215Z"
   },
   {
    "duration": 3,
    "start_time": "2023-01-23T10:51:09.397Z"
   },
   {
    "duration": 17,
    "start_time": "2023-01-23T10:51:20.287Z"
   },
   {
    "duration": 52,
    "start_time": "2023-01-24T08:22:33.390Z"
   },
   {
    "duration": 637,
    "start_time": "2023-01-24T08:22:39.925Z"
   },
   {
    "duration": 20,
    "start_time": "2023-01-24T08:22:40.564Z"
   },
   {
    "duration": 16,
    "start_time": "2023-01-24T08:22:40.585Z"
   },
   {
    "duration": 9,
    "start_time": "2023-01-24T08:22:40.603Z"
   },
   {
    "duration": 4,
    "start_time": "2023-01-24T08:22:40.613Z"
   },
   {
    "duration": 24,
    "start_time": "2023-01-24T08:22:40.618Z"
   },
   {
    "duration": 37,
    "start_time": "2023-01-24T08:22:40.643Z"
   },
   {
    "duration": 31,
    "start_time": "2023-01-24T08:22:40.682Z"
   },
   {
    "duration": 3,
    "start_time": "2023-01-24T08:22:40.714Z"
   },
   {
    "duration": 9,
    "start_time": "2023-01-24T08:22:40.720Z"
   },
   {
    "duration": 4,
    "start_time": "2023-01-24T08:22:40.730Z"
   },
   {
    "duration": 7,
    "start_time": "2023-01-24T08:22:40.735Z"
   },
   {
    "duration": 26,
    "start_time": "2023-01-24T08:22:40.744Z"
   },
   {
    "duration": 39,
    "start_time": "2023-01-24T08:22:40.772Z"
   },
   {
    "duration": 8,
    "start_time": "2023-01-24T08:22:40.813Z"
   },
   {
    "duration": 3,
    "start_time": "2023-01-24T08:22:40.823Z"
   },
   {
    "duration": 13,
    "start_time": "2023-01-24T08:22:40.828Z"
   },
   {
    "duration": 31,
    "start_time": "2023-01-24T08:22:40.842Z"
   },
   {
    "duration": 15,
    "start_time": "2023-01-24T08:22:40.874Z"
   },
   {
    "duration": 7,
    "start_time": "2023-01-24T08:22:40.891Z"
   },
   {
    "duration": 7,
    "start_time": "2023-01-24T08:22:40.899Z"
   },
   {
    "duration": 11,
    "start_time": "2023-01-24T08:22:40.908Z"
   },
   {
    "duration": 6,
    "start_time": "2023-01-24T08:22:40.920Z"
   },
   {
    "duration": 5,
    "start_time": "2023-01-24T08:22:40.927Z"
   },
   {
    "duration": 38,
    "start_time": "2023-01-24T08:22:40.933Z"
   },
   {
    "duration": 15,
    "start_time": "2023-01-24T08:22:40.973Z"
   },
   {
    "duration": 6,
    "start_time": "2023-01-24T08:22:40.989Z"
   },
   {
    "duration": 8,
    "start_time": "2023-01-24T08:22:40.998Z"
   },
   {
    "duration": 5,
    "start_time": "2023-01-24T08:22:41.007Z"
   },
   {
    "duration": 434,
    "start_time": "2023-01-24T08:24:42.620Z"
   },
   {
    "duration": 22,
    "start_time": "2023-01-24T08:24:43.057Z"
   },
   {
    "duration": 40,
    "start_time": "2023-01-24T08:24:43.081Z"
   },
   {
    "duration": 26,
    "start_time": "2023-01-24T08:24:43.123Z"
   },
   {
    "duration": 24,
    "start_time": "2023-01-24T08:24:43.151Z"
   },
   {
    "duration": 43,
    "start_time": "2023-01-24T08:24:43.177Z"
   },
   {
    "duration": 23,
    "start_time": "2023-01-24T08:24:43.222Z"
   },
   {
    "duration": 40,
    "start_time": "2023-01-24T08:24:43.247Z"
   },
   {
    "duration": 3,
    "start_time": "2023-01-24T08:24:43.289Z"
   },
   {
    "duration": 36,
    "start_time": "2023-01-24T08:24:43.295Z"
   },
   {
    "duration": 11,
    "start_time": "2023-01-24T08:24:43.333Z"
   },
   {
    "duration": 19,
    "start_time": "2023-01-24T08:24:43.346Z"
   },
   {
    "duration": 20,
    "start_time": "2023-01-24T08:24:43.366Z"
   },
   {
    "duration": 58,
    "start_time": "2023-01-24T08:24:43.387Z"
   },
   {
    "duration": 9,
    "start_time": "2023-01-24T08:24:43.447Z"
   },
   {
    "duration": 5,
    "start_time": "2023-01-24T08:24:43.458Z"
   },
   {
    "duration": 38,
    "start_time": "2023-01-24T08:24:43.465Z"
   },
   {
    "duration": 33,
    "start_time": "2023-01-24T08:24:43.504Z"
   },
   {
    "duration": 25,
    "start_time": "2023-01-24T08:24:43.539Z"
   },
   {
    "duration": 5,
    "start_time": "2023-01-24T08:24:43.566Z"
   },
   {
    "duration": 30,
    "start_time": "2023-01-24T08:24:43.573Z"
   },
   {
    "duration": 17,
    "start_time": "2023-01-24T08:24:43.604Z"
   },
   {
    "duration": 24,
    "start_time": "2023-01-24T08:24:43.622Z"
   },
   {
    "duration": 37,
    "start_time": "2023-01-24T08:24:43.648Z"
   },
   {
    "duration": 32,
    "start_time": "2023-01-24T08:24:43.687Z"
   },
   {
    "duration": 24,
    "start_time": "2023-01-24T08:24:43.720Z"
   },
   {
    "duration": 23,
    "start_time": "2023-01-24T08:24:43.746Z"
   },
   {
    "duration": 14,
    "start_time": "2023-01-24T08:24:43.772Z"
   },
   {
    "duration": 1577,
    "start_time": "2023-01-24T14:48:27.346Z"
   },
   {
    "duration": 20,
    "start_time": "2023-01-24T14:48:28.926Z"
   },
   {
    "duration": 15,
    "start_time": "2023-01-24T14:48:28.947Z"
   },
   {
    "duration": 18,
    "start_time": "2023-01-24T14:48:28.964Z"
   },
   {
    "duration": 20,
    "start_time": "2023-01-24T14:48:28.984Z"
   },
   {
    "duration": 27,
    "start_time": "2023-01-24T14:48:29.005Z"
   },
   {
    "duration": 19,
    "start_time": "2023-01-24T14:48:29.034Z"
   },
   {
    "duration": 40,
    "start_time": "2023-01-24T14:48:29.055Z"
   },
   {
    "duration": 4,
    "start_time": "2023-01-24T14:48:29.096Z"
   },
   {
    "duration": 15,
    "start_time": "2023-01-24T14:48:29.101Z"
   },
   {
    "duration": 13,
    "start_time": "2023-01-24T14:48:29.118Z"
   },
   {
    "duration": 12,
    "start_time": "2023-01-24T14:48:29.133Z"
   },
   {
    "duration": 11,
    "start_time": "2023-01-24T14:48:29.147Z"
   },
   {
    "duration": 49,
    "start_time": "2023-01-24T14:48:29.161Z"
   },
   {
    "duration": 12,
    "start_time": "2023-01-24T14:48:29.212Z"
   },
   {
    "duration": 8,
    "start_time": "2023-01-24T14:48:29.225Z"
   },
   {
    "duration": 27,
    "start_time": "2023-01-24T14:48:29.235Z"
   },
   {
    "duration": 33,
    "start_time": "2023-01-24T14:48:29.263Z"
   },
   {
    "duration": 18,
    "start_time": "2023-01-24T14:48:29.298Z"
   },
   {
    "duration": 4,
    "start_time": "2023-01-24T14:48:29.318Z"
   },
   {
    "duration": 27,
    "start_time": "2023-01-24T14:48:29.323Z"
   },
   {
    "duration": 32,
    "start_time": "2023-01-24T14:48:29.352Z"
   },
   {
    "duration": 29,
    "start_time": "2023-01-24T14:48:29.386Z"
   },
   {
    "duration": 32,
    "start_time": "2023-01-24T14:48:29.417Z"
   },
   {
    "duration": 150,
    "start_time": "2023-01-24T14:48:29.451Z"
   },
   {
    "duration": 147,
    "start_time": "2023-01-24T14:48:29.603Z"
   },
   {
    "duration": 126,
    "start_time": "2023-01-24T14:48:29.751Z"
   },
   {
    "duration": 144,
    "start_time": "2023-01-24T14:48:29.879Z"
   },
   {
    "duration": 1243,
    "start_time": "2023-01-24T14:58:35.734Z"
   },
   {
    "duration": 1285,
    "start_time": "2023-01-24T14:58:45.251Z"
   },
   {
    "duration": 5,
    "start_time": "2023-01-24T14:58:54.061Z"
   },
   {
    "duration": 5,
    "start_time": "2023-01-24T14:59:08.132Z"
   },
   {
    "duration": 4,
    "start_time": "2023-01-24T15:00:34.153Z"
   },
   {
    "duration": 4,
    "start_time": "2023-01-24T15:07:47.223Z"
   },
   {
    "duration": 16,
    "start_time": "2023-01-24T15:11:10.483Z"
   },
   {
    "duration": 77,
    "start_time": "2023-01-24T15:13:06.304Z"
   },
   {
    "duration": 17,
    "start_time": "2023-01-24T15:14:10.249Z"
   },
   {
    "duration": 17,
    "start_time": "2023-01-24T15:14:46.761Z"
   },
   {
    "duration": 101,
    "start_time": "2023-01-24T15:20:19.520Z"
   },
   {
    "duration": 91,
    "start_time": "2023-01-24T15:20:40.111Z"
   },
   {
    "duration": 120,
    "start_time": "2023-01-24T15:29:42.849Z"
   },
   {
    "duration": 1230,
    "start_time": "2023-01-24T15:51:18.471Z"
   },
   {
    "duration": 20,
    "start_time": "2023-01-24T15:51:19.703Z"
   },
   {
    "duration": 27,
    "start_time": "2023-01-24T15:51:19.724Z"
   },
   {
    "duration": 11,
    "start_time": "2023-01-24T15:51:19.754Z"
   },
   {
    "duration": 7,
    "start_time": "2023-01-24T15:51:19.766Z"
   },
   {
    "duration": 43,
    "start_time": "2023-01-24T15:51:19.775Z"
   },
   {
    "duration": 22,
    "start_time": "2023-01-24T15:51:19.820Z"
   },
   {
    "duration": 32,
    "start_time": "2023-01-24T15:51:19.843Z"
   },
   {
    "duration": 4,
    "start_time": "2023-01-24T15:51:19.892Z"
   },
   {
    "duration": 10,
    "start_time": "2023-01-24T15:51:19.898Z"
   },
   {
    "duration": 5,
    "start_time": "2023-01-24T15:51:19.909Z"
   },
   {
    "duration": 7,
    "start_time": "2023-01-24T15:51:19.916Z"
   },
   {
    "duration": 7,
    "start_time": "2023-01-24T15:51:19.925Z"
   },
   {
    "duration": 67,
    "start_time": "2023-01-24T15:51:19.934Z"
   },
   {
    "duration": 10,
    "start_time": "2023-01-24T15:51:20.003Z"
   },
   {
    "duration": 11,
    "start_time": "2023-01-24T15:51:20.014Z"
   },
   {
    "duration": 28,
    "start_time": "2023-01-24T15:51:20.027Z"
   },
   {
    "duration": 32,
    "start_time": "2023-01-24T15:51:20.057Z"
   },
   {
    "duration": 18,
    "start_time": "2023-01-24T15:51:20.091Z"
   },
   {
    "duration": 3,
    "start_time": "2023-01-24T15:51:20.110Z"
   },
   {
    "duration": 12,
    "start_time": "2023-01-24T15:51:20.115Z"
   },
   {
    "duration": 34,
    "start_time": "2023-01-24T15:51:20.128Z"
   },
   {
    "duration": 3,
    "start_time": "2023-01-24T15:51:20.164Z"
   },
   {
    "duration": 15,
    "start_time": "2023-01-24T15:51:20.169Z"
   },
   {
    "duration": 146,
    "start_time": "2023-01-24T15:51:20.185Z"
   },
   {
    "duration": 125,
    "start_time": "2023-01-24T15:51:20.333Z"
   },
   {
    "duration": 149,
    "start_time": "2023-01-24T15:51:20.460Z"
   },
   {
    "duration": 132,
    "start_time": "2023-01-24T15:51:20.613Z"
   },
   {
    "duration": 142,
    "start_time": "2023-01-24T15:51:20.747Z"
   },
   {
    "duration": 1205,
    "start_time": "2023-01-24T16:33:14.893Z"
   },
   {
    "duration": 20,
    "start_time": "2023-01-24T16:33:16.100Z"
   },
   {
    "duration": 15,
    "start_time": "2023-01-24T16:33:16.121Z"
   },
   {
    "duration": 18,
    "start_time": "2023-01-24T16:33:16.139Z"
   },
   {
    "duration": 19,
    "start_time": "2023-01-24T16:33:16.160Z"
   },
   {
    "duration": 45,
    "start_time": "2023-01-24T16:33:16.180Z"
   },
   {
    "duration": 30,
    "start_time": "2023-01-24T16:33:16.227Z"
   },
   {
    "duration": 51,
    "start_time": "2023-01-24T16:33:16.259Z"
   },
   {
    "duration": 5,
    "start_time": "2023-01-24T16:33:16.312Z"
   },
   {
    "duration": 21,
    "start_time": "2023-01-24T16:33:16.321Z"
   },
   {
    "duration": 18,
    "start_time": "2023-01-24T16:33:16.345Z"
   },
   {
    "duration": 25,
    "start_time": "2023-01-24T16:33:16.365Z"
   },
   {
    "duration": 34,
    "start_time": "2023-01-24T16:33:16.392Z"
   },
   {
    "duration": 59,
    "start_time": "2023-01-24T16:33:16.429Z"
   },
   {
    "duration": 16,
    "start_time": "2023-01-24T16:33:16.490Z"
   },
   {
    "duration": 9,
    "start_time": "2023-01-24T16:33:16.508Z"
   },
   {
    "duration": 16,
    "start_time": "2023-01-24T16:33:16.520Z"
   },
   {
    "duration": 41,
    "start_time": "2023-01-24T16:33:16.539Z"
   },
   {
    "duration": 26,
    "start_time": "2023-01-24T16:33:16.591Z"
   },
   {
    "duration": 3,
    "start_time": "2023-01-24T16:33:16.619Z"
   },
   {
    "duration": 13,
    "start_time": "2023-01-24T16:33:16.625Z"
   },
   {
    "duration": 9,
    "start_time": "2023-01-24T16:33:16.639Z"
   },
   {
    "duration": 4,
    "start_time": "2023-01-24T16:33:16.650Z"
   },
   {
    "duration": 43,
    "start_time": "2023-01-24T16:33:16.656Z"
   },
   {
    "duration": 149,
    "start_time": "2023-01-24T16:33:16.701Z"
   },
   {
    "duration": 97,
    "start_time": "2023-01-24T16:33:16.852Z"
   },
   {
    "duration": 153,
    "start_time": "2023-01-24T16:33:16.951Z"
   },
   {
    "duration": 143,
    "start_time": "2023-01-24T16:33:17.108Z"
   },
   {
    "duration": 133,
    "start_time": "2023-01-24T16:33:17.254Z"
   },
   {
    "duration": 1314,
    "start_time": "2023-01-25T06:26:32.300Z"
   },
   {
    "duration": 18,
    "start_time": "2023-01-25T06:26:33.616Z"
   },
   {
    "duration": 22,
    "start_time": "2023-01-25T06:26:33.636Z"
   },
   {
    "duration": 9,
    "start_time": "2023-01-25T06:26:33.660Z"
   },
   {
    "duration": 5,
    "start_time": "2023-01-25T06:26:33.671Z"
   },
   {
    "duration": 30,
    "start_time": "2023-01-25T06:26:33.677Z"
   },
   {
    "duration": 17,
    "start_time": "2023-01-25T06:26:33.708Z"
   },
   {
    "duration": 57,
    "start_time": "2023-01-25T06:26:33.727Z"
   },
   {
    "duration": 3,
    "start_time": "2023-01-25T06:26:33.786Z"
   },
   {
    "duration": 11,
    "start_time": "2023-01-25T06:26:33.791Z"
   },
   {
    "duration": 22,
    "start_time": "2023-01-25T06:26:33.804Z"
   },
   {
    "duration": 36,
    "start_time": "2023-01-25T06:26:33.828Z"
   },
   {
    "duration": 4,
    "start_time": "2023-01-25T06:26:33.867Z"
   },
   {
    "duration": 40,
    "start_time": "2023-01-25T06:26:33.874Z"
   },
   {
    "duration": 10,
    "start_time": "2023-01-25T06:26:33.916Z"
   },
   {
    "duration": 10,
    "start_time": "2023-01-25T06:26:33.927Z"
   },
   {
    "duration": 24,
    "start_time": "2023-01-25T06:26:33.938Z"
   },
   {
    "duration": 22,
    "start_time": "2023-01-25T06:26:33.964Z"
   },
   {
    "duration": 16,
    "start_time": "2023-01-25T06:26:33.987Z"
   },
   {
    "duration": 4,
    "start_time": "2023-01-25T06:26:34.004Z"
   },
   {
    "duration": 14,
    "start_time": "2023-01-25T06:26:34.010Z"
   },
   {
    "duration": 5,
    "start_time": "2023-01-25T06:26:34.026Z"
   },
   {
    "duration": 9,
    "start_time": "2023-01-25T06:26:34.051Z"
   },
   {
    "duration": 11,
    "start_time": "2023-01-25T06:26:34.061Z"
   },
   {
    "duration": 144,
    "start_time": "2023-01-25T06:26:34.074Z"
   },
   {
    "duration": 103,
    "start_time": "2023-01-25T06:26:34.220Z"
   },
   {
    "duration": 160,
    "start_time": "2023-01-25T06:26:34.325Z"
   },
   {
    "duration": 119,
    "start_time": "2023-01-25T06:26:34.487Z"
   },
   {
    "duration": 131,
    "start_time": "2023-01-25T06:26:34.608Z"
   },
   {
    "duration": 10,
    "start_time": "2023-01-25T06:27:13.880Z"
   },
   {
    "duration": 12,
    "start_time": "2023-01-25T06:27:17.787Z"
   },
   {
    "duration": 11,
    "start_time": "2023-01-25T06:27:21.949Z"
   },
   {
    "duration": 63,
    "start_time": "2023-01-25T09:23:36.603Z"
   },
   {
    "duration": 47,
    "start_time": "2023-01-25T09:24:30.787Z"
   },
   {
    "duration": 1539,
    "start_time": "2023-01-25T09:24:36.719Z"
   },
   {
    "duration": 21,
    "start_time": "2023-01-25T09:24:38.261Z"
   },
   {
    "duration": 24,
    "start_time": "2023-01-25T09:24:38.283Z"
   },
   {
    "duration": 10,
    "start_time": "2023-01-25T09:24:38.309Z"
   },
   {
    "duration": 6,
    "start_time": "2023-01-25T09:24:38.321Z"
   },
   {
    "duration": 32,
    "start_time": "2023-01-25T09:24:38.328Z"
   },
   {
    "duration": 34,
    "start_time": "2023-01-25T09:24:38.362Z"
   },
   {
    "duration": 60,
    "start_time": "2023-01-25T09:24:38.398Z"
   },
   {
    "duration": 5,
    "start_time": "2023-01-25T09:24:38.460Z"
   },
   {
    "duration": 11,
    "start_time": "2023-01-25T09:24:38.483Z"
   },
   {
    "duration": 6,
    "start_time": "2023-01-25T09:24:38.496Z"
   },
   {
    "duration": 21,
    "start_time": "2023-01-25T09:24:38.503Z"
   },
   {
    "duration": 9,
    "start_time": "2023-01-25T09:24:38.526Z"
   },
   {
    "duration": 54,
    "start_time": "2023-01-25T09:24:38.537Z"
   },
   {
    "duration": 10,
    "start_time": "2023-01-25T09:24:38.593Z"
   },
   {
    "duration": 17,
    "start_time": "2023-01-25T09:24:38.605Z"
   },
   {
    "duration": 17,
    "start_time": "2023-01-25T09:24:38.624Z"
   },
   {
    "duration": 25,
    "start_time": "2023-01-25T09:24:38.643Z"
   },
   {
    "duration": 30,
    "start_time": "2023-01-25T09:24:38.670Z"
   },
   {
    "duration": 4,
    "start_time": "2023-01-25T09:24:38.702Z"
   },
   {
    "duration": 19,
    "start_time": "2023-01-25T09:24:38.708Z"
   },
   {
    "duration": 12,
    "start_time": "2023-01-25T09:24:38.729Z"
   },
   {
    "duration": 14,
    "start_time": "2023-01-25T09:24:38.743Z"
   },
   {
    "duration": 19,
    "start_time": "2023-01-25T09:24:38.759Z"
   },
   {
    "duration": 172,
    "start_time": "2023-01-25T09:24:38.780Z"
   },
   {
    "duration": 12,
    "start_time": "2023-01-25T09:24:38.955Z"
   },
   {
    "duration": 21,
    "start_time": "2023-01-25T09:24:38.969Z"
   },
   {
    "duration": 13,
    "start_time": "2023-01-25T09:24:38.993Z"
   },
   {
    "duration": 118,
    "start_time": "2023-01-25T09:24:39.008Z"
   },
   {
    "duration": 46,
    "start_time": "2023-01-25T09:24:39.127Z"
   },
   {
    "duration": 0,
    "start_time": "2023-01-25T09:24:39.175Z"
   },
   {
    "duration": 0,
    "start_time": "2023-01-25T09:24:39.176Z"
   },
   {
    "duration": 0,
    "start_time": "2023-01-25T09:24:39.177Z"
   },
   {
    "duration": 0,
    "start_time": "2023-01-25T09:24:39.179Z"
   },
   {
    "duration": 1205,
    "start_time": "2023-01-25T09:25:07.335Z"
   },
   {
    "duration": 27,
    "start_time": "2023-01-25T09:25:08.541Z"
   },
   {
    "duration": 41,
    "start_time": "2023-01-25T09:25:08.570Z"
   },
   {
    "duration": 18,
    "start_time": "2023-01-25T09:25:08.614Z"
   },
   {
    "duration": 17,
    "start_time": "2023-01-25T09:25:08.634Z"
   },
   {
    "duration": 62,
    "start_time": "2023-01-25T09:25:08.654Z"
   },
   {
    "duration": 21,
    "start_time": "2023-01-25T09:25:08.718Z"
   },
   {
    "duration": 55,
    "start_time": "2023-01-25T09:25:08.742Z"
   },
   {
    "duration": 4,
    "start_time": "2023-01-25T09:25:08.799Z"
   },
   {
    "duration": 17,
    "start_time": "2023-01-25T09:25:08.806Z"
   },
   {
    "duration": 28,
    "start_time": "2023-01-25T09:25:08.825Z"
   },
   {
    "duration": 20,
    "start_time": "2023-01-25T09:25:08.854Z"
   },
   {
    "duration": 22,
    "start_time": "2023-01-25T09:25:08.877Z"
   },
   {
    "duration": 63,
    "start_time": "2023-01-25T09:25:08.902Z"
   },
   {
    "duration": 12,
    "start_time": "2023-01-25T09:25:08.967Z"
   },
   {
    "duration": 21,
    "start_time": "2023-01-25T09:25:08.981Z"
   },
   {
    "duration": 18,
    "start_time": "2023-01-25T09:25:09.003Z"
   },
   {
    "duration": 37,
    "start_time": "2023-01-25T09:25:09.023Z"
   },
   {
    "duration": 21,
    "start_time": "2023-01-25T09:25:09.062Z"
   },
   {
    "duration": 4,
    "start_time": "2023-01-25T09:25:09.085Z"
   },
   {
    "duration": 17,
    "start_time": "2023-01-25T09:25:09.091Z"
   },
   {
    "duration": 22,
    "start_time": "2023-01-25T09:25:09.110Z"
   },
   {
    "duration": 19,
    "start_time": "2023-01-25T09:25:09.134Z"
   },
   {
    "duration": 35,
    "start_time": "2023-01-25T09:25:09.155Z"
   },
   {
    "duration": 159,
    "start_time": "2023-01-25T09:25:09.192Z"
   },
   {
    "duration": 12,
    "start_time": "2023-01-25T09:25:09.353Z"
   },
   {
    "duration": 27,
    "start_time": "2023-01-25T09:25:09.366Z"
   },
   {
    "duration": 13,
    "start_time": "2023-01-25T09:25:09.397Z"
   },
   {
    "duration": 115,
    "start_time": "2023-01-25T09:25:09.413Z"
   },
   {
    "duration": 187,
    "start_time": "2023-01-25T09:25:09.530Z"
   },
   {
    "duration": 17,
    "start_time": "2023-01-25T09:25:09.720Z"
   },
   {
    "duration": 166,
    "start_time": "2023-01-25T09:25:09.739Z"
   },
   {
    "duration": 182,
    "start_time": "2023-01-25T09:25:09.907Z"
   },
   {
    "duration": 12,
    "start_time": "2023-01-25T09:26:26.039Z"
   },
   {
    "duration": 13,
    "start_time": "2023-01-25T09:37:43.011Z"
   },
   {
    "duration": 15,
    "start_time": "2023-01-25T09:38:25.336Z"
   },
   {
    "duration": 59,
    "start_time": "2023-01-25T09:39:34.499Z"
   },
   {
    "duration": 3,
    "start_time": "2023-01-25T09:54:18.377Z"
   },
   {
    "duration": 5,
    "start_time": "2023-01-25T09:54:24.088Z"
   },
   {
    "duration": 3,
    "start_time": "2023-01-25T09:55:58.642Z"
   },
   {
    "duration": 111,
    "start_time": "2023-01-25T09:58:58.463Z"
   },
   {
    "duration": 10,
    "start_time": "2023-01-25T09:59:05.072Z"
   },
   {
    "duration": 17,
    "start_time": "2023-01-25T09:59:08.163Z"
   },
   {
    "duration": 8,
    "start_time": "2023-01-25T09:59:36.635Z"
   },
   {
    "duration": 7,
    "start_time": "2023-01-25T09:59:44.152Z"
   },
   {
    "duration": 10,
    "start_time": "2023-01-25T09:59:58.303Z"
   },
   {
    "duration": 10,
    "start_time": "2023-01-25T10:00:23.349Z"
   },
   {
    "duration": 10,
    "start_time": "2023-01-25T10:00:28.203Z"
   },
   {
    "duration": 49,
    "start_time": "2023-01-25T10:03:24.766Z"
   },
   {
    "duration": 60,
    "start_time": "2023-01-25T10:03:32.743Z"
   },
   {
    "duration": 10,
    "start_time": "2023-01-25T10:03:41.693Z"
   },
   {
    "duration": 12,
    "start_time": "2023-01-25T10:03:58.957Z"
   },
   {
    "duration": 10,
    "start_time": "2023-01-25T10:04:04.441Z"
   },
   {
    "duration": 20,
    "start_time": "2023-01-25T10:04:14.223Z"
   },
   {
    "duration": 17,
    "start_time": "2023-01-25T10:04:24.214Z"
   },
   {
    "duration": 11,
    "start_time": "2023-01-25T10:04:27.534Z"
   },
   {
    "duration": 11,
    "start_time": "2023-01-25T10:04:47.294Z"
   },
   {
    "duration": 10,
    "start_time": "2023-01-25T10:05:19.537Z"
   },
   {
    "duration": 11,
    "start_time": "2023-01-25T10:05:36.381Z"
   },
   {
    "duration": 10,
    "start_time": "2023-01-25T10:06:02.449Z"
   },
   {
    "duration": 10,
    "start_time": "2023-01-25T10:06:21.350Z"
   },
   {
    "duration": 87,
    "start_time": "2023-01-25T10:11:18.873Z"
   },
   {
    "duration": 43,
    "start_time": "2023-01-25T10:11:22.143Z"
   },
   {
    "duration": 49,
    "start_time": "2023-01-25T10:48:14.095Z"
   },
   {
    "duration": 1359,
    "start_time": "2023-01-25T11:39:49.344Z"
   },
   {
    "duration": 21,
    "start_time": "2023-01-25T11:39:50.705Z"
   },
   {
    "duration": 18,
    "start_time": "2023-01-25T11:39:50.728Z"
   },
   {
    "duration": 37,
    "start_time": "2023-01-25T11:39:50.749Z"
   },
   {
    "duration": 13,
    "start_time": "2023-01-25T11:39:50.788Z"
   },
   {
    "duration": 47,
    "start_time": "2023-01-25T11:39:50.803Z"
   },
   {
    "duration": 28,
    "start_time": "2023-01-25T11:39:50.852Z"
   },
   {
    "duration": 38,
    "start_time": "2023-01-25T11:39:50.882Z"
   },
   {
    "duration": 4,
    "start_time": "2023-01-25T11:39:50.922Z"
   },
   {
    "duration": 58,
    "start_time": "2023-01-25T11:39:50.930Z"
   },
   {
    "duration": 33,
    "start_time": "2023-01-25T11:39:50.990Z"
   },
   {
    "duration": 45,
    "start_time": "2023-01-25T11:39:51.025Z"
   },
   {
    "duration": 21,
    "start_time": "2023-01-25T11:39:51.072Z"
   },
   {
    "duration": 57,
    "start_time": "2023-01-25T11:39:51.094Z"
   },
   {
    "duration": 12,
    "start_time": "2023-01-25T11:39:51.153Z"
   },
   {
    "duration": 29,
    "start_time": "2023-01-25T11:39:51.166Z"
   },
   {
    "duration": 26,
    "start_time": "2023-01-25T11:39:51.197Z"
   },
   {
    "duration": 33,
    "start_time": "2023-01-25T11:39:51.225Z"
   },
   {
    "duration": 22,
    "start_time": "2023-01-25T11:39:51.260Z"
   },
   {
    "duration": 10,
    "start_time": "2023-01-25T11:39:51.284Z"
   },
   {
    "duration": 15,
    "start_time": "2023-01-25T11:39:51.296Z"
   },
   {
    "duration": 30,
    "start_time": "2023-01-25T11:39:51.313Z"
   },
   {
    "duration": 28,
    "start_time": "2023-01-25T11:39:51.345Z"
   },
   {
    "duration": 30,
    "start_time": "2023-01-25T11:39:51.375Z"
   },
   {
    "duration": 154,
    "start_time": "2023-01-25T11:39:51.408Z"
   },
   {
    "duration": 11,
    "start_time": "2023-01-25T11:39:51.563Z"
   },
   {
    "duration": 24,
    "start_time": "2023-01-25T11:39:51.576Z"
   },
   {
    "duration": 17,
    "start_time": "2023-01-25T11:39:51.603Z"
   },
   {
    "duration": 122,
    "start_time": "2023-01-25T11:39:51.622Z"
   },
   {
    "duration": 14,
    "start_time": "2023-01-25T11:39:51.746Z"
   },
   {
    "duration": 167,
    "start_time": "2023-01-25T11:39:51.762Z"
   },
   {
    "duration": 13,
    "start_time": "2023-01-25T11:39:51.931Z"
   },
   {
    "duration": 159,
    "start_time": "2023-01-25T11:39:51.946Z"
   },
   {
    "duration": 15,
    "start_time": "2023-01-25T11:39:52.107Z"
   },
   {
    "duration": 171,
    "start_time": "2023-01-25T11:39:52.125Z"
   },
   {
    "duration": 14,
    "start_time": "2023-01-25T11:39:52.298Z"
   },
   {
    "duration": 1291,
    "start_time": "2023-01-25T11:51:52.788Z"
   },
   {
    "duration": 21,
    "start_time": "2023-01-25T11:51:54.081Z"
   },
   {
    "duration": 71,
    "start_time": "2023-01-25T11:51:54.104Z"
   },
   {
    "duration": 46,
    "start_time": "2023-01-25T11:51:54.177Z"
   },
   {
    "duration": 36,
    "start_time": "2023-01-25T11:51:54.225Z"
   },
   {
    "duration": 57,
    "start_time": "2023-01-25T11:51:54.262Z"
   },
   {
    "duration": 27,
    "start_time": "2023-01-25T11:51:54.320Z"
   },
   {
    "duration": 73,
    "start_time": "2023-01-25T11:51:54.349Z"
   },
   {
    "duration": 3,
    "start_time": "2023-01-25T11:51:54.424Z"
   },
   {
    "duration": 31,
    "start_time": "2023-01-25T11:51:54.430Z"
   },
   {
    "duration": 26,
    "start_time": "2023-01-25T11:51:54.462Z"
   },
   {
    "duration": 36,
    "start_time": "2023-01-25T11:51:54.489Z"
   },
   {
    "duration": 29,
    "start_time": "2023-01-25T11:51:54.527Z"
   },
   {
    "duration": 62,
    "start_time": "2023-01-25T11:51:54.558Z"
   },
   {
    "duration": 11,
    "start_time": "2023-01-25T11:51:54.622Z"
   },
   {
    "duration": 36,
    "start_time": "2023-01-25T11:51:54.634Z"
   },
   {
    "duration": 55,
    "start_time": "2023-01-25T11:51:54.671Z"
   },
   {
    "duration": 48,
    "start_time": "2023-01-25T11:51:54.728Z"
   },
   {
    "duration": 38,
    "start_time": "2023-01-25T11:51:54.778Z"
   },
   {
    "duration": 17,
    "start_time": "2023-01-25T11:51:54.818Z"
   },
   {
    "duration": 29,
    "start_time": "2023-01-25T11:51:54.837Z"
   },
   {
    "duration": 21,
    "start_time": "2023-01-25T11:51:54.868Z"
   },
   {
    "duration": 25,
    "start_time": "2023-01-25T11:51:54.891Z"
   },
   {
    "duration": 34,
    "start_time": "2023-01-25T11:51:54.918Z"
   },
   {
    "duration": 185,
    "start_time": "2023-01-25T11:51:54.954Z"
   },
   {
    "duration": 11,
    "start_time": "2023-01-25T11:51:55.142Z"
   },
   {
    "duration": 31,
    "start_time": "2023-01-25T11:51:55.154Z"
   },
   {
    "duration": 38,
    "start_time": "2023-01-25T11:51:55.189Z"
   },
   {
    "duration": 130,
    "start_time": "2023-01-25T11:51:55.228Z"
   },
   {
    "duration": 26,
    "start_time": "2023-01-25T11:51:55.359Z"
   },
   {
    "duration": 150,
    "start_time": "2023-01-25T11:51:55.387Z"
   },
   {
    "duration": 14,
    "start_time": "2023-01-25T11:51:55.539Z"
   },
   {
    "duration": 152,
    "start_time": "2023-01-25T11:51:55.555Z"
   },
   {
    "duration": 13,
    "start_time": "2023-01-25T11:51:55.710Z"
   },
   {
    "duration": 162,
    "start_time": "2023-01-25T11:51:55.725Z"
   },
   {
    "duration": 17,
    "start_time": "2023-01-25T11:51:55.890Z"
   }
  ],
  "colab": {
   "name": "dpp_template_part2.ipynb",
   "provenance": []
  },
  "kernelspec": {
   "display_name": "Python 3 (ipykernel)",
   "language": "python",
   "name": "python3"
  },
  "language_info": {
   "codemirror_mode": {
    "name": "ipython",
    "version": 3
   },
   "file_extension": ".py",
   "mimetype": "text/x-python",
   "name": "python",
   "nbconvert_exporter": "python",
   "pygments_lexer": "ipython3",
   "version": "3.11.1"
  },
  "toc": {
   "base_numbering": 1,
   "nav_menu": {},
   "number_sections": false,
   "sideBar": true,
   "skip_h1_title": true,
   "title_cell": "Table of Contents",
   "title_sidebar": "Contents",
   "toc_cell": false,
   "toc_position": {
    "height": "calc(100% - 180px)",
    "left": "10px",
    "top": "150px",
    "width": "286.075px"
   },
   "toc_section_display": true,
   "toc_window_display": false
  }
 },
 "nbformat": 4,
 "nbformat_minor": 5
}
