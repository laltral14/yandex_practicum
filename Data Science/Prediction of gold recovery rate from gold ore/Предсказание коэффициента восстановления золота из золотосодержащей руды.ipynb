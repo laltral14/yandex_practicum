{
 "cells": [
  {
   "cell_type": "markdown",
   "metadata": {
    "id": "JYrjHI1wit-6",
    "toc": true
   },
   "source": [
    "<h1>Содержание<span class=\"tocSkip\"></span></h1>\n",
    "<div class=\"toc\"><ul class=\"toc-item\"><li><span><a href=\"#План-проекта\" data-toc-modified-id=\"План-проекта-1\"><span class=\"toc-item-num\">1&nbsp;&nbsp;</span>План проекта</a></span></li><li><span><a href=\"#Подготовка-данных\" data-toc-modified-id=\"Подготовка-данных-2\"><span class=\"toc-item-num\">2&nbsp;&nbsp;</span>Подготовка данных</a></span></li><li><span><a href=\"#Анализ-данных\" data-toc-modified-id=\"Анализ-данных-3\"><span class=\"toc-item-num\">3&nbsp;&nbsp;</span>Анализ данных</a></span></li><li><span><a href=\"#Модель\" data-toc-modified-id=\"Модель-4\"><span class=\"toc-item-num\">4&nbsp;&nbsp;</span>Модель</a></span></li><li><span><a href=\"#Общий-вывод\" data-toc-modified-id=\"Общий-вывод-5\"><span class=\"toc-item-num\">5&nbsp;&nbsp;</span>Общий вывод</a></span></li><li><span><a href=\"#Чек-лист-готовности-проекта\" data-toc-modified-id=\"Чек-лист-готовности-проекта-6\"><span class=\"toc-item-num\">6&nbsp;&nbsp;</span>Чек-лист готовности проекта</a></span></li></ul></div>"
   ]
  },
  {
   "cell_type": "markdown",
   "metadata": {
    "id": "jbGI27XBit--"
   },
   "source": [
    "# Восстановление золота из руды"
   ]
  },
  {
   "cell_type": "markdown",
   "metadata": {
    "id": "id8FbwNlit--"
   },
   "source": [
    "Подготовьте прототип модели машинного обучения для «Цифры». Компания разрабатывает решения для эффективной работы промышленных предприятий.\n",
    "\n",
    "Модель должна предсказать коэффициент восстановления золота из золотосодержащей руды. Используйте данные с параметрами добычи и очистки. \n",
    "\n",
    "Модель поможет оптимизировать производство, чтобы не запускать предприятие с убыточными характеристиками.\n",
    "\n",
    "Вам нужно:\n",
    "\n",
    "1. Подготовить данные;\n",
    "2. Провести исследовательский анализ данных;\n",
    "3. Построить и обучить модель.\n",
    "\n",
    "Чтобы выполнить проект, обращайтесь к библиотекам *pandas*, *matplotlib* и *sklearn.* Вам поможет их документация."
   ]
  },
  {
   "cell_type": "markdown",
   "metadata": {
    "id": "2FSPrdiCit--"
   },
   "source": [
    "## План проекта\n",
    "**2. Подготовка данных**\n",
    "* Импорт необходимых библиотек\n",
    "* Чтение файлов и сохранение полученных данных в переменные\n",
    "* Получение общей информации о таблицах (head, info, describe)\n",
    "* Проверка рассчета эффективности обогащения\n",
    "* Анализ признаков\n",
    "* Предобработка данных\n",
    "* Выводы\n",
    "\n",
    "**3. Анализ данных:**\n",
    "* Анализ измменения концентрации металлов на различных этапах очистки\n",
    "* Сравнение распределения размеров гранул сырья на обучающей и тестовой выборках\n",
    "* Исследование суммарной концентрации всех веществ на разных стадиях\n",
    "* Выводы\n",
    "\n",
    "**4. Модель:**\n",
    "* Обучение моделей\n",
    "* Выбор лучшей модели\n",
    "* Выводы\n",
    "\n",
    "**5. Общий вывод**\n"
   ]
  },
  {
   "cell_type": "markdown",
   "metadata": {
    "id": "E8QIrXolit-_"
   },
   "source": [
    "## Подготовка данных"
   ]
  },
  {
   "cell_type": "code",
   "execution_count": 264,
   "metadata": {
    "colab": {
     "base_uri": "https://localhost:8080/"
    },
    "collapsed": true,
    "id": "f3mcFWGdit-_",
    "outputId": "e977c813-3257-4267-e253-128dd26aae01"
   },
   "outputs": [
    {
     "name": "stdout",
     "output_type": "stream",
     "text": [
      "Requirement already satisfied: optuna in /opt/conda/lib/python3.9/site-packages (3.1.1)\n",
      "Requirement already satisfied: numpy in /opt/conda/lib/python3.9/site-packages (from optuna) (1.21.1)\n",
      "Requirement already satisfied: cmaes>=0.9.1 in /opt/conda/lib/python3.9/site-packages (from optuna) (0.9.1)\n",
      "Requirement already satisfied: sqlalchemy>=1.3.0 in /opt/conda/lib/python3.9/site-packages (from optuna) (1.4.20)\n",
      "Requirement already satisfied: alembic>=1.5.0 in /opt/conda/lib/python3.9/site-packages (from optuna) (1.6.5)\n",
      "Requirement already satisfied: packaging>=20.0 in /opt/conda/lib/python3.9/site-packages (from optuna) (21.3)\n",
      "Requirement already satisfied: tqdm in /opt/conda/lib/python3.9/site-packages (from optuna) (4.61.2)\n",
      "Requirement already satisfied: colorlog in /opt/conda/lib/python3.9/site-packages (from optuna) (6.7.0)\n",
      "Requirement already satisfied: PyYAML in /opt/conda/lib/python3.9/site-packages (from optuna) (6.0)\n",
      "Requirement already satisfied: Mako in /opt/conda/lib/python3.9/site-packages (from alembic>=1.5.0->optuna) (1.1.4)\n",
      "Requirement already satisfied: python-editor>=0.3 in /opt/conda/lib/python3.9/site-packages (from alembic>=1.5.0->optuna) (1.0.4)\n",
      "Requirement already satisfied: python-dateutil in /opt/conda/lib/python3.9/site-packages (from alembic>=1.5.0->optuna) (2.8.1)\n",
      "Requirement already satisfied: pyparsing!=3.0.5,>=2.0.2 in /opt/conda/lib/python3.9/site-packages (from packaging>=20.0->optuna) (2.4.7)\n",
      "Requirement already satisfied: greenlet!=0.4.17 in /opt/conda/lib/python3.9/site-packages (from sqlalchemy>=1.3.0->optuna) (1.1.0)\n",
      "Requirement already satisfied: MarkupSafe>=0.9.2 in /opt/conda/lib/python3.9/site-packages (from Mako->alembic>=1.5.0->optuna) (2.1.1)\n",
      "Requirement already satisfied: six>=1.5 in /opt/conda/lib/python3.9/site-packages (from python-dateutil->alembic>=1.5.0->optuna) (1.16.0)\n"
     ]
    }
   ],
   "source": [
    "!pip install optuna"
   ]
  },
  {
   "cell_type": "code",
   "execution_count": 265,
   "metadata": {
    "id": "F_gCiOtoit_B"
   },
   "outputs": [],
   "source": [
    "# Импортируем нужные библиотеки\n",
    "import pandas as pd\n",
    "import matplotlib.pylab as plt\n",
    "import seaborn as sns\n",
    "import math\n",
    "import numpy as np\n",
    "\n",
    "from sklearn.preprocessing import StandardScaler\n",
    "from sklearn.metrics import r2_score, mean_absolute_error, mean_squared_error, mean_absolute_percentage_error\n",
    "\n",
    "import warnings\n",
    "warnings.filterwarnings('ignore')\n",
    "\n",
    "from sklearn.model_selection import RandomizedSearchCV, cross_val_score, KFold\n",
    "\n",
    "import optuna\n",
    "\n",
    "import time\n",
    "\n",
    "from sklearn.tree import DecisionTreeRegressor\n",
    "from sklearn.linear_model import LinearRegression\n",
    "from sklearn.ensemble import RandomForestRegressor\n",
    "from sklearn.metrics import make_scorer\n",
    "\n",
    "from sklearn.dummy import DummyRegressor"
   ]
  },
  {
   "cell_type": "code",
   "execution_count": 266,
   "metadata": {
    "id": "AVMw6pEait_B"
   },
   "outputs": [],
   "source": [
    "RANDOM_STATE = 12345"
   ]
  },
  {
   "cell_type": "code",
   "execution_count": 267,
   "metadata": {
    "id": "GUqszFm5it_B"
   },
   "outputs": [],
   "source": [
    "# Напишем функцию для первичной проверки данных\n",
    "def check_data(data_df):\n",
    "    print ('\\033[1m' + 'Изучим исходные данные'+ '\\033[0m')\n",
    "    print(data_df.info())\n",
    "    #print(data_df.shape)\n",
    "        \n",
    "    missed_cells = data_df.isnull().sum().sum()/(data_df.shape[0]*(data_df.shape[1]-1))\n",
    "    missed_rows = sum(data_df.isnull().sum(axis = 1)>0)/data_df.shape[0]\n",
    "    print ('\\033[1m' + '\\nПроверка пропусков'+ '\\033[0m')\n",
    "    print ('Количество пропусков: {:.0f}'.format(data_df.isnull().sum().sum()))\n",
    "    print ('Доля пропусков: {:.1%}'.format(missed_cells)+ '\\033[0m')\n",
    "    print ('Доля строк содержащих пропуски: {:.1%}'.format(missed_rows))\n",
    "\n",
    "    ## Проверим дубликаты\n",
    "    print ('\\033[1m' + '\\nПроверка на дубликаты'+ '\\033[0m')\n",
    "    print('Количество полных дубликатов: ', data_df.duplicated().sum())\n",
    "        \n",
    "    ## Посмотрим на сами данные\n",
    "    print ('\\033[1m' + '\\nПервые пять строк датасета'+ '\\033[0m')\n",
    "    display(data_df.head())\n",
    "    \n",
    "    print('\\033[1m' + '\\nОписание количественных данных:'+ '\\033[0m')\n",
    "    display(data_df.describe().T)"
   ]
  },
  {
   "cell_type": "code",
   "execution_count": 268,
   "metadata": {
    "id": "TOpRpfITit_C"
   },
   "outputs": [],
   "source": [
    "def fill_missing_values(df):\n",
    "    df = df.copy()  # создадим копию датафрейма для избежания изменений исходного датафрейма\n",
    "    \n",
    "    # Цикл по каждому столбцу датафрейма\n",
    "    for col in df.columns:\n",
    "        col_data = df[col].values\n",
    "        missing_mask = pd.isnull(col_data)  # создадим маску, для определения пропущенных значений\n",
    "        \n",
    "        # Цикл по каждому пропущенному значению в столбце\n",
    "        for idx in np.where(missing_mask)[0]:\n",
    "            above_idx = idx - 1\n",
    "            below_idx = idx + 1\n",
    "            \n",
    "            # Находим близжайщие непропущенные значения выше и ниже пропущенного значения\n",
    "            while above_idx >= 0 and pd.isnull(col_data[above_idx]):\n",
    "                above_idx -= 1\n",
    "            while below_idx < len(col_data) and pd.isnull(col_data[below_idx]):\n",
    "                below_idx += 1\n",
    "                \n",
    "            # Считаем среднее непропущенных значений\n",
    "            if above_idx >= 0 and below_idx < len(col_data):\n",
    "                avg_val = (col_data[above_idx] + col_data[below_idx]) / 2.0\n",
    "            elif above_idx >= 0:\n",
    "                avg_val = col_data[above_idx]\n",
    "            elif below_idx < len(col_data):\n",
    "                avg_val = col_data[below_idx]\n",
    "            \n",
    "            # Заменяем пропущенное значение средним значением\n",
    "            col_data[idx] = avg_val\n",
    "        \n",
    "        df[col] = col_data  # заменяем столбец в датафрейме столбцом с заполненными значениями\n",
    "    \n",
    "    return df"
   ]
  },
  {
   "cell_type": "code",
   "execution_count": 269,
   "metadata": {
    "id": "DwBwJo0yit_D"
   },
   "outputs": [],
   "source": [
    "# Считываем данные из csv-файлов в датафреймы и сохраняем в переменных geo_data_0, geo_data_1, geo_data_2\n",
    "try:\n",
    "    gold_recovery_train = pd.read_csv('/datasets/gold_recovery_train_new.csv')\n",
    "    gold_recovery_test = pd.read_csv('/datasets/gold_recovery_test_new.csv')\n",
    "    gold_recovery_full = pd.read_csv('/datasets/gold_recovery_full_new.csv')\n",
    "except:\n",
    "    gold_recovery_train = pd.read_csv('https://code.s3.yandex.net/datasets/gold_recovery_train_new.csv')\n",
    "    gold_recovery_test = pd.read_csv('https://code.s3.yandex.net/datasets/gold_recovery_test_new.csv')\n",
    "    gold_recovery_full = pd.read_csv('https://code.s3.yandex.net/datasets/gold_recovery_full_new.csv')   "
   ]
  },
  {
   "cell_type": "code",
   "execution_count": 270,
   "metadata": {
    "colab": {
     "base_uri": "https://localhost:8080/",
     "height": 473
    },
    "id": "HHKmRnuyit_D",
    "outputId": "5af6a760-84ac-4862-c0ec-a4c6e6897139"
   },
   "outputs": [
    {
     "data": {
      "text/html": [
       "<div>\n",
       "<style scoped>\n",
       "    .dataframe tbody tr th:only-of-type {\n",
       "        vertical-align: middle;\n",
       "    }\n",
       "\n",
       "    .dataframe tbody tr th {\n",
       "        vertical-align: top;\n",
       "    }\n",
       "\n",
       "    .dataframe thead th {\n",
       "        text-align: right;\n",
       "    }\n",
       "</style>\n",
       "<table border=\"1\" class=\"dataframe\">\n",
       "  <thead>\n",
       "    <tr style=\"text-align: right;\">\n",
       "      <th></th>\n",
       "      <th>date</th>\n",
       "      <th>final.output.concentrate_ag</th>\n",
       "      <th>final.output.concentrate_pb</th>\n",
       "      <th>final.output.concentrate_sol</th>\n",
       "      <th>final.output.concentrate_au</th>\n",
       "      <th>final.output.recovery</th>\n",
       "      <th>final.output.tail_ag</th>\n",
       "      <th>final.output.tail_pb</th>\n",
       "      <th>final.output.tail_sol</th>\n",
       "      <th>final.output.tail_au</th>\n",
       "      <th>...</th>\n",
       "      <th>secondary_cleaner.state.floatbank4_a_air</th>\n",
       "      <th>secondary_cleaner.state.floatbank4_a_level</th>\n",
       "      <th>secondary_cleaner.state.floatbank4_b_air</th>\n",
       "      <th>secondary_cleaner.state.floatbank4_b_level</th>\n",
       "      <th>secondary_cleaner.state.floatbank5_a_air</th>\n",
       "      <th>secondary_cleaner.state.floatbank5_a_level</th>\n",
       "      <th>secondary_cleaner.state.floatbank5_b_air</th>\n",
       "      <th>secondary_cleaner.state.floatbank5_b_level</th>\n",
       "      <th>secondary_cleaner.state.floatbank6_a_air</th>\n",
       "      <th>secondary_cleaner.state.floatbank6_a_level</th>\n",
       "    </tr>\n",
       "  </thead>\n",
       "  <tbody>\n",
       "    <tr>\n",
       "      <th>0</th>\n",
       "      <td>2016-01-15 00:00:00</td>\n",
       "      <td>6.055403</td>\n",
       "      <td>9.889648</td>\n",
       "      <td>5.507324</td>\n",
       "      <td>42.192020</td>\n",
       "      <td>70.541216</td>\n",
       "      <td>10.411962</td>\n",
       "      <td>0.895447</td>\n",
       "      <td>16.904297</td>\n",
       "      <td>2.143149</td>\n",
       "      <td>...</td>\n",
       "      <td>14.016835</td>\n",
       "      <td>-502.488007</td>\n",
       "      <td>12.099931</td>\n",
       "      <td>-504.715942</td>\n",
       "      <td>9.925633</td>\n",
       "      <td>-498.310211</td>\n",
       "      <td>8.079666</td>\n",
       "      <td>-500.470978</td>\n",
       "      <td>14.151341</td>\n",
       "      <td>-605.841980</td>\n",
       "    </tr>\n",
       "    <tr>\n",
       "      <th>1</th>\n",
       "      <td>2016-01-15 01:00:00</td>\n",
       "      <td>6.029369</td>\n",
       "      <td>9.968944</td>\n",
       "      <td>5.257781</td>\n",
       "      <td>42.701629</td>\n",
       "      <td>69.266198</td>\n",
       "      <td>10.462676</td>\n",
       "      <td>0.927452</td>\n",
       "      <td>16.634514</td>\n",
       "      <td>2.224930</td>\n",
       "      <td>...</td>\n",
       "      <td>13.992281</td>\n",
       "      <td>-505.503262</td>\n",
       "      <td>11.950531</td>\n",
       "      <td>-501.331529</td>\n",
       "      <td>10.039245</td>\n",
       "      <td>-500.169983</td>\n",
       "      <td>7.984757</td>\n",
       "      <td>-500.582168</td>\n",
       "      <td>13.998353</td>\n",
       "      <td>-599.787184</td>\n",
       "    </tr>\n",
       "    <tr>\n",
       "      <th>2</th>\n",
       "      <td>2016-01-15 02:00:00</td>\n",
       "      <td>6.055926</td>\n",
       "      <td>10.213995</td>\n",
       "      <td>5.383759</td>\n",
       "      <td>42.657501</td>\n",
       "      <td>68.116445</td>\n",
       "      <td>10.507046</td>\n",
       "      <td>0.953716</td>\n",
       "      <td>16.208849</td>\n",
       "      <td>2.257889</td>\n",
       "      <td>...</td>\n",
       "      <td>14.015015</td>\n",
       "      <td>-502.520901</td>\n",
       "      <td>11.912783</td>\n",
       "      <td>-501.133383</td>\n",
       "      <td>10.070913</td>\n",
       "      <td>-500.129135</td>\n",
       "      <td>8.013877</td>\n",
       "      <td>-500.517572</td>\n",
       "      <td>14.028663</td>\n",
       "      <td>-601.427363</td>\n",
       "    </tr>\n",
       "    <tr>\n",
       "      <th>3</th>\n",
       "      <td>2016-01-15 03:00:00</td>\n",
       "      <td>6.047977</td>\n",
       "      <td>9.977019</td>\n",
       "      <td>4.858634</td>\n",
       "      <td>42.689819</td>\n",
       "      <td>68.347543</td>\n",
       "      <td>10.422762</td>\n",
       "      <td>0.883763</td>\n",
       "      <td>16.532835</td>\n",
       "      <td>2.146849</td>\n",
       "      <td>...</td>\n",
       "      <td>14.036510</td>\n",
       "      <td>-500.857308</td>\n",
       "      <td>11.999550</td>\n",
       "      <td>-501.193686</td>\n",
       "      <td>9.970366</td>\n",
       "      <td>-499.201640</td>\n",
       "      <td>7.977324</td>\n",
       "      <td>-500.255908</td>\n",
       "      <td>14.005551</td>\n",
       "      <td>-599.996129</td>\n",
       "    </tr>\n",
       "    <tr>\n",
       "      <th>4</th>\n",
       "      <td>2016-01-15 04:00:00</td>\n",
       "      <td>6.148599</td>\n",
       "      <td>10.142511</td>\n",
       "      <td>4.939416</td>\n",
       "      <td>42.774141</td>\n",
       "      <td>66.927016</td>\n",
       "      <td>10.360302</td>\n",
       "      <td>0.792826</td>\n",
       "      <td>16.525686</td>\n",
       "      <td>2.055292</td>\n",
       "      <td>...</td>\n",
       "      <td>14.027298</td>\n",
       "      <td>-499.838632</td>\n",
       "      <td>11.953070</td>\n",
       "      <td>-501.053894</td>\n",
       "      <td>9.925709</td>\n",
       "      <td>-501.686727</td>\n",
       "      <td>7.894242</td>\n",
       "      <td>-500.356035</td>\n",
       "      <td>13.996647</td>\n",
       "      <td>-601.496691</td>\n",
       "    </tr>\n",
       "  </tbody>\n",
       "</table>\n",
       "<p>5 rows × 87 columns</p>\n",
       "</div>"
      ],
      "text/plain": [
       "                  date  final.output.concentrate_ag  \\\n",
       "0  2016-01-15 00:00:00                     6.055403   \n",
       "1  2016-01-15 01:00:00                     6.029369   \n",
       "2  2016-01-15 02:00:00                     6.055926   \n",
       "3  2016-01-15 03:00:00                     6.047977   \n",
       "4  2016-01-15 04:00:00                     6.148599   \n",
       "\n",
       "   final.output.concentrate_pb  final.output.concentrate_sol  \\\n",
       "0                     9.889648                      5.507324   \n",
       "1                     9.968944                      5.257781   \n",
       "2                    10.213995                      5.383759   \n",
       "3                     9.977019                      4.858634   \n",
       "4                    10.142511                      4.939416   \n",
       "\n",
       "   final.output.concentrate_au  final.output.recovery  final.output.tail_ag  \\\n",
       "0                    42.192020              70.541216             10.411962   \n",
       "1                    42.701629              69.266198             10.462676   \n",
       "2                    42.657501              68.116445             10.507046   \n",
       "3                    42.689819              68.347543             10.422762   \n",
       "4                    42.774141              66.927016             10.360302   \n",
       "\n",
       "   final.output.tail_pb  final.output.tail_sol  final.output.tail_au  ...  \\\n",
       "0              0.895447              16.904297              2.143149  ...   \n",
       "1              0.927452              16.634514              2.224930  ...   \n",
       "2              0.953716              16.208849              2.257889  ...   \n",
       "3              0.883763              16.532835              2.146849  ...   \n",
       "4              0.792826              16.525686              2.055292  ...   \n",
       "\n",
       "   secondary_cleaner.state.floatbank4_a_air  \\\n",
       "0                                 14.016835   \n",
       "1                                 13.992281   \n",
       "2                                 14.015015   \n",
       "3                                 14.036510   \n",
       "4                                 14.027298   \n",
       "\n",
       "   secondary_cleaner.state.floatbank4_a_level  \\\n",
       "0                                 -502.488007   \n",
       "1                                 -505.503262   \n",
       "2                                 -502.520901   \n",
       "3                                 -500.857308   \n",
       "4                                 -499.838632   \n",
       "\n",
       "   secondary_cleaner.state.floatbank4_b_air  \\\n",
       "0                                 12.099931   \n",
       "1                                 11.950531   \n",
       "2                                 11.912783   \n",
       "3                                 11.999550   \n",
       "4                                 11.953070   \n",
       "\n",
       "   secondary_cleaner.state.floatbank4_b_level  \\\n",
       "0                                 -504.715942   \n",
       "1                                 -501.331529   \n",
       "2                                 -501.133383   \n",
       "3                                 -501.193686   \n",
       "4                                 -501.053894   \n",
       "\n",
       "   secondary_cleaner.state.floatbank5_a_air  \\\n",
       "0                                  9.925633   \n",
       "1                                 10.039245   \n",
       "2                                 10.070913   \n",
       "3                                  9.970366   \n",
       "4                                  9.925709   \n",
       "\n",
       "   secondary_cleaner.state.floatbank5_a_level  \\\n",
       "0                                 -498.310211   \n",
       "1                                 -500.169983   \n",
       "2                                 -500.129135   \n",
       "3                                 -499.201640   \n",
       "4                                 -501.686727   \n",
       "\n",
       "   secondary_cleaner.state.floatbank5_b_air  \\\n",
       "0                                  8.079666   \n",
       "1                                  7.984757   \n",
       "2                                  8.013877   \n",
       "3                                  7.977324   \n",
       "4                                  7.894242   \n",
       "\n",
       "   secondary_cleaner.state.floatbank5_b_level  \\\n",
       "0                                 -500.470978   \n",
       "1                                 -500.582168   \n",
       "2                                 -500.517572   \n",
       "3                                 -500.255908   \n",
       "4                                 -500.356035   \n",
       "\n",
       "   secondary_cleaner.state.floatbank6_a_air  \\\n",
       "0                                 14.151341   \n",
       "1                                 13.998353   \n",
       "2                                 14.028663   \n",
       "3                                 14.005551   \n",
       "4                                 13.996647   \n",
       "\n",
       "   secondary_cleaner.state.floatbank6_a_level  \n",
       "0                                 -605.841980  \n",
       "1                                 -599.787184  \n",
       "2                                 -601.427363  \n",
       "3                                 -599.996129  \n",
       "4                                 -601.496691  \n",
       "\n",
       "[5 rows x 87 columns]"
      ]
     },
     "execution_count": 270,
     "metadata": {},
     "output_type": "execute_result"
    }
   ],
   "source": [
    "gold_recovery_train.head(5)"
   ]
  },
  {
   "cell_type": "code",
   "execution_count": 271,
   "metadata": {
    "colab": {
     "base_uri": "https://localhost:8080/",
     "height": 473
    },
    "id": "Nh6Cydahit_D",
    "outputId": "d5fdb2e3-2530-4f3e-b278-dfb01824d654"
   },
   "outputs": [
    {
     "data": {
      "text/html": [
       "<div>\n",
       "<style scoped>\n",
       "    .dataframe tbody tr th:only-of-type {\n",
       "        vertical-align: middle;\n",
       "    }\n",
       "\n",
       "    .dataframe tbody tr th {\n",
       "        vertical-align: top;\n",
       "    }\n",
       "\n",
       "    .dataframe thead th {\n",
       "        text-align: right;\n",
       "    }\n",
       "</style>\n",
       "<table border=\"1\" class=\"dataframe\">\n",
       "  <thead>\n",
       "    <tr style=\"text-align: right;\">\n",
       "      <th></th>\n",
       "      <th>date</th>\n",
       "      <th>primary_cleaner.input.sulfate</th>\n",
       "      <th>primary_cleaner.input.depressant</th>\n",
       "      <th>primary_cleaner.input.feed_size</th>\n",
       "      <th>primary_cleaner.input.xanthate</th>\n",
       "      <th>primary_cleaner.state.floatbank8_a_air</th>\n",
       "      <th>primary_cleaner.state.floatbank8_a_level</th>\n",
       "      <th>primary_cleaner.state.floatbank8_b_air</th>\n",
       "      <th>primary_cleaner.state.floatbank8_b_level</th>\n",
       "      <th>primary_cleaner.state.floatbank8_c_air</th>\n",
       "      <th>...</th>\n",
       "      <th>secondary_cleaner.state.floatbank4_a_air</th>\n",
       "      <th>secondary_cleaner.state.floatbank4_a_level</th>\n",
       "      <th>secondary_cleaner.state.floatbank4_b_air</th>\n",
       "      <th>secondary_cleaner.state.floatbank4_b_level</th>\n",
       "      <th>secondary_cleaner.state.floatbank5_a_air</th>\n",
       "      <th>secondary_cleaner.state.floatbank5_a_level</th>\n",
       "      <th>secondary_cleaner.state.floatbank5_b_air</th>\n",
       "      <th>secondary_cleaner.state.floatbank5_b_level</th>\n",
       "      <th>secondary_cleaner.state.floatbank6_a_air</th>\n",
       "      <th>secondary_cleaner.state.floatbank6_a_level</th>\n",
       "    </tr>\n",
       "  </thead>\n",
       "  <tbody>\n",
       "    <tr>\n",
       "      <th>0</th>\n",
       "      <td>2016-09-01 00:59:59</td>\n",
       "      <td>210.800909</td>\n",
       "      <td>14.993118</td>\n",
       "      <td>8.080000</td>\n",
       "      <td>1.005021</td>\n",
       "      <td>1398.981301</td>\n",
       "      <td>-500.225577</td>\n",
       "      <td>1399.144926</td>\n",
       "      <td>-499.919735</td>\n",
       "      <td>1400.102998</td>\n",
       "      <td>...</td>\n",
       "      <td>12.023554</td>\n",
       "      <td>-497.795834</td>\n",
       "      <td>8.016656</td>\n",
       "      <td>-501.289139</td>\n",
       "      <td>7.946562</td>\n",
       "      <td>-432.317850</td>\n",
       "      <td>4.872511</td>\n",
       "      <td>-500.037437</td>\n",
       "      <td>26.705889</td>\n",
       "      <td>-499.709414</td>\n",
       "    </tr>\n",
       "    <tr>\n",
       "      <th>1</th>\n",
       "      <td>2016-09-01 01:59:59</td>\n",
       "      <td>215.392455</td>\n",
       "      <td>14.987471</td>\n",
       "      <td>8.080000</td>\n",
       "      <td>0.990469</td>\n",
       "      <td>1398.777912</td>\n",
       "      <td>-500.057435</td>\n",
       "      <td>1398.055362</td>\n",
       "      <td>-499.778182</td>\n",
       "      <td>1396.151033</td>\n",
       "      <td>...</td>\n",
       "      <td>12.058140</td>\n",
       "      <td>-498.695773</td>\n",
       "      <td>8.130979</td>\n",
       "      <td>-499.634209</td>\n",
       "      <td>7.958270</td>\n",
       "      <td>-525.839648</td>\n",
       "      <td>4.878850</td>\n",
       "      <td>-500.162375</td>\n",
       "      <td>25.019940</td>\n",
       "      <td>-499.819438</td>\n",
       "    </tr>\n",
       "    <tr>\n",
       "      <th>2</th>\n",
       "      <td>2016-09-01 02:59:59</td>\n",
       "      <td>215.259946</td>\n",
       "      <td>12.884934</td>\n",
       "      <td>7.786667</td>\n",
       "      <td>0.996043</td>\n",
       "      <td>1398.493666</td>\n",
       "      <td>-500.868360</td>\n",
       "      <td>1398.860436</td>\n",
       "      <td>-499.764529</td>\n",
       "      <td>1398.075709</td>\n",
       "      <td>...</td>\n",
       "      <td>11.962366</td>\n",
       "      <td>-498.767484</td>\n",
       "      <td>8.096893</td>\n",
       "      <td>-500.827423</td>\n",
       "      <td>8.071056</td>\n",
       "      <td>-500.801673</td>\n",
       "      <td>4.905125</td>\n",
       "      <td>-499.828510</td>\n",
       "      <td>24.994862</td>\n",
       "      <td>-500.622559</td>\n",
       "    </tr>\n",
       "    <tr>\n",
       "      <th>3</th>\n",
       "      <td>2016-09-01 03:59:59</td>\n",
       "      <td>215.336236</td>\n",
       "      <td>12.006805</td>\n",
       "      <td>7.640000</td>\n",
       "      <td>0.863514</td>\n",
       "      <td>1399.618111</td>\n",
       "      <td>-498.863574</td>\n",
       "      <td>1397.440120</td>\n",
       "      <td>-499.211024</td>\n",
       "      <td>1400.129303</td>\n",
       "      <td>...</td>\n",
       "      <td>12.033091</td>\n",
       "      <td>-498.350935</td>\n",
       "      <td>8.074946</td>\n",
       "      <td>-499.474407</td>\n",
       "      <td>7.897085</td>\n",
       "      <td>-500.868509</td>\n",
       "      <td>4.931400</td>\n",
       "      <td>-499.963623</td>\n",
       "      <td>24.948919</td>\n",
       "      <td>-498.709987</td>\n",
       "    </tr>\n",
       "    <tr>\n",
       "      <th>4</th>\n",
       "      <td>2016-09-01 04:59:59</td>\n",
       "      <td>199.099327</td>\n",
       "      <td>10.682530</td>\n",
       "      <td>7.530000</td>\n",
       "      <td>0.805575</td>\n",
       "      <td>1401.268123</td>\n",
       "      <td>-500.808305</td>\n",
       "      <td>1398.128818</td>\n",
       "      <td>-499.504543</td>\n",
       "      <td>1402.172226</td>\n",
       "      <td>...</td>\n",
       "      <td>12.025367</td>\n",
       "      <td>-500.786497</td>\n",
       "      <td>8.054678</td>\n",
       "      <td>-500.397500</td>\n",
       "      <td>8.107890</td>\n",
       "      <td>-509.526725</td>\n",
       "      <td>4.957674</td>\n",
       "      <td>-500.360026</td>\n",
       "      <td>25.003331</td>\n",
       "      <td>-500.856333</td>\n",
       "    </tr>\n",
       "  </tbody>\n",
       "</table>\n",
       "<p>5 rows × 53 columns</p>\n",
       "</div>"
      ],
      "text/plain": [
       "                  date  primary_cleaner.input.sulfate  \\\n",
       "0  2016-09-01 00:59:59                     210.800909   \n",
       "1  2016-09-01 01:59:59                     215.392455   \n",
       "2  2016-09-01 02:59:59                     215.259946   \n",
       "3  2016-09-01 03:59:59                     215.336236   \n",
       "4  2016-09-01 04:59:59                     199.099327   \n",
       "\n",
       "   primary_cleaner.input.depressant  primary_cleaner.input.feed_size  \\\n",
       "0                         14.993118                         8.080000   \n",
       "1                         14.987471                         8.080000   \n",
       "2                         12.884934                         7.786667   \n",
       "3                         12.006805                         7.640000   \n",
       "4                         10.682530                         7.530000   \n",
       "\n",
       "   primary_cleaner.input.xanthate  primary_cleaner.state.floatbank8_a_air  \\\n",
       "0                        1.005021                             1398.981301   \n",
       "1                        0.990469                             1398.777912   \n",
       "2                        0.996043                             1398.493666   \n",
       "3                        0.863514                             1399.618111   \n",
       "4                        0.805575                             1401.268123   \n",
       "\n",
       "   primary_cleaner.state.floatbank8_a_level  \\\n",
       "0                               -500.225577   \n",
       "1                               -500.057435   \n",
       "2                               -500.868360   \n",
       "3                               -498.863574   \n",
       "4                               -500.808305   \n",
       "\n",
       "   primary_cleaner.state.floatbank8_b_air  \\\n",
       "0                             1399.144926   \n",
       "1                             1398.055362   \n",
       "2                             1398.860436   \n",
       "3                             1397.440120   \n",
       "4                             1398.128818   \n",
       "\n",
       "   primary_cleaner.state.floatbank8_b_level  \\\n",
       "0                               -499.919735   \n",
       "1                               -499.778182   \n",
       "2                               -499.764529   \n",
       "3                               -499.211024   \n",
       "4                               -499.504543   \n",
       "\n",
       "   primary_cleaner.state.floatbank8_c_air  ...  \\\n",
       "0                             1400.102998  ...   \n",
       "1                             1396.151033  ...   \n",
       "2                             1398.075709  ...   \n",
       "3                             1400.129303  ...   \n",
       "4                             1402.172226  ...   \n",
       "\n",
       "   secondary_cleaner.state.floatbank4_a_air  \\\n",
       "0                                 12.023554   \n",
       "1                                 12.058140   \n",
       "2                                 11.962366   \n",
       "3                                 12.033091   \n",
       "4                                 12.025367   \n",
       "\n",
       "   secondary_cleaner.state.floatbank4_a_level  \\\n",
       "0                                 -497.795834   \n",
       "1                                 -498.695773   \n",
       "2                                 -498.767484   \n",
       "3                                 -498.350935   \n",
       "4                                 -500.786497   \n",
       "\n",
       "   secondary_cleaner.state.floatbank4_b_air  \\\n",
       "0                                  8.016656   \n",
       "1                                  8.130979   \n",
       "2                                  8.096893   \n",
       "3                                  8.074946   \n",
       "4                                  8.054678   \n",
       "\n",
       "   secondary_cleaner.state.floatbank4_b_level  \\\n",
       "0                                 -501.289139   \n",
       "1                                 -499.634209   \n",
       "2                                 -500.827423   \n",
       "3                                 -499.474407   \n",
       "4                                 -500.397500   \n",
       "\n",
       "   secondary_cleaner.state.floatbank5_a_air  \\\n",
       "0                                  7.946562   \n",
       "1                                  7.958270   \n",
       "2                                  8.071056   \n",
       "3                                  7.897085   \n",
       "4                                  8.107890   \n",
       "\n",
       "   secondary_cleaner.state.floatbank5_a_level  \\\n",
       "0                                 -432.317850   \n",
       "1                                 -525.839648   \n",
       "2                                 -500.801673   \n",
       "3                                 -500.868509   \n",
       "4                                 -509.526725   \n",
       "\n",
       "   secondary_cleaner.state.floatbank5_b_air  \\\n",
       "0                                  4.872511   \n",
       "1                                  4.878850   \n",
       "2                                  4.905125   \n",
       "3                                  4.931400   \n",
       "4                                  4.957674   \n",
       "\n",
       "   secondary_cleaner.state.floatbank5_b_level  \\\n",
       "0                                 -500.037437   \n",
       "1                                 -500.162375   \n",
       "2                                 -499.828510   \n",
       "3                                 -499.963623   \n",
       "4                                 -500.360026   \n",
       "\n",
       "   secondary_cleaner.state.floatbank6_a_air  \\\n",
       "0                                 26.705889   \n",
       "1                                 25.019940   \n",
       "2                                 24.994862   \n",
       "3                                 24.948919   \n",
       "4                                 25.003331   \n",
       "\n",
       "   secondary_cleaner.state.floatbank6_a_level  \n",
       "0                                 -499.709414  \n",
       "1                                 -499.819438  \n",
       "2                                 -500.622559  \n",
       "3                                 -498.709987  \n",
       "4                                 -500.856333  \n",
       "\n",
       "[5 rows x 53 columns]"
      ]
     },
     "execution_count": 271,
     "metadata": {},
     "output_type": "execute_result"
    }
   ],
   "source": [
    "gold_recovery_test.head(5)"
   ]
  },
  {
   "cell_type": "code",
   "execution_count": 272,
   "metadata": {
    "colab": {
     "base_uri": "https://localhost:8080/",
     "height": 473
    },
    "id": "blJu9Dr_it_D",
    "outputId": "0a9ead26-e43b-471d-b1e4-e4c47aa5c139"
   },
   "outputs": [
    {
     "data": {
      "text/html": [
       "<div>\n",
       "<style scoped>\n",
       "    .dataframe tbody tr th:only-of-type {\n",
       "        vertical-align: middle;\n",
       "    }\n",
       "\n",
       "    .dataframe tbody tr th {\n",
       "        vertical-align: top;\n",
       "    }\n",
       "\n",
       "    .dataframe thead th {\n",
       "        text-align: right;\n",
       "    }\n",
       "</style>\n",
       "<table border=\"1\" class=\"dataframe\">\n",
       "  <thead>\n",
       "    <tr style=\"text-align: right;\">\n",
       "      <th></th>\n",
       "      <th>date</th>\n",
       "      <th>final.output.concentrate_ag</th>\n",
       "      <th>final.output.concentrate_pb</th>\n",
       "      <th>final.output.concentrate_sol</th>\n",
       "      <th>final.output.concentrate_au</th>\n",
       "      <th>final.output.recovery</th>\n",
       "      <th>final.output.tail_ag</th>\n",
       "      <th>final.output.tail_pb</th>\n",
       "      <th>final.output.tail_sol</th>\n",
       "      <th>final.output.tail_au</th>\n",
       "      <th>...</th>\n",
       "      <th>secondary_cleaner.state.floatbank4_a_air</th>\n",
       "      <th>secondary_cleaner.state.floatbank4_a_level</th>\n",
       "      <th>secondary_cleaner.state.floatbank4_b_air</th>\n",
       "      <th>secondary_cleaner.state.floatbank4_b_level</th>\n",
       "      <th>secondary_cleaner.state.floatbank5_a_air</th>\n",
       "      <th>secondary_cleaner.state.floatbank5_a_level</th>\n",
       "      <th>secondary_cleaner.state.floatbank5_b_air</th>\n",
       "      <th>secondary_cleaner.state.floatbank5_b_level</th>\n",
       "      <th>secondary_cleaner.state.floatbank6_a_air</th>\n",
       "      <th>secondary_cleaner.state.floatbank6_a_level</th>\n",
       "    </tr>\n",
       "  </thead>\n",
       "  <tbody>\n",
       "    <tr>\n",
       "      <th>0</th>\n",
       "      <td>2016-01-15 00:00:00</td>\n",
       "      <td>6.055403</td>\n",
       "      <td>9.889648</td>\n",
       "      <td>5.507324</td>\n",
       "      <td>42.192020</td>\n",
       "      <td>70.541216</td>\n",
       "      <td>10.411962</td>\n",
       "      <td>0.895447</td>\n",
       "      <td>16.904297</td>\n",
       "      <td>2.143149</td>\n",
       "      <td>...</td>\n",
       "      <td>14.016835</td>\n",
       "      <td>-502.488007</td>\n",
       "      <td>12.099931</td>\n",
       "      <td>-504.715942</td>\n",
       "      <td>9.925633</td>\n",
       "      <td>-498.310211</td>\n",
       "      <td>8.079666</td>\n",
       "      <td>-500.470978</td>\n",
       "      <td>14.151341</td>\n",
       "      <td>-605.841980</td>\n",
       "    </tr>\n",
       "    <tr>\n",
       "      <th>1</th>\n",
       "      <td>2016-01-15 01:00:00</td>\n",
       "      <td>6.029369</td>\n",
       "      <td>9.968944</td>\n",
       "      <td>5.257781</td>\n",
       "      <td>42.701629</td>\n",
       "      <td>69.266198</td>\n",
       "      <td>10.462676</td>\n",
       "      <td>0.927452</td>\n",
       "      <td>16.634514</td>\n",
       "      <td>2.224930</td>\n",
       "      <td>...</td>\n",
       "      <td>13.992281</td>\n",
       "      <td>-505.503262</td>\n",
       "      <td>11.950531</td>\n",
       "      <td>-501.331529</td>\n",
       "      <td>10.039245</td>\n",
       "      <td>-500.169983</td>\n",
       "      <td>7.984757</td>\n",
       "      <td>-500.582168</td>\n",
       "      <td>13.998353</td>\n",
       "      <td>-599.787184</td>\n",
       "    </tr>\n",
       "    <tr>\n",
       "      <th>2</th>\n",
       "      <td>2016-01-15 02:00:00</td>\n",
       "      <td>6.055926</td>\n",
       "      <td>10.213995</td>\n",
       "      <td>5.383759</td>\n",
       "      <td>42.657501</td>\n",
       "      <td>68.116445</td>\n",
       "      <td>10.507046</td>\n",
       "      <td>0.953716</td>\n",
       "      <td>16.208849</td>\n",
       "      <td>2.257889</td>\n",
       "      <td>...</td>\n",
       "      <td>14.015015</td>\n",
       "      <td>-502.520901</td>\n",
       "      <td>11.912783</td>\n",
       "      <td>-501.133383</td>\n",
       "      <td>10.070913</td>\n",
       "      <td>-500.129135</td>\n",
       "      <td>8.013877</td>\n",
       "      <td>-500.517572</td>\n",
       "      <td>14.028663</td>\n",
       "      <td>-601.427363</td>\n",
       "    </tr>\n",
       "    <tr>\n",
       "      <th>3</th>\n",
       "      <td>2016-01-15 03:00:00</td>\n",
       "      <td>6.047977</td>\n",
       "      <td>9.977019</td>\n",
       "      <td>4.858634</td>\n",
       "      <td>42.689819</td>\n",
       "      <td>68.347543</td>\n",
       "      <td>10.422762</td>\n",
       "      <td>0.883763</td>\n",
       "      <td>16.532835</td>\n",
       "      <td>2.146849</td>\n",
       "      <td>...</td>\n",
       "      <td>14.036510</td>\n",
       "      <td>-500.857308</td>\n",
       "      <td>11.999550</td>\n",
       "      <td>-501.193686</td>\n",
       "      <td>9.970366</td>\n",
       "      <td>-499.201640</td>\n",
       "      <td>7.977324</td>\n",
       "      <td>-500.255908</td>\n",
       "      <td>14.005551</td>\n",
       "      <td>-599.996129</td>\n",
       "    </tr>\n",
       "    <tr>\n",
       "      <th>4</th>\n",
       "      <td>2016-01-15 04:00:00</td>\n",
       "      <td>6.148599</td>\n",
       "      <td>10.142511</td>\n",
       "      <td>4.939416</td>\n",
       "      <td>42.774141</td>\n",
       "      <td>66.927016</td>\n",
       "      <td>10.360302</td>\n",
       "      <td>0.792826</td>\n",
       "      <td>16.525686</td>\n",
       "      <td>2.055292</td>\n",
       "      <td>...</td>\n",
       "      <td>14.027298</td>\n",
       "      <td>-499.838632</td>\n",
       "      <td>11.953070</td>\n",
       "      <td>-501.053894</td>\n",
       "      <td>9.925709</td>\n",
       "      <td>-501.686727</td>\n",
       "      <td>7.894242</td>\n",
       "      <td>-500.356035</td>\n",
       "      <td>13.996647</td>\n",
       "      <td>-601.496691</td>\n",
       "    </tr>\n",
       "  </tbody>\n",
       "</table>\n",
       "<p>5 rows × 87 columns</p>\n",
       "</div>"
      ],
      "text/plain": [
       "                  date  final.output.concentrate_ag  \\\n",
       "0  2016-01-15 00:00:00                     6.055403   \n",
       "1  2016-01-15 01:00:00                     6.029369   \n",
       "2  2016-01-15 02:00:00                     6.055926   \n",
       "3  2016-01-15 03:00:00                     6.047977   \n",
       "4  2016-01-15 04:00:00                     6.148599   \n",
       "\n",
       "   final.output.concentrate_pb  final.output.concentrate_sol  \\\n",
       "0                     9.889648                      5.507324   \n",
       "1                     9.968944                      5.257781   \n",
       "2                    10.213995                      5.383759   \n",
       "3                     9.977019                      4.858634   \n",
       "4                    10.142511                      4.939416   \n",
       "\n",
       "   final.output.concentrate_au  final.output.recovery  final.output.tail_ag  \\\n",
       "0                    42.192020              70.541216             10.411962   \n",
       "1                    42.701629              69.266198             10.462676   \n",
       "2                    42.657501              68.116445             10.507046   \n",
       "3                    42.689819              68.347543             10.422762   \n",
       "4                    42.774141              66.927016             10.360302   \n",
       "\n",
       "   final.output.tail_pb  final.output.tail_sol  final.output.tail_au  ...  \\\n",
       "0              0.895447              16.904297              2.143149  ...   \n",
       "1              0.927452              16.634514              2.224930  ...   \n",
       "2              0.953716              16.208849              2.257889  ...   \n",
       "3              0.883763              16.532835              2.146849  ...   \n",
       "4              0.792826              16.525686              2.055292  ...   \n",
       "\n",
       "   secondary_cleaner.state.floatbank4_a_air  \\\n",
       "0                                 14.016835   \n",
       "1                                 13.992281   \n",
       "2                                 14.015015   \n",
       "3                                 14.036510   \n",
       "4                                 14.027298   \n",
       "\n",
       "   secondary_cleaner.state.floatbank4_a_level  \\\n",
       "0                                 -502.488007   \n",
       "1                                 -505.503262   \n",
       "2                                 -502.520901   \n",
       "3                                 -500.857308   \n",
       "4                                 -499.838632   \n",
       "\n",
       "   secondary_cleaner.state.floatbank4_b_air  \\\n",
       "0                                 12.099931   \n",
       "1                                 11.950531   \n",
       "2                                 11.912783   \n",
       "3                                 11.999550   \n",
       "4                                 11.953070   \n",
       "\n",
       "   secondary_cleaner.state.floatbank4_b_level  \\\n",
       "0                                 -504.715942   \n",
       "1                                 -501.331529   \n",
       "2                                 -501.133383   \n",
       "3                                 -501.193686   \n",
       "4                                 -501.053894   \n",
       "\n",
       "   secondary_cleaner.state.floatbank5_a_air  \\\n",
       "0                                  9.925633   \n",
       "1                                 10.039245   \n",
       "2                                 10.070913   \n",
       "3                                  9.970366   \n",
       "4                                  9.925709   \n",
       "\n",
       "   secondary_cleaner.state.floatbank5_a_level  \\\n",
       "0                                 -498.310211   \n",
       "1                                 -500.169983   \n",
       "2                                 -500.129135   \n",
       "3                                 -499.201640   \n",
       "4                                 -501.686727   \n",
       "\n",
       "   secondary_cleaner.state.floatbank5_b_air  \\\n",
       "0                                  8.079666   \n",
       "1                                  7.984757   \n",
       "2                                  8.013877   \n",
       "3                                  7.977324   \n",
       "4                                  7.894242   \n",
       "\n",
       "   secondary_cleaner.state.floatbank5_b_level  \\\n",
       "0                                 -500.470978   \n",
       "1                                 -500.582168   \n",
       "2                                 -500.517572   \n",
       "3                                 -500.255908   \n",
       "4                                 -500.356035   \n",
       "\n",
       "   secondary_cleaner.state.floatbank6_a_air  \\\n",
       "0                                 14.151341   \n",
       "1                                 13.998353   \n",
       "2                                 14.028663   \n",
       "3                                 14.005551   \n",
       "4                                 13.996647   \n",
       "\n",
       "   secondary_cleaner.state.floatbank6_a_level  \n",
       "0                                 -605.841980  \n",
       "1                                 -599.787184  \n",
       "2                                 -601.427363  \n",
       "3                                 -599.996129  \n",
       "4                                 -601.496691  \n",
       "\n",
       "[5 rows x 87 columns]"
      ]
     },
     "execution_count": 272,
     "metadata": {},
     "output_type": "execute_result"
    }
   ],
   "source": [
    "gold_recovery_full.head(5)"
   ]
  },
  {
   "cell_type": "code",
   "execution_count": 273,
   "metadata": {
    "id": "orfj9hcwit_E"
   },
   "outputs": [],
   "source": [
    "# приведем названия столбцов к змеиному регистру\n",
    "gold_recovery_train.columns = gold_recovery_train.columns.str.lower().str.replace('.', '_')\n",
    "gold_recovery_test.columns = gold_recovery_test.columns.str.lower().str.replace('.', '_')\n",
    "gold_recovery_full.columns = gold_recovery_full.columns.str.lower().str.replace('.', '_')"
   ]
  },
  {
   "cell_type": "code",
   "execution_count": 274,
   "metadata": {
    "colab": {
     "base_uri": "https://localhost:8080/",
     "height": 275
    },
    "id": "0fgGOObHit_E",
    "outputId": "49e152ce-a217-4d2b-d300-8b5b4974ff89"
   },
   "outputs": [
    {
     "data": {
      "text/html": [
       "<div>\n",
       "<style scoped>\n",
       "    .dataframe tbody tr th:only-of-type {\n",
       "        vertical-align: middle;\n",
       "    }\n",
       "\n",
       "    .dataframe tbody tr th {\n",
       "        vertical-align: top;\n",
       "    }\n",
       "\n",
       "    .dataframe thead th {\n",
       "        text-align: right;\n",
       "    }\n",
       "</style>\n",
       "<table border=\"1\" class=\"dataframe\">\n",
       "  <thead>\n",
       "    <tr style=\"text-align: right;\">\n",
       "      <th></th>\n",
       "      <th>date</th>\n",
       "      <th>final_output_concentrate_ag</th>\n",
       "      <th>final_output_concentrate_pb</th>\n",
       "      <th>final_output_concentrate_sol</th>\n",
       "      <th>final_output_concentrate_au</th>\n",
       "      <th>final_output_recovery</th>\n",
       "      <th>final_output_tail_ag</th>\n",
       "      <th>final_output_tail_pb</th>\n",
       "      <th>final_output_tail_sol</th>\n",
       "      <th>final_output_tail_au</th>\n",
       "      <th>...</th>\n",
       "      <th>secondary_cleaner_state_floatbank4_a_air</th>\n",
       "      <th>secondary_cleaner_state_floatbank4_a_level</th>\n",
       "      <th>secondary_cleaner_state_floatbank4_b_air</th>\n",
       "      <th>secondary_cleaner_state_floatbank4_b_level</th>\n",
       "      <th>secondary_cleaner_state_floatbank5_a_air</th>\n",
       "      <th>secondary_cleaner_state_floatbank5_a_level</th>\n",
       "      <th>secondary_cleaner_state_floatbank5_b_air</th>\n",
       "      <th>secondary_cleaner_state_floatbank5_b_level</th>\n",
       "      <th>secondary_cleaner_state_floatbank6_a_air</th>\n",
       "      <th>secondary_cleaner_state_floatbank6_a_level</th>\n",
       "    </tr>\n",
       "  </thead>\n",
       "  <tbody>\n",
       "    <tr>\n",
       "      <th>0</th>\n",
       "      <td>2016-01-15 00:00:00</td>\n",
       "      <td>6.055403</td>\n",
       "      <td>9.889648</td>\n",
       "      <td>5.507324</td>\n",
       "      <td>42.192020</td>\n",
       "      <td>70.541216</td>\n",
       "      <td>10.411962</td>\n",
       "      <td>0.895447</td>\n",
       "      <td>16.904297</td>\n",
       "      <td>2.143149</td>\n",
       "      <td>...</td>\n",
       "      <td>14.016835</td>\n",
       "      <td>-502.488007</td>\n",
       "      <td>12.099931</td>\n",
       "      <td>-504.715942</td>\n",
       "      <td>9.925633</td>\n",
       "      <td>-498.310211</td>\n",
       "      <td>8.079666</td>\n",
       "      <td>-500.470978</td>\n",
       "      <td>14.151341</td>\n",
       "      <td>-605.841980</td>\n",
       "    </tr>\n",
       "    <tr>\n",
       "      <th>1</th>\n",
       "      <td>2016-01-15 01:00:00</td>\n",
       "      <td>6.029369</td>\n",
       "      <td>9.968944</td>\n",
       "      <td>5.257781</td>\n",
       "      <td>42.701629</td>\n",
       "      <td>69.266198</td>\n",
       "      <td>10.462676</td>\n",
       "      <td>0.927452</td>\n",
       "      <td>16.634514</td>\n",
       "      <td>2.224930</td>\n",
       "      <td>...</td>\n",
       "      <td>13.992281</td>\n",
       "      <td>-505.503262</td>\n",
       "      <td>11.950531</td>\n",
       "      <td>-501.331529</td>\n",
       "      <td>10.039245</td>\n",
       "      <td>-500.169983</td>\n",
       "      <td>7.984757</td>\n",
       "      <td>-500.582168</td>\n",
       "      <td>13.998353</td>\n",
       "      <td>-599.787184</td>\n",
       "    </tr>\n",
       "  </tbody>\n",
       "</table>\n",
       "<p>2 rows × 87 columns</p>\n",
       "</div>"
      ],
      "text/plain": [
       "                  date  final_output_concentrate_ag  \\\n",
       "0  2016-01-15 00:00:00                     6.055403   \n",
       "1  2016-01-15 01:00:00                     6.029369   \n",
       "\n",
       "   final_output_concentrate_pb  final_output_concentrate_sol  \\\n",
       "0                     9.889648                      5.507324   \n",
       "1                     9.968944                      5.257781   \n",
       "\n",
       "   final_output_concentrate_au  final_output_recovery  final_output_tail_ag  \\\n",
       "0                    42.192020              70.541216             10.411962   \n",
       "1                    42.701629              69.266198             10.462676   \n",
       "\n",
       "   final_output_tail_pb  final_output_tail_sol  final_output_tail_au  ...  \\\n",
       "0              0.895447              16.904297              2.143149  ...   \n",
       "1              0.927452              16.634514              2.224930  ...   \n",
       "\n",
       "   secondary_cleaner_state_floatbank4_a_air  \\\n",
       "0                                 14.016835   \n",
       "1                                 13.992281   \n",
       "\n",
       "   secondary_cleaner_state_floatbank4_a_level  \\\n",
       "0                                 -502.488007   \n",
       "1                                 -505.503262   \n",
       "\n",
       "   secondary_cleaner_state_floatbank4_b_air  \\\n",
       "0                                 12.099931   \n",
       "1                                 11.950531   \n",
       "\n",
       "   secondary_cleaner_state_floatbank4_b_level  \\\n",
       "0                                 -504.715942   \n",
       "1                                 -501.331529   \n",
       "\n",
       "   secondary_cleaner_state_floatbank5_a_air  \\\n",
       "0                                  9.925633   \n",
       "1                                 10.039245   \n",
       "\n",
       "   secondary_cleaner_state_floatbank5_a_level  \\\n",
       "0                                 -498.310211   \n",
       "1                                 -500.169983   \n",
       "\n",
       "   secondary_cleaner_state_floatbank5_b_air  \\\n",
       "0                                  8.079666   \n",
       "1                                  7.984757   \n",
       "\n",
       "   secondary_cleaner_state_floatbank5_b_level  \\\n",
       "0                                 -500.470978   \n",
       "1                                 -500.582168   \n",
       "\n",
       "   secondary_cleaner_state_floatbank6_a_air  \\\n",
       "0                                 14.151341   \n",
       "1                                 13.998353   \n",
       "\n",
       "   secondary_cleaner_state_floatbank6_a_level  \n",
       "0                                 -605.841980  \n",
       "1                                 -599.787184  \n",
       "\n",
       "[2 rows x 87 columns]"
      ]
     },
     "execution_count": 274,
     "metadata": {},
     "output_type": "execute_result"
    }
   ],
   "source": [
    "gold_recovery_full.head(2)"
   ]
  },
  {
   "cell_type": "markdown",
   "metadata": {
    "id": "kLjY_c8Yit_E"
   },
   "source": [
    "Загруженные таблицы соответствует заданию. В нашем распоряжении сырые данные: их просто выгрузили из хранилища. Прежде чем приступить к построению модели, проверим их на корректность."
   ]
  },
  {
   "cell_type": "markdown",
   "metadata": {
    "id": "Dw4tiR9lit_E"
   },
   "source": [
    "Целевой признак:\n",
    "\n",
    "final_output_recovery — коэффициент восстановления золота из золотосодержащей руды."
   ]
  },
  {
   "cell_type": "markdown",
   "metadata": {
    "id": "Eswg0WEAit_E"
   },
   "source": [
    "Проверимьте, что эффективность обогащения рассчитана правильно. Вычислим её на обучающей выборке для признака rougher_output_recovery."
   ]
  },
  {
   "cell_type": "code",
   "execution_count": 275,
   "metadata": {
    "id": "GtK-l1KYDdgl"
   },
   "outputs": [],
   "source": [
    "c_out = gold_recovery_train['rougher_output_concentrate_au']\n",
    "c_in = gold_recovery_train['rougher_input_feed_au']\n",
    "tail = gold_recovery_train['rougher_output_tail_au']\n",
    "\n",
    "gold_recovery_train['recovery_calculated'] = ((c_out * (c_in - tail)) / (c_in * (c_out - tail))) * 100"
   ]
  },
  {
   "cell_type": "code",
   "execution_count": 276,
   "metadata": {
    "colab": {
     "base_uri": "https://localhost:8080/"
    },
    "id": "MAqfIRYNFugl",
    "outputId": "1461af4f-0e43-4896-a1fa-ea53412a3170",
    "scrolled": true
   },
   "outputs": [
    {
     "name": "stdout",
     "output_type": "stream",
     "text": [
      "9.73512347450521e-15\n"
     ]
    }
   ],
   "source": [
    "print(mean_absolute_error(gold_recovery_train['recovery_calculated'],gold_recovery_train['rougher_output_recovery']))"
   ]
  },
  {
   "cell_type": "markdown",
   "metadata": {
    "id": "ZYEJIyFxGcm9"
   },
   "source": [
    "Как видим из низкого значния MAE эффективность обогащения рассчитана правильно."
   ]
  },
  {
   "cell_type": "code",
   "execution_count": 277,
   "metadata": {
    "id": "x4n-I6TvGqzS"
   },
   "outputs": [],
   "source": [
    "gold_recovery_train = gold_recovery_train.drop(['recovery_calculated'], axis=1)"
   ]
  },
  {
   "cell_type": "code",
   "execution_count": 278,
   "metadata": {
    "colab": {
     "base_uri": "https://localhost:8080/",
     "height": 1000
    },
    "id": "_MwXJzy9it_F",
    "outputId": "362d23bd-98b6-4349-8e9c-7e0e604201d2"
   },
   "outputs": [
    {
     "name": "stdout",
     "output_type": "stream",
     "text": [
      "\u001b[1mИзучим исходные данные\u001b[0m\n",
      "<class 'pandas.core.frame.DataFrame'>\n",
      "RangeIndex: 19439 entries, 0 to 19438\n",
      "Data columns (total 87 columns):\n",
      " #   Column                                              Non-Null Count  Dtype  \n",
      "---  ------                                              --------------  -----  \n",
      " 0   date                                                19439 non-null  object \n",
      " 1   final_output_concentrate_ag                         19438 non-null  float64\n",
      " 2   final_output_concentrate_pb                         19438 non-null  float64\n",
      " 3   final_output_concentrate_sol                        19228 non-null  float64\n",
      " 4   final_output_concentrate_au                         19439 non-null  float64\n",
      " 5   final_output_recovery                               19439 non-null  float64\n",
      " 6   final_output_tail_ag                                19438 non-null  float64\n",
      " 7   final_output_tail_pb                                19338 non-null  float64\n",
      " 8   final_output_tail_sol                               19433 non-null  float64\n",
      " 9   final_output_tail_au                                19439 non-null  float64\n",
      " 10  primary_cleaner_input_sulfate                       19415 non-null  float64\n",
      " 11  primary_cleaner_input_depressant                    19402 non-null  float64\n",
      " 12  primary_cleaner_input_feed_size                     19439 non-null  float64\n",
      " 13  primary_cleaner_input_xanthate                      19335 non-null  float64\n",
      " 14  primary_cleaner_output_concentrate_ag               19439 non-null  float64\n",
      " 15  primary_cleaner_output_concentrate_pb               19323 non-null  float64\n",
      " 16  primary_cleaner_output_concentrate_sol              19069 non-null  float64\n",
      " 17  primary_cleaner_output_concentrate_au               19439 non-null  float64\n",
      " 18  primary_cleaner_output_tail_ag                      19435 non-null  float64\n",
      " 19  primary_cleaner_output_tail_pb                      19418 non-null  float64\n",
      " 20  primary_cleaner_output_tail_sol                     19377 non-null  float64\n",
      " 21  primary_cleaner_output_tail_au                      19439 non-null  float64\n",
      " 22  primary_cleaner_state_floatbank8_a_air              19435 non-null  float64\n",
      " 23  primary_cleaner_state_floatbank8_a_level            19438 non-null  float64\n",
      " 24  primary_cleaner_state_floatbank8_b_air              19435 non-null  float64\n",
      " 25  primary_cleaner_state_floatbank8_b_level            19438 non-null  float64\n",
      " 26  primary_cleaner_state_floatbank8_c_air              19437 non-null  float64\n",
      " 27  primary_cleaner_state_floatbank8_c_level            19438 non-null  float64\n",
      " 28  primary_cleaner_state_floatbank8_d_air              19436 non-null  float64\n",
      " 29  primary_cleaner_state_floatbank8_d_level            19438 non-null  float64\n",
      " 30  rougher_calculation_sulfate_to_au_concentrate       19437 non-null  float64\n",
      " 31  rougher_calculation_floatbank10_sulfate_to_au_feed  19437 non-null  float64\n",
      " 32  rougher_calculation_floatbank11_sulfate_to_au_feed  19437 non-null  float64\n",
      " 33  rougher_calculation_au_pb_ratio                     19439 non-null  float64\n",
      " 34  rougher_input_feed_ag                               19439 non-null  float64\n",
      " 35  rougher_input_feed_pb                               19339 non-null  float64\n",
      " 36  rougher_input_feed_rate                             19428 non-null  float64\n",
      " 37  rougher_input_feed_size                             19294 non-null  float64\n",
      " 38  rougher_input_feed_sol                              19340 non-null  float64\n",
      " 39  rougher_input_feed_au                               19439 non-null  float64\n",
      " 40  rougher_input_floatbank10_sulfate                   19405 non-null  float64\n",
      " 41  rougher_input_floatbank10_xanthate                  19431 non-null  float64\n",
      " 42  rougher_input_floatbank11_sulfate                   19395 non-null  float64\n",
      " 43  rougher_input_floatbank11_xanthate                  18986 non-null  float64\n",
      " 44  rougher_output_concentrate_ag                       19439 non-null  float64\n",
      " 45  rougher_output_concentrate_pb                       19439 non-null  float64\n",
      " 46  rougher_output_concentrate_sol                      19416 non-null  float64\n",
      " 47  rougher_output_concentrate_au                       19439 non-null  float64\n",
      " 48  rougher_output_recovery                             19439 non-null  float64\n",
      " 49  rougher_output_tail_ag                              19438 non-null  float64\n",
      " 50  rougher_output_tail_pb                              19439 non-null  float64\n",
      " 51  rougher_output_tail_sol                             19439 non-null  float64\n",
      " 52  rougher_output_tail_au                              19439 non-null  float64\n",
      " 53  rougher_state_floatbank10_a_air                     19438 non-null  float64\n",
      " 54  rougher_state_floatbank10_a_level                   19438 non-null  float64\n",
      " 55  rougher_state_floatbank10_b_air                     19438 non-null  float64\n",
      " 56  rougher_state_floatbank10_b_level                   19438 non-null  float64\n",
      " 57  rougher_state_floatbank10_c_air                     19438 non-null  float64\n",
      " 58  rougher_state_floatbank10_c_level                   19438 non-null  float64\n",
      " 59  rougher_state_floatbank10_d_air                     19439 non-null  float64\n",
      " 60  rougher_state_floatbank10_d_level                   19439 non-null  float64\n",
      " 61  rougher_state_floatbank10_e_air                     19003 non-null  float64\n",
      " 62  rougher_state_floatbank10_e_level                   19439 non-null  float64\n",
      " 63  rougher_state_floatbank10_f_air                     19439 non-null  float64\n",
      " 64  rougher_state_floatbank10_f_level                   19439 non-null  float64\n",
      " 65  secondary_cleaner_output_tail_ag                    19437 non-null  float64\n",
      " 66  secondary_cleaner_output_tail_pb                    19427 non-null  float64\n",
      " 67  secondary_cleaner_output_tail_sol                   17691 non-null  float64\n",
      " 68  secondary_cleaner_output_tail_au                    19439 non-null  float64\n",
      " 69  secondary_cleaner_state_floatbank2_a_air            19219 non-null  float64\n",
      " 70  secondary_cleaner_state_floatbank2_a_level          19438 non-null  float64\n",
      " 71  secondary_cleaner_state_floatbank2_b_air            19416 non-null  float64\n",
      " 72  secondary_cleaner_state_floatbank2_b_level          19438 non-null  float64\n",
      " 73  secondary_cleaner_state_floatbank3_a_air            19426 non-null  float64\n",
      " 74  secondary_cleaner_state_floatbank3_a_level          19438 non-null  float64\n",
      " 75  secondary_cleaner_state_floatbank3_b_air            19438 non-null  float64\n",
      " 76  secondary_cleaner_state_floatbank3_b_level          19438 non-null  float64\n",
      " 77  secondary_cleaner_state_floatbank4_a_air            19433 non-null  float64\n",
      " 78  secondary_cleaner_state_floatbank4_a_level          19438 non-null  float64\n",
      " 79  secondary_cleaner_state_floatbank4_b_air            19438 non-null  float64\n",
      " 80  secondary_cleaner_state_floatbank4_b_level          19438 non-null  float64\n",
      " 81  secondary_cleaner_state_floatbank5_a_air            19438 non-null  float64\n",
      " 82  secondary_cleaner_state_floatbank5_a_level          19438 non-null  float64\n",
      " 83  secondary_cleaner_state_floatbank5_b_air            19438 non-null  float64\n",
      " 84  secondary_cleaner_state_floatbank5_b_level          19438 non-null  float64\n",
      " 85  secondary_cleaner_state_floatbank6_a_air            19437 non-null  float64\n",
      " 86  secondary_cleaner_state_floatbank6_a_level          19438 non-null  float64\n",
      "dtypes: float64(86), object(1)\n",
      "memory usage: 12.9+ MB\n",
      "None\n",
      "\u001b[1m\n",
      "Проверка пропусков\u001b[0m\n",
      "Количество пропусков: 4481\n",
      "Доля пропусков: 0.3%\u001b[0m\n",
      "Доля строк содержащих пропуски: 17.2%\n",
      "\u001b[1m\n",
      "Проверка на дубликаты\u001b[0m\n",
      "Количество полных дубликатов:  0\n",
      "\u001b[1m\n",
      "Первые пять строк датасета\u001b[0m\n"
     ]
    },
    {
     "data": {
      "text/html": [
       "<div>\n",
       "<style scoped>\n",
       "    .dataframe tbody tr th:only-of-type {\n",
       "        vertical-align: middle;\n",
       "    }\n",
       "\n",
       "    .dataframe tbody tr th {\n",
       "        vertical-align: top;\n",
       "    }\n",
       "\n",
       "    .dataframe thead th {\n",
       "        text-align: right;\n",
       "    }\n",
       "</style>\n",
       "<table border=\"1\" class=\"dataframe\">\n",
       "  <thead>\n",
       "    <tr style=\"text-align: right;\">\n",
       "      <th></th>\n",
       "      <th>date</th>\n",
       "      <th>final_output_concentrate_ag</th>\n",
       "      <th>final_output_concentrate_pb</th>\n",
       "      <th>final_output_concentrate_sol</th>\n",
       "      <th>final_output_concentrate_au</th>\n",
       "      <th>final_output_recovery</th>\n",
       "      <th>final_output_tail_ag</th>\n",
       "      <th>final_output_tail_pb</th>\n",
       "      <th>final_output_tail_sol</th>\n",
       "      <th>final_output_tail_au</th>\n",
       "      <th>...</th>\n",
       "      <th>secondary_cleaner_state_floatbank4_a_air</th>\n",
       "      <th>secondary_cleaner_state_floatbank4_a_level</th>\n",
       "      <th>secondary_cleaner_state_floatbank4_b_air</th>\n",
       "      <th>secondary_cleaner_state_floatbank4_b_level</th>\n",
       "      <th>secondary_cleaner_state_floatbank5_a_air</th>\n",
       "      <th>secondary_cleaner_state_floatbank5_a_level</th>\n",
       "      <th>secondary_cleaner_state_floatbank5_b_air</th>\n",
       "      <th>secondary_cleaner_state_floatbank5_b_level</th>\n",
       "      <th>secondary_cleaner_state_floatbank6_a_air</th>\n",
       "      <th>secondary_cleaner_state_floatbank6_a_level</th>\n",
       "    </tr>\n",
       "  </thead>\n",
       "  <tbody>\n",
       "    <tr>\n",
       "      <th>0</th>\n",
       "      <td>2016-01-15 00:00:00</td>\n",
       "      <td>6.055403</td>\n",
       "      <td>9.889648</td>\n",
       "      <td>5.507324</td>\n",
       "      <td>42.192020</td>\n",
       "      <td>70.541216</td>\n",
       "      <td>10.411962</td>\n",
       "      <td>0.895447</td>\n",
       "      <td>16.904297</td>\n",
       "      <td>2.143149</td>\n",
       "      <td>...</td>\n",
       "      <td>14.016835</td>\n",
       "      <td>-502.488007</td>\n",
       "      <td>12.099931</td>\n",
       "      <td>-504.715942</td>\n",
       "      <td>9.925633</td>\n",
       "      <td>-498.310211</td>\n",
       "      <td>8.079666</td>\n",
       "      <td>-500.470978</td>\n",
       "      <td>14.151341</td>\n",
       "      <td>-605.841980</td>\n",
       "    </tr>\n",
       "    <tr>\n",
       "      <th>1</th>\n",
       "      <td>2016-01-15 01:00:00</td>\n",
       "      <td>6.029369</td>\n",
       "      <td>9.968944</td>\n",
       "      <td>5.257781</td>\n",
       "      <td>42.701629</td>\n",
       "      <td>69.266198</td>\n",
       "      <td>10.462676</td>\n",
       "      <td>0.927452</td>\n",
       "      <td>16.634514</td>\n",
       "      <td>2.224930</td>\n",
       "      <td>...</td>\n",
       "      <td>13.992281</td>\n",
       "      <td>-505.503262</td>\n",
       "      <td>11.950531</td>\n",
       "      <td>-501.331529</td>\n",
       "      <td>10.039245</td>\n",
       "      <td>-500.169983</td>\n",
       "      <td>7.984757</td>\n",
       "      <td>-500.582168</td>\n",
       "      <td>13.998353</td>\n",
       "      <td>-599.787184</td>\n",
       "    </tr>\n",
       "    <tr>\n",
       "      <th>2</th>\n",
       "      <td>2016-01-15 02:00:00</td>\n",
       "      <td>6.055926</td>\n",
       "      <td>10.213995</td>\n",
       "      <td>5.383759</td>\n",
       "      <td>42.657501</td>\n",
       "      <td>68.116445</td>\n",
       "      <td>10.507046</td>\n",
       "      <td>0.953716</td>\n",
       "      <td>16.208849</td>\n",
       "      <td>2.257889</td>\n",
       "      <td>...</td>\n",
       "      <td>14.015015</td>\n",
       "      <td>-502.520901</td>\n",
       "      <td>11.912783</td>\n",
       "      <td>-501.133383</td>\n",
       "      <td>10.070913</td>\n",
       "      <td>-500.129135</td>\n",
       "      <td>8.013877</td>\n",
       "      <td>-500.517572</td>\n",
       "      <td>14.028663</td>\n",
       "      <td>-601.427363</td>\n",
       "    </tr>\n",
       "    <tr>\n",
       "      <th>3</th>\n",
       "      <td>2016-01-15 03:00:00</td>\n",
       "      <td>6.047977</td>\n",
       "      <td>9.977019</td>\n",
       "      <td>4.858634</td>\n",
       "      <td>42.689819</td>\n",
       "      <td>68.347543</td>\n",
       "      <td>10.422762</td>\n",
       "      <td>0.883763</td>\n",
       "      <td>16.532835</td>\n",
       "      <td>2.146849</td>\n",
       "      <td>...</td>\n",
       "      <td>14.036510</td>\n",
       "      <td>-500.857308</td>\n",
       "      <td>11.999550</td>\n",
       "      <td>-501.193686</td>\n",
       "      <td>9.970366</td>\n",
       "      <td>-499.201640</td>\n",
       "      <td>7.977324</td>\n",
       "      <td>-500.255908</td>\n",
       "      <td>14.005551</td>\n",
       "      <td>-599.996129</td>\n",
       "    </tr>\n",
       "    <tr>\n",
       "      <th>4</th>\n",
       "      <td>2016-01-15 04:00:00</td>\n",
       "      <td>6.148599</td>\n",
       "      <td>10.142511</td>\n",
       "      <td>4.939416</td>\n",
       "      <td>42.774141</td>\n",
       "      <td>66.927016</td>\n",
       "      <td>10.360302</td>\n",
       "      <td>0.792826</td>\n",
       "      <td>16.525686</td>\n",
       "      <td>2.055292</td>\n",
       "      <td>...</td>\n",
       "      <td>14.027298</td>\n",
       "      <td>-499.838632</td>\n",
       "      <td>11.953070</td>\n",
       "      <td>-501.053894</td>\n",
       "      <td>9.925709</td>\n",
       "      <td>-501.686727</td>\n",
       "      <td>7.894242</td>\n",
       "      <td>-500.356035</td>\n",
       "      <td>13.996647</td>\n",
       "      <td>-601.496691</td>\n",
       "    </tr>\n",
       "  </tbody>\n",
       "</table>\n",
       "<p>5 rows × 87 columns</p>\n",
       "</div>"
      ],
      "text/plain": [
       "                  date  final_output_concentrate_ag  \\\n",
       "0  2016-01-15 00:00:00                     6.055403   \n",
       "1  2016-01-15 01:00:00                     6.029369   \n",
       "2  2016-01-15 02:00:00                     6.055926   \n",
       "3  2016-01-15 03:00:00                     6.047977   \n",
       "4  2016-01-15 04:00:00                     6.148599   \n",
       "\n",
       "   final_output_concentrate_pb  final_output_concentrate_sol  \\\n",
       "0                     9.889648                      5.507324   \n",
       "1                     9.968944                      5.257781   \n",
       "2                    10.213995                      5.383759   \n",
       "3                     9.977019                      4.858634   \n",
       "4                    10.142511                      4.939416   \n",
       "\n",
       "   final_output_concentrate_au  final_output_recovery  final_output_tail_ag  \\\n",
       "0                    42.192020              70.541216             10.411962   \n",
       "1                    42.701629              69.266198             10.462676   \n",
       "2                    42.657501              68.116445             10.507046   \n",
       "3                    42.689819              68.347543             10.422762   \n",
       "4                    42.774141              66.927016             10.360302   \n",
       "\n",
       "   final_output_tail_pb  final_output_tail_sol  final_output_tail_au  ...  \\\n",
       "0              0.895447              16.904297              2.143149  ...   \n",
       "1              0.927452              16.634514              2.224930  ...   \n",
       "2              0.953716              16.208849              2.257889  ...   \n",
       "3              0.883763              16.532835              2.146849  ...   \n",
       "4              0.792826              16.525686              2.055292  ...   \n",
       "\n",
       "   secondary_cleaner_state_floatbank4_a_air  \\\n",
       "0                                 14.016835   \n",
       "1                                 13.992281   \n",
       "2                                 14.015015   \n",
       "3                                 14.036510   \n",
       "4                                 14.027298   \n",
       "\n",
       "   secondary_cleaner_state_floatbank4_a_level  \\\n",
       "0                                 -502.488007   \n",
       "1                                 -505.503262   \n",
       "2                                 -502.520901   \n",
       "3                                 -500.857308   \n",
       "4                                 -499.838632   \n",
       "\n",
       "   secondary_cleaner_state_floatbank4_b_air  \\\n",
       "0                                 12.099931   \n",
       "1                                 11.950531   \n",
       "2                                 11.912783   \n",
       "3                                 11.999550   \n",
       "4                                 11.953070   \n",
       "\n",
       "   secondary_cleaner_state_floatbank4_b_level  \\\n",
       "0                                 -504.715942   \n",
       "1                                 -501.331529   \n",
       "2                                 -501.133383   \n",
       "3                                 -501.193686   \n",
       "4                                 -501.053894   \n",
       "\n",
       "   secondary_cleaner_state_floatbank5_a_air  \\\n",
       "0                                  9.925633   \n",
       "1                                 10.039245   \n",
       "2                                 10.070913   \n",
       "3                                  9.970366   \n",
       "4                                  9.925709   \n",
       "\n",
       "   secondary_cleaner_state_floatbank5_a_level  \\\n",
       "0                                 -498.310211   \n",
       "1                                 -500.169983   \n",
       "2                                 -500.129135   \n",
       "3                                 -499.201640   \n",
       "4                                 -501.686727   \n",
       "\n",
       "   secondary_cleaner_state_floatbank5_b_air  \\\n",
       "0                                  8.079666   \n",
       "1                                  7.984757   \n",
       "2                                  8.013877   \n",
       "3                                  7.977324   \n",
       "4                                  7.894242   \n",
       "\n",
       "   secondary_cleaner_state_floatbank5_b_level  \\\n",
       "0                                 -500.470978   \n",
       "1                                 -500.582168   \n",
       "2                                 -500.517572   \n",
       "3                                 -500.255908   \n",
       "4                                 -500.356035   \n",
       "\n",
       "   secondary_cleaner_state_floatbank6_a_air  \\\n",
       "0                                 14.151341   \n",
       "1                                 13.998353   \n",
       "2                                 14.028663   \n",
       "3                                 14.005551   \n",
       "4                                 13.996647   \n",
       "\n",
       "   secondary_cleaner_state_floatbank6_a_level  \n",
       "0                                 -605.841980  \n",
       "1                                 -599.787184  \n",
       "2                                 -601.427363  \n",
       "3                                 -599.996129  \n",
       "4                                 -601.496691  \n",
       "\n",
       "[5 rows x 87 columns]"
      ]
     },
     "metadata": {},
     "output_type": "display_data"
    },
    {
     "name": "stdout",
     "output_type": "stream",
     "text": [
      "\u001b[1m\n",
      "Описание количественных данных:\u001b[0m\n"
     ]
    },
    {
     "data": {
      "text/html": [
       "<div>\n",
       "<style scoped>\n",
       "    .dataframe tbody tr th:only-of-type {\n",
       "        vertical-align: middle;\n",
       "    }\n",
       "\n",
       "    .dataframe tbody tr th {\n",
       "        vertical-align: top;\n",
       "    }\n",
       "\n",
       "    .dataframe thead th {\n",
       "        text-align: right;\n",
       "    }\n",
       "</style>\n",
       "<table border=\"1\" class=\"dataframe\">\n",
       "  <thead>\n",
       "    <tr style=\"text-align: right;\">\n",
       "      <th></th>\n",
       "      <th>count</th>\n",
       "      <th>mean</th>\n",
       "      <th>std</th>\n",
       "      <th>min</th>\n",
       "      <th>25%</th>\n",
       "      <th>50%</th>\n",
       "      <th>75%</th>\n",
       "      <th>max</th>\n",
       "    </tr>\n",
       "  </thead>\n",
       "  <tbody>\n",
       "    <tr>\n",
       "      <th>final_output_concentrate_ag</th>\n",
       "      <td>19438.0</td>\n",
       "      <td>5.168470</td>\n",
       "      <td>1.372348</td>\n",
       "      <td>0.000000</td>\n",
       "      <td>4.251240</td>\n",
       "      <td>5.066094</td>\n",
       "      <td>5.895527</td>\n",
       "      <td>16.001945</td>\n",
       "    </tr>\n",
       "    <tr>\n",
       "      <th>final_output_concentrate_pb</th>\n",
       "      <td>19438.0</td>\n",
       "      <td>9.978895</td>\n",
       "      <td>1.669240</td>\n",
       "      <td>0.000000</td>\n",
       "      <td>9.137262</td>\n",
       "      <td>10.102433</td>\n",
       "      <td>11.035769</td>\n",
       "      <td>17.031899</td>\n",
       "    </tr>\n",
       "    <tr>\n",
       "      <th>final_output_concentrate_sol</th>\n",
       "      <td>19228.0</td>\n",
       "      <td>9.501224</td>\n",
       "      <td>2.787537</td>\n",
       "      <td>0.000000</td>\n",
       "      <td>7.722820</td>\n",
       "      <td>9.218961</td>\n",
       "      <td>10.947813</td>\n",
       "      <td>19.615720</td>\n",
       "    </tr>\n",
       "    <tr>\n",
       "      <th>final_output_concentrate_au</th>\n",
       "      <td>19439.0</td>\n",
       "      <td>44.076513</td>\n",
       "      <td>5.129784</td>\n",
       "      <td>0.000000</td>\n",
       "      <td>43.402215</td>\n",
       "      <td>45.011244</td>\n",
       "      <td>46.275313</td>\n",
       "      <td>52.756638</td>\n",
       "    </tr>\n",
       "    <tr>\n",
       "      <th>final_output_recovery</th>\n",
       "      <td>19439.0</td>\n",
       "      <td>67.050208</td>\n",
       "      <td>10.125840</td>\n",
       "      <td>0.000000</td>\n",
       "      <td>63.299712</td>\n",
       "      <td>68.172738</td>\n",
       "      <td>72.686642</td>\n",
       "      <td>100.000000</td>\n",
       "    </tr>\n",
       "    <tr>\n",
       "      <th>...</th>\n",
       "      <td>...</td>\n",
       "      <td>...</td>\n",
       "      <td>...</td>\n",
       "      <td>...</td>\n",
       "      <td>...</td>\n",
       "      <td>...</td>\n",
       "      <td>...</td>\n",
       "      <td>...</td>\n",
       "    </tr>\n",
       "    <tr>\n",
       "      <th>secondary_cleaner_state_floatbank5_a_level</th>\n",
       "      <td>19438.0</td>\n",
       "      <td>-488.684065</td>\n",
       "      <td>34.533396</td>\n",
       "      <td>-797.323986</td>\n",
       "      <td>-500.458467</td>\n",
       "      <td>-499.802605</td>\n",
       "      <td>-498.384187</td>\n",
       "      <td>-244.483566</td>\n",
       "    </tr>\n",
       "    <tr>\n",
       "      <th>secondary_cleaner_state_floatbank5_b_air</th>\n",
       "      <td>19438.0</td>\n",
       "      <td>12.198224</td>\n",
       "      <td>5.333024</td>\n",
       "      <td>0.528083</td>\n",
       "      <td>8.971105</td>\n",
       "      <td>11.019433</td>\n",
       "      <td>14.019088</td>\n",
       "      <td>27.926001</td>\n",
       "    </tr>\n",
       "    <tr>\n",
       "      <th>secondary_cleaner_state_floatbank5_b_level</th>\n",
       "      <td>19438.0</td>\n",
       "      <td>-487.149827</td>\n",
       "      <td>38.347312</td>\n",
       "      <td>-800.220337</td>\n",
       "      <td>-500.129462</td>\n",
       "      <td>-499.935317</td>\n",
       "      <td>-499.436708</td>\n",
       "      <td>-137.740004</td>\n",
       "    </tr>\n",
       "    <tr>\n",
       "      <th>secondary_cleaner_state_floatbank6_a_air</th>\n",
       "      <td>19437.0</td>\n",
       "      <td>18.959024</td>\n",
       "      <td>5.550498</td>\n",
       "      <td>-0.079426</td>\n",
       "      <td>14.983037</td>\n",
       "      <td>19.960541</td>\n",
       "      <td>24.003170</td>\n",
       "      <td>32.188906</td>\n",
       "    </tr>\n",
       "    <tr>\n",
       "      <th>secondary_cleaner_state_floatbank6_a_level</th>\n",
       "      <td>19438.0</td>\n",
       "      <td>-505.436305</td>\n",
       "      <td>37.689057</td>\n",
       "      <td>-809.741464</td>\n",
       "      <td>-500.728067</td>\n",
       "      <td>-500.048400</td>\n",
       "      <td>-499.495378</td>\n",
       "      <td>-104.427459</td>\n",
       "    </tr>\n",
       "  </tbody>\n",
       "</table>\n",
       "<p>86 rows × 8 columns</p>\n",
       "</div>"
      ],
      "text/plain": [
       "                                              count        mean        std  \\\n",
       "final_output_concentrate_ag                 19438.0    5.168470   1.372348   \n",
       "final_output_concentrate_pb                 19438.0    9.978895   1.669240   \n",
       "final_output_concentrate_sol                19228.0    9.501224   2.787537   \n",
       "final_output_concentrate_au                 19439.0   44.076513   5.129784   \n",
       "final_output_recovery                       19439.0   67.050208  10.125840   \n",
       "...                                             ...         ...        ...   \n",
       "secondary_cleaner_state_floatbank5_a_level  19438.0 -488.684065  34.533396   \n",
       "secondary_cleaner_state_floatbank5_b_air    19438.0   12.198224   5.333024   \n",
       "secondary_cleaner_state_floatbank5_b_level  19438.0 -487.149827  38.347312   \n",
       "secondary_cleaner_state_floatbank6_a_air    19437.0   18.959024   5.550498   \n",
       "secondary_cleaner_state_floatbank6_a_level  19438.0 -505.436305  37.689057   \n",
       "\n",
       "                                                   min         25%  \\\n",
       "final_output_concentrate_ag                   0.000000    4.251240   \n",
       "final_output_concentrate_pb                   0.000000    9.137262   \n",
       "final_output_concentrate_sol                  0.000000    7.722820   \n",
       "final_output_concentrate_au                   0.000000   43.402215   \n",
       "final_output_recovery                         0.000000   63.299712   \n",
       "...                                                ...         ...   \n",
       "secondary_cleaner_state_floatbank5_a_level -797.323986 -500.458467   \n",
       "secondary_cleaner_state_floatbank5_b_air      0.528083    8.971105   \n",
       "secondary_cleaner_state_floatbank5_b_level -800.220337 -500.129462   \n",
       "secondary_cleaner_state_floatbank6_a_air     -0.079426   14.983037   \n",
       "secondary_cleaner_state_floatbank6_a_level -809.741464 -500.728067   \n",
       "\n",
       "                                                   50%         75%         max  \n",
       "final_output_concentrate_ag                   5.066094    5.895527   16.001945  \n",
       "final_output_concentrate_pb                  10.102433   11.035769   17.031899  \n",
       "final_output_concentrate_sol                  9.218961   10.947813   19.615720  \n",
       "final_output_concentrate_au                  45.011244   46.275313   52.756638  \n",
       "final_output_recovery                        68.172738   72.686642  100.000000  \n",
       "...                                                ...         ...         ...  \n",
       "secondary_cleaner_state_floatbank5_a_level -499.802605 -498.384187 -244.483566  \n",
       "secondary_cleaner_state_floatbank5_b_air     11.019433   14.019088   27.926001  \n",
       "secondary_cleaner_state_floatbank5_b_level -499.935317 -499.436708 -137.740004  \n",
       "secondary_cleaner_state_floatbank6_a_air     19.960541   24.003170   32.188906  \n",
       "secondary_cleaner_state_floatbank6_a_level -500.048400 -499.495378 -104.427459  \n",
       "\n",
       "[86 rows x 8 columns]"
      ]
     },
     "metadata": {},
     "output_type": "display_data"
    }
   ],
   "source": [
    "# описательный анализ полной выборки\n",
    "check_data(gold_recovery_full)"
   ]
  },
  {
   "cell_type": "code",
   "execution_count": 279,
   "metadata": {
    "colab": {
     "base_uri": "https://localhost:8080/",
     "height": 1000
    },
    "id": "7APfVytvit_G",
    "outputId": "ab58582e-1050-4665-8132-003473d35822"
   },
   "outputs": [
    {
     "name": "stdout",
     "output_type": "stream",
     "text": [
      "\u001b[1mИзучим исходные данные\u001b[0m\n",
      "<class 'pandas.core.frame.DataFrame'>\n",
      "RangeIndex: 5290 entries, 0 to 5289\n",
      "Data columns (total 53 columns):\n",
      " #   Column                                      Non-Null Count  Dtype  \n",
      "---  ------                                      --------------  -----  \n",
      " 0   date                                        5290 non-null   object \n",
      " 1   primary_cleaner_input_sulfate               5286 non-null   float64\n",
      " 2   primary_cleaner_input_depressant            5285 non-null   float64\n",
      " 3   primary_cleaner_input_feed_size             5290 non-null   float64\n",
      " 4   primary_cleaner_input_xanthate              5286 non-null   float64\n",
      " 5   primary_cleaner_state_floatbank8_a_air      5290 non-null   float64\n",
      " 6   primary_cleaner_state_floatbank8_a_level    5290 non-null   float64\n",
      " 7   primary_cleaner_state_floatbank8_b_air      5290 non-null   float64\n",
      " 8   primary_cleaner_state_floatbank8_b_level    5290 non-null   float64\n",
      " 9   primary_cleaner_state_floatbank8_c_air      5290 non-null   float64\n",
      " 10  primary_cleaner_state_floatbank8_c_level    5290 non-null   float64\n",
      " 11  primary_cleaner_state_floatbank8_d_air      5290 non-null   float64\n",
      " 12  primary_cleaner_state_floatbank8_d_level    5290 non-null   float64\n",
      " 13  rougher_input_feed_ag                       5290 non-null   float64\n",
      " 14  rougher_input_feed_pb                       5290 non-null   float64\n",
      " 15  rougher_input_feed_rate                     5287 non-null   float64\n",
      " 16  rougher_input_feed_size                     5289 non-null   float64\n",
      " 17  rougher_input_feed_sol                      5269 non-null   float64\n",
      " 18  rougher_input_feed_au                       5290 non-null   float64\n",
      " 19  rougher_input_floatbank10_sulfate           5285 non-null   float64\n",
      " 20  rougher_input_floatbank10_xanthate          5290 non-null   float64\n",
      " 21  rougher_input_floatbank11_sulfate           5282 non-null   float64\n",
      " 22  rougher_input_floatbank11_xanthate          5265 non-null   float64\n",
      " 23  rougher_state_floatbank10_a_air             5290 non-null   float64\n",
      " 24  rougher_state_floatbank10_a_level           5290 non-null   float64\n",
      " 25  rougher_state_floatbank10_b_air             5290 non-null   float64\n",
      " 26  rougher_state_floatbank10_b_level           5290 non-null   float64\n",
      " 27  rougher_state_floatbank10_c_air             5290 non-null   float64\n",
      " 28  rougher_state_floatbank10_c_level           5290 non-null   float64\n",
      " 29  rougher_state_floatbank10_d_air             5290 non-null   float64\n",
      " 30  rougher_state_floatbank10_d_level           5290 non-null   float64\n",
      " 31  rougher_state_floatbank10_e_air             5290 non-null   float64\n",
      " 32  rougher_state_floatbank10_e_level           5290 non-null   float64\n",
      " 33  rougher_state_floatbank10_f_air             5290 non-null   float64\n",
      " 34  rougher_state_floatbank10_f_level           5290 non-null   float64\n",
      " 35  secondary_cleaner_state_floatbank2_a_air    5287 non-null   float64\n",
      " 36  secondary_cleaner_state_floatbank2_a_level  5290 non-null   float64\n",
      " 37  secondary_cleaner_state_floatbank2_b_air    5288 non-null   float64\n",
      " 38  secondary_cleaner_state_floatbank2_b_level  5290 non-null   float64\n",
      " 39  secondary_cleaner_state_floatbank3_a_air    5281 non-null   float64\n",
      " 40  secondary_cleaner_state_floatbank3_a_level  5290 non-null   float64\n",
      " 41  secondary_cleaner_state_floatbank3_b_air    5290 non-null   float64\n",
      " 42  secondary_cleaner_state_floatbank3_b_level  5290 non-null   float64\n",
      " 43  secondary_cleaner_state_floatbank4_a_air    5290 non-null   float64\n",
      " 44  secondary_cleaner_state_floatbank4_a_level  5290 non-null   float64\n",
      " 45  secondary_cleaner_state_floatbank4_b_air    5290 non-null   float64\n",
      " 46  secondary_cleaner_state_floatbank4_b_level  5290 non-null   float64\n",
      " 47  secondary_cleaner_state_floatbank5_a_air    5290 non-null   float64\n",
      " 48  secondary_cleaner_state_floatbank5_a_level  5290 non-null   float64\n",
      " 49  secondary_cleaner_state_floatbank5_b_air    5290 non-null   float64\n",
      " 50  secondary_cleaner_state_floatbank5_b_level  5290 non-null   float64\n",
      " 51  secondary_cleaner_state_floatbank6_a_air    5290 non-null   float64\n",
      " 52  secondary_cleaner_state_floatbank6_a_level  5290 non-null   float64\n",
      "dtypes: float64(52), object(1)\n",
      "memory usage: 2.1+ MB\n",
      "None\n",
      "\u001b[1m\n",
      "Проверка пропусков\u001b[0m\n",
      "Количество пропусков: 90\n",
      "Доля пропусков: 0.0%\u001b[0m\n",
      "Доля строк содержащих пропуски: 1.2%\n",
      "\u001b[1m\n",
      "Проверка на дубликаты\u001b[0m\n",
      "Количество полных дубликатов:  0\n",
      "\u001b[1m\n",
      "Первые пять строк датасета\u001b[0m\n"
     ]
    },
    {
     "data": {
      "text/html": [
       "<div>\n",
       "<style scoped>\n",
       "    .dataframe tbody tr th:only-of-type {\n",
       "        vertical-align: middle;\n",
       "    }\n",
       "\n",
       "    .dataframe tbody tr th {\n",
       "        vertical-align: top;\n",
       "    }\n",
       "\n",
       "    .dataframe thead th {\n",
       "        text-align: right;\n",
       "    }\n",
       "</style>\n",
       "<table border=\"1\" class=\"dataframe\">\n",
       "  <thead>\n",
       "    <tr style=\"text-align: right;\">\n",
       "      <th></th>\n",
       "      <th>date</th>\n",
       "      <th>primary_cleaner_input_sulfate</th>\n",
       "      <th>primary_cleaner_input_depressant</th>\n",
       "      <th>primary_cleaner_input_feed_size</th>\n",
       "      <th>primary_cleaner_input_xanthate</th>\n",
       "      <th>primary_cleaner_state_floatbank8_a_air</th>\n",
       "      <th>primary_cleaner_state_floatbank8_a_level</th>\n",
       "      <th>primary_cleaner_state_floatbank8_b_air</th>\n",
       "      <th>primary_cleaner_state_floatbank8_b_level</th>\n",
       "      <th>primary_cleaner_state_floatbank8_c_air</th>\n",
       "      <th>...</th>\n",
       "      <th>secondary_cleaner_state_floatbank4_a_air</th>\n",
       "      <th>secondary_cleaner_state_floatbank4_a_level</th>\n",
       "      <th>secondary_cleaner_state_floatbank4_b_air</th>\n",
       "      <th>secondary_cleaner_state_floatbank4_b_level</th>\n",
       "      <th>secondary_cleaner_state_floatbank5_a_air</th>\n",
       "      <th>secondary_cleaner_state_floatbank5_a_level</th>\n",
       "      <th>secondary_cleaner_state_floatbank5_b_air</th>\n",
       "      <th>secondary_cleaner_state_floatbank5_b_level</th>\n",
       "      <th>secondary_cleaner_state_floatbank6_a_air</th>\n",
       "      <th>secondary_cleaner_state_floatbank6_a_level</th>\n",
       "    </tr>\n",
       "  </thead>\n",
       "  <tbody>\n",
       "    <tr>\n",
       "      <th>0</th>\n",
       "      <td>2016-09-01 00:59:59</td>\n",
       "      <td>210.800909</td>\n",
       "      <td>14.993118</td>\n",
       "      <td>8.080000</td>\n",
       "      <td>1.005021</td>\n",
       "      <td>1398.981301</td>\n",
       "      <td>-500.225577</td>\n",
       "      <td>1399.144926</td>\n",
       "      <td>-499.919735</td>\n",
       "      <td>1400.102998</td>\n",
       "      <td>...</td>\n",
       "      <td>12.023554</td>\n",
       "      <td>-497.795834</td>\n",
       "      <td>8.016656</td>\n",
       "      <td>-501.289139</td>\n",
       "      <td>7.946562</td>\n",
       "      <td>-432.317850</td>\n",
       "      <td>4.872511</td>\n",
       "      <td>-500.037437</td>\n",
       "      <td>26.705889</td>\n",
       "      <td>-499.709414</td>\n",
       "    </tr>\n",
       "    <tr>\n",
       "      <th>1</th>\n",
       "      <td>2016-09-01 01:59:59</td>\n",
       "      <td>215.392455</td>\n",
       "      <td>14.987471</td>\n",
       "      <td>8.080000</td>\n",
       "      <td>0.990469</td>\n",
       "      <td>1398.777912</td>\n",
       "      <td>-500.057435</td>\n",
       "      <td>1398.055362</td>\n",
       "      <td>-499.778182</td>\n",
       "      <td>1396.151033</td>\n",
       "      <td>...</td>\n",
       "      <td>12.058140</td>\n",
       "      <td>-498.695773</td>\n",
       "      <td>8.130979</td>\n",
       "      <td>-499.634209</td>\n",
       "      <td>7.958270</td>\n",
       "      <td>-525.839648</td>\n",
       "      <td>4.878850</td>\n",
       "      <td>-500.162375</td>\n",
       "      <td>25.019940</td>\n",
       "      <td>-499.819438</td>\n",
       "    </tr>\n",
       "    <tr>\n",
       "      <th>2</th>\n",
       "      <td>2016-09-01 02:59:59</td>\n",
       "      <td>215.259946</td>\n",
       "      <td>12.884934</td>\n",
       "      <td>7.786667</td>\n",
       "      <td>0.996043</td>\n",
       "      <td>1398.493666</td>\n",
       "      <td>-500.868360</td>\n",
       "      <td>1398.860436</td>\n",
       "      <td>-499.764529</td>\n",
       "      <td>1398.075709</td>\n",
       "      <td>...</td>\n",
       "      <td>11.962366</td>\n",
       "      <td>-498.767484</td>\n",
       "      <td>8.096893</td>\n",
       "      <td>-500.827423</td>\n",
       "      <td>8.071056</td>\n",
       "      <td>-500.801673</td>\n",
       "      <td>4.905125</td>\n",
       "      <td>-499.828510</td>\n",
       "      <td>24.994862</td>\n",
       "      <td>-500.622559</td>\n",
       "    </tr>\n",
       "    <tr>\n",
       "      <th>3</th>\n",
       "      <td>2016-09-01 03:59:59</td>\n",
       "      <td>215.336236</td>\n",
       "      <td>12.006805</td>\n",
       "      <td>7.640000</td>\n",
       "      <td>0.863514</td>\n",
       "      <td>1399.618111</td>\n",
       "      <td>-498.863574</td>\n",
       "      <td>1397.440120</td>\n",
       "      <td>-499.211024</td>\n",
       "      <td>1400.129303</td>\n",
       "      <td>...</td>\n",
       "      <td>12.033091</td>\n",
       "      <td>-498.350935</td>\n",
       "      <td>8.074946</td>\n",
       "      <td>-499.474407</td>\n",
       "      <td>7.897085</td>\n",
       "      <td>-500.868509</td>\n",
       "      <td>4.931400</td>\n",
       "      <td>-499.963623</td>\n",
       "      <td>24.948919</td>\n",
       "      <td>-498.709987</td>\n",
       "    </tr>\n",
       "    <tr>\n",
       "      <th>4</th>\n",
       "      <td>2016-09-01 04:59:59</td>\n",
       "      <td>199.099327</td>\n",
       "      <td>10.682530</td>\n",
       "      <td>7.530000</td>\n",
       "      <td>0.805575</td>\n",
       "      <td>1401.268123</td>\n",
       "      <td>-500.808305</td>\n",
       "      <td>1398.128818</td>\n",
       "      <td>-499.504543</td>\n",
       "      <td>1402.172226</td>\n",
       "      <td>...</td>\n",
       "      <td>12.025367</td>\n",
       "      <td>-500.786497</td>\n",
       "      <td>8.054678</td>\n",
       "      <td>-500.397500</td>\n",
       "      <td>8.107890</td>\n",
       "      <td>-509.526725</td>\n",
       "      <td>4.957674</td>\n",
       "      <td>-500.360026</td>\n",
       "      <td>25.003331</td>\n",
       "      <td>-500.856333</td>\n",
       "    </tr>\n",
       "  </tbody>\n",
       "</table>\n",
       "<p>5 rows × 53 columns</p>\n",
       "</div>"
      ],
      "text/plain": [
       "                  date  primary_cleaner_input_sulfate  \\\n",
       "0  2016-09-01 00:59:59                     210.800909   \n",
       "1  2016-09-01 01:59:59                     215.392455   \n",
       "2  2016-09-01 02:59:59                     215.259946   \n",
       "3  2016-09-01 03:59:59                     215.336236   \n",
       "4  2016-09-01 04:59:59                     199.099327   \n",
       "\n",
       "   primary_cleaner_input_depressant  primary_cleaner_input_feed_size  \\\n",
       "0                         14.993118                         8.080000   \n",
       "1                         14.987471                         8.080000   \n",
       "2                         12.884934                         7.786667   \n",
       "3                         12.006805                         7.640000   \n",
       "4                         10.682530                         7.530000   \n",
       "\n",
       "   primary_cleaner_input_xanthate  primary_cleaner_state_floatbank8_a_air  \\\n",
       "0                        1.005021                             1398.981301   \n",
       "1                        0.990469                             1398.777912   \n",
       "2                        0.996043                             1398.493666   \n",
       "3                        0.863514                             1399.618111   \n",
       "4                        0.805575                             1401.268123   \n",
       "\n",
       "   primary_cleaner_state_floatbank8_a_level  \\\n",
       "0                               -500.225577   \n",
       "1                               -500.057435   \n",
       "2                               -500.868360   \n",
       "3                               -498.863574   \n",
       "4                               -500.808305   \n",
       "\n",
       "   primary_cleaner_state_floatbank8_b_air  \\\n",
       "0                             1399.144926   \n",
       "1                             1398.055362   \n",
       "2                             1398.860436   \n",
       "3                             1397.440120   \n",
       "4                             1398.128818   \n",
       "\n",
       "   primary_cleaner_state_floatbank8_b_level  \\\n",
       "0                               -499.919735   \n",
       "1                               -499.778182   \n",
       "2                               -499.764529   \n",
       "3                               -499.211024   \n",
       "4                               -499.504543   \n",
       "\n",
       "   primary_cleaner_state_floatbank8_c_air  ...  \\\n",
       "0                             1400.102998  ...   \n",
       "1                             1396.151033  ...   \n",
       "2                             1398.075709  ...   \n",
       "3                             1400.129303  ...   \n",
       "4                             1402.172226  ...   \n",
       "\n",
       "   secondary_cleaner_state_floatbank4_a_air  \\\n",
       "0                                 12.023554   \n",
       "1                                 12.058140   \n",
       "2                                 11.962366   \n",
       "3                                 12.033091   \n",
       "4                                 12.025367   \n",
       "\n",
       "   secondary_cleaner_state_floatbank4_a_level  \\\n",
       "0                                 -497.795834   \n",
       "1                                 -498.695773   \n",
       "2                                 -498.767484   \n",
       "3                                 -498.350935   \n",
       "4                                 -500.786497   \n",
       "\n",
       "   secondary_cleaner_state_floatbank4_b_air  \\\n",
       "0                                  8.016656   \n",
       "1                                  8.130979   \n",
       "2                                  8.096893   \n",
       "3                                  8.074946   \n",
       "4                                  8.054678   \n",
       "\n",
       "   secondary_cleaner_state_floatbank4_b_level  \\\n",
       "0                                 -501.289139   \n",
       "1                                 -499.634209   \n",
       "2                                 -500.827423   \n",
       "3                                 -499.474407   \n",
       "4                                 -500.397500   \n",
       "\n",
       "   secondary_cleaner_state_floatbank5_a_air  \\\n",
       "0                                  7.946562   \n",
       "1                                  7.958270   \n",
       "2                                  8.071056   \n",
       "3                                  7.897085   \n",
       "4                                  8.107890   \n",
       "\n",
       "   secondary_cleaner_state_floatbank5_a_level  \\\n",
       "0                                 -432.317850   \n",
       "1                                 -525.839648   \n",
       "2                                 -500.801673   \n",
       "3                                 -500.868509   \n",
       "4                                 -509.526725   \n",
       "\n",
       "   secondary_cleaner_state_floatbank5_b_air  \\\n",
       "0                                  4.872511   \n",
       "1                                  4.878850   \n",
       "2                                  4.905125   \n",
       "3                                  4.931400   \n",
       "4                                  4.957674   \n",
       "\n",
       "   secondary_cleaner_state_floatbank5_b_level  \\\n",
       "0                                 -500.037437   \n",
       "1                                 -500.162375   \n",
       "2                                 -499.828510   \n",
       "3                                 -499.963623   \n",
       "4                                 -500.360026   \n",
       "\n",
       "   secondary_cleaner_state_floatbank6_a_air  \\\n",
       "0                                 26.705889   \n",
       "1                                 25.019940   \n",
       "2                                 24.994862   \n",
       "3                                 24.948919   \n",
       "4                                 25.003331   \n",
       "\n",
       "   secondary_cleaner_state_floatbank6_a_level  \n",
       "0                                 -499.709414  \n",
       "1                                 -499.819438  \n",
       "2                                 -500.622559  \n",
       "3                                 -498.709987  \n",
       "4                                 -500.856333  \n",
       "\n",
       "[5 rows x 53 columns]"
      ]
     },
     "metadata": {},
     "output_type": "display_data"
    },
    {
     "name": "stdout",
     "output_type": "stream",
     "text": [
      "\u001b[1m\n",
      "Описание количественных данных:\u001b[0m\n"
     ]
    },
    {
     "data": {
      "text/html": [
       "<div>\n",
       "<style scoped>\n",
       "    .dataframe tbody tr th:only-of-type {\n",
       "        vertical-align: middle;\n",
       "    }\n",
       "\n",
       "    .dataframe tbody tr th {\n",
       "        vertical-align: top;\n",
       "    }\n",
       "\n",
       "    .dataframe thead th {\n",
       "        text-align: right;\n",
       "    }\n",
       "</style>\n",
       "<table border=\"1\" class=\"dataframe\">\n",
       "  <thead>\n",
       "    <tr style=\"text-align: right;\">\n",
       "      <th></th>\n",
       "      <th>count</th>\n",
       "      <th>mean</th>\n",
       "      <th>std</th>\n",
       "      <th>min</th>\n",
       "      <th>25%</th>\n",
       "      <th>50%</th>\n",
       "      <th>75%</th>\n",
       "      <th>max</th>\n",
       "    </tr>\n",
       "  </thead>\n",
       "  <tbody>\n",
       "    <tr>\n",
       "      <th>primary_cleaner_input_sulfate</th>\n",
       "      <td>5286.0</td>\n",
       "      <td>174.839652</td>\n",
       "      <td>43.027080</td>\n",
       "      <td>2.566156e+00</td>\n",
       "      <td>147.121401</td>\n",
       "      <td>177.828489</td>\n",
       "      <td>208.125438</td>\n",
       "      <td>265.983123</td>\n",
       "    </tr>\n",
       "    <tr>\n",
       "      <th>primary_cleaner_input_depressant</th>\n",
       "      <td>5285.0</td>\n",
       "      <td>8.683596</td>\n",
       "      <td>3.072050</td>\n",
       "      <td>3.839482e-03</td>\n",
       "      <td>6.489555</td>\n",
       "      <td>8.052207</td>\n",
       "      <td>10.027764</td>\n",
       "      <td>40.000000</td>\n",
       "    </tr>\n",
       "    <tr>\n",
       "      <th>primary_cleaner_input_feed_size</th>\n",
       "      <td>5290.0</td>\n",
       "      <td>7.266339</td>\n",
       "      <td>0.610219</td>\n",
       "      <td>5.650000e+00</td>\n",
       "      <td>6.890000</td>\n",
       "      <td>7.250000</td>\n",
       "      <td>7.600000</td>\n",
       "      <td>15.500000</td>\n",
       "    </tr>\n",
       "    <tr>\n",
       "      <th>primary_cleaner_input_xanthate</th>\n",
       "      <td>5286.0</td>\n",
       "      <td>1.383803</td>\n",
       "      <td>0.643474</td>\n",
       "      <td>4.983673e-03</td>\n",
       "      <td>0.907623</td>\n",
       "      <td>1.197610</td>\n",
       "      <td>1.797819</td>\n",
       "      <td>4.102454</td>\n",
       "    </tr>\n",
       "    <tr>\n",
       "      <th>primary_cleaner_state_floatbank8_a_air</th>\n",
       "      <td>5290.0</td>\n",
       "      <td>1539.494325</td>\n",
       "      <td>116.797884</td>\n",
       "      <td>5.445860e-32</td>\n",
       "      <td>1498.935802</td>\n",
       "      <td>1585.129123</td>\n",
       "      <td>1602.076529</td>\n",
       "      <td>2103.103580</td>\n",
       "    </tr>\n",
       "    <tr>\n",
       "      <th>primary_cleaner_state_floatbank8_a_level</th>\n",
       "      <td>5290.0</td>\n",
       "      <td>-497.665883</td>\n",
       "      <td>19.952431</td>\n",
       "      <td>-7.953163e+02</td>\n",
       "      <td>-500.357298</td>\n",
       "      <td>-499.969164</td>\n",
       "      <td>-499.568951</td>\n",
       "      <td>-57.195404</td>\n",
       "    </tr>\n",
       "    <tr>\n",
       "      <th>primary_cleaner_state_floatbank8_b_air</th>\n",
       "      <td>5290.0</td>\n",
       "      <td>1545.174232</td>\n",
       "      <td>122.224588</td>\n",
       "      <td>6.647490e-32</td>\n",
       "      <td>1498.970993</td>\n",
       "      <td>1595.621798</td>\n",
       "      <td>1602.323545</td>\n",
       "      <td>1813.083671</td>\n",
       "    </tr>\n",
       "    <tr>\n",
       "      <th>primary_cleaner_state_floatbank8_b_level</th>\n",
       "      <td>5290.0</td>\n",
       "      <td>-500.273098</td>\n",
       "      <td>32.968307</td>\n",
       "      <td>-7.999970e+02</td>\n",
       "      <td>-500.703002</td>\n",
       "      <td>-500.028514</td>\n",
       "      <td>-499.293257</td>\n",
       "      <td>-142.527229</td>\n",
       "    </tr>\n",
       "    <tr>\n",
       "      <th>primary_cleaner_state_floatbank8_c_air</th>\n",
       "      <td>5290.0</td>\n",
       "      <td>1527.272362</td>\n",
       "      <td>122.538034</td>\n",
       "      <td>4.033736e-32</td>\n",
       "      <td>1473.229862</td>\n",
       "      <td>1549.594682</td>\n",
       "      <td>1601.143775</td>\n",
       "      <td>1715.053773</td>\n",
       "    </tr>\n",
       "    <tr>\n",
       "      <th>primary_cleaner_state_floatbank8_c_level</th>\n",
       "      <td>5290.0</td>\n",
       "      <td>-498.330680</td>\n",
       "      <td>21.964876</td>\n",
       "      <td>-7.999606e+02</td>\n",
       "      <td>-501.018117</td>\n",
       "      <td>-500.017711</td>\n",
       "      <td>-498.994130</td>\n",
       "      <td>-150.937035</td>\n",
       "    </tr>\n",
       "    <tr>\n",
       "      <th>primary_cleaner_state_floatbank8_d_air</th>\n",
       "      <td>5290.0</td>\n",
       "      <td>1544.844335</td>\n",
       "      <td>124.773081</td>\n",
       "      <td>4.039220e-32</td>\n",
       "      <td>1499.481404</td>\n",
       "      <td>1594.579112</td>\n",
       "      <td>1600.964772</td>\n",
       "      <td>1913.256561</td>\n",
       "    </tr>\n",
       "    <tr>\n",
       "      <th>primary_cleaner_state_floatbank8_d_level</th>\n",
       "      <td>5290.0</td>\n",
       "      <td>-500.199527</td>\n",
       "      <td>31.045257</td>\n",
       "      <td>-7.997943e+02</td>\n",
       "      <td>-500.452469</td>\n",
       "      <td>-500.023307</td>\n",
       "      <td>-499.607040</td>\n",
       "      <td>-158.950573</td>\n",
       "    </tr>\n",
       "    <tr>\n",
       "      <th>rougher_input_feed_ag</th>\n",
       "      <td>5290.0</td>\n",
       "      <td>9.371940</td>\n",
       "      <td>1.926264</td>\n",
       "      <td>5.684412e-01</td>\n",
       "      <td>8.112434</td>\n",
       "      <td>9.762654</td>\n",
       "      <td>10.652297</td>\n",
       "      <td>14.406130</td>\n",
       "    </tr>\n",
       "    <tr>\n",
       "      <th>rougher_input_feed_pb</th>\n",
       "      <td>5290.0</td>\n",
       "      <td>3.798082</td>\n",
       "      <td>0.954859</td>\n",
       "      <td>2.736769e-01</td>\n",
       "      <td>3.240251</td>\n",
       "      <td>3.740716</td>\n",
       "      <td>4.282634</td>\n",
       "      <td>6.905684</td>\n",
       "    </tr>\n",
       "    <tr>\n",
       "      <th>rougher_input_feed_rate</th>\n",
       "      <td>5287.0</td>\n",
       "      <td>489.800620</td>\n",
       "      <td>108.036326</td>\n",
       "      <td>2.985849e-03</td>\n",
       "      <td>407.020883</td>\n",
       "      <td>499.051440</td>\n",
       "      <td>575.307213</td>\n",
       "      <td>707.364020</td>\n",
       "    </tr>\n",
       "    <tr>\n",
       "      <th>rougher_input_feed_size</th>\n",
       "      <td>5289.0</td>\n",
       "      <td>55.951097</td>\n",
       "      <td>19.081758</td>\n",
       "      <td>4.636880e-02</td>\n",
       "      <td>43.906347</td>\n",
       "      <td>50.841029</td>\n",
       "      <td>62.431047</td>\n",
       "      <td>392.494040</td>\n",
       "    </tr>\n",
       "    <tr>\n",
       "      <th>rougher_input_feed_sol</th>\n",
       "      <td>5269.0</td>\n",
       "      <td>37.716648</td>\n",
       "      <td>5.491415</td>\n",
       "      <td>1.393488e+00</td>\n",
       "      <td>34.505576</td>\n",
       "      <td>37.980276</td>\n",
       "      <td>41.635385</td>\n",
       "      <td>53.477742</td>\n",
       "    </tr>\n",
       "    <tr>\n",
       "      <th>rougher_input_feed_au</th>\n",
       "      <td>5290.0</td>\n",
       "      <td>9.334682</td>\n",
       "      <td>1.619521</td>\n",
       "      <td>5.686322e-01</td>\n",
       "      <td>8.207814</td>\n",
       "      <td>9.593766</td>\n",
       "      <td>10.463538</td>\n",
       "      <td>13.731330</td>\n",
       "    </tr>\n",
       "    <tr>\n",
       "      <th>rougher_input_floatbank10_sulfate</th>\n",
       "      <td>5285.0</td>\n",
       "      <td>13.855759</td>\n",
       "      <td>3.350852</td>\n",
       "      <td>1.147460e-03</td>\n",
       "      <td>11.995006</td>\n",
       "      <td>14.003126</td>\n",
       "      <td>16.974284</td>\n",
       "      <td>24.280636</td>\n",
       "    </tr>\n",
       "    <tr>\n",
       "      <th>rougher_input_floatbank10_xanthate</th>\n",
       "      <td>5290.0</td>\n",
       "      <td>6.467745</td>\n",
       "      <td>1.065114</td>\n",
       "      <td>5.682328e-04</td>\n",
       "      <td>5.998779</td>\n",
       "      <td>6.498181</td>\n",
       "      <td>7.085457</td>\n",
       "      <td>8.910468</td>\n",
       "    </tr>\n",
       "    <tr>\n",
       "      <th>rougher_input_floatbank11_sulfate</th>\n",
       "      <td>5282.0</td>\n",
       "      <td>13.922328</td>\n",
       "      <td>3.223769</td>\n",
       "      <td>7.673764e-05</td>\n",
       "      <td>11.997200</td>\n",
       "      <td>14.004371</td>\n",
       "      <td>16.959671</td>\n",
       "      <td>24.280966</td>\n",
       "    </tr>\n",
       "    <tr>\n",
       "      <th>rougher_input_floatbank11_xanthate</th>\n",
       "      <td>5265.0</td>\n",
       "      <td>6.512103</td>\n",
       "      <td>0.886989</td>\n",
       "      <td>6.985269e-03</td>\n",
       "      <td>5.999157</td>\n",
       "      <td>6.498744</td>\n",
       "      <td>7.091808</td>\n",
       "      <td>8.621338</td>\n",
       "    </tr>\n",
       "    <tr>\n",
       "      <th>rougher_state_floatbank10_a_air</th>\n",
       "      <td>5290.0</td>\n",
       "      <td>1053.400166</td>\n",
       "      <td>121.139309</td>\n",
       "      <td>-4.206929e-02</td>\n",
       "      <td>999.205344</td>\n",
       "      <td>1000.472055</td>\n",
       "      <td>1006.254299</td>\n",
       "      <td>1423.274687</td>\n",
       "    </tr>\n",
       "    <tr>\n",
       "      <th>rougher_state_floatbank10_a_level</th>\n",
       "      <td>5290.0</td>\n",
       "      <td>-395.732530</td>\n",
       "      <td>91.085505</td>\n",
       "      <td>-6.579498e+02</td>\n",
       "      <td>-499.920565</td>\n",
       "      <td>-399.693363</td>\n",
       "      <td>-300.060056</td>\n",
       "      <td>-273.776101</td>\n",
       "    </tr>\n",
       "    <tr>\n",
       "      <th>rougher_state_floatbank10_b_air</th>\n",
       "      <td>5290.0</td>\n",
       "      <td>1318.926879</td>\n",
       "      <td>156.450366</td>\n",
       "      <td>-7.218064e-01</td>\n",
       "      <td>1200.871883</td>\n",
       "      <td>1302.254995</td>\n",
       "      <td>1433.955649</td>\n",
       "      <td>1706.640419</td>\n",
       "    </tr>\n",
       "    <tr>\n",
       "      <th>rougher_state_floatbank10_b_level</th>\n",
       "      <td>5290.0</td>\n",
       "      <td>-475.241428</td>\n",
       "      <td>45.649466</td>\n",
       "      <td>-6.502453e+02</td>\n",
       "      <td>-500.256114</td>\n",
       "      <td>-499.837803</td>\n",
       "      <td>-450.749619</td>\n",
       "      <td>-298.200051</td>\n",
       "    </tr>\n",
       "    <tr>\n",
       "      <th>rougher_state_floatbank10_c_air</th>\n",
       "      <td>5290.0</td>\n",
       "      <td>1301.595477</td>\n",
       "      <td>171.269667</td>\n",
       "      <td>-5.663551e-02</td>\n",
       "      <td>1199.651371</td>\n",
       "      <td>1300.202274</td>\n",
       "      <td>1406.594956</td>\n",
       "      <td>1731.017788</td>\n",
       "    </tr>\n",
       "    <tr>\n",
       "      <th>rougher_state_floatbank10_c_level</th>\n",
       "      <td>5290.0</td>\n",
       "      <td>-474.836671</td>\n",
       "      <td>45.859866</td>\n",
       "      <td>-6.475444e+02</td>\n",
       "      <td>-500.233831</td>\n",
       "      <td>-499.777222</td>\n",
       "      <td>-451.153188</td>\n",
       "      <td>-298.036852</td>\n",
       "    </tr>\n",
       "    <tr>\n",
       "      <th>rougher_state_floatbank10_d_air</th>\n",
       "      <td>5290.0</td>\n",
       "      <td>1214.847960</td>\n",
       "      <td>185.763319</td>\n",
       "      <td>-9.922190e-01</td>\n",
       "      <td>1093.368068</td>\n",
       "      <td>1207.014092</td>\n",
       "      <td>1391.497269</td>\n",
       "      <td>1775.218584</td>\n",
       "    </tr>\n",
       "    <tr>\n",
       "      <th>rougher_state_floatbank10_d_level</th>\n",
       "      <td>5290.0</td>\n",
       "      <td>-475.682272</td>\n",
       "      <td>47.844967</td>\n",
       "      <td>-6.483907e+02</td>\n",
       "      <td>-500.440610</td>\n",
       "      <td>-499.691917</td>\n",
       "      <td>-452.483463</td>\n",
       "      <td>-76.397327</td>\n",
       "    </tr>\n",
       "    <tr>\n",
       "      <th>rougher_state_floatbank10_e_air</th>\n",
       "      <td>5290.0</td>\n",
       "      <td>1056.648995</td>\n",
       "      <td>131.542839</td>\n",
       "      <td>-1.982295e+00</td>\n",
       "      <td>999.361403</td>\n",
       "      <td>1047.495449</td>\n",
       "      <td>1101.365315</td>\n",
       "      <td>1467.184843</td>\n",
       "    </tr>\n",
       "    <tr>\n",
       "      <th>rougher_state_floatbank10_e_level</th>\n",
       "      <td>5290.0</td>\n",
       "      <td>-469.029688</td>\n",
       "      <td>59.325990</td>\n",
       "      <td>-6.492675e+02</td>\n",
       "      <td>-500.190639</td>\n",
       "      <td>-499.765796</td>\n",
       "      <td>-450.957513</td>\n",
       "      <td>-139.753025</td>\n",
       "    </tr>\n",
       "    <tr>\n",
       "      <th>rougher_state_floatbank10_f_air</th>\n",
       "      <td>5290.0</td>\n",
       "      <td>997.949719</td>\n",
       "      <td>128.218869</td>\n",
       "      <td>-2.593390e+00</td>\n",
       "      <td>901.024994</td>\n",
       "      <td>999.441879</td>\n",
       "      <td>1050.433005</td>\n",
       "      <td>1476.588107</td>\n",
       "    </tr>\n",
       "    <tr>\n",
       "      <th>rougher_state_floatbank10_f_level</th>\n",
       "      <td>5290.0</td>\n",
       "      <td>-470.482465</td>\n",
       "      <td>60.759318</td>\n",
       "      <td>-6.499493e+02</td>\n",
       "      <td>-500.624783</td>\n",
       "      <td>-499.680986</td>\n",
       "      <td>-451.986460</td>\n",
       "      <td>-249.801043</td>\n",
       "    </tr>\n",
       "    <tr>\n",
       "      <th>secondary_cleaner_state_floatbank2_a_air</th>\n",
       "      <td>5287.0</td>\n",
       "      <td>26.312630</td>\n",
       "      <td>3.429852</td>\n",
       "      <td>2.053286e-01</td>\n",
       "      <td>24.942328</td>\n",
       "      <td>26.910569</td>\n",
       "      <td>28.091885</td>\n",
       "      <td>32.138727</td>\n",
       "    </tr>\n",
       "    <tr>\n",
       "      <th>secondary_cleaner_state_floatbank2_a_level</th>\n",
       "      <td>5290.0</td>\n",
       "      <td>-502.750897</td>\n",
       "      <td>28.756505</td>\n",
       "      <td>-7.840911e+02</td>\n",
       "      <td>-500.206517</td>\n",
       "      <td>-500.003902</td>\n",
       "      <td>-499.791639</td>\n",
       "      <td>-300.343670</td>\n",
       "    </tr>\n",
       "    <tr>\n",
       "      <th>secondary_cleaner_state_floatbank2_b_air</th>\n",
       "      <td>5288.0</td>\n",
       "      <td>21.949119</td>\n",
       "      <td>4.354961</td>\n",
       "      <td>6.063908e-03</td>\n",
       "      <td>20.002315</td>\n",
       "      <td>22.942603</td>\n",
       "      <td>24.985013</td>\n",
       "      <td>28.165864</td>\n",
       "    </tr>\n",
       "    <tr>\n",
       "      <th>secondary_cleaner_state_floatbank2_b_level</th>\n",
       "      <td>5290.0</td>\n",
       "      <td>-501.987097</td>\n",
       "      <td>34.582722</td>\n",
       "      <td>-7.977840e+02</td>\n",
       "      <td>-500.218030</td>\n",
       "      <td>-500.019058</td>\n",
       "      <td>-499.831532</td>\n",
       "      <td>-211.999273</td>\n",
       "    </tr>\n",
       "    <tr>\n",
       "      <th>secondary_cleaner_state_floatbank3_a_air</th>\n",
       "      <td>5281.0</td>\n",
       "      <td>25.402926</td>\n",
       "      <td>6.526457</td>\n",
       "      <td>0.000000e+00</td>\n",
       "      <td>22.982288</td>\n",
       "      <td>25.010105</td>\n",
       "      <td>30.002063</td>\n",
       "      <td>40.041997</td>\n",
       "    </tr>\n",
       "    <tr>\n",
       "      <th>secondary_cleaner_state_floatbank3_a_level</th>\n",
       "      <td>5290.0</td>\n",
       "      <td>-507.490314</td>\n",
       "      <td>47.620908</td>\n",
       "      <td>-7.997558e+02</td>\n",
       "      <td>-500.297951</td>\n",
       "      <td>-500.034578</td>\n",
       "      <td>-499.780163</td>\n",
       "      <td>-313.866425</td>\n",
       "    </tr>\n",
       "    <tr>\n",
       "      <th>secondary_cleaner_state_floatbank3_b_air</th>\n",
       "      <td>5290.0</td>\n",
       "      <td>20.982108</td>\n",
       "      <td>6.736179</td>\n",
       "      <td>1.521587e-17</td>\n",
       "      <td>17.967855</td>\n",
       "      <td>21.003164</td>\n",
       "      <td>26.976977</td>\n",
       "      <td>32.039365</td>\n",
       "    </tr>\n",
       "    <tr>\n",
       "      <th>secondary_cleaner_state_floatbank3_b_level</th>\n",
       "      <td>5290.0</td>\n",
       "      <td>-506.627916</td>\n",
       "      <td>44.528673</td>\n",
       "      <td>-8.093330e+02</td>\n",
       "      <td>-500.145128</td>\n",
       "      <td>-500.013819</td>\n",
       "      <td>-499.890608</td>\n",
       "      <td>-202.277366</td>\n",
       "    </tr>\n",
       "    <tr>\n",
       "      <th>secondary_cleaner_state_floatbank4_a_air</th>\n",
       "      <td>5290.0</td>\n",
       "      <td>16.320074</td>\n",
       "      <td>3.493583</td>\n",
       "      <td>1.079872e-16</td>\n",
       "      <td>14.036177</td>\n",
       "      <td>17.008468</td>\n",
       "      <td>18.038619</td>\n",
       "      <td>30.051797</td>\n",
       "    </tr>\n",
       "    <tr>\n",
       "      <th>secondary_cleaner_state_floatbank4_a_level</th>\n",
       "      <td>5290.0</td>\n",
       "      <td>-505.144570</td>\n",
       "      <td>31.427337</td>\n",
       "      <td>-7.997985e+02</td>\n",
       "      <td>-500.868258</td>\n",
       "      <td>-500.115727</td>\n",
       "      <td>-499.404224</td>\n",
       "      <td>-401.565212</td>\n",
       "    </tr>\n",
       "    <tr>\n",
       "      <th>secondary_cleaner_state_floatbank4_b_air</th>\n",
       "      <td>5290.0</td>\n",
       "      <td>13.735444</td>\n",
       "      <td>3.430484</td>\n",
       "      <td>2.489718e-17</td>\n",
       "      <td>12.028625</td>\n",
       "      <td>14.964860</td>\n",
       "      <td>15.962125</td>\n",
       "      <td>31.269706</td>\n",
       "    </tr>\n",
       "    <tr>\n",
       "      <th>secondary_cleaner_state_floatbank4_b_level</th>\n",
       "      <td>5290.0</td>\n",
       "      <td>-463.349858</td>\n",
       "      <td>86.189107</td>\n",
       "      <td>-8.008369e+02</td>\n",
       "      <td>-500.323028</td>\n",
       "      <td>-499.576513</td>\n",
       "      <td>-400.933805</td>\n",
       "      <td>-6.506986</td>\n",
       "    </tr>\n",
       "    <tr>\n",
       "      <th>secondary_cleaner_state_floatbank5_a_air</th>\n",
       "      <td>5290.0</td>\n",
       "      <td>12.804186</td>\n",
       "      <td>3.026591</td>\n",
       "      <td>6.922662e-02</td>\n",
       "      <td>10.914838</td>\n",
       "      <td>12.954182</td>\n",
       "      <td>15.097528</td>\n",
       "      <td>25.258848</td>\n",
       "    </tr>\n",
       "    <tr>\n",
       "      <th>secondary_cleaner_state_floatbank5_a_level</th>\n",
       "      <td>5290.0</td>\n",
       "      <td>-501.329122</td>\n",
       "      <td>17.951495</td>\n",
       "      <td>-7.973240e+02</td>\n",
       "      <td>-500.726841</td>\n",
       "      <td>-499.990332</td>\n",
       "      <td>-499.283191</td>\n",
       "      <td>-244.483566</td>\n",
       "    </tr>\n",
       "    <tr>\n",
       "      <th>secondary_cleaner_state_floatbank5_b_air</th>\n",
       "      <td>5290.0</td>\n",
       "      <td>9.881145</td>\n",
       "      <td>2.868205</td>\n",
       "      <td>5.280828e-01</td>\n",
       "      <td>8.036719</td>\n",
       "      <td>10.004301</td>\n",
       "      <td>11.997467</td>\n",
       "      <td>14.086866</td>\n",
       "    </tr>\n",
       "    <tr>\n",
       "      <th>secondary_cleaner_state_floatbank5_b_level</th>\n",
       "      <td>5290.0</td>\n",
       "      <td>-495.663398</td>\n",
       "      <td>34.535007</td>\n",
       "      <td>-8.002203e+02</td>\n",
       "      <td>-500.194668</td>\n",
       "      <td>-499.990535</td>\n",
       "      <td>-499.719913</td>\n",
       "      <td>-137.740004</td>\n",
       "    </tr>\n",
       "    <tr>\n",
       "      <th>secondary_cleaner_state_floatbank6_a_air</th>\n",
       "      <td>5290.0</td>\n",
       "      <td>17.304935</td>\n",
       "      <td>4.536544</td>\n",
       "      <td>-7.942623e-02</td>\n",
       "      <td>13.997317</td>\n",
       "      <td>16.014935</td>\n",
       "      <td>21.020013</td>\n",
       "      <td>26.705889</td>\n",
       "    </tr>\n",
       "    <tr>\n",
       "      <th>secondary_cleaner_state_floatbank6_a_level</th>\n",
       "      <td>5290.0</td>\n",
       "      <td>-501.793193</td>\n",
       "      <td>39.044215</td>\n",
       "      <td>-8.097415e+02</td>\n",
       "      <td>-500.690984</td>\n",
       "      <td>-500.007126</td>\n",
       "      <td>-499.373018</td>\n",
       "      <td>-123.307487</td>\n",
       "    </tr>\n",
       "  </tbody>\n",
       "</table>\n",
       "</div>"
      ],
      "text/plain": [
       "                                             count         mean         std  \\\n",
       "primary_cleaner_input_sulfate               5286.0   174.839652   43.027080   \n",
       "primary_cleaner_input_depressant            5285.0     8.683596    3.072050   \n",
       "primary_cleaner_input_feed_size             5290.0     7.266339    0.610219   \n",
       "primary_cleaner_input_xanthate              5286.0     1.383803    0.643474   \n",
       "primary_cleaner_state_floatbank8_a_air      5290.0  1539.494325  116.797884   \n",
       "primary_cleaner_state_floatbank8_a_level    5290.0  -497.665883   19.952431   \n",
       "primary_cleaner_state_floatbank8_b_air      5290.0  1545.174232  122.224588   \n",
       "primary_cleaner_state_floatbank8_b_level    5290.0  -500.273098   32.968307   \n",
       "primary_cleaner_state_floatbank8_c_air      5290.0  1527.272362  122.538034   \n",
       "primary_cleaner_state_floatbank8_c_level    5290.0  -498.330680   21.964876   \n",
       "primary_cleaner_state_floatbank8_d_air      5290.0  1544.844335  124.773081   \n",
       "primary_cleaner_state_floatbank8_d_level    5290.0  -500.199527   31.045257   \n",
       "rougher_input_feed_ag                       5290.0     9.371940    1.926264   \n",
       "rougher_input_feed_pb                       5290.0     3.798082    0.954859   \n",
       "rougher_input_feed_rate                     5287.0   489.800620  108.036326   \n",
       "rougher_input_feed_size                     5289.0    55.951097   19.081758   \n",
       "rougher_input_feed_sol                      5269.0    37.716648    5.491415   \n",
       "rougher_input_feed_au                       5290.0     9.334682    1.619521   \n",
       "rougher_input_floatbank10_sulfate           5285.0    13.855759    3.350852   \n",
       "rougher_input_floatbank10_xanthate          5290.0     6.467745    1.065114   \n",
       "rougher_input_floatbank11_sulfate           5282.0    13.922328    3.223769   \n",
       "rougher_input_floatbank11_xanthate          5265.0     6.512103    0.886989   \n",
       "rougher_state_floatbank10_a_air             5290.0  1053.400166  121.139309   \n",
       "rougher_state_floatbank10_a_level           5290.0  -395.732530   91.085505   \n",
       "rougher_state_floatbank10_b_air             5290.0  1318.926879  156.450366   \n",
       "rougher_state_floatbank10_b_level           5290.0  -475.241428   45.649466   \n",
       "rougher_state_floatbank10_c_air             5290.0  1301.595477  171.269667   \n",
       "rougher_state_floatbank10_c_level           5290.0  -474.836671   45.859866   \n",
       "rougher_state_floatbank10_d_air             5290.0  1214.847960  185.763319   \n",
       "rougher_state_floatbank10_d_level           5290.0  -475.682272   47.844967   \n",
       "rougher_state_floatbank10_e_air             5290.0  1056.648995  131.542839   \n",
       "rougher_state_floatbank10_e_level           5290.0  -469.029688   59.325990   \n",
       "rougher_state_floatbank10_f_air             5290.0   997.949719  128.218869   \n",
       "rougher_state_floatbank10_f_level           5290.0  -470.482465   60.759318   \n",
       "secondary_cleaner_state_floatbank2_a_air    5287.0    26.312630    3.429852   \n",
       "secondary_cleaner_state_floatbank2_a_level  5290.0  -502.750897   28.756505   \n",
       "secondary_cleaner_state_floatbank2_b_air    5288.0    21.949119    4.354961   \n",
       "secondary_cleaner_state_floatbank2_b_level  5290.0  -501.987097   34.582722   \n",
       "secondary_cleaner_state_floatbank3_a_air    5281.0    25.402926    6.526457   \n",
       "secondary_cleaner_state_floatbank3_a_level  5290.0  -507.490314   47.620908   \n",
       "secondary_cleaner_state_floatbank3_b_air    5290.0    20.982108    6.736179   \n",
       "secondary_cleaner_state_floatbank3_b_level  5290.0  -506.627916   44.528673   \n",
       "secondary_cleaner_state_floatbank4_a_air    5290.0    16.320074    3.493583   \n",
       "secondary_cleaner_state_floatbank4_a_level  5290.0  -505.144570   31.427337   \n",
       "secondary_cleaner_state_floatbank4_b_air    5290.0    13.735444    3.430484   \n",
       "secondary_cleaner_state_floatbank4_b_level  5290.0  -463.349858   86.189107   \n",
       "secondary_cleaner_state_floatbank5_a_air    5290.0    12.804186    3.026591   \n",
       "secondary_cleaner_state_floatbank5_a_level  5290.0  -501.329122   17.951495   \n",
       "secondary_cleaner_state_floatbank5_b_air    5290.0     9.881145    2.868205   \n",
       "secondary_cleaner_state_floatbank5_b_level  5290.0  -495.663398   34.535007   \n",
       "secondary_cleaner_state_floatbank6_a_air    5290.0    17.304935    4.536544   \n",
       "secondary_cleaner_state_floatbank6_a_level  5290.0  -501.793193   39.044215   \n",
       "\n",
       "                                                     min          25%  \\\n",
       "primary_cleaner_input_sulfate               2.566156e+00   147.121401   \n",
       "primary_cleaner_input_depressant            3.839482e-03     6.489555   \n",
       "primary_cleaner_input_feed_size             5.650000e+00     6.890000   \n",
       "primary_cleaner_input_xanthate              4.983673e-03     0.907623   \n",
       "primary_cleaner_state_floatbank8_a_air      5.445860e-32  1498.935802   \n",
       "primary_cleaner_state_floatbank8_a_level   -7.953163e+02  -500.357298   \n",
       "primary_cleaner_state_floatbank8_b_air      6.647490e-32  1498.970993   \n",
       "primary_cleaner_state_floatbank8_b_level   -7.999970e+02  -500.703002   \n",
       "primary_cleaner_state_floatbank8_c_air      4.033736e-32  1473.229862   \n",
       "primary_cleaner_state_floatbank8_c_level   -7.999606e+02  -501.018117   \n",
       "primary_cleaner_state_floatbank8_d_air      4.039220e-32  1499.481404   \n",
       "primary_cleaner_state_floatbank8_d_level   -7.997943e+02  -500.452469   \n",
       "rougher_input_feed_ag                       5.684412e-01     8.112434   \n",
       "rougher_input_feed_pb                       2.736769e-01     3.240251   \n",
       "rougher_input_feed_rate                     2.985849e-03   407.020883   \n",
       "rougher_input_feed_size                     4.636880e-02    43.906347   \n",
       "rougher_input_feed_sol                      1.393488e+00    34.505576   \n",
       "rougher_input_feed_au                       5.686322e-01     8.207814   \n",
       "rougher_input_floatbank10_sulfate           1.147460e-03    11.995006   \n",
       "rougher_input_floatbank10_xanthate          5.682328e-04     5.998779   \n",
       "rougher_input_floatbank11_sulfate           7.673764e-05    11.997200   \n",
       "rougher_input_floatbank11_xanthate          6.985269e-03     5.999157   \n",
       "rougher_state_floatbank10_a_air            -4.206929e-02   999.205344   \n",
       "rougher_state_floatbank10_a_level          -6.579498e+02  -499.920565   \n",
       "rougher_state_floatbank10_b_air            -7.218064e-01  1200.871883   \n",
       "rougher_state_floatbank10_b_level          -6.502453e+02  -500.256114   \n",
       "rougher_state_floatbank10_c_air            -5.663551e-02  1199.651371   \n",
       "rougher_state_floatbank10_c_level          -6.475444e+02  -500.233831   \n",
       "rougher_state_floatbank10_d_air            -9.922190e-01  1093.368068   \n",
       "rougher_state_floatbank10_d_level          -6.483907e+02  -500.440610   \n",
       "rougher_state_floatbank10_e_air            -1.982295e+00   999.361403   \n",
       "rougher_state_floatbank10_e_level          -6.492675e+02  -500.190639   \n",
       "rougher_state_floatbank10_f_air            -2.593390e+00   901.024994   \n",
       "rougher_state_floatbank10_f_level          -6.499493e+02  -500.624783   \n",
       "secondary_cleaner_state_floatbank2_a_air    2.053286e-01    24.942328   \n",
       "secondary_cleaner_state_floatbank2_a_level -7.840911e+02  -500.206517   \n",
       "secondary_cleaner_state_floatbank2_b_air    6.063908e-03    20.002315   \n",
       "secondary_cleaner_state_floatbank2_b_level -7.977840e+02  -500.218030   \n",
       "secondary_cleaner_state_floatbank3_a_air    0.000000e+00    22.982288   \n",
       "secondary_cleaner_state_floatbank3_a_level -7.997558e+02  -500.297951   \n",
       "secondary_cleaner_state_floatbank3_b_air    1.521587e-17    17.967855   \n",
       "secondary_cleaner_state_floatbank3_b_level -8.093330e+02  -500.145128   \n",
       "secondary_cleaner_state_floatbank4_a_air    1.079872e-16    14.036177   \n",
       "secondary_cleaner_state_floatbank4_a_level -7.997985e+02  -500.868258   \n",
       "secondary_cleaner_state_floatbank4_b_air    2.489718e-17    12.028625   \n",
       "secondary_cleaner_state_floatbank4_b_level -8.008369e+02  -500.323028   \n",
       "secondary_cleaner_state_floatbank5_a_air    6.922662e-02    10.914838   \n",
       "secondary_cleaner_state_floatbank5_a_level -7.973240e+02  -500.726841   \n",
       "secondary_cleaner_state_floatbank5_b_air    5.280828e-01     8.036719   \n",
       "secondary_cleaner_state_floatbank5_b_level -8.002203e+02  -500.194668   \n",
       "secondary_cleaner_state_floatbank6_a_air   -7.942623e-02    13.997317   \n",
       "secondary_cleaner_state_floatbank6_a_level -8.097415e+02  -500.690984   \n",
       "\n",
       "                                                    50%          75%  \\\n",
       "primary_cleaner_input_sulfate                177.828489   208.125438   \n",
       "primary_cleaner_input_depressant               8.052207    10.027764   \n",
       "primary_cleaner_input_feed_size                7.250000     7.600000   \n",
       "primary_cleaner_input_xanthate                 1.197610     1.797819   \n",
       "primary_cleaner_state_floatbank8_a_air      1585.129123  1602.076529   \n",
       "primary_cleaner_state_floatbank8_a_level    -499.969164  -499.568951   \n",
       "primary_cleaner_state_floatbank8_b_air      1595.621798  1602.323545   \n",
       "primary_cleaner_state_floatbank8_b_level    -500.028514  -499.293257   \n",
       "primary_cleaner_state_floatbank8_c_air      1549.594682  1601.143775   \n",
       "primary_cleaner_state_floatbank8_c_level    -500.017711  -498.994130   \n",
       "primary_cleaner_state_floatbank8_d_air      1594.579112  1600.964772   \n",
       "primary_cleaner_state_floatbank8_d_level    -500.023307  -499.607040   \n",
       "rougher_input_feed_ag                          9.762654    10.652297   \n",
       "rougher_input_feed_pb                          3.740716     4.282634   \n",
       "rougher_input_feed_rate                      499.051440   575.307213   \n",
       "rougher_input_feed_size                       50.841029    62.431047   \n",
       "rougher_input_feed_sol                        37.980276    41.635385   \n",
       "rougher_input_feed_au                          9.593766    10.463538   \n",
       "rougher_input_floatbank10_sulfate             14.003126    16.974284   \n",
       "rougher_input_floatbank10_xanthate             6.498181     7.085457   \n",
       "rougher_input_floatbank11_sulfate             14.004371    16.959671   \n",
       "rougher_input_floatbank11_xanthate             6.498744     7.091808   \n",
       "rougher_state_floatbank10_a_air             1000.472055  1006.254299   \n",
       "rougher_state_floatbank10_a_level           -399.693363  -300.060056   \n",
       "rougher_state_floatbank10_b_air             1302.254995  1433.955649   \n",
       "rougher_state_floatbank10_b_level           -499.837803  -450.749619   \n",
       "rougher_state_floatbank10_c_air             1300.202274  1406.594956   \n",
       "rougher_state_floatbank10_c_level           -499.777222  -451.153188   \n",
       "rougher_state_floatbank10_d_air             1207.014092  1391.497269   \n",
       "rougher_state_floatbank10_d_level           -499.691917  -452.483463   \n",
       "rougher_state_floatbank10_e_air             1047.495449  1101.365315   \n",
       "rougher_state_floatbank10_e_level           -499.765796  -450.957513   \n",
       "rougher_state_floatbank10_f_air              999.441879  1050.433005   \n",
       "rougher_state_floatbank10_f_level           -499.680986  -451.986460   \n",
       "secondary_cleaner_state_floatbank2_a_air      26.910569    28.091885   \n",
       "secondary_cleaner_state_floatbank2_a_level  -500.003902  -499.791639   \n",
       "secondary_cleaner_state_floatbank2_b_air      22.942603    24.985013   \n",
       "secondary_cleaner_state_floatbank2_b_level  -500.019058  -499.831532   \n",
       "secondary_cleaner_state_floatbank3_a_air      25.010105    30.002063   \n",
       "secondary_cleaner_state_floatbank3_a_level  -500.034578  -499.780163   \n",
       "secondary_cleaner_state_floatbank3_b_air      21.003164    26.976977   \n",
       "secondary_cleaner_state_floatbank3_b_level  -500.013819  -499.890608   \n",
       "secondary_cleaner_state_floatbank4_a_air      17.008468    18.038619   \n",
       "secondary_cleaner_state_floatbank4_a_level  -500.115727  -499.404224   \n",
       "secondary_cleaner_state_floatbank4_b_air      14.964860    15.962125   \n",
       "secondary_cleaner_state_floatbank4_b_level  -499.576513  -400.933805   \n",
       "secondary_cleaner_state_floatbank5_a_air      12.954182    15.097528   \n",
       "secondary_cleaner_state_floatbank5_a_level  -499.990332  -499.283191   \n",
       "secondary_cleaner_state_floatbank5_b_air      10.004301    11.997467   \n",
       "secondary_cleaner_state_floatbank5_b_level  -499.990535  -499.719913   \n",
       "secondary_cleaner_state_floatbank6_a_air      16.014935    21.020013   \n",
       "secondary_cleaner_state_floatbank6_a_level  -500.007126  -499.373018   \n",
       "\n",
       "                                                    max  \n",
       "primary_cleaner_input_sulfate                265.983123  \n",
       "primary_cleaner_input_depressant              40.000000  \n",
       "primary_cleaner_input_feed_size               15.500000  \n",
       "primary_cleaner_input_xanthate                 4.102454  \n",
       "primary_cleaner_state_floatbank8_a_air      2103.103580  \n",
       "primary_cleaner_state_floatbank8_a_level     -57.195404  \n",
       "primary_cleaner_state_floatbank8_b_air      1813.083671  \n",
       "primary_cleaner_state_floatbank8_b_level    -142.527229  \n",
       "primary_cleaner_state_floatbank8_c_air      1715.053773  \n",
       "primary_cleaner_state_floatbank8_c_level    -150.937035  \n",
       "primary_cleaner_state_floatbank8_d_air      1913.256561  \n",
       "primary_cleaner_state_floatbank8_d_level    -158.950573  \n",
       "rougher_input_feed_ag                         14.406130  \n",
       "rougher_input_feed_pb                          6.905684  \n",
       "rougher_input_feed_rate                      707.364020  \n",
       "rougher_input_feed_size                      392.494040  \n",
       "rougher_input_feed_sol                        53.477742  \n",
       "rougher_input_feed_au                         13.731330  \n",
       "rougher_input_floatbank10_sulfate             24.280636  \n",
       "rougher_input_floatbank10_xanthate             8.910468  \n",
       "rougher_input_floatbank11_sulfate             24.280966  \n",
       "rougher_input_floatbank11_xanthate             8.621338  \n",
       "rougher_state_floatbank10_a_air             1423.274687  \n",
       "rougher_state_floatbank10_a_level           -273.776101  \n",
       "rougher_state_floatbank10_b_air             1706.640419  \n",
       "rougher_state_floatbank10_b_level           -298.200051  \n",
       "rougher_state_floatbank10_c_air             1731.017788  \n",
       "rougher_state_floatbank10_c_level           -298.036852  \n",
       "rougher_state_floatbank10_d_air             1775.218584  \n",
       "rougher_state_floatbank10_d_level            -76.397327  \n",
       "rougher_state_floatbank10_e_air             1467.184843  \n",
       "rougher_state_floatbank10_e_level           -139.753025  \n",
       "rougher_state_floatbank10_f_air             1476.588107  \n",
       "rougher_state_floatbank10_f_level           -249.801043  \n",
       "secondary_cleaner_state_floatbank2_a_air      32.138727  \n",
       "secondary_cleaner_state_floatbank2_a_level  -300.343670  \n",
       "secondary_cleaner_state_floatbank2_b_air      28.165864  \n",
       "secondary_cleaner_state_floatbank2_b_level  -211.999273  \n",
       "secondary_cleaner_state_floatbank3_a_air      40.041997  \n",
       "secondary_cleaner_state_floatbank3_a_level  -313.866425  \n",
       "secondary_cleaner_state_floatbank3_b_air      32.039365  \n",
       "secondary_cleaner_state_floatbank3_b_level  -202.277366  \n",
       "secondary_cleaner_state_floatbank4_a_air      30.051797  \n",
       "secondary_cleaner_state_floatbank4_a_level  -401.565212  \n",
       "secondary_cleaner_state_floatbank4_b_air      31.269706  \n",
       "secondary_cleaner_state_floatbank4_b_level    -6.506986  \n",
       "secondary_cleaner_state_floatbank5_a_air      25.258848  \n",
       "secondary_cleaner_state_floatbank5_a_level  -244.483566  \n",
       "secondary_cleaner_state_floatbank5_b_air      14.086866  \n",
       "secondary_cleaner_state_floatbank5_b_level  -137.740004  \n",
       "secondary_cleaner_state_floatbank6_a_air      26.705889  \n",
       "secondary_cleaner_state_floatbank6_a_level  -123.307487  "
      ]
     },
     "metadata": {},
     "output_type": "display_data"
    }
   ],
   "source": [
    "# описательный анализ тестовой выборки\n",
    "check_data(gold_recovery_test)"
   ]
  },
  {
   "cell_type": "code",
   "execution_count": 280,
   "metadata": {
    "colab": {
     "base_uri": "https://localhost:8080/",
     "height": 1000
    },
    "id": "vlQS2dbzit_G",
    "outputId": "0b758417-dbc5-49b9-9dc5-3e12faef3c37"
   },
   "outputs": [
    {
     "name": "stdout",
     "output_type": "stream",
     "text": [
      "\u001b[1mИзучим исходные данные\u001b[0m\n",
      "<class 'pandas.core.frame.DataFrame'>\n",
      "RangeIndex: 14149 entries, 0 to 14148\n",
      "Data columns (total 87 columns):\n",
      " #   Column                                              Non-Null Count  Dtype  \n",
      "---  ------                                              --------------  -----  \n",
      " 0   date                                                14149 non-null  object \n",
      " 1   final_output_concentrate_ag                         14148 non-null  float64\n",
      " 2   final_output_concentrate_pb                         14148 non-null  float64\n",
      " 3   final_output_concentrate_sol                        13938 non-null  float64\n",
      " 4   final_output_concentrate_au                         14149 non-null  float64\n",
      " 5   final_output_recovery                               14149 non-null  float64\n",
      " 6   final_output_tail_ag                                14149 non-null  float64\n",
      " 7   final_output_tail_pb                                14049 non-null  float64\n",
      " 8   final_output_tail_sol                               14144 non-null  float64\n",
      " 9   final_output_tail_au                                14149 non-null  float64\n",
      " 10  primary_cleaner_input_sulfate                       14129 non-null  float64\n",
      " 11  primary_cleaner_input_depressant                    14117 non-null  float64\n",
      " 12  primary_cleaner_input_feed_size                     14149 non-null  float64\n",
      " 13  primary_cleaner_input_xanthate                      14049 non-null  float64\n",
      " 14  primary_cleaner_output_concentrate_ag               14149 non-null  float64\n",
      " 15  primary_cleaner_output_concentrate_pb               14063 non-null  float64\n",
      " 16  primary_cleaner_output_concentrate_sol              13863 non-null  float64\n",
      " 17  primary_cleaner_output_concentrate_au               14149 non-null  float64\n",
      " 18  primary_cleaner_output_tail_ag                      14148 non-null  float64\n",
      " 19  primary_cleaner_output_tail_pb                      14134 non-null  float64\n",
      " 20  primary_cleaner_output_tail_sol                     14103 non-null  float64\n",
      " 21  primary_cleaner_output_tail_au                      14149 non-null  float64\n",
      " 22  primary_cleaner_state_floatbank8_a_air              14145 non-null  float64\n",
      " 23  primary_cleaner_state_floatbank8_a_level            14148 non-null  float64\n",
      " 24  primary_cleaner_state_floatbank8_b_air              14145 non-null  float64\n",
      " 25  primary_cleaner_state_floatbank8_b_level            14148 non-null  float64\n",
      " 26  primary_cleaner_state_floatbank8_c_air              14147 non-null  float64\n",
      " 27  primary_cleaner_state_floatbank8_c_level            14148 non-null  float64\n",
      " 28  primary_cleaner_state_floatbank8_d_air              14146 non-null  float64\n",
      " 29  primary_cleaner_state_floatbank8_d_level            14148 non-null  float64\n",
      " 30  rougher_calculation_sulfate_to_au_concentrate       14148 non-null  float64\n",
      " 31  rougher_calculation_floatbank10_sulfate_to_au_feed  14148 non-null  float64\n",
      " 32  rougher_calculation_floatbank11_sulfate_to_au_feed  14148 non-null  float64\n",
      " 33  rougher_calculation_au_pb_ratio                     14149 non-null  float64\n",
      " 34  rougher_input_feed_ag                               14149 non-null  float64\n",
      " 35  rougher_input_feed_pb                               14049 non-null  float64\n",
      " 36  rougher_input_feed_rate                             14141 non-null  float64\n",
      " 37  rougher_input_feed_size                             14005 non-null  float64\n",
      " 38  rougher_input_feed_sol                              14071 non-null  float64\n",
      " 39  rougher_input_feed_au                               14149 non-null  float64\n",
      " 40  rougher_input_floatbank10_sulfate                   14120 non-null  float64\n",
      " 41  rougher_input_floatbank10_xanthate                  14141 non-null  float64\n",
      " 42  rougher_input_floatbank11_sulfate                   14113 non-null  float64\n",
      " 43  rougher_input_floatbank11_xanthate                  13721 non-null  float64\n",
      " 44  rougher_output_concentrate_ag                       14149 non-null  float64\n",
      " 45  rougher_output_concentrate_pb                       14149 non-null  float64\n",
      " 46  rougher_output_concentrate_sol                      14127 non-null  float64\n",
      " 47  rougher_output_concentrate_au                       14149 non-null  float64\n",
      " 48  rougher_output_recovery                             14149 non-null  float64\n",
      " 49  rougher_output_tail_ag                              14148 non-null  float64\n",
      " 50  rougher_output_tail_pb                              14149 non-null  float64\n",
      " 51  rougher_output_tail_sol                             14149 non-null  float64\n",
      " 52  rougher_output_tail_au                              14149 non-null  float64\n",
      " 53  rougher_state_floatbank10_a_air                     14148 non-null  float64\n",
      " 54  rougher_state_floatbank10_a_level                   14148 non-null  float64\n",
      " 55  rougher_state_floatbank10_b_air                     14148 non-null  float64\n",
      " 56  rougher_state_floatbank10_b_level                   14148 non-null  float64\n",
      " 57  rougher_state_floatbank10_c_air                     14148 non-null  float64\n",
      " 58  rougher_state_floatbank10_c_level                   14148 non-null  float64\n",
      " 59  rougher_state_floatbank10_d_air                     14149 non-null  float64\n",
      " 60  rougher_state_floatbank10_d_level                   14149 non-null  float64\n",
      " 61  rougher_state_floatbank10_e_air                     13713 non-null  float64\n",
      " 62  rougher_state_floatbank10_e_level                   14149 non-null  float64\n",
      " 63  rougher_state_floatbank10_f_air                     14149 non-null  float64\n",
      " 64  rougher_state_floatbank10_f_level                   14149 non-null  float64\n",
      " 65  secondary_cleaner_output_tail_ag                    14147 non-null  float64\n",
      " 66  secondary_cleaner_output_tail_pb                    14139 non-null  float64\n",
      " 67  secondary_cleaner_output_tail_sol                   12544 non-null  float64\n",
      " 68  secondary_cleaner_output_tail_au                    14149 non-null  float64\n",
      " 69  secondary_cleaner_state_floatbank2_a_air            13932 non-null  float64\n",
      " 70  secondary_cleaner_state_floatbank2_a_level          14148 non-null  float64\n",
      " 71  secondary_cleaner_state_floatbank2_b_air            14128 non-null  float64\n",
      " 72  secondary_cleaner_state_floatbank2_b_level          14148 non-null  float64\n",
      " 73  secondary_cleaner_state_floatbank3_a_air            14145 non-null  float64\n",
      " 74  secondary_cleaner_state_floatbank3_a_level          14148 non-null  float64\n",
      " 75  secondary_cleaner_state_floatbank3_b_air            14148 non-null  float64\n",
      " 76  secondary_cleaner_state_floatbank3_b_level          14148 non-null  float64\n",
      " 77  secondary_cleaner_state_floatbank4_a_air            14143 non-null  float64\n",
      " 78  secondary_cleaner_state_floatbank4_a_level          14148 non-null  float64\n",
      " 79  secondary_cleaner_state_floatbank4_b_air            14148 non-null  float64\n",
      " 80  secondary_cleaner_state_floatbank4_b_level          14148 non-null  float64\n",
      " 81  secondary_cleaner_state_floatbank5_a_air            14148 non-null  float64\n",
      " 82  secondary_cleaner_state_floatbank5_a_level          14148 non-null  float64\n",
      " 83  secondary_cleaner_state_floatbank5_b_air            14148 non-null  float64\n",
      " 84  secondary_cleaner_state_floatbank5_b_level          14148 non-null  float64\n",
      " 85  secondary_cleaner_state_floatbank6_a_air            14147 non-null  float64\n",
      " 86  secondary_cleaner_state_floatbank6_a_level          14148 non-null  float64\n",
      "dtypes: float64(86), object(1)\n",
      "memory usage: 9.4+ MB\n",
      "None\n",
      "\u001b[1m\n",
      "Проверка пропусков\u001b[0m\n",
      "Количество пропусков: 4100\n",
      "Доля пропусков: 0.3%\u001b[0m\n",
      "Доля строк содержащих пропуски: 22.1%\n",
      "\u001b[1m\n",
      "Проверка на дубликаты\u001b[0m\n",
      "Количество полных дубликатов:  0\n",
      "\u001b[1m\n",
      "Первые пять строк датасета\u001b[0m\n"
     ]
    },
    {
     "data": {
      "text/html": [
       "<div>\n",
       "<style scoped>\n",
       "    .dataframe tbody tr th:only-of-type {\n",
       "        vertical-align: middle;\n",
       "    }\n",
       "\n",
       "    .dataframe tbody tr th {\n",
       "        vertical-align: top;\n",
       "    }\n",
       "\n",
       "    .dataframe thead th {\n",
       "        text-align: right;\n",
       "    }\n",
       "</style>\n",
       "<table border=\"1\" class=\"dataframe\">\n",
       "  <thead>\n",
       "    <tr style=\"text-align: right;\">\n",
       "      <th></th>\n",
       "      <th>date</th>\n",
       "      <th>final_output_concentrate_ag</th>\n",
       "      <th>final_output_concentrate_pb</th>\n",
       "      <th>final_output_concentrate_sol</th>\n",
       "      <th>final_output_concentrate_au</th>\n",
       "      <th>final_output_recovery</th>\n",
       "      <th>final_output_tail_ag</th>\n",
       "      <th>final_output_tail_pb</th>\n",
       "      <th>final_output_tail_sol</th>\n",
       "      <th>final_output_tail_au</th>\n",
       "      <th>...</th>\n",
       "      <th>secondary_cleaner_state_floatbank4_a_air</th>\n",
       "      <th>secondary_cleaner_state_floatbank4_a_level</th>\n",
       "      <th>secondary_cleaner_state_floatbank4_b_air</th>\n",
       "      <th>secondary_cleaner_state_floatbank4_b_level</th>\n",
       "      <th>secondary_cleaner_state_floatbank5_a_air</th>\n",
       "      <th>secondary_cleaner_state_floatbank5_a_level</th>\n",
       "      <th>secondary_cleaner_state_floatbank5_b_air</th>\n",
       "      <th>secondary_cleaner_state_floatbank5_b_level</th>\n",
       "      <th>secondary_cleaner_state_floatbank6_a_air</th>\n",
       "      <th>secondary_cleaner_state_floatbank6_a_level</th>\n",
       "    </tr>\n",
       "  </thead>\n",
       "  <tbody>\n",
       "    <tr>\n",
       "      <th>0</th>\n",
       "      <td>2016-01-15 00:00:00</td>\n",
       "      <td>6.055403</td>\n",
       "      <td>9.889648</td>\n",
       "      <td>5.507324</td>\n",
       "      <td>42.192020</td>\n",
       "      <td>70.541216</td>\n",
       "      <td>10.411962</td>\n",
       "      <td>0.895447</td>\n",
       "      <td>16.904297</td>\n",
       "      <td>2.143149</td>\n",
       "      <td>...</td>\n",
       "      <td>14.016835</td>\n",
       "      <td>-502.488007</td>\n",
       "      <td>12.099931</td>\n",
       "      <td>-504.715942</td>\n",
       "      <td>9.925633</td>\n",
       "      <td>-498.310211</td>\n",
       "      <td>8.079666</td>\n",
       "      <td>-500.470978</td>\n",
       "      <td>14.151341</td>\n",
       "      <td>-605.841980</td>\n",
       "    </tr>\n",
       "    <tr>\n",
       "      <th>1</th>\n",
       "      <td>2016-01-15 01:00:00</td>\n",
       "      <td>6.029369</td>\n",
       "      <td>9.968944</td>\n",
       "      <td>5.257781</td>\n",
       "      <td>42.701629</td>\n",
       "      <td>69.266198</td>\n",
       "      <td>10.462676</td>\n",
       "      <td>0.927452</td>\n",
       "      <td>16.634514</td>\n",
       "      <td>2.224930</td>\n",
       "      <td>...</td>\n",
       "      <td>13.992281</td>\n",
       "      <td>-505.503262</td>\n",
       "      <td>11.950531</td>\n",
       "      <td>-501.331529</td>\n",
       "      <td>10.039245</td>\n",
       "      <td>-500.169983</td>\n",
       "      <td>7.984757</td>\n",
       "      <td>-500.582168</td>\n",
       "      <td>13.998353</td>\n",
       "      <td>-599.787184</td>\n",
       "    </tr>\n",
       "    <tr>\n",
       "      <th>2</th>\n",
       "      <td>2016-01-15 02:00:00</td>\n",
       "      <td>6.055926</td>\n",
       "      <td>10.213995</td>\n",
       "      <td>5.383759</td>\n",
       "      <td>42.657501</td>\n",
       "      <td>68.116445</td>\n",
       "      <td>10.507046</td>\n",
       "      <td>0.953716</td>\n",
       "      <td>16.208849</td>\n",
       "      <td>2.257889</td>\n",
       "      <td>...</td>\n",
       "      <td>14.015015</td>\n",
       "      <td>-502.520901</td>\n",
       "      <td>11.912783</td>\n",
       "      <td>-501.133383</td>\n",
       "      <td>10.070913</td>\n",
       "      <td>-500.129135</td>\n",
       "      <td>8.013877</td>\n",
       "      <td>-500.517572</td>\n",
       "      <td>14.028663</td>\n",
       "      <td>-601.427363</td>\n",
       "    </tr>\n",
       "    <tr>\n",
       "      <th>3</th>\n",
       "      <td>2016-01-15 03:00:00</td>\n",
       "      <td>6.047977</td>\n",
       "      <td>9.977019</td>\n",
       "      <td>4.858634</td>\n",
       "      <td>42.689819</td>\n",
       "      <td>68.347543</td>\n",
       "      <td>10.422762</td>\n",
       "      <td>0.883763</td>\n",
       "      <td>16.532835</td>\n",
       "      <td>2.146849</td>\n",
       "      <td>...</td>\n",
       "      <td>14.036510</td>\n",
       "      <td>-500.857308</td>\n",
       "      <td>11.999550</td>\n",
       "      <td>-501.193686</td>\n",
       "      <td>9.970366</td>\n",
       "      <td>-499.201640</td>\n",
       "      <td>7.977324</td>\n",
       "      <td>-500.255908</td>\n",
       "      <td>14.005551</td>\n",
       "      <td>-599.996129</td>\n",
       "    </tr>\n",
       "    <tr>\n",
       "      <th>4</th>\n",
       "      <td>2016-01-15 04:00:00</td>\n",
       "      <td>6.148599</td>\n",
       "      <td>10.142511</td>\n",
       "      <td>4.939416</td>\n",
       "      <td>42.774141</td>\n",
       "      <td>66.927016</td>\n",
       "      <td>10.360302</td>\n",
       "      <td>0.792826</td>\n",
       "      <td>16.525686</td>\n",
       "      <td>2.055292</td>\n",
       "      <td>...</td>\n",
       "      <td>14.027298</td>\n",
       "      <td>-499.838632</td>\n",
       "      <td>11.953070</td>\n",
       "      <td>-501.053894</td>\n",
       "      <td>9.925709</td>\n",
       "      <td>-501.686727</td>\n",
       "      <td>7.894242</td>\n",
       "      <td>-500.356035</td>\n",
       "      <td>13.996647</td>\n",
       "      <td>-601.496691</td>\n",
       "    </tr>\n",
       "  </tbody>\n",
       "</table>\n",
       "<p>5 rows × 87 columns</p>\n",
       "</div>"
      ],
      "text/plain": [
       "                  date  final_output_concentrate_ag  \\\n",
       "0  2016-01-15 00:00:00                     6.055403   \n",
       "1  2016-01-15 01:00:00                     6.029369   \n",
       "2  2016-01-15 02:00:00                     6.055926   \n",
       "3  2016-01-15 03:00:00                     6.047977   \n",
       "4  2016-01-15 04:00:00                     6.148599   \n",
       "\n",
       "   final_output_concentrate_pb  final_output_concentrate_sol  \\\n",
       "0                     9.889648                      5.507324   \n",
       "1                     9.968944                      5.257781   \n",
       "2                    10.213995                      5.383759   \n",
       "3                     9.977019                      4.858634   \n",
       "4                    10.142511                      4.939416   \n",
       "\n",
       "   final_output_concentrate_au  final_output_recovery  final_output_tail_ag  \\\n",
       "0                    42.192020              70.541216             10.411962   \n",
       "1                    42.701629              69.266198             10.462676   \n",
       "2                    42.657501              68.116445             10.507046   \n",
       "3                    42.689819              68.347543             10.422762   \n",
       "4                    42.774141              66.927016             10.360302   \n",
       "\n",
       "   final_output_tail_pb  final_output_tail_sol  final_output_tail_au  ...  \\\n",
       "0              0.895447              16.904297              2.143149  ...   \n",
       "1              0.927452              16.634514              2.224930  ...   \n",
       "2              0.953716              16.208849              2.257889  ...   \n",
       "3              0.883763              16.532835              2.146849  ...   \n",
       "4              0.792826              16.525686              2.055292  ...   \n",
       "\n",
       "   secondary_cleaner_state_floatbank4_a_air  \\\n",
       "0                                 14.016835   \n",
       "1                                 13.992281   \n",
       "2                                 14.015015   \n",
       "3                                 14.036510   \n",
       "4                                 14.027298   \n",
       "\n",
       "   secondary_cleaner_state_floatbank4_a_level  \\\n",
       "0                                 -502.488007   \n",
       "1                                 -505.503262   \n",
       "2                                 -502.520901   \n",
       "3                                 -500.857308   \n",
       "4                                 -499.838632   \n",
       "\n",
       "   secondary_cleaner_state_floatbank4_b_air  \\\n",
       "0                                 12.099931   \n",
       "1                                 11.950531   \n",
       "2                                 11.912783   \n",
       "3                                 11.999550   \n",
       "4                                 11.953070   \n",
       "\n",
       "   secondary_cleaner_state_floatbank4_b_level  \\\n",
       "0                                 -504.715942   \n",
       "1                                 -501.331529   \n",
       "2                                 -501.133383   \n",
       "3                                 -501.193686   \n",
       "4                                 -501.053894   \n",
       "\n",
       "   secondary_cleaner_state_floatbank5_a_air  \\\n",
       "0                                  9.925633   \n",
       "1                                 10.039245   \n",
       "2                                 10.070913   \n",
       "3                                  9.970366   \n",
       "4                                  9.925709   \n",
       "\n",
       "   secondary_cleaner_state_floatbank5_a_level  \\\n",
       "0                                 -498.310211   \n",
       "1                                 -500.169983   \n",
       "2                                 -500.129135   \n",
       "3                                 -499.201640   \n",
       "4                                 -501.686727   \n",
       "\n",
       "   secondary_cleaner_state_floatbank5_b_air  \\\n",
       "0                                  8.079666   \n",
       "1                                  7.984757   \n",
       "2                                  8.013877   \n",
       "3                                  7.977324   \n",
       "4                                  7.894242   \n",
       "\n",
       "   secondary_cleaner_state_floatbank5_b_level  \\\n",
       "0                                 -500.470978   \n",
       "1                                 -500.582168   \n",
       "2                                 -500.517572   \n",
       "3                                 -500.255908   \n",
       "4                                 -500.356035   \n",
       "\n",
       "   secondary_cleaner_state_floatbank6_a_air  \\\n",
       "0                                 14.151341   \n",
       "1                                 13.998353   \n",
       "2                                 14.028663   \n",
       "3                                 14.005551   \n",
       "4                                 13.996647   \n",
       "\n",
       "   secondary_cleaner_state_floatbank6_a_level  \n",
       "0                                 -605.841980  \n",
       "1                                 -599.787184  \n",
       "2                                 -601.427363  \n",
       "3                                 -599.996129  \n",
       "4                                 -601.496691  \n",
       "\n",
       "[5 rows x 87 columns]"
      ]
     },
     "metadata": {},
     "output_type": "display_data"
    },
    {
     "name": "stdout",
     "output_type": "stream",
     "text": [
      "\u001b[1m\n",
      "Описание количественных данных:\u001b[0m\n"
     ]
    },
    {
     "data": {
      "text/html": [
       "<div>\n",
       "<style scoped>\n",
       "    .dataframe tbody tr th:only-of-type {\n",
       "        vertical-align: middle;\n",
       "    }\n",
       "\n",
       "    .dataframe tbody tr th {\n",
       "        vertical-align: top;\n",
       "    }\n",
       "\n",
       "    .dataframe thead th {\n",
       "        text-align: right;\n",
       "    }\n",
       "</style>\n",
       "<table border=\"1\" class=\"dataframe\">\n",
       "  <thead>\n",
       "    <tr style=\"text-align: right;\">\n",
       "      <th></th>\n",
       "      <th>count</th>\n",
       "      <th>mean</th>\n",
       "      <th>std</th>\n",
       "      <th>min</th>\n",
       "      <th>25%</th>\n",
       "      <th>50%</th>\n",
       "      <th>75%</th>\n",
       "      <th>max</th>\n",
       "    </tr>\n",
       "  </thead>\n",
       "  <tbody>\n",
       "    <tr>\n",
       "      <th>final_output_concentrate_ag</th>\n",
       "      <td>14148.0</td>\n",
       "      <td>5.142034</td>\n",
       "      <td>1.369586</td>\n",
       "      <td>0.000000</td>\n",
       "      <td>4.211620</td>\n",
       "      <td>4.994652</td>\n",
       "      <td>5.859540</td>\n",
       "      <td>16.001945</td>\n",
       "    </tr>\n",
       "    <tr>\n",
       "      <th>final_output_concentrate_pb</th>\n",
       "      <td>14148.0</td>\n",
       "      <td>10.132960</td>\n",
       "      <td>1.654930</td>\n",
       "      <td>0.000000</td>\n",
       "      <td>9.297355</td>\n",
       "      <td>10.297144</td>\n",
       "      <td>11.170603</td>\n",
       "      <td>17.031899</td>\n",
       "    </tr>\n",
       "    <tr>\n",
       "      <th>final_output_concentrate_sol</th>\n",
       "      <td>13938.0</td>\n",
       "      <td>9.202849</td>\n",
       "      <td>2.790516</td>\n",
       "      <td>0.000000</td>\n",
       "      <td>7.484645</td>\n",
       "      <td>8.845462</td>\n",
       "      <td>10.487508</td>\n",
       "      <td>18.124851</td>\n",
       "    </tr>\n",
       "    <tr>\n",
       "      <th>final_output_concentrate_au</th>\n",
       "      <td>14149.0</td>\n",
       "      <td>44.003792</td>\n",
       "      <td>4.905261</td>\n",
       "      <td>0.000000</td>\n",
       "      <td>43.276111</td>\n",
       "      <td>44.872436</td>\n",
       "      <td>46.166425</td>\n",
       "      <td>52.756638</td>\n",
       "    </tr>\n",
       "    <tr>\n",
       "      <th>final_output_recovery</th>\n",
       "      <td>14149.0</td>\n",
       "      <td>66.518832</td>\n",
       "      <td>10.295402</td>\n",
       "      <td>0.000000</td>\n",
       "      <td>62.545817</td>\n",
       "      <td>67.432775</td>\n",
       "      <td>72.346428</td>\n",
       "      <td>100.000000</td>\n",
       "    </tr>\n",
       "    <tr>\n",
       "      <th>...</th>\n",
       "      <td>...</td>\n",
       "      <td>...</td>\n",
       "      <td>...</td>\n",
       "      <td>...</td>\n",
       "      <td>...</td>\n",
       "      <td>...</td>\n",
       "      <td>...</td>\n",
       "      <td>...</td>\n",
       "    </tr>\n",
       "    <tr>\n",
       "      <th>secondary_cleaner_state_floatbank5_a_level</th>\n",
       "      <td>14148.0</td>\n",
       "      <td>-483.956022</td>\n",
       "      <td>37.892788</td>\n",
       "      <td>-797.142475</td>\n",
       "      <td>-500.363177</td>\n",
       "      <td>-499.702452</td>\n",
       "      <td>-487.712108</td>\n",
       "      <td>-275.073125</td>\n",
       "    </tr>\n",
       "    <tr>\n",
       "      <th>secondary_cleaner_state_floatbank5_b_air</th>\n",
       "      <td>14148.0</td>\n",
       "      <td>13.064590</td>\n",
       "      <td>5.765617</td>\n",
       "      <td>0.646208</td>\n",
       "      <td>8.994405</td>\n",
       "      <td>11.997547</td>\n",
       "      <td>17.982903</td>\n",
       "      <td>27.926001</td>\n",
       "    </tr>\n",
       "    <tr>\n",
       "      <th>secondary_cleaner_state_floatbank5_b_level</th>\n",
       "      <td>14148.0</td>\n",
       "      <td>-483.966564</td>\n",
       "      <td>39.207913</td>\n",
       "      <td>-800.006180</td>\n",
       "      <td>-500.105994</td>\n",
       "      <td>-499.914556</td>\n",
       "      <td>-453.186936</td>\n",
       "      <td>-157.396071</td>\n",
       "    </tr>\n",
       "    <tr>\n",
       "      <th>secondary_cleaner_state_floatbank6_a_air</th>\n",
       "      <td>14147.0</td>\n",
       "      <td>19.577539</td>\n",
       "      <td>5.764417</td>\n",
       "      <td>0.195324</td>\n",
       "      <td>14.989304</td>\n",
       "      <td>19.984175</td>\n",
       "      <td>24.991623</td>\n",
       "      <td>32.188906</td>\n",
       "    </tr>\n",
       "    <tr>\n",
       "      <th>secondary_cleaner_state_floatbank6_a_level</th>\n",
       "      <td>14148.0</td>\n",
       "      <td>-506.798480</td>\n",
       "      <td>37.079249</td>\n",
       "      <td>-809.398668</td>\n",
       "      <td>-500.745104</td>\n",
       "      <td>-500.061431</td>\n",
       "      <td>-499.536466</td>\n",
       "      <td>-104.427459</td>\n",
       "    </tr>\n",
       "  </tbody>\n",
       "</table>\n",
       "<p>86 rows × 8 columns</p>\n",
       "</div>"
      ],
      "text/plain": [
       "                                              count        mean        std  \\\n",
       "final_output_concentrate_ag                 14148.0    5.142034   1.369586   \n",
       "final_output_concentrate_pb                 14148.0   10.132960   1.654930   \n",
       "final_output_concentrate_sol                13938.0    9.202849   2.790516   \n",
       "final_output_concentrate_au                 14149.0   44.003792   4.905261   \n",
       "final_output_recovery                       14149.0   66.518832  10.295402   \n",
       "...                                             ...         ...        ...   \n",
       "secondary_cleaner_state_floatbank5_a_level  14148.0 -483.956022  37.892788   \n",
       "secondary_cleaner_state_floatbank5_b_air    14148.0   13.064590   5.765617   \n",
       "secondary_cleaner_state_floatbank5_b_level  14148.0 -483.966564  39.207913   \n",
       "secondary_cleaner_state_floatbank6_a_air    14147.0   19.577539   5.764417   \n",
       "secondary_cleaner_state_floatbank6_a_level  14148.0 -506.798480  37.079249   \n",
       "\n",
       "                                                   min         25%  \\\n",
       "final_output_concentrate_ag                   0.000000    4.211620   \n",
       "final_output_concentrate_pb                   0.000000    9.297355   \n",
       "final_output_concentrate_sol                  0.000000    7.484645   \n",
       "final_output_concentrate_au                   0.000000   43.276111   \n",
       "final_output_recovery                         0.000000   62.545817   \n",
       "...                                                ...         ...   \n",
       "secondary_cleaner_state_floatbank5_a_level -797.142475 -500.363177   \n",
       "secondary_cleaner_state_floatbank5_b_air      0.646208    8.994405   \n",
       "secondary_cleaner_state_floatbank5_b_level -800.006180 -500.105994   \n",
       "secondary_cleaner_state_floatbank6_a_air      0.195324   14.989304   \n",
       "secondary_cleaner_state_floatbank6_a_level -809.398668 -500.745104   \n",
       "\n",
       "                                                   50%         75%         max  \n",
       "final_output_concentrate_ag                   4.994652    5.859540   16.001945  \n",
       "final_output_concentrate_pb                  10.297144   11.170603   17.031899  \n",
       "final_output_concentrate_sol                  8.845462   10.487508   18.124851  \n",
       "final_output_concentrate_au                  44.872436   46.166425   52.756638  \n",
       "final_output_recovery                        67.432775   72.346428  100.000000  \n",
       "...                                                ...         ...         ...  \n",
       "secondary_cleaner_state_floatbank5_a_level -499.702452 -487.712108 -275.073125  \n",
       "secondary_cleaner_state_floatbank5_b_air     11.997547   17.982903   27.926001  \n",
       "secondary_cleaner_state_floatbank5_b_level -499.914556 -453.186936 -157.396071  \n",
       "secondary_cleaner_state_floatbank6_a_air     19.984175   24.991623   32.188906  \n",
       "secondary_cleaner_state_floatbank6_a_level -500.061431 -499.536466 -104.427459  \n",
       "\n",
       "[86 rows x 8 columns]"
      ]
     },
     "metadata": {},
     "output_type": "display_data"
    }
   ],
   "source": [
    "# описательный анализ обучающей выборки\n",
    "check_data(gold_recovery_train)"
   ]
  },
  {
   "cell_type": "code",
   "execution_count": 281,
   "metadata": {
    "colab": {
     "base_uri": "https://localhost:8080/"
    },
    "id": "Er1Ksiptit_G",
    "outputId": "31cb6237-a056-4e6f-aaee-98914d774d2f"
   },
   "outputs": [
    {
     "data": {
      "text/plain": [
       "['final_output_concentrate_ag',\n",
       " 'final_output_concentrate_pb',\n",
       " 'final_output_concentrate_sol',\n",
       " 'final_output_concentrate_au',\n",
       " 'final_output_recovery',\n",
       " 'final_output_tail_ag',\n",
       " 'final_output_tail_pb',\n",
       " 'final_output_tail_sol',\n",
       " 'final_output_tail_au',\n",
       " 'primary_cleaner_output_concentrate_ag',\n",
       " 'primary_cleaner_output_concentrate_pb',\n",
       " 'primary_cleaner_output_concentrate_sol',\n",
       " 'primary_cleaner_output_concentrate_au',\n",
       " 'primary_cleaner_output_tail_ag',\n",
       " 'primary_cleaner_output_tail_pb',\n",
       " 'primary_cleaner_output_tail_sol',\n",
       " 'primary_cleaner_output_tail_au',\n",
       " 'rougher_calculation_sulfate_to_au_concentrate',\n",
       " 'rougher_calculation_floatbank10_sulfate_to_au_feed',\n",
       " 'rougher_calculation_floatbank11_sulfate_to_au_feed',\n",
       " 'rougher_calculation_au_pb_ratio',\n",
       " 'rougher_output_concentrate_ag',\n",
       " 'rougher_output_concentrate_pb',\n",
       " 'rougher_output_concentrate_sol',\n",
       " 'rougher_output_concentrate_au',\n",
       " 'rougher_output_recovery',\n",
       " 'rougher_output_tail_ag',\n",
       " 'rougher_output_tail_pb',\n",
       " 'rougher_output_tail_sol',\n",
       " 'rougher_output_tail_au',\n",
       " 'secondary_cleaner_output_tail_ag',\n",
       " 'secondary_cleaner_output_tail_pb',\n",
       " 'secondary_cleaner_output_tail_sol',\n",
       " 'secondary_cleaner_output_tail_au']"
      ]
     },
     "execution_count": 281,
     "metadata": {},
     "output_type": "execute_result"
    }
   ],
   "source": [
    "# В тестовой выборке не доступны следующие параметры\n",
    "missing_in_test = [x for x in gold_recovery_full.columns if x not in gold_recovery_test.columns]\n",
    "\n",
    "missing_in_test"
   ]
  },
  {
   "cell_type": "code",
   "execution_count": 282,
   "metadata": {
    "colab": {
     "base_uri": "https://localhost:8080/"
    },
    "id": "ud8grHknit_G",
    "outputId": "1df71823-1d7a-4208-a675-03d30f399a14"
   },
   "outputs": [
    {
     "data": {
      "text/plain": [
       "34"
      ]
     },
     "execution_count": 282,
     "metadata": {},
     "output_type": "execute_result"
    }
   ],
   "source": [
    "len(missing_in_test)"
   ]
  },
  {
   "cell_type": "markdown",
   "metadata": {
    "id": "qvVsjVn9it_G"
   },
   "source": [
    "В тестовой выборке не доступны значения концентратов ag, pb, sol, au (грубых, финальных и после первичного очистителя), \"хвостов\" ag, pb, sol, au (первичных, вторичных, финальных и после первичного очистителя). А также в тестовой выборке отстутсвуют признаки: rougher_calculation_sulfate_to_au_concentrate, rougher_calculation_floatbank10_sulfate_to_au_feed, rougher_calculation_floatbank11_sulfate_to_au_feed. Скорее всего это значения рассчетов, которые рассчитываются позже, во время процесса обогащения. \n",
    "Все признаки, не доступные в тестовой выборке относятся к численные переменным."
   ]
  },
  {
   "cell_type": "markdown",
   "metadata": {
    "id": "_oP1PGDPit_G"
   },
   "source": [
    "Доля строк содержащих пропуски в тестовой выборке достаточно мала (1.2%). Поэтому пропущенные строки можно удалить из датасета."
   ]
  },
  {
   "cell_type": "code",
   "execution_count": 283,
   "metadata": {
    "id": "Ft8DnHsPit_H"
   },
   "outputs": [],
   "source": [
    "gold_recovery_test = gold_recovery_test.dropna()"
   ]
  },
  {
   "cell_type": "code",
   "execution_count": 284,
   "metadata": {
    "colab": {
     "base_uri": "https://localhost:8080/",
     "height": 1000
    },
    "id": "tMokuqF8it_H",
    "outputId": "4bb8d361-0357-4615-ca54-b152c611fa92"
   },
   "outputs": [
    {
     "name": "stdout",
     "output_type": "stream",
     "text": [
      "\u001b[1mИзучим исходные данные\u001b[0m\n",
      "<class 'pandas.core.frame.DataFrame'>\n",
      "Int64Index: 5229 entries, 0 to 5289\n",
      "Data columns (total 53 columns):\n",
      " #   Column                                      Non-Null Count  Dtype  \n",
      "---  ------                                      --------------  -----  \n",
      " 0   date                                        5229 non-null   object \n",
      " 1   primary_cleaner_input_sulfate               5229 non-null   float64\n",
      " 2   primary_cleaner_input_depressant            5229 non-null   float64\n",
      " 3   primary_cleaner_input_feed_size             5229 non-null   float64\n",
      " 4   primary_cleaner_input_xanthate              5229 non-null   float64\n",
      " 5   primary_cleaner_state_floatbank8_a_air      5229 non-null   float64\n",
      " 6   primary_cleaner_state_floatbank8_a_level    5229 non-null   float64\n",
      " 7   primary_cleaner_state_floatbank8_b_air      5229 non-null   float64\n",
      " 8   primary_cleaner_state_floatbank8_b_level    5229 non-null   float64\n",
      " 9   primary_cleaner_state_floatbank8_c_air      5229 non-null   float64\n",
      " 10  primary_cleaner_state_floatbank8_c_level    5229 non-null   float64\n",
      " 11  primary_cleaner_state_floatbank8_d_air      5229 non-null   float64\n",
      " 12  primary_cleaner_state_floatbank8_d_level    5229 non-null   float64\n",
      " 13  rougher_input_feed_ag                       5229 non-null   float64\n",
      " 14  rougher_input_feed_pb                       5229 non-null   float64\n",
      " 15  rougher_input_feed_rate                     5229 non-null   float64\n",
      " 16  rougher_input_feed_size                     5229 non-null   float64\n",
      " 17  rougher_input_feed_sol                      5229 non-null   float64\n",
      " 18  rougher_input_feed_au                       5229 non-null   float64\n",
      " 19  rougher_input_floatbank10_sulfate           5229 non-null   float64\n",
      " 20  rougher_input_floatbank10_xanthate          5229 non-null   float64\n",
      " 21  rougher_input_floatbank11_sulfate           5229 non-null   float64\n",
      " 22  rougher_input_floatbank11_xanthate          5229 non-null   float64\n",
      " 23  rougher_state_floatbank10_a_air             5229 non-null   float64\n",
      " 24  rougher_state_floatbank10_a_level           5229 non-null   float64\n",
      " 25  rougher_state_floatbank10_b_air             5229 non-null   float64\n",
      " 26  rougher_state_floatbank10_b_level           5229 non-null   float64\n",
      " 27  rougher_state_floatbank10_c_air             5229 non-null   float64\n",
      " 28  rougher_state_floatbank10_c_level           5229 non-null   float64\n",
      " 29  rougher_state_floatbank10_d_air             5229 non-null   float64\n",
      " 30  rougher_state_floatbank10_d_level           5229 non-null   float64\n",
      " 31  rougher_state_floatbank10_e_air             5229 non-null   float64\n",
      " 32  rougher_state_floatbank10_e_level           5229 non-null   float64\n",
      " 33  rougher_state_floatbank10_f_air             5229 non-null   float64\n",
      " 34  rougher_state_floatbank10_f_level           5229 non-null   float64\n",
      " 35  secondary_cleaner_state_floatbank2_a_air    5229 non-null   float64\n",
      " 36  secondary_cleaner_state_floatbank2_a_level  5229 non-null   float64\n",
      " 37  secondary_cleaner_state_floatbank2_b_air    5229 non-null   float64\n",
      " 38  secondary_cleaner_state_floatbank2_b_level  5229 non-null   float64\n",
      " 39  secondary_cleaner_state_floatbank3_a_air    5229 non-null   float64\n",
      " 40  secondary_cleaner_state_floatbank3_a_level  5229 non-null   float64\n",
      " 41  secondary_cleaner_state_floatbank3_b_air    5229 non-null   float64\n",
      " 42  secondary_cleaner_state_floatbank3_b_level  5229 non-null   float64\n",
      " 43  secondary_cleaner_state_floatbank4_a_air    5229 non-null   float64\n",
      " 44  secondary_cleaner_state_floatbank4_a_level  5229 non-null   float64\n",
      " 45  secondary_cleaner_state_floatbank4_b_air    5229 non-null   float64\n",
      " 46  secondary_cleaner_state_floatbank4_b_level  5229 non-null   float64\n",
      " 47  secondary_cleaner_state_floatbank5_a_air    5229 non-null   float64\n",
      " 48  secondary_cleaner_state_floatbank5_a_level  5229 non-null   float64\n",
      " 49  secondary_cleaner_state_floatbank5_b_air    5229 non-null   float64\n",
      " 50  secondary_cleaner_state_floatbank5_b_level  5229 non-null   float64\n",
      " 51  secondary_cleaner_state_floatbank6_a_air    5229 non-null   float64\n",
      " 52  secondary_cleaner_state_floatbank6_a_level  5229 non-null   float64\n",
      "dtypes: float64(52), object(1)\n",
      "memory usage: 2.2+ MB\n",
      "None\n",
      "\u001b[1m\n",
      "Проверка пропусков\u001b[0m\n",
      "Количество пропусков: 0\n",
      "Доля пропусков: 0.0%\u001b[0m\n",
      "Доля строк содержащих пропуски: 0.0%\n",
      "\u001b[1m\n",
      "Проверка на дубликаты\u001b[0m\n",
      "Количество полных дубликатов:  0\n",
      "\u001b[1m\n",
      "Первые пять строк датасета\u001b[0m\n"
     ]
    },
    {
     "data": {
      "text/html": [
       "<div>\n",
       "<style scoped>\n",
       "    .dataframe tbody tr th:only-of-type {\n",
       "        vertical-align: middle;\n",
       "    }\n",
       "\n",
       "    .dataframe tbody tr th {\n",
       "        vertical-align: top;\n",
       "    }\n",
       "\n",
       "    .dataframe thead th {\n",
       "        text-align: right;\n",
       "    }\n",
       "</style>\n",
       "<table border=\"1\" class=\"dataframe\">\n",
       "  <thead>\n",
       "    <tr style=\"text-align: right;\">\n",
       "      <th></th>\n",
       "      <th>date</th>\n",
       "      <th>primary_cleaner_input_sulfate</th>\n",
       "      <th>primary_cleaner_input_depressant</th>\n",
       "      <th>primary_cleaner_input_feed_size</th>\n",
       "      <th>primary_cleaner_input_xanthate</th>\n",
       "      <th>primary_cleaner_state_floatbank8_a_air</th>\n",
       "      <th>primary_cleaner_state_floatbank8_a_level</th>\n",
       "      <th>primary_cleaner_state_floatbank8_b_air</th>\n",
       "      <th>primary_cleaner_state_floatbank8_b_level</th>\n",
       "      <th>primary_cleaner_state_floatbank8_c_air</th>\n",
       "      <th>...</th>\n",
       "      <th>secondary_cleaner_state_floatbank4_a_air</th>\n",
       "      <th>secondary_cleaner_state_floatbank4_a_level</th>\n",
       "      <th>secondary_cleaner_state_floatbank4_b_air</th>\n",
       "      <th>secondary_cleaner_state_floatbank4_b_level</th>\n",
       "      <th>secondary_cleaner_state_floatbank5_a_air</th>\n",
       "      <th>secondary_cleaner_state_floatbank5_a_level</th>\n",
       "      <th>secondary_cleaner_state_floatbank5_b_air</th>\n",
       "      <th>secondary_cleaner_state_floatbank5_b_level</th>\n",
       "      <th>secondary_cleaner_state_floatbank6_a_air</th>\n",
       "      <th>secondary_cleaner_state_floatbank6_a_level</th>\n",
       "    </tr>\n",
       "  </thead>\n",
       "  <tbody>\n",
       "    <tr>\n",
       "      <th>0</th>\n",
       "      <td>2016-09-01 00:59:59</td>\n",
       "      <td>210.800909</td>\n",
       "      <td>14.993118</td>\n",
       "      <td>8.080000</td>\n",
       "      <td>1.005021</td>\n",
       "      <td>1398.981301</td>\n",
       "      <td>-500.225577</td>\n",
       "      <td>1399.144926</td>\n",
       "      <td>-499.919735</td>\n",
       "      <td>1400.102998</td>\n",
       "      <td>...</td>\n",
       "      <td>12.023554</td>\n",
       "      <td>-497.795834</td>\n",
       "      <td>8.016656</td>\n",
       "      <td>-501.289139</td>\n",
       "      <td>7.946562</td>\n",
       "      <td>-432.317850</td>\n",
       "      <td>4.872511</td>\n",
       "      <td>-500.037437</td>\n",
       "      <td>26.705889</td>\n",
       "      <td>-499.709414</td>\n",
       "    </tr>\n",
       "    <tr>\n",
       "      <th>1</th>\n",
       "      <td>2016-09-01 01:59:59</td>\n",
       "      <td>215.392455</td>\n",
       "      <td>14.987471</td>\n",
       "      <td>8.080000</td>\n",
       "      <td>0.990469</td>\n",
       "      <td>1398.777912</td>\n",
       "      <td>-500.057435</td>\n",
       "      <td>1398.055362</td>\n",
       "      <td>-499.778182</td>\n",
       "      <td>1396.151033</td>\n",
       "      <td>...</td>\n",
       "      <td>12.058140</td>\n",
       "      <td>-498.695773</td>\n",
       "      <td>8.130979</td>\n",
       "      <td>-499.634209</td>\n",
       "      <td>7.958270</td>\n",
       "      <td>-525.839648</td>\n",
       "      <td>4.878850</td>\n",
       "      <td>-500.162375</td>\n",
       "      <td>25.019940</td>\n",
       "      <td>-499.819438</td>\n",
       "    </tr>\n",
       "    <tr>\n",
       "      <th>2</th>\n",
       "      <td>2016-09-01 02:59:59</td>\n",
       "      <td>215.259946</td>\n",
       "      <td>12.884934</td>\n",
       "      <td>7.786667</td>\n",
       "      <td>0.996043</td>\n",
       "      <td>1398.493666</td>\n",
       "      <td>-500.868360</td>\n",
       "      <td>1398.860436</td>\n",
       "      <td>-499.764529</td>\n",
       "      <td>1398.075709</td>\n",
       "      <td>...</td>\n",
       "      <td>11.962366</td>\n",
       "      <td>-498.767484</td>\n",
       "      <td>8.096893</td>\n",
       "      <td>-500.827423</td>\n",
       "      <td>8.071056</td>\n",
       "      <td>-500.801673</td>\n",
       "      <td>4.905125</td>\n",
       "      <td>-499.828510</td>\n",
       "      <td>24.994862</td>\n",
       "      <td>-500.622559</td>\n",
       "    </tr>\n",
       "    <tr>\n",
       "      <th>3</th>\n",
       "      <td>2016-09-01 03:59:59</td>\n",
       "      <td>215.336236</td>\n",
       "      <td>12.006805</td>\n",
       "      <td>7.640000</td>\n",
       "      <td>0.863514</td>\n",
       "      <td>1399.618111</td>\n",
       "      <td>-498.863574</td>\n",
       "      <td>1397.440120</td>\n",
       "      <td>-499.211024</td>\n",
       "      <td>1400.129303</td>\n",
       "      <td>...</td>\n",
       "      <td>12.033091</td>\n",
       "      <td>-498.350935</td>\n",
       "      <td>8.074946</td>\n",
       "      <td>-499.474407</td>\n",
       "      <td>7.897085</td>\n",
       "      <td>-500.868509</td>\n",
       "      <td>4.931400</td>\n",
       "      <td>-499.963623</td>\n",
       "      <td>24.948919</td>\n",
       "      <td>-498.709987</td>\n",
       "    </tr>\n",
       "    <tr>\n",
       "      <th>4</th>\n",
       "      <td>2016-09-01 04:59:59</td>\n",
       "      <td>199.099327</td>\n",
       "      <td>10.682530</td>\n",
       "      <td>7.530000</td>\n",
       "      <td>0.805575</td>\n",
       "      <td>1401.268123</td>\n",
       "      <td>-500.808305</td>\n",
       "      <td>1398.128818</td>\n",
       "      <td>-499.504543</td>\n",
       "      <td>1402.172226</td>\n",
       "      <td>...</td>\n",
       "      <td>12.025367</td>\n",
       "      <td>-500.786497</td>\n",
       "      <td>8.054678</td>\n",
       "      <td>-500.397500</td>\n",
       "      <td>8.107890</td>\n",
       "      <td>-509.526725</td>\n",
       "      <td>4.957674</td>\n",
       "      <td>-500.360026</td>\n",
       "      <td>25.003331</td>\n",
       "      <td>-500.856333</td>\n",
       "    </tr>\n",
       "  </tbody>\n",
       "</table>\n",
       "<p>5 rows × 53 columns</p>\n",
       "</div>"
      ],
      "text/plain": [
       "                  date  primary_cleaner_input_sulfate  \\\n",
       "0  2016-09-01 00:59:59                     210.800909   \n",
       "1  2016-09-01 01:59:59                     215.392455   \n",
       "2  2016-09-01 02:59:59                     215.259946   \n",
       "3  2016-09-01 03:59:59                     215.336236   \n",
       "4  2016-09-01 04:59:59                     199.099327   \n",
       "\n",
       "   primary_cleaner_input_depressant  primary_cleaner_input_feed_size  \\\n",
       "0                         14.993118                         8.080000   \n",
       "1                         14.987471                         8.080000   \n",
       "2                         12.884934                         7.786667   \n",
       "3                         12.006805                         7.640000   \n",
       "4                         10.682530                         7.530000   \n",
       "\n",
       "   primary_cleaner_input_xanthate  primary_cleaner_state_floatbank8_a_air  \\\n",
       "0                        1.005021                             1398.981301   \n",
       "1                        0.990469                             1398.777912   \n",
       "2                        0.996043                             1398.493666   \n",
       "3                        0.863514                             1399.618111   \n",
       "4                        0.805575                             1401.268123   \n",
       "\n",
       "   primary_cleaner_state_floatbank8_a_level  \\\n",
       "0                               -500.225577   \n",
       "1                               -500.057435   \n",
       "2                               -500.868360   \n",
       "3                               -498.863574   \n",
       "4                               -500.808305   \n",
       "\n",
       "   primary_cleaner_state_floatbank8_b_air  \\\n",
       "0                             1399.144926   \n",
       "1                             1398.055362   \n",
       "2                             1398.860436   \n",
       "3                             1397.440120   \n",
       "4                             1398.128818   \n",
       "\n",
       "   primary_cleaner_state_floatbank8_b_level  \\\n",
       "0                               -499.919735   \n",
       "1                               -499.778182   \n",
       "2                               -499.764529   \n",
       "3                               -499.211024   \n",
       "4                               -499.504543   \n",
       "\n",
       "   primary_cleaner_state_floatbank8_c_air  ...  \\\n",
       "0                             1400.102998  ...   \n",
       "1                             1396.151033  ...   \n",
       "2                             1398.075709  ...   \n",
       "3                             1400.129303  ...   \n",
       "4                             1402.172226  ...   \n",
       "\n",
       "   secondary_cleaner_state_floatbank4_a_air  \\\n",
       "0                                 12.023554   \n",
       "1                                 12.058140   \n",
       "2                                 11.962366   \n",
       "3                                 12.033091   \n",
       "4                                 12.025367   \n",
       "\n",
       "   secondary_cleaner_state_floatbank4_a_level  \\\n",
       "0                                 -497.795834   \n",
       "1                                 -498.695773   \n",
       "2                                 -498.767484   \n",
       "3                                 -498.350935   \n",
       "4                                 -500.786497   \n",
       "\n",
       "   secondary_cleaner_state_floatbank4_b_air  \\\n",
       "0                                  8.016656   \n",
       "1                                  8.130979   \n",
       "2                                  8.096893   \n",
       "3                                  8.074946   \n",
       "4                                  8.054678   \n",
       "\n",
       "   secondary_cleaner_state_floatbank4_b_level  \\\n",
       "0                                 -501.289139   \n",
       "1                                 -499.634209   \n",
       "2                                 -500.827423   \n",
       "3                                 -499.474407   \n",
       "4                                 -500.397500   \n",
       "\n",
       "   secondary_cleaner_state_floatbank5_a_air  \\\n",
       "0                                  7.946562   \n",
       "1                                  7.958270   \n",
       "2                                  8.071056   \n",
       "3                                  7.897085   \n",
       "4                                  8.107890   \n",
       "\n",
       "   secondary_cleaner_state_floatbank5_a_level  \\\n",
       "0                                 -432.317850   \n",
       "1                                 -525.839648   \n",
       "2                                 -500.801673   \n",
       "3                                 -500.868509   \n",
       "4                                 -509.526725   \n",
       "\n",
       "   secondary_cleaner_state_floatbank5_b_air  \\\n",
       "0                                  4.872511   \n",
       "1                                  4.878850   \n",
       "2                                  4.905125   \n",
       "3                                  4.931400   \n",
       "4                                  4.957674   \n",
       "\n",
       "   secondary_cleaner_state_floatbank5_b_level  \\\n",
       "0                                 -500.037437   \n",
       "1                                 -500.162375   \n",
       "2                                 -499.828510   \n",
       "3                                 -499.963623   \n",
       "4                                 -500.360026   \n",
       "\n",
       "   secondary_cleaner_state_floatbank6_a_air  \\\n",
       "0                                 26.705889   \n",
       "1                                 25.019940   \n",
       "2                                 24.994862   \n",
       "3                                 24.948919   \n",
       "4                                 25.003331   \n",
       "\n",
       "   secondary_cleaner_state_floatbank6_a_level  \n",
       "0                                 -499.709414  \n",
       "1                                 -499.819438  \n",
       "2                                 -500.622559  \n",
       "3                                 -498.709987  \n",
       "4                                 -500.856333  \n",
       "\n",
       "[5 rows x 53 columns]"
      ]
     },
     "metadata": {},
     "output_type": "display_data"
    },
    {
     "name": "stdout",
     "output_type": "stream",
     "text": [
      "\u001b[1m\n",
      "Описание количественных данных:\u001b[0m\n"
     ]
    },
    {
     "data": {
      "text/html": [
       "<div>\n",
       "<style scoped>\n",
       "    .dataframe tbody tr th:only-of-type {\n",
       "        vertical-align: middle;\n",
       "    }\n",
       "\n",
       "    .dataframe tbody tr th {\n",
       "        vertical-align: top;\n",
       "    }\n",
       "\n",
       "    .dataframe thead th {\n",
       "        text-align: right;\n",
       "    }\n",
       "</style>\n",
       "<table border=\"1\" class=\"dataframe\">\n",
       "  <thead>\n",
       "    <tr style=\"text-align: right;\">\n",
       "      <th></th>\n",
       "      <th>count</th>\n",
       "      <th>mean</th>\n",
       "      <th>std</th>\n",
       "      <th>min</th>\n",
       "      <th>25%</th>\n",
       "      <th>50%</th>\n",
       "      <th>75%</th>\n",
       "      <th>max</th>\n",
       "    </tr>\n",
       "  </thead>\n",
       "  <tbody>\n",
       "    <tr>\n",
       "      <th>primary_cleaner_input_sulfate</th>\n",
       "      <td>5229.0</td>\n",
       "      <td>175.842593</td>\n",
       "      <td>41.794368</td>\n",
       "      <td>1.788690e+01</td>\n",
       "      <td>147.892868</td>\n",
       "      <td>178.326782</td>\n",
       "      <td>208.365965</td>\n",
       "      <td>265.983123</td>\n",
       "    </tr>\n",
       "    <tr>\n",
       "      <th>primary_cleaner_input_depressant</th>\n",
       "      <td>5229.0</td>\n",
       "      <td>8.714363</td>\n",
       "      <td>3.022147</td>\n",
       "      <td>1.133559e-01</td>\n",
       "      <td>6.494356</td>\n",
       "      <td>8.066361</td>\n",
       "      <td>10.033999</td>\n",
       "      <td>20.046764</td>\n",
       "    </tr>\n",
       "    <tr>\n",
       "      <th>primary_cleaner_input_feed_size</th>\n",
       "      <td>5229.0</td>\n",
       "      <td>7.271546</td>\n",
       "      <td>0.605887</td>\n",
       "      <td>5.650000e+00</td>\n",
       "      <td>6.900000</td>\n",
       "      <td>7.250000</td>\n",
       "      <td>7.600000</td>\n",
       "      <td>15.500000</td>\n",
       "    </tr>\n",
       "    <tr>\n",
       "      <th>primary_cleaner_input_xanthate</th>\n",
       "      <td>5229.0</td>\n",
       "      <td>1.391267</td>\n",
       "      <td>0.640898</td>\n",
       "      <td>2.629347e-02</td>\n",
       "      <td>0.912160</td>\n",
       "      <td>1.198638</td>\n",
       "      <td>1.801643</td>\n",
       "      <td>4.102454</td>\n",
       "    </tr>\n",
       "    <tr>\n",
       "      <th>primary_cleaner_state_floatbank8_a_air</th>\n",
       "      <td>5229.0</td>\n",
       "      <td>1539.976462</td>\n",
       "      <td>111.182711</td>\n",
       "      <td>1.011533e+03</td>\n",
       "      <td>1498.958074</td>\n",
       "      <td>1585.303338</td>\n",
       "      <td>1602.113128</td>\n",
       "      <td>1810.767191</td>\n",
       "    </tr>\n",
       "    <tr>\n",
       "      <th>primary_cleaner_state_floatbank8_a_level</th>\n",
       "      <td>5229.0</td>\n",
       "      <td>-497.767407</td>\n",
       "      <td>18.120451</td>\n",
       "      <td>-7.834486e+02</td>\n",
       "      <td>-500.357716</td>\n",
       "      <td>-499.972297</td>\n",
       "      <td>-499.575397</td>\n",
       "      <td>-57.195404</td>\n",
       "    </tr>\n",
       "    <tr>\n",
       "      <th>primary_cleaner_state_floatbank8_b_air</th>\n",
       "      <td>5229.0</td>\n",
       "      <td>1546.004743</td>\n",
       "      <td>117.787666</td>\n",
       "      <td>1.012934e+03</td>\n",
       "      <td>1498.927702</td>\n",
       "      <td>1595.815696</td>\n",
       "      <td>1602.359135</td>\n",
       "      <td>1813.083671</td>\n",
       "    </tr>\n",
       "    <tr>\n",
       "      <th>primary_cleaner_state_floatbank8_b_level</th>\n",
       "      <td>5229.0</td>\n",
       "      <td>-499.929614</td>\n",
       "      <td>29.847282</td>\n",
       "      <td>-7.997549e+02</td>\n",
       "      <td>-500.700274</td>\n",
       "      <td>-500.031165</td>\n",
       "      <td>-499.303764</td>\n",
       "      <td>-142.527229</td>\n",
       "    </tr>\n",
       "    <tr>\n",
       "      <th>primary_cleaner_state_floatbank8_c_air</th>\n",
       "      <td>5229.0</td>\n",
       "      <td>1529.120511</td>\n",
       "      <td>117.176468</td>\n",
       "      <td>2.120354e+02</td>\n",
       "      <td>1474.759195</td>\n",
       "      <td>1549.773169</td>\n",
       "      <td>1601.221336</td>\n",
       "      <td>1715.053773</td>\n",
       "    </tr>\n",
       "    <tr>\n",
       "      <th>primary_cleaner_state_floatbank8_c_level</th>\n",
       "      <td>5229.0</td>\n",
       "      <td>-498.389260</td>\n",
       "      <td>20.273044</td>\n",
       "      <td>-7.862603e+02</td>\n",
       "      <td>-501.013437</td>\n",
       "      <td>-500.021560</td>\n",
       "      <td>-499.005152</td>\n",
       "      <td>-150.937035</td>\n",
       "    </tr>\n",
       "    <tr>\n",
       "      <th>primary_cleaner_state_floatbank8_d_air</th>\n",
       "      <td>5229.0</td>\n",
       "      <td>1546.308712</td>\n",
       "      <td>118.607852</td>\n",
       "      <td>8.606374e+02</td>\n",
       "      <td>1499.490287</td>\n",
       "      <td>1594.875183</td>\n",
       "      <td>1600.986737</td>\n",
       "      <td>1913.256561</td>\n",
       "    </tr>\n",
       "    <tr>\n",
       "      <th>primary_cleaner_state_floatbank8_d_level</th>\n",
       "      <td>5229.0</td>\n",
       "      <td>-500.305630</td>\n",
       "      <td>29.951649</td>\n",
       "      <td>-7.997916e+02</td>\n",
       "      <td>-500.452867</td>\n",
       "      <td>-500.025307</td>\n",
       "      <td>-499.612588</td>\n",
       "      <td>-158.950573</td>\n",
       "    </tr>\n",
       "    <tr>\n",
       "      <th>rougher_input_feed_ag</th>\n",
       "      <td>5229.0</td>\n",
       "      <td>9.381528</td>\n",
       "      <td>1.919840</td>\n",
       "      <td>2.482557e+00</td>\n",
       "      <td>8.118406</td>\n",
       "      <td>9.767702</td>\n",
       "      <td>10.651787</td>\n",
       "      <td>14.406130</td>\n",
       "    </tr>\n",
       "    <tr>\n",
       "      <th>rougher_input_feed_pb</th>\n",
       "      <td>5229.0</td>\n",
       "      <td>3.802179</td>\n",
       "      <td>0.952552</td>\n",
       "      <td>3.008164e-01</td>\n",
       "      <td>3.242964</td>\n",
       "      <td>3.744082</td>\n",
       "      <td>4.282740</td>\n",
       "      <td>6.905684</td>\n",
       "    </tr>\n",
       "    <tr>\n",
       "      <th>rougher_input_feed_rate</th>\n",
       "      <td>5229.0</td>\n",
       "      <td>491.980347</td>\n",
       "      <td>104.714771</td>\n",
       "      <td>2.985849e-03</td>\n",
       "      <td>409.638286</td>\n",
       "      <td>499.497668</td>\n",
       "      <td>576.389145</td>\n",
       "      <td>707.364020</td>\n",
       "    </tr>\n",
       "    <tr>\n",
       "      <th>rougher_input_feed_size</th>\n",
       "      <td>5229.0</td>\n",
       "      <td>55.863978</td>\n",
       "      <td>18.914656</td>\n",
       "      <td>4.636880e-02</td>\n",
       "      <td>43.911874</td>\n",
       "      <td>50.772729</td>\n",
       "      <td>62.265394</td>\n",
       "      <td>392.494040</td>\n",
       "    </tr>\n",
       "    <tr>\n",
       "      <th>rougher_input_feed_sol</th>\n",
       "      <td>5229.0</td>\n",
       "      <td>37.749588</td>\n",
       "      <td>5.425397</td>\n",
       "      <td>1.716285e+00</td>\n",
       "      <td>34.518615</td>\n",
       "      <td>38.009080</td>\n",
       "      <td>41.635249</td>\n",
       "      <td>53.477742</td>\n",
       "    </tr>\n",
       "    <tr>\n",
       "      <th>rougher_input_feed_au</th>\n",
       "      <td>5229.0</td>\n",
       "      <td>9.349280</td>\n",
       "      <td>1.607407</td>\n",
       "      <td>2.214112e+00</td>\n",
       "      <td>8.228164</td>\n",
       "      <td>9.600153</td>\n",
       "      <td>10.470606</td>\n",
       "      <td>13.731330</td>\n",
       "    </tr>\n",
       "    <tr>\n",
       "      <th>rougher_input_floatbank10_sulfate</th>\n",
       "      <td>5229.0</td>\n",
       "      <td>13.899845</td>\n",
       "      <td>3.310606</td>\n",
       "      <td>8.880633e-03</td>\n",
       "      <td>11.997325</td>\n",
       "      <td>14.004449</td>\n",
       "      <td>16.986358</td>\n",
       "      <td>24.280636</td>\n",
       "    </tr>\n",
       "    <tr>\n",
       "      <th>rougher_input_floatbank10_xanthate</th>\n",
       "      <td>5229.0</td>\n",
       "      <td>6.485941</td>\n",
       "      <td>1.023839</td>\n",
       "      <td>5.682328e-04</td>\n",
       "      <td>5.999138</td>\n",
       "      <td>6.498521</td>\n",
       "      <td>7.094600</td>\n",
       "      <td>8.910468</td>\n",
       "    </tr>\n",
       "    <tr>\n",
       "      <th>rougher_input_floatbank11_sulfate</th>\n",
       "      <td>5229.0</td>\n",
       "      <td>13.996393</td>\n",
       "      <td>3.090414</td>\n",
       "      <td>3.049259e-01</td>\n",
       "      <td>11.998093</td>\n",
       "      <td>14.005714</td>\n",
       "      <td>16.982096</td>\n",
       "      <td>24.280966</td>\n",
       "    </tr>\n",
       "    <tr>\n",
       "      <th>rougher_input_floatbank11_xanthate</th>\n",
       "      <td>5229.0</td>\n",
       "      <td>6.523900</td>\n",
       "      <td>0.856923</td>\n",
       "      <td>1.157303e-01</td>\n",
       "      <td>5.999286</td>\n",
       "      <td>6.498963</td>\n",
       "      <td>7.094474</td>\n",
       "      <td>8.621338</td>\n",
       "    </tr>\n",
       "    <tr>\n",
       "      <th>rougher_state_floatbank10_a_air</th>\n",
       "      <td>5229.0</td>\n",
       "      <td>1053.373799</td>\n",
       "      <td>118.927934</td>\n",
       "      <td>2.991028e+02</td>\n",
       "      <td>999.196947</td>\n",
       "      <td>1000.464333</td>\n",
       "      <td>1006.203472</td>\n",
       "      <td>1423.274687</td>\n",
       "    </tr>\n",
       "    <tr>\n",
       "      <th>rougher_state_floatbank10_a_level</th>\n",
       "      <td>5229.0</td>\n",
       "      <td>-395.944624</td>\n",
       "      <td>91.098813</td>\n",
       "      <td>-6.579498e+02</td>\n",
       "      <td>-499.922557</td>\n",
       "      <td>-399.699193</td>\n",
       "      <td>-300.060049</td>\n",
       "      <td>-273.776101</td>\n",
       "    </tr>\n",
       "    <tr>\n",
       "      <th>rougher_state_floatbank10_b_air</th>\n",
       "      <td>5229.0</td>\n",
       "      <td>1320.312167</td>\n",
       "      <td>154.466869</td>\n",
       "      <td>8.510858e+02</td>\n",
       "      <td>1201.132081</td>\n",
       "      <td>1302.475806</td>\n",
       "      <td>1439.200264</td>\n",
       "      <td>1706.640419</td>\n",
       "    </tr>\n",
       "    <tr>\n",
       "      <th>rougher_state_floatbank10_b_level</th>\n",
       "      <td>5229.0</td>\n",
       "      <td>-475.077414</td>\n",
       "      <td>45.492123</td>\n",
       "      <td>-6.499975e+02</td>\n",
       "      <td>-500.250820</td>\n",
       "      <td>-499.837312</td>\n",
       "      <td>-450.659970</td>\n",
       "      <td>-298.200051</td>\n",
       "    </tr>\n",
       "    <tr>\n",
       "      <th>rougher_state_floatbank10_c_air</th>\n",
       "      <td>5229.0</td>\n",
       "      <td>1303.107650</td>\n",
       "      <td>169.536481</td>\n",
       "      <td>9.022536e+02</td>\n",
       "      <td>1199.773861</td>\n",
       "      <td>1300.517610</td>\n",
       "      <td>1409.926828</td>\n",
       "      <td>1731.017788</td>\n",
       "    </tr>\n",
       "    <tr>\n",
       "      <th>rougher_state_floatbank10_c_level</th>\n",
       "      <td>5229.0</td>\n",
       "      <td>-474.708576</td>\n",
       "      <td>45.771620</td>\n",
       "      <td>-6.403185e+02</td>\n",
       "      <td>-500.232877</td>\n",
       "      <td>-499.776816</td>\n",
       "      <td>-450.964734</td>\n",
       "      <td>-298.036852</td>\n",
       "    </tr>\n",
       "    <tr>\n",
       "      <th>rougher_state_floatbank10_d_air</th>\n",
       "      <td>5229.0</td>\n",
       "      <td>1216.583926</td>\n",
       "      <td>184.325545</td>\n",
       "      <td>7.868880e+02</td>\n",
       "      <td>1096.306967</td>\n",
       "      <td>1207.830752</td>\n",
       "      <td>1392.196692</td>\n",
       "      <td>1775.218584</td>\n",
       "    </tr>\n",
       "    <tr>\n",
       "      <th>rougher_state_floatbank10_d_level</th>\n",
       "      <td>5229.0</td>\n",
       "      <td>-475.659210</td>\n",
       "      <td>47.541651</td>\n",
       "      <td>-6.483907e+02</td>\n",
       "      <td>-500.435694</td>\n",
       "      <td>-499.688200</td>\n",
       "      <td>-452.237529</td>\n",
       "      <td>-296.591110</td>\n",
       "    </tr>\n",
       "    <tr>\n",
       "      <th>rougher_state_floatbank10_e_air</th>\n",
       "      <td>5229.0</td>\n",
       "      <td>1057.791366</td>\n",
       "      <td>130.028106</td>\n",
       "      <td>7.821901e+02</td>\n",
       "      <td>999.375998</td>\n",
       "      <td>1047.969630</td>\n",
       "      <td>1101.428745</td>\n",
       "      <td>1467.184843</td>\n",
       "    </tr>\n",
       "    <tr>\n",
       "      <th>rougher_state_floatbank10_e_level</th>\n",
       "      <td>5229.0</td>\n",
       "      <td>-468.892128</td>\n",
       "      <td>59.210960</td>\n",
       "      <td>-5.309265e+02</td>\n",
       "      <td>-500.187586</td>\n",
       "      <td>-499.765953</td>\n",
       "      <td>-450.772161</td>\n",
       "      <td>-295.323395</td>\n",
       "    </tr>\n",
       "    <tr>\n",
       "      <th>rougher_state_floatbank10_f_air</th>\n",
       "      <td>5229.0</td>\n",
       "      <td>999.019749</td>\n",
       "      <td>126.968761</td>\n",
       "      <td>6.963047e+02</td>\n",
       "      <td>901.160439</td>\n",
       "      <td>999.504018</td>\n",
       "      <td>1050.506113</td>\n",
       "      <td>1476.588107</td>\n",
       "    </tr>\n",
       "    <tr>\n",
       "      <th>rougher_state_floatbank10_f_level</th>\n",
       "      <td>5229.0</td>\n",
       "      <td>-470.302255</td>\n",
       "      <td>60.828971</td>\n",
       "      <td>-6.499493e+02</td>\n",
       "      <td>-500.622110</td>\n",
       "      <td>-499.679689</td>\n",
       "      <td>-451.678067</td>\n",
       "      <td>-249.801043</td>\n",
       "    </tr>\n",
       "    <tr>\n",
       "      <th>secondary_cleaner_state_floatbank2_a_air</th>\n",
       "      <td>5229.0</td>\n",
       "      <td>26.333654</td>\n",
       "      <td>3.382966</td>\n",
       "      <td>3.177554e+00</td>\n",
       "      <td>24.943439</td>\n",
       "      <td>26.912524</td>\n",
       "      <td>28.091357</td>\n",
       "      <td>32.138727</td>\n",
       "    </tr>\n",
       "    <tr>\n",
       "      <th>secondary_cleaner_state_floatbank2_a_level</th>\n",
       "      <td>5229.0</td>\n",
       "      <td>-502.587465</td>\n",
       "      <td>28.055459</td>\n",
       "      <td>-7.840911e+02</td>\n",
       "      <td>-500.206206</td>\n",
       "      <td>-500.003844</td>\n",
       "      <td>-499.790513</td>\n",
       "      <td>-300.343670</td>\n",
       "    </tr>\n",
       "    <tr>\n",
       "      <th>secondary_cleaner_state_floatbank2_b_air</th>\n",
       "      <td>5229.0</td>\n",
       "      <td>21.981952</td>\n",
       "      <td>4.304431</td>\n",
       "      <td>8.524422e-03</td>\n",
       "      <td>20.004902</td>\n",
       "      <td>22.944217</td>\n",
       "      <td>24.985000</td>\n",
       "      <td>28.165864</td>\n",
       "    </tr>\n",
       "    <tr>\n",
       "      <th>secondary_cleaner_state_floatbank2_b_level</th>\n",
       "      <td>5229.0</td>\n",
       "      <td>-501.787849</td>\n",
       "      <td>33.853993</td>\n",
       "      <td>-7.977840e+02</td>\n",
       "      <td>-500.218433</td>\n",
       "      <td>-500.019123</td>\n",
       "      <td>-499.831543</td>\n",
       "      <td>-211.999273</td>\n",
       "    </tr>\n",
       "    <tr>\n",
       "      <th>secondary_cleaner_state_floatbank3_a_air</th>\n",
       "      <td>5229.0</td>\n",
       "      <td>25.453806</td>\n",
       "      <td>6.450409</td>\n",
       "      <td>1.957942e-17</td>\n",
       "      <td>22.984447</td>\n",
       "      <td>25.010416</td>\n",
       "      <td>30.002400</td>\n",
       "      <td>40.041997</td>\n",
       "    </tr>\n",
       "    <tr>\n",
       "      <th>secondary_cleaner_state_floatbank3_a_level</th>\n",
       "      <td>5229.0</td>\n",
       "      <td>-506.970992</td>\n",
       "      <td>46.116480</td>\n",
       "      <td>-7.995869e+02</td>\n",
       "      <td>-500.294344</td>\n",
       "      <td>-500.033509</td>\n",
       "      <td>-499.779728</td>\n",
       "      <td>-313.866425</td>\n",
       "    </tr>\n",
       "    <tr>\n",
       "      <th>secondary_cleaner_state_floatbank3_b_air</th>\n",
       "      <td>5229.0</td>\n",
       "      <td>21.042980</td>\n",
       "      <td>6.694725</td>\n",
       "      <td>1.521587e-17</td>\n",
       "      <td>17.971339</td>\n",
       "      <td>21.011366</td>\n",
       "      <td>26.978289</td>\n",
       "      <td>32.039365</td>\n",
       "    </tr>\n",
       "    <tr>\n",
       "      <th>secondary_cleaner_state_floatbank3_b_level</th>\n",
       "      <td>5229.0</td>\n",
       "      <td>-506.079445</td>\n",
       "      <td>42.818358</td>\n",
       "      <td>-8.091069e+02</td>\n",
       "      <td>-500.143605</td>\n",
       "      <td>-500.013042</td>\n",
       "      <td>-499.889676</td>\n",
       "      <td>-202.277366</td>\n",
       "    </tr>\n",
       "    <tr>\n",
       "      <th>secondary_cleaner_state_floatbank4_a_air</th>\n",
       "      <td>5229.0</td>\n",
       "      <td>16.324610</td>\n",
       "      <td>3.467915</td>\n",
       "      <td>1.079872e-16</td>\n",
       "      <td>14.040840</td>\n",
       "      <td>17.008338</td>\n",
       "      <td>18.036945</td>\n",
       "      <td>30.051797</td>\n",
       "    </tr>\n",
       "    <tr>\n",
       "      <th>secondary_cleaner_state_floatbank4_a_level</th>\n",
       "      <td>5229.0</td>\n",
       "      <td>-504.933152</td>\n",
       "      <td>30.481384</td>\n",
       "      <td>-7.997057e+02</td>\n",
       "      <td>-500.865209</td>\n",
       "      <td>-500.115977</td>\n",
       "      <td>-499.405644</td>\n",
       "      <td>-401.565212</td>\n",
       "    </tr>\n",
       "    <tr>\n",
       "      <th>secondary_cleaner_state_floatbank4_b_air</th>\n",
       "      <td>5229.0</td>\n",
       "      <td>13.756036</td>\n",
       "      <td>3.406122</td>\n",
       "      <td>2.489718e-17</td>\n",
       "      <td>12.039313</td>\n",
       "      <td>14.965770</td>\n",
       "      <td>15.964596</td>\n",
       "      <td>31.269706</td>\n",
       "    </tr>\n",
       "    <tr>\n",
       "      <th>secondary_cleaner_state_floatbank4_b_level</th>\n",
       "      <td>5229.0</td>\n",
       "      <td>-463.579964</td>\n",
       "      <td>83.818061</td>\n",
       "      <td>-7.998682e+02</td>\n",
       "      <td>-500.321863</td>\n",
       "      <td>-499.573786</td>\n",
       "      <td>-400.933793</td>\n",
       "      <td>-53.213101</td>\n",
       "    </tr>\n",
       "    <tr>\n",
       "      <th>secondary_cleaner_state_floatbank5_a_air</th>\n",
       "      <td>5229.0</td>\n",
       "      <td>12.834660</td>\n",
       "      <td>3.017829</td>\n",
       "      <td>6.032592e+00</td>\n",
       "      <td>10.916336</td>\n",
       "      <td>12.959740</td>\n",
       "      <td>15.166322</td>\n",
       "      <td>25.258848</td>\n",
       "    </tr>\n",
       "    <tr>\n",
       "      <th>secondary_cleaner_state_floatbank5_a_level</th>\n",
       "      <td>5229.0</td>\n",
       "      <td>-501.122047</td>\n",
       "      <td>16.374196</td>\n",
       "      <td>-7.294758e+02</td>\n",
       "      <td>-500.724468</td>\n",
       "      <td>-499.988941</td>\n",
       "      <td>-499.287458</td>\n",
       "      <td>-244.483566</td>\n",
       "    </tr>\n",
       "    <tr>\n",
       "      <th>secondary_cleaner_state_floatbank5_b_air</th>\n",
       "      <td>5229.0</td>\n",
       "      <td>9.908257</td>\n",
       "      <td>2.859360</td>\n",
       "      <td>2.781642e+00</td>\n",
       "      <td>8.040758</td>\n",
       "      <td>10.008542</td>\n",
       "      <td>11.998487</td>\n",
       "      <td>14.086866</td>\n",
       "    </tr>\n",
       "    <tr>\n",
       "      <th>secondary_cleaner_state_floatbank5_b_level</th>\n",
       "      <td>5229.0</td>\n",
       "      <td>-495.516030</td>\n",
       "      <td>33.787701</td>\n",
       "      <td>-6.140761e+02</td>\n",
       "      <td>-500.194501</td>\n",
       "      <td>-499.990766</td>\n",
       "      <td>-499.721253</td>\n",
       "      <td>-137.740004</td>\n",
       "    </tr>\n",
       "    <tr>\n",
       "      <th>secondary_cleaner_state_floatbank6_a_air</th>\n",
       "      <td>5229.0</td>\n",
       "      <td>17.353128</td>\n",
       "      <td>4.518720</td>\n",
       "      <td>1.273038e-01</td>\n",
       "      <td>13.999761</td>\n",
       "      <td>16.016800</td>\n",
       "      <td>21.022639</td>\n",
       "      <td>26.705889</td>\n",
       "    </tr>\n",
       "    <tr>\n",
       "      <th>secondary_cleaner_state_floatbank6_a_level</th>\n",
       "      <td>5229.0</td>\n",
       "      <td>-501.638807</td>\n",
       "      <td>38.665655</td>\n",
       "      <td>-8.097415e+02</td>\n",
       "      <td>-500.689156</td>\n",
       "      <td>-500.007063</td>\n",
       "      <td>-499.372917</td>\n",
       "      <td>-123.307487</td>\n",
       "    </tr>\n",
       "  </tbody>\n",
       "</table>\n",
       "</div>"
      ],
      "text/plain": [
       "                                             count         mean         std  \\\n",
       "primary_cleaner_input_sulfate               5229.0   175.842593   41.794368   \n",
       "primary_cleaner_input_depressant            5229.0     8.714363    3.022147   \n",
       "primary_cleaner_input_feed_size             5229.0     7.271546    0.605887   \n",
       "primary_cleaner_input_xanthate              5229.0     1.391267    0.640898   \n",
       "primary_cleaner_state_floatbank8_a_air      5229.0  1539.976462  111.182711   \n",
       "primary_cleaner_state_floatbank8_a_level    5229.0  -497.767407   18.120451   \n",
       "primary_cleaner_state_floatbank8_b_air      5229.0  1546.004743  117.787666   \n",
       "primary_cleaner_state_floatbank8_b_level    5229.0  -499.929614   29.847282   \n",
       "primary_cleaner_state_floatbank8_c_air      5229.0  1529.120511  117.176468   \n",
       "primary_cleaner_state_floatbank8_c_level    5229.0  -498.389260   20.273044   \n",
       "primary_cleaner_state_floatbank8_d_air      5229.0  1546.308712  118.607852   \n",
       "primary_cleaner_state_floatbank8_d_level    5229.0  -500.305630   29.951649   \n",
       "rougher_input_feed_ag                       5229.0     9.381528    1.919840   \n",
       "rougher_input_feed_pb                       5229.0     3.802179    0.952552   \n",
       "rougher_input_feed_rate                     5229.0   491.980347  104.714771   \n",
       "rougher_input_feed_size                     5229.0    55.863978   18.914656   \n",
       "rougher_input_feed_sol                      5229.0    37.749588    5.425397   \n",
       "rougher_input_feed_au                       5229.0     9.349280    1.607407   \n",
       "rougher_input_floatbank10_sulfate           5229.0    13.899845    3.310606   \n",
       "rougher_input_floatbank10_xanthate          5229.0     6.485941    1.023839   \n",
       "rougher_input_floatbank11_sulfate           5229.0    13.996393    3.090414   \n",
       "rougher_input_floatbank11_xanthate          5229.0     6.523900    0.856923   \n",
       "rougher_state_floatbank10_a_air             5229.0  1053.373799  118.927934   \n",
       "rougher_state_floatbank10_a_level           5229.0  -395.944624   91.098813   \n",
       "rougher_state_floatbank10_b_air             5229.0  1320.312167  154.466869   \n",
       "rougher_state_floatbank10_b_level           5229.0  -475.077414   45.492123   \n",
       "rougher_state_floatbank10_c_air             5229.0  1303.107650  169.536481   \n",
       "rougher_state_floatbank10_c_level           5229.0  -474.708576   45.771620   \n",
       "rougher_state_floatbank10_d_air             5229.0  1216.583926  184.325545   \n",
       "rougher_state_floatbank10_d_level           5229.0  -475.659210   47.541651   \n",
       "rougher_state_floatbank10_e_air             5229.0  1057.791366  130.028106   \n",
       "rougher_state_floatbank10_e_level           5229.0  -468.892128   59.210960   \n",
       "rougher_state_floatbank10_f_air             5229.0   999.019749  126.968761   \n",
       "rougher_state_floatbank10_f_level           5229.0  -470.302255   60.828971   \n",
       "secondary_cleaner_state_floatbank2_a_air    5229.0    26.333654    3.382966   \n",
       "secondary_cleaner_state_floatbank2_a_level  5229.0  -502.587465   28.055459   \n",
       "secondary_cleaner_state_floatbank2_b_air    5229.0    21.981952    4.304431   \n",
       "secondary_cleaner_state_floatbank2_b_level  5229.0  -501.787849   33.853993   \n",
       "secondary_cleaner_state_floatbank3_a_air    5229.0    25.453806    6.450409   \n",
       "secondary_cleaner_state_floatbank3_a_level  5229.0  -506.970992   46.116480   \n",
       "secondary_cleaner_state_floatbank3_b_air    5229.0    21.042980    6.694725   \n",
       "secondary_cleaner_state_floatbank3_b_level  5229.0  -506.079445   42.818358   \n",
       "secondary_cleaner_state_floatbank4_a_air    5229.0    16.324610    3.467915   \n",
       "secondary_cleaner_state_floatbank4_a_level  5229.0  -504.933152   30.481384   \n",
       "secondary_cleaner_state_floatbank4_b_air    5229.0    13.756036    3.406122   \n",
       "secondary_cleaner_state_floatbank4_b_level  5229.0  -463.579964   83.818061   \n",
       "secondary_cleaner_state_floatbank5_a_air    5229.0    12.834660    3.017829   \n",
       "secondary_cleaner_state_floatbank5_a_level  5229.0  -501.122047   16.374196   \n",
       "secondary_cleaner_state_floatbank5_b_air    5229.0     9.908257    2.859360   \n",
       "secondary_cleaner_state_floatbank5_b_level  5229.0  -495.516030   33.787701   \n",
       "secondary_cleaner_state_floatbank6_a_air    5229.0    17.353128    4.518720   \n",
       "secondary_cleaner_state_floatbank6_a_level  5229.0  -501.638807   38.665655   \n",
       "\n",
       "                                                     min          25%  \\\n",
       "primary_cleaner_input_sulfate               1.788690e+01   147.892868   \n",
       "primary_cleaner_input_depressant            1.133559e-01     6.494356   \n",
       "primary_cleaner_input_feed_size             5.650000e+00     6.900000   \n",
       "primary_cleaner_input_xanthate              2.629347e-02     0.912160   \n",
       "primary_cleaner_state_floatbank8_a_air      1.011533e+03  1498.958074   \n",
       "primary_cleaner_state_floatbank8_a_level   -7.834486e+02  -500.357716   \n",
       "primary_cleaner_state_floatbank8_b_air      1.012934e+03  1498.927702   \n",
       "primary_cleaner_state_floatbank8_b_level   -7.997549e+02  -500.700274   \n",
       "primary_cleaner_state_floatbank8_c_air      2.120354e+02  1474.759195   \n",
       "primary_cleaner_state_floatbank8_c_level   -7.862603e+02  -501.013437   \n",
       "primary_cleaner_state_floatbank8_d_air      8.606374e+02  1499.490287   \n",
       "primary_cleaner_state_floatbank8_d_level   -7.997916e+02  -500.452867   \n",
       "rougher_input_feed_ag                       2.482557e+00     8.118406   \n",
       "rougher_input_feed_pb                       3.008164e-01     3.242964   \n",
       "rougher_input_feed_rate                     2.985849e-03   409.638286   \n",
       "rougher_input_feed_size                     4.636880e-02    43.911874   \n",
       "rougher_input_feed_sol                      1.716285e+00    34.518615   \n",
       "rougher_input_feed_au                       2.214112e+00     8.228164   \n",
       "rougher_input_floatbank10_sulfate           8.880633e-03    11.997325   \n",
       "rougher_input_floatbank10_xanthate          5.682328e-04     5.999138   \n",
       "rougher_input_floatbank11_sulfate           3.049259e-01    11.998093   \n",
       "rougher_input_floatbank11_xanthate          1.157303e-01     5.999286   \n",
       "rougher_state_floatbank10_a_air             2.991028e+02   999.196947   \n",
       "rougher_state_floatbank10_a_level          -6.579498e+02  -499.922557   \n",
       "rougher_state_floatbank10_b_air             8.510858e+02  1201.132081   \n",
       "rougher_state_floatbank10_b_level          -6.499975e+02  -500.250820   \n",
       "rougher_state_floatbank10_c_air             9.022536e+02  1199.773861   \n",
       "rougher_state_floatbank10_c_level          -6.403185e+02  -500.232877   \n",
       "rougher_state_floatbank10_d_air             7.868880e+02  1096.306967   \n",
       "rougher_state_floatbank10_d_level          -6.483907e+02  -500.435694   \n",
       "rougher_state_floatbank10_e_air             7.821901e+02   999.375998   \n",
       "rougher_state_floatbank10_e_level          -5.309265e+02  -500.187586   \n",
       "rougher_state_floatbank10_f_air             6.963047e+02   901.160439   \n",
       "rougher_state_floatbank10_f_level          -6.499493e+02  -500.622110   \n",
       "secondary_cleaner_state_floatbank2_a_air    3.177554e+00    24.943439   \n",
       "secondary_cleaner_state_floatbank2_a_level -7.840911e+02  -500.206206   \n",
       "secondary_cleaner_state_floatbank2_b_air    8.524422e-03    20.004902   \n",
       "secondary_cleaner_state_floatbank2_b_level -7.977840e+02  -500.218433   \n",
       "secondary_cleaner_state_floatbank3_a_air    1.957942e-17    22.984447   \n",
       "secondary_cleaner_state_floatbank3_a_level -7.995869e+02  -500.294344   \n",
       "secondary_cleaner_state_floatbank3_b_air    1.521587e-17    17.971339   \n",
       "secondary_cleaner_state_floatbank3_b_level -8.091069e+02  -500.143605   \n",
       "secondary_cleaner_state_floatbank4_a_air    1.079872e-16    14.040840   \n",
       "secondary_cleaner_state_floatbank4_a_level -7.997057e+02  -500.865209   \n",
       "secondary_cleaner_state_floatbank4_b_air    2.489718e-17    12.039313   \n",
       "secondary_cleaner_state_floatbank4_b_level -7.998682e+02  -500.321863   \n",
       "secondary_cleaner_state_floatbank5_a_air    6.032592e+00    10.916336   \n",
       "secondary_cleaner_state_floatbank5_a_level -7.294758e+02  -500.724468   \n",
       "secondary_cleaner_state_floatbank5_b_air    2.781642e+00     8.040758   \n",
       "secondary_cleaner_state_floatbank5_b_level -6.140761e+02  -500.194501   \n",
       "secondary_cleaner_state_floatbank6_a_air    1.273038e-01    13.999761   \n",
       "secondary_cleaner_state_floatbank6_a_level -8.097415e+02  -500.689156   \n",
       "\n",
       "                                                    50%          75%  \\\n",
       "primary_cleaner_input_sulfate                178.326782   208.365965   \n",
       "primary_cleaner_input_depressant               8.066361    10.033999   \n",
       "primary_cleaner_input_feed_size                7.250000     7.600000   \n",
       "primary_cleaner_input_xanthate                 1.198638     1.801643   \n",
       "primary_cleaner_state_floatbank8_a_air      1585.303338  1602.113128   \n",
       "primary_cleaner_state_floatbank8_a_level    -499.972297  -499.575397   \n",
       "primary_cleaner_state_floatbank8_b_air      1595.815696  1602.359135   \n",
       "primary_cleaner_state_floatbank8_b_level    -500.031165  -499.303764   \n",
       "primary_cleaner_state_floatbank8_c_air      1549.773169  1601.221336   \n",
       "primary_cleaner_state_floatbank8_c_level    -500.021560  -499.005152   \n",
       "primary_cleaner_state_floatbank8_d_air      1594.875183  1600.986737   \n",
       "primary_cleaner_state_floatbank8_d_level    -500.025307  -499.612588   \n",
       "rougher_input_feed_ag                          9.767702    10.651787   \n",
       "rougher_input_feed_pb                          3.744082     4.282740   \n",
       "rougher_input_feed_rate                      499.497668   576.389145   \n",
       "rougher_input_feed_size                       50.772729    62.265394   \n",
       "rougher_input_feed_sol                        38.009080    41.635249   \n",
       "rougher_input_feed_au                          9.600153    10.470606   \n",
       "rougher_input_floatbank10_sulfate             14.004449    16.986358   \n",
       "rougher_input_floatbank10_xanthate             6.498521     7.094600   \n",
       "rougher_input_floatbank11_sulfate             14.005714    16.982096   \n",
       "rougher_input_floatbank11_xanthate             6.498963     7.094474   \n",
       "rougher_state_floatbank10_a_air             1000.464333  1006.203472   \n",
       "rougher_state_floatbank10_a_level           -399.699193  -300.060049   \n",
       "rougher_state_floatbank10_b_air             1302.475806  1439.200264   \n",
       "rougher_state_floatbank10_b_level           -499.837312  -450.659970   \n",
       "rougher_state_floatbank10_c_air             1300.517610  1409.926828   \n",
       "rougher_state_floatbank10_c_level           -499.776816  -450.964734   \n",
       "rougher_state_floatbank10_d_air             1207.830752  1392.196692   \n",
       "rougher_state_floatbank10_d_level           -499.688200  -452.237529   \n",
       "rougher_state_floatbank10_e_air             1047.969630  1101.428745   \n",
       "rougher_state_floatbank10_e_level           -499.765953  -450.772161   \n",
       "rougher_state_floatbank10_f_air              999.504018  1050.506113   \n",
       "rougher_state_floatbank10_f_level           -499.679689  -451.678067   \n",
       "secondary_cleaner_state_floatbank2_a_air      26.912524    28.091357   \n",
       "secondary_cleaner_state_floatbank2_a_level  -500.003844  -499.790513   \n",
       "secondary_cleaner_state_floatbank2_b_air      22.944217    24.985000   \n",
       "secondary_cleaner_state_floatbank2_b_level  -500.019123  -499.831543   \n",
       "secondary_cleaner_state_floatbank3_a_air      25.010416    30.002400   \n",
       "secondary_cleaner_state_floatbank3_a_level  -500.033509  -499.779728   \n",
       "secondary_cleaner_state_floatbank3_b_air      21.011366    26.978289   \n",
       "secondary_cleaner_state_floatbank3_b_level  -500.013042  -499.889676   \n",
       "secondary_cleaner_state_floatbank4_a_air      17.008338    18.036945   \n",
       "secondary_cleaner_state_floatbank4_a_level  -500.115977  -499.405644   \n",
       "secondary_cleaner_state_floatbank4_b_air      14.965770    15.964596   \n",
       "secondary_cleaner_state_floatbank4_b_level  -499.573786  -400.933793   \n",
       "secondary_cleaner_state_floatbank5_a_air      12.959740    15.166322   \n",
       "secondary_cleaner_state_floatbank5_a_level  -499.988941  -499.287458   \n",
       "secondary_cleaner_state_floatbank5_b_air      10.008542    11.998487   \n",
       "secondary_cleaner_state_floatbank5_b_level  -499.990766  -499.721253   \n",
       "secondary_cleaner_state_floatbank6_a_air      16.016800    21.022639   \n",
       "secondary_cleaner_state_floatbank6_a_level  -500.007063  -499.372917   \n",
       "\n",
       "                                                    max  \n",
       "primary_cleaner_input_sulfate                265.983123  \n",
       "primary_cleaner_input_depressant              20.046764  \n",
       "primary_cleaner_input_feed_size               15.500000  \n",
       "primary_cleaner_input_xanthate                 4.102454  \n",
       "primary_cleaner_state_floatbank8_a_air      1810.767191  \n",
       "primary_cleaner_state_floatbank8_a_level     -57.195404  \n",
       "primary_cleaner_state_floatbank8_b_air      1813.083671  \n",
       "primary_cleaner_state_floatbank8_b_level    -142.527229  \n",
       "primary_cleaner_state_floatbank8_c_air      1715.053773  \n",
       "primary_cleaner_state_floatbank8_c_level    -150.937035  \n",
       "primary_cleaner_state_floatbank8_d_air      1913.256561  \n",
       "primary_cleaner_state_floatbank8_d_level    -158.950573  \n",
       "rougher_input_feed_ag                         14.406130  \n",
       "rougher_input_feed_pb                          6.905684  \n",
       "rougher_input_feed_rate                      707.364020  \n",
       "rougher_input_feed_size                      392.494040  \n",
       "rougher_input_feed_sol                        53.477742  \n",
       "rougher_input_feed_au                         13.731330  \n",
       "rougher_input_floatbank10_sulfate             24.280636  \n",
       "rougher_input_floatbank10_xanthate             8.910468  \n",
       "rougher_input_floatbank11_sulfate             24.280966  \n",
       "rougher_input_floatbank11_xanthate             8.621338  \n",
       "rougher_state_floatbank10_a_air             1423.274687  \n",
       "rougher_state_floatbank10_a_level           -273.776101  \n",
       "rougher_state_floatbank10_b_air             1706.640419  \n",
       "rougher_state_floatbank10_b_level           -298.200051  \n",
       "rougher_state_floatbank10_c_air             1731.017788  \n",
       "rougher_state_floatbank10_c_level           -298.036852  \n",
       "rougher_state_floatbank10_d_air             1775.218584  \n",
       "rougher_state_floatbank10_d_level           -296.591110  \n",
       "rougher_state_floatbank10_e_air             1467.184843  \n",
       "rougher_state_floatbank10_e_level           -295.323395  \n",
       "rougher_state_floatbank10_f_air             1476.588107  \n",
       "rougher_state_floatbank10_f_level           -249.801043  \n",
       "secondary_cleaner_state_floatbank2_a_air      32.138727  \n",
       "secondary_cleaner_state_floatbank2_a_level  -300.343670  \n",
       "secondary_cleaner_state_floatbank2_b_air      28.165864  \n",
       "secondary_cleaner_state_floatbank2_b_level  -211.999273  \n",
       "secondary_cleaner_state_floatbank3_a_air      40.041997  \n",
       "secondary_cleaner_state_floatbank3_a_level  -313.866425  \n",
       "secondary_cleaner_state_floatbank3_b_air      32.039365  \n",
       "secondary_cleaner_state_floatbank3_b_level  -202.277366  \n",
       "secondary_cleaner_state_floatbank4_a_air      30.051797  \n",
       "secondary_cleaner_state_floatbank4_a_level  -401.565212  \n",
       "secondary_cleaner_state_floatbank4_b_air      31.269706  \n",
       "secondary_cleaner_state_floatbank4_b_level   -53.213101  \n",
       "secondary_cleaner_state_floatbank5_a_air      25.258848  \n",
       "secondary_cleaner_state_floatbank5_a_level  -244.483566  \n",
       "secondary_cleaner_state_floatbank5_b_air      14.086866  \n",
       "secondary_cleaner_state_floatbank5_b_level  -137.740004  \n",
       "secondary_cleaner_state_floatbank6_a_air      26.705889  \n",
       "secondary_cleaner_state_floatbank6_a_level  -123.307487  "
      ]
     },
     "metadata": {},
     "output_type": "display_data"
    }
   ],
   "source": [
    "# Проверим данные после удаления пропусков\n",
    "check_data(gold_recovery_test)"
   ]
  },
  {
   "cell_type": "markdown",
   "metadata": {
    "id": "RF_wh_G2it_H"
   },
   "source": [
    "По условию задачи сказано что соседние по времени параметры часто похожи, а доля строк содержащих пропуски в обучающей выборке достаточно велика (22.1%). Удаление пропущенных значений приведет к ухудшению качества модели. Поэтому заполним пропущенные значение средним значением ячейки выше и ниже пропущенной."
   ]
  },
  {
   "cell_type": "code",
   "execution_count": 285,
   "metadata": {
    "id": "FPTXgrQtit_H"
   },
   "outputs": [],
   "source": [
    "gold_recovery_train_filled = fill_missing_values(gold_recovery_train)"
   ]
  },
  {
   "cell_type": "code",
   "execution_count": 286,
   "metadata": {
    "colab": {
     "base_uri": "https://localhost:8080/",
     "height": 1000
    },
    "id": "FRwxz9gKit_H",
    "outputId": "a9a06275-17e7-4022-f3f6-ab29fa765e87"
   },
   "outputs": [
    {
     "name": "stdout",
     "output_type": "stream",
     "text": [
      "\u001b[1mИзучим исходные данные\u001b[0m\n",
      "<class 'pandas.core.frame.DataFrame'>\n",
      "RangeIndex: 14149 entries, 0 to 14148\n",
      "Data columns (total 87 columns):\n",
      " #   Column                                              Non-Null Count  Dtype  \n",
      "---  ------                                              --------------  -----  \n",
      " 0   date                                                14149 non-null  object \n",
      " 1   final_output_concentrate_ag                         14149 non-null  float64\n",
      " 2   final_output_concentrate_pb                         14149 non-null  float64\n",
      " 3   final_output_concentrate_sol                        14149 non-null  float64\n",
      " 4   final_output_concentrate_au                         14149 non-null  float64\n",
      " 5   final_output_recovery                               14149 non-null  float64\n",
      " 6   final_output_tail_ag                                14149 non-null  float64\n",
      " 7   final_output_tail_pb                                14149 non-null  float64\n",
      " 8   final_output_tail_sol                               14149 non-null  float64\n",
      " 9   final_output_tail_au                                14149 non-null  float64\n",
      " 10  primary_cleaner_input_sulfate                       14149 non-null  float64\n",
      " 11  primary_cleaner_input_depressant                    14149 non-null  float64\n",
      " 12  primary_cleaner_input_feed_size                     14149 non-null  float64\n",
      " 13  primary_cleaner_input_xanthate                      14149 non-null  float64\n",
      " 14  primary_cleaner_output_concentrate_ag               14149 non-null  float64\n",
      " 15  primary_cleaner_output_concentrate_pb               14149 non-null  float64\n",
      " 16  primary_cleaner_output_concentrate_sol              14149 non-null  float64\n",
      " 17  primary_cleaner_output_concentrate_au               14149 non-null  float64\n",
      " 18  primary_cleaner_output_tail_ag                      14149 non-null  float64\n",
      " 19  primary_cleaner_output_tail_pb                      14149 non-null  float64\n",
      " 20  primary_cleaner_output_tail_sol                     14149 non-null  float64\n",
      " 21  primary_cleaner_output_tail_au                      14149 non-null  float64\n",
      " 22  primary_cleaner_state_floatbank8_a_air              14149 non-null  float64\n",
      " 23  primary_cleaner_state_floatbank8_a_level            14149 non-null  float64\n",
      " 24  primary_cleaner_state_floatbank8_b_air              14149 non-null  float64\n",
      " 25  primary_cleaner_state_floatbank8_b_level            14149 non-null  float64\n",
      " 26  primary_cleaner_state_floatbank8_c_air              14149 non-null  float64\n",
      " 27  primary_cleaner_state_floatbank8_c_level            14149 non-null  float64\n",
      " 28  primary_cleaner_state_floatbank8_d_air              14149 non-null  float64\n",
      " 29  primary_cleaner_state_floatbank8_d_level            14149 non-null  float64\n",
      " 30  rougher_calculation_sulfate_to_au_concentrate       14149 non-null  float64\n",
      " 31  rougher_calculation_floatbank10_sulfate_to_au_feed  14149 non-null  float64\n",
      " 32  rougher_calculation_floatbank11_sulfate_to_au_feed  14149 non-null  float64\n",
      " 33  rougher_calculation_au_pb_ratio                     14149 non-null  float64\n",
      " 34  rougher_input_feed_ag                               14149 non-null  float64\n",
      " 35  rougher_input_feed_pb                               14149 non-null  float64\n",
      " 36  rougher_input_feed_rate                             14149 non-null  float64\n",
      " 37  rougher_input_feed_size                             14149 non-null  float64\n",
      " 38  rougher_input_feed_sol                              14149 non-null  float64\n",
      " 39  rougher_input_feed_au                               14149 non-null  float64\n",
      " 40  rougher_input_floatbank10_sulfate                   14149 non-null  float64\n",
      " 41  rougher_input_floatbank10_xanthate                  14149 non-null  float64\n",
      " 42  rougher_input_floatbank11_sulfate                   14149 non-null  float64\n",
      " 43  rougher_input_floatbank11_xanthate                  14149 non-null  float64\n",
      " 44  rougher_output_concentrate_ag                       14149 non-null  float64\n",
      " 45  rougher_output_concentrate_pb                       14149 non-null  float64\n",
      " 46  rougher_output_concentrate_sol                      14149 non-null  float64\n",
      " 47  rougher_output_concentrate_au                       14149 non-null  float64\n",
      " 48  rougher_output_recovery                             14149 non-null  float64\n",
      " 49  rougher_output_tail_ag                              14149 non-null  float64\n",
      " 50  rougher_output_tail_pb                              14149 non-null  float64\n",
      " 51  rougher_output_tail_sol                             14149 non-null  float64\n",
      " 52  rougher_output_tail_au                              14149 non-null  float64\n",
      " 53  rougher_state_floatbank10_a_air                     14149 non-null  float64\n",
      " 54  rougher_state_floatbank10_a_level                   14149 non-null  float64\n",
      " 55  rougher_state_floatbank10_b_air                     14149 non-null  float64\n",
      " 56  rougher_state_floatbank10_b_level                   14149 non-null  float64\n",
      " 57  rougher_state_floatbank10_c_air                     14149 non-null  float64\n",
      " 58  rougher_state_floatbank10_c_level                   14149 non-null  float64\n",
      " 59  rougher_state_floatbank10_d_air                     14149 non-null  float64\n",
      " 60  rougher_state_floatbank10_d_level                   14149 non-null  float64\n",
      " 61  rougher_state_floatbank10_e_air                     14149 non-null  float64\n",
      " 62  rougher_state_floatbank10_e_level                   14149 non-null  float64\n",
      " 63  rougher_state_floatbank10_f_air                     14149 non-null  float64\n",
      " 64  rougher_state_floatbank10_f_level                   14149 non-null  float64\n",
      " 65  secondary_cleaner_output_tail_ag                    14149 non-null  float64\n",
      " 66  secondary_cleaner_output_tail_pb                    14149 non-null  float64\n",
      " 67  secondary_cleaner_output_tail_sol                   14149 non-null  float64\n",
      " 68  secondary_cleaner_output_tail_au                    14149 non-null  float64\n",
      " 69  secondary_cleaner_state_floatbank2_a_air            14149 non-null  float64\n",
      " 70  secondary_cleaner_state_floatbank2_a_level          14149 non-null  float64\n",
      " 71  secondary_cleaner_state_floatbank2_b_air            14149 non-null  float64\n",
      " 72  secondary_cleaner_state_floatbank2_b_level          14149 non-null  float64\n",
      " 73  secondary_cleaner_state_floatbank3_a_air            14149 non-null  float64\n",
      " 74  secondary_cleaner_state_floatbank3_a_level          14149 non-null  float64\n",
      " 75  secondary_cleaner_state_floatbank3_b_air            14149 non-null  float64\n",
      " 76  secondary_cleaner_state_floatbank3_b_level          14149 non-null  float64\n",
      " 77  secondary_cleaner_state_floatbank4_a_air            14149 non-null  float64\n",
      " 78  secondary_cleaner_state_floatbank4_a_level          14149 non-null  float64\n",
      " 79  secondary_cleaner_state_floatbank4_b_air            14149 non-null  float64\n",
      " 80  secondary_cleaner_state_floatbank4_b_level          14149 non-null  float64\n",
      " 81  secondary_cleaner_state_floatbank5_a_air            14149 non-null  float64\n",
      " 82  secondary_cleaner_state_floatbank5_a_level          14149 non-null  float64\n",
      " 83  secondary_cleaner_state_floatbank5_b_air            14149 non-null  float64\n",
      " 84  secondary_cleaner_state_floatbank5_b_level          14149 non-null  float64\n",
      " 85  secondary_cleaner_state_floatbank6_a_air            14149 non-null  float64\n",
      " 86  secondary_cleaner_state_floatbank6_a_level          14149 non-null  float64\n",
      "dtypes: float64(86), object(1)\n",
      "memory usage: 9.4+ MB\n",
      "None\n",
      "\u001b[1m\n",
      "Проверка пропусков\u001b[0m\n",
      "Количество пропусков: 0\n",
      "Доля пропусков: 0.0%\u001b[0m\n",
      "Доля строк содержащих пропуски: 0.0%\n",
      "\u001b[1m\n",
      "Проверка на дубликаты\u001b[0m\n",
      "Количество полных дубликатов:  0\n",
      "\u001b[1m\n",
      "Первые пять строк датасета\u001b[0m\n"
     ]
    },
    {
     "data": {
      "text/html": [
       "<div>\n",
       "<style scoped>\n",
       "    .dataframe tbody tr th:only-of-type {\n",
       "        vertical-align: middle;\n",
       "    }\n",
       "\n",
       "    .dataframe tbody tr th {\n",
       "        vertical-align: top;\n",
       "    }\n",
       "\n",
       "    .dataframe thead th {\n",
       "        text-align: right;\n",
       "    }\n",
       "</style>\n",
       "<table border=\"1\" class=\"dataframe\">\n",
       "  <thead>\n",
       "    <tr style=\"text-align: right;\">\n",
       "      <th></th>\n",
       "      <th>date</th>\n",
       "      <th>final_output_concentrate_ag</th>\n",
       "      <th>final_output_concentrate_pb</th>\n",
       "      <th>final_output_concentrate_sol</th>\n",
       "      <th>final_output_concentrate_au</th>\n",
       "      <th>final_output_recovery</th>\n",
       "      <th>final_output_tail_ag</th>\n",
       "      <th>final_output_tail_pb</th>\n",
       "      <th>final_output_tail_sol</th>\n",
       "      <th>final_output_tail_au</th>\n",
       "      <th>...</th>\n",
       "      <th>secondary_cleaner_state_floatbank4_a_air</th>\n",
       "      <th>secondary_cleaner_state_floatbank4_a_level</th>\n",
       "      <th>secondary_cleaner_state_floatbank4_b_air</th>\n",
       "      <th>secondary_cleaner_state_floatbank4_b_level</th>\n",
       "      <th>secondary_cleaner_state_floatbank5_a_air</th>\n",
       "      <th>secondary_cleaner_state_floatbank5_a_level</th>\n",
       "      <th>secondary_cleaner_state_floatbank5_b_air</th>\n",
       "      <th>secondary_cleaner_state_floatbank5_b_level</th>\n",
       "      <th>secondary_cleaner_state_floatbank6_a_air</th>\n",
       "      <th>secondary_cleaner_state_floatbank6_a_level</th>\n",
       "    </tr>\n",
       "  </thead>\n",
       "  <tbody>\n",
       "    <tr>\n",
       "      <th>0</th>\n",
       "      <td>2016-01-15 00:00:00</td>\n",
       "      <td>6.055403</td>\n",
       "      <td>9.889648</td>\n",
       "      <td>5.507324</td>\n",
       "      <td>42.192020</td>\n",
       "      <td>70.541216</td>\n",
       "      <td>10.411962</td>\n",
       "      <td>0.895447</td>\n",
       "      <td>16.904297</td>\n",
       "      <td>2.143149</td>\n",
       "      <td>...</td>\n",
       "      <td>14.016835</td>\n",
       "      <td>-502.488007</td>\n",
       "      <td>12.099931</td>\n",
       "      <td>-504.715942</td>\n",
       "      <td>9.925633</td>\n",
       "      <td>-498.310211</td>\n",
       "      <td>8.079666</td>\n",
       "      <td>-500.470978</td>\n",
       "      <td>14.151341</td>\n",
       "      <td>-605.841980</td>\n",
       "    </tr>\n",
       "    <tr>\n",
       "      <th>1</th>\n",
       "      <td>2016-01-15 01:00:00</td>\n",
       "      <td>6.029369</td>\n",
       "      <td>9.968944</td>\n",
       "      <td>5.257781</td>\n",
       "      <td>42.701629</td>\n",
       "      <td>69.266198</td>\n",
       "      <td>10.462676</td>\n",
       "      <td>0.927452</td>\n",
       "      <td>16.634514</td>\n",
       "      <td>2.224930</td>\n",
       "      <td>...</td>\n",
       "      <td>13.992281</td>\n",
       "      <td>-505.503262</td>\n",
       "      <td>11.950531</td>\n",
       "      <td>-501.331529</td>\n",
       "      <td>10.039245</td>\n",
       "      <td>-500.169983</td>\n",
       "      <td>7.984757</td>\n",
       "      <td>-500.582168</td>\n",
       "      <td>13.998353</td>\n",
       "      <td>-599.787184</td>\n",
       "    </tr>\n",
       "    <tr>\n",
       "      <th>2</th>\n",
       "      <td>2016-01-15 02:00:00</td>\n",
       "      <td>6.055926</td>\n",
       "      <td>10.213995</td>\n",
       "      <td>5.383759</td>\n",
       "      <td>42.657501</td>\n",
       "      <td>68.116445</td>\n",
       "      <td>10.507046</td>\n",
       "      <td>0.953716</td>\n",
       "      <td>16.208849</td>\n",
       "      <td>2.257889</td>\n",
       "      <td>...</td>\n",
       "      <td>14.015015</td>\n",
       "      <td>-502.520901</td>\n",
       "      <td>11.912783</td>\n",
       "      <td>-501.133383</td>\n",
       "      <td>10.070913</td>\n",
       "      <td>-500.129135</td>\n",
       "      <td>8.013877</td>\n",
       "      <td>-500.517572</td>\n",
       "      <td>14.028663</td>\n",
       "      <td>-601.427363</td>\n",
       "    </tr>\n",
       "    <tr>\n",
       "      <th>3</th>\n",
       "      <td>2016-01-15 03:00:00</td>\n",
       "      <td>6.047977</td>\n",
       "      <td>9.977019</td>\n",
       "      <td>4.858634</td>\n",
       "      <td>42.689819</td>\n",
       "      <td>68.347543</td>\n",
       "      <td>10.422762</td>\n",
       "      <td>0.883763</td>\n",
       "      <td>16.532835</td>\n",
       "      <td>2.146849</td>\n",
       "      <td>...</td>\n",
       "      <td>14.036510</td>\n",
       "      <td>-500.857308</td>\n",
       "      <td>11.999550</td>\n",
       "      <td>-501.193686</td>\n",
       "      <td>9.970366</td>\n",
       "      <td>-499.201640</td>\n",
       "      <td>7.977324</td>\n",
       "      <td>-500.255908</td>\n",
       "      <td>14.005551</td>\n",
       "      <td>-599.996129</td>\n",
       "    </tr>\n",
       "    <tr>\n",
       "      <th>4</th>\n",
       "      <td>2016-01-15 04:00:00</td>\n",
       "      <td>6.148599</td>\n",
       "      <td>10.142511</td>\n",
       "      <td>4.939416</td>\n",
       "      <td>42.774141</td>\n",
       "      <td>66.927016</td>\n",
       "      <td>10.360302</td>\n",
       "      <td>0.792826</td>\n",
       "      <td>16.525686</td>\n",
       "      <td>2.055292</td>\n",
       "      <td>...</td>\n",
       "      <td>14.027298</td>\n",
       "      <td>-499.838632</td>\n",
       "      <td>11.953070</td>\n",
       "      <td>-501.053894</td>\n",
       "      <td>9.925709</td>\n",
       "      <td>-501.686727</td>\n",
       "      <td>7.894242</td>\n",
       "      <td>-500.356035</td>\n",
       "      <td>13.996647</td>\n",
       "      <td>-601.496691</td>\n",
       "    </tr>\n",
       "  </tbody>\n",
       "</table>\n",
       "<p>5 rows × 87 columns</p>\n",
       "</div>"
      ],
      "text/plain": [
       "                  date  final_output_concentrate_ag  \\\n",
       "0  2016-01-15 00:00:00                     6.055403   \n",
       "1  2016-01-15 01:00:00                     6.029369   \n",
       "2  2016-01-15 02:00:00                     6.055926   \n",
       "3  2016-01-15 03:00:00                     6.047977   \n",
       "4  2016-01-15 04:00:00                     6.148599   \n",
       "\n",
       "   final_output_concentrate_pb  final_output_concentrate_sol  \\\n",
       "0                     9.889648                      5.507324   \n",
       "1                     9.968944                      5.257781   \n",
       "2                    10.213995                      5.383759   \n",
       "3                     9.977019                      4.858634   \n",
       "4                    10.142511                      4.939416   \n",
       "\n",
       "   final_output_concentrate_au  final_output_recovery  final_output_tail_ag  \\\n",
       "0                    42.192020              70.541216             10.411962   \n",
       "1                    42.701629              69.266198             10.462676   \n",
       "2                    42.657501              68.116445             10.507046   \n",
       "3                    42.689819              68.347543             10.422762   \n",
       "4                    42.774141              66.927016             10.360302   \n",
       "\n",
       "   final_output_tail_pb  final_output_tail_sol  final_output_tail_au  ...  \\\n",
       "0              0.895447              16.904297              2.143149  ...   \n",
       "1              0.927452              16.634514              2.224930  ...   \n",
       "2              0.953716              16.208849              2.257889  ...   \n",
       "3              0.883763              16.532835              2.146849  ...   \n",
       "4              0.792826              16.525686              2.055292  ...   \n",
       "\n",
       "   secondary_cleaner_state_floatbank4_a_air  \\\n",
       "0                                 14.016835   \n",
       "1                                 13.992281   \n",
       "2                                 14.015015   \n",
       "3                                 14.036510   \n",
       "4                                 14.027298   \n",
       "\n",
       "   secondary_cleaner_state_floatbank4_a_level  \\\n",
       "0                                 -502.488007   \n",
       "1                                 -505.503262   \n",
       "2                                 -502.520901   \n",
       "3                                 -500.857308   \n",
       "4                                 -499.838632   \n",
       "\n",
       "   secondary_cleaner_state_floatbank4_b_air  \\\n",
       "0                                 12.099931   \n",
       "1                                 11.950531   \n",
       "2                                 11.912783   \n",
       "3                                 11.999550   \n",
       "4                                 11.953070   \n",
       "\n",
       "   secondary_cleaner_state_floatbank4_b_level  \\\n",
       "0                                 -504.715942   \n",
       "1                                 -501.331529   \n",
       "2                                 -501.133383   \n",
       "3                                 -501.193686   \n",
       "4                                 -501.053894   \n",
       "\n",
       "   secondary_cleaner_state_floatbank5_a_air  \\\n",
       "0                                  9.925633   \n",
       "1                                 10.039245   \n",
       "2                                 10.070913   \n",
       "3                                  9.970366   \n",
       "4                                  9.925709   \n",
       "\n",
       "   secondary_cleaner_state_floatbank5_a_level  \\\n",
       "0                                 -498.310211   \n",
       "1                                 -500.169983   \n",
       "2                                 -500.129135   \n",
       "3                                 -499.201640   \n",
       "4                                 -501.686727   \n",
       "\n",
       "   secondary_cleaner_state_floatbank5_b_air  \\\n",
       "0                                  8.079666   \n",
       "1                                  7.984757   \n",
       "2                                  8.013877   \n",
       "3                                  7.977324   \n",
       "4                                  7.894242   \n",
       "\n",
       "   secondary_cleaner_state_floatbank5_b_level  \\\n",
       "0                                 -500.470978   \n",
       "1                                 -500.582168   \n",
       "2                                 -500.517572   \n",
       "3                                 -500.255908   \n",
       "4                                 -500.356035   \n",
       "\n",
       "   secondary_cleaner_state_floatbank6_a_air  \\\n",
       "0                                 14.151341   \n",
       "1                                 13.998353   \n",
       "2                                 14.028663   \n",
       "3                                 14.005551   \n",
       "4                                 13.996647   \n",
       "\n",
       "   secondary_cleaner_state_floatbank6_a_level  \n",
       "0                                 -605.841980  \n",
       "1                                 -599.787184  \n",
       "2                                 -601.427363  \n",
       "3                                 -599.996129  \n",
       "4                                 -601.496691  \n",
       "\n",
       "[5 rows x 87 columns]"
      ]
     },
     "metadata": {},
     "output_type": "display_data"
    },
    {
     "name": "stdout",
     "output_type": "stream",
     "text": [
      "\u001b[1m\n",
      "Описание количественных данных:\u001b[0m\n"
     ]
    },
    {
     "data": {
      "text/html": [
       "<div>\n",
       "<style scoped>\n",
       "    .dataframe tbody tr th:only-of-type {\n",
       "        vertical-align: middle;\n",
       "    }\n",
       "\n",
       "    .dataframe tbody tr th {\n",
       "        vertical-align: top;\n",
       "    }\n",
       "\n",
       "    .dataframe thead th {\n",
       "        text-align: right;\n",
       "    }\n",
       "</style>\n",
       "<table border=\"1\" class=\"dataframe\">\n",
       "  <thead>\n",
       "    <tr style=\"text-align: right;\">\n",
       "      <th></th>\n",
       "      <th>count</th>\n",
       "      <th>mean</th>\n",
       "      <th>std</th>\n",
       "      <th>min</th>\n",
       "      <th>25%</th>\n",
       "      <th>50%</th>\n",
       "      <th>75%</th>\n",
       "      <th>max</th>\n",
       "    </tr>\n",
       "  </thead>\n",
       "  <tbody>\n",
       "    <tr>\n",
       "      <th>final_output_concentrate_ag</th>\n",
       "      <td>14149.0</td>\n",
       "      <td>5.141918</td>\n",
       "      <td>1.369607</td>\n",
       "      <td>0.000000</td>\n",
       "      <td>4.211500</td>\n",
       "      <td>4.994607</td>\n",
       "      <td>5.859495</td>\n",
       "      <td>16.001945</td>\n",
       "    </tr>\n",
       "    <tr>\n",
       "      <th>final_output_concentrate_pb</th>\n",
       "      <td>14149.0</td>\n",
       "      <td>10.132845</td>\n",
       "      <td>1.654928</td>\n",
       "      <td>0.000000</td>\n",
       "      <td>9.296833</td>\n",
       "      <td>10.297013</td>\n",
       "      <td>11.170578</td>\n",
       "      <td>17.031899</td>\n",
       "    </tr>\n",
       "    <tr>\n",
       "      <th>final_output_concentrate_sol</th>\n",
       "      <td>14149.0</td>\n",
       "      <td>9.122861</td>\n",
       "      <td>2.865656</td>\n",
       "      <td>0.000000</td>\n",
       "      <td>7.426626</td>\n",
       "      <td>8.808419</td>\n",
       "      <td>10.457103</td>\n",
       "      <td>18.124851</td>\n",
       "    </tr>\n",
       "    <tr>\n",
       "      <th>final_output_concentrate_au</th>\n",
       "      <td>14149.0</td>\n",
       "      <td>44.003792</td>\n",
       "      <td>4.905261</td>\n",
       "      <td>0.000000</td>\n",
       "      <td>43.276111</td>\n",
       "      <td>44.872436</td>\n",
       "      <td>46.166425</td>\n",
       "      <td>52.756638</td>\n",
       "    </tr>\n",
       "    <tr>\n",
       "      <th>final_output_recovery</th>\n",
       "      <td>14149.0</td>\n",
       "      <td>66.518832</td>\n",
       "      <td>10.295402</td>\n",
       "      <td>0.000000</td>\n",
       "      <td>62.545817</td>\n",
       "      <td>67.432775</td>\n",
       "      <td>72.346428</td>\n",
       "      <td>100.000000</td>\n",
       "    </tr>\n",
       "    <tr>\n",
       "      <th>...</th>\n",
       "      <td>...</td>\n",
       "      <td>...</td>\n",
       "      <td>...</td>\n",
       "      <td>...</td>\n",
       "      <td>...</td>\n",
       "      <td>...</td>\n",
       "      <td>...</td>\n",
       "      <td>...</td>\n",
       "    </tr>\n",
       "    <tr>\n",
       "      <th>secondary_cleaner_state_floatbank5_a_level</th>\n",
       "      <td>14149.0</td>\n",
       "      <td>-483.957101</td>\n",
       "      <td>37.891666</td>\n",
       "      <td>-797.142475</td>\n",
       "      <td>-500.363169</td>\n",
       "      <td>-499.702424</td>\n",
       "      <td>-487.864322</td>\n",
       "      <td>-275.073125</td>\n",
       "    </tr>\n",
       "    <tr>\n",
       "      <th>secondary_cleaner_state_floatbank5_b_air</th>\n",
       "      <td>14149.0</td>\n",
       "      <td>13.064233</td>\n",
       "      <td>5.765570</td>\n",
       "      <td>0.646208</td>\n",
       "      <td>8.994384</td>\n",
       "      <td>11.997537</td>\n",
       "      <td>17.982826</td>\n",
       "      <td>27.926001</td>\n",
       "    </tr>\n",
       "    <tr>\n",
       "      <th>secondary_cleaner_state_floatbank5_b_level</th>\n",
       "      <td>14149.0</td>\n",
       "      <td>-483.967715</td>\n",
       "      <td>39.206766</td>\n",
       "      <td>-800.006180</td>\n",
       "      <td>-500.105994</td>\n",
       "      <td>-499.914556</td>\n",
       "      <td>-453.274822</td>\n",
       "      <td>-157.396071</td>\n",
       "    </tr>\n",
       "    <tr>\n",
       "      <th>secondary_cleaner_state_floatbank6_a_air</th>\n",
       "      <td>14149.0</td>\n",
       "      <td>19.576673</td>\n",
       "      <td>5.764495</td>\n",
       "      <td>0.195324</td>\n",
       "      <td>14.989244</td>\n",
       "      <td>19.984165</td>\n",
       "      <td>24.991615</td>\n",
       "      <td>32.188906</td>\n",
       "    </tr>\n",
       "    <tr>\n",
       "      <th>secondary_cleaner_state_floatbank6_a_level</th>\n",
       "      <td>14149.0</td>\n",
       "      <td>-506.804980</td>\n",
       "      <td>37.085999</td>\n",
       "      <td>-809.398668</td>\n",
       "      <td>-500.745309</td>\n",
       "      <td>-500.061488</td>\n",
       "      <td>-499.536481</td>\n",
       "      <td>-104.427459</td>\n",
       "    </tr>\n",
       "  </tbody>\n",
       "</table>\n",
       "<p>86 rows × 8 columns</p>\n",
       "</div>"
      ],
      "text/plain": [
       "                                              count        mean        std  \\\n",
       "final_output_concentrate_ag                 14149.0    5.141918   1.369607   \n",
       "final_output_concentrate_pb                 14149.0   10.132845   1.654928   \n",
       "final_output_concentrate_sol                14149.0    9.122861   2.865656   \n",
       "final_output_concentrate_au                 14149.0   44.003792   4.905261   \n",
       "final_output_recovery                       14149.0   66.518832  10.295402   \n",
       "...                                             ...         ...        ...   \n",
       "secondary_cleaner_state_floatbank5_a_level  14149.0 -483.957101  37.891666   \n",
       "secondary_cleaner_state_floatbank5_b_air    14149.0   13.064233   5.765570   \n",
       "secondary_cleaner_state_floatbank5_b_level  14149.0 -483.967715  39.206766   \n",
       "secondary_cleaner_state_floatbank6_a_air    14149.0   19.576673   5.764495   \n",
       "secondary_cleaner_state_floatbank6_a_level  14149.0 -506.804980  37.085999   \n",
       "\n",
       "                                                   min         25%  \\\n",
       "final_output_concentrate_ag                   0.000000    4.211500   \n",
       "final_output_concentrate_pb                   0.000000    9.296833   \n",
       "final_output_concentrate_sol                  0.000000    7.426626   \n",
       "final_output_concentrate_au                   0.000000   43.276111   \n",
       "final_output_recovery                         0.000000   62.545817   \n",
       "...                                                ...         ...   \n",
       "secondary_cleaner_state_floatbank5_a_level -797.142475 -500.363169   \n",
       "secondary_cleaner_state_floatbank5_b_air      0.646208    8.994384   \n",
       "secondary_cleaner_state_floatbank5_b_level -800.006180 -500.105994   \n",
       "secondary_cleaner_state_floatbank6_a_air      0.195324   14.989244   \n",
       "secondary_cleaner_state_floatbank6_a_level -809.398668 -500.745309   \n",
       "\n",
       "                                                   50%         75%         max  \n",
       "final_output_concentrate_ag                   4.994607    5.859495   16.001945  \n",
       "final_output_concentrate_pb                  10.297013   11.170578   17.031899  \n",
       "final_output_concentrate_sol                  8.808419   10.457103   18.124851  \n",
       "final_output_concentrate_au                  44.872436   46.166425   52.756638  \n",
       "final_output_recovery                        67.432775   72.346428  100.000000  \n",
       "...                                                ...         ...         ...  \n",
       "secondary_cleaner_state_floatbank5_a_level -499.702424 -487.864322 -275.073125  \n",
       "secondary_cleaner_state_floatbank5_b_air     11.997537   17.982826   27.926001  \n",
       "secondary_cleaner_state_floatbank5_b_level -499.914556 -453.274822 -157.396071  \n",
       "secondary_cleaner_state_floatbank6_a_air     19.984165   24.991615   32.188906  \n",
       "secondary_cleaner_state_floatbank6_a_level -500.061488 -499.536481 -104.427459  \n",
       "\n",
       "[86 rows x 8 columns]"
      ]
     },
     "metadata": {},
     "output_type": "display_data"
    }
   ],
   "source": [
    "# Проверим данные после заполенения пропусков\n",
    "check_data(gold_recovery_train_filled)"
   ]
  },
  {
   "cell_type": "markdown",
   "metadata": {
    "id": "K22Lj0N_it_H"
   },
   "source": [
    "Проверим на сколько изменились средние значения всех столбцов после заполнения пропущенных значений, для этого используем метрику RMSE."
   ]
  },
  {
   "cell_type": "code",
   "execution_count": 287,
   "metadata": {
    "colab": {
     "base_uri": "https://localhost:8080/"
    },
    "id": "XO-mWizpit_H",
    "outputId": "c358f85e-bcd8-4790-b91c-fd30854a57b5"
   },
   "outputs": [
    {
     "name": "stdout",
     "output_type": "stream",
     "text": [
      "0.020645388929935428\n"
     ]
    }
   ],
   "source": [
    "print(mean_squared_error(gold_recovery_train.describe().T['mean'], gold_recovery_train_filled.describe().T['mean']))"
   ]
  },
  {
   "cell_type": "markdown",
   "metadata": {
    "id": "QSQFN0w2it_H"
   },
   "source": [
    "Как видим, средние значение не очень поменялись, значение RMSE всего лишь 0.02. Поэтому для обчуения нашей модели будем использовать датафрейм с заполненными значениями."
   ]
  },
  {
   "cell_type": "markdown",
   "metadata": {
    "id": "vayjAAhvit_H"
   },
   "source": [
    "**Вывод: Данные в датасете обработаны. Был проверен расчет эффективности обогащения, проанализированы признаки. Удалены строки с пропущенными значениями для тестовой выборки, для тренировочной выборки пропущенные значения были заменены на среднее значение ячеек рядом находящихся ячеек (апроксимация), произведена проверка того, что в датасете нету дубликатов. Можно приступать к исследованию.**"
   ]
  },
  {
   "cell_type": "markdown",
   "metadata": {
    "id": "yBuNmegnit_I"
   },
   "source": [
    "## Анализ данных"
   ]
  },
  {
   "cell_type": "markdown",
   "metadata": {
    "id": "vwOrkqxJit_I"
   },
   "source": [
    "Посмотрим, как меняется концентрация металлов (Au, Ag, Pb) на различных этапах очистки.  \n",
    "Для восстановления золота из золотосодержащей руды существует три этапа очистки:\n",
    "* rougher\n",
    "* primary_cleaner\n",
    "* final"
   ]
  },
  {
   "cell_type": "code",
   "execution_count": 288,
   "metadata": {
    "colab": {
     "base_uri": "https://localhost:8080/"
    },
    "id": "0QGwMIi3it_I",
    "outputId": "9e259933-68a7-4850-c70b-95914edfdfc2"
   },
   "outputs": [
    {
     "name": "stdout",
     "output_type": "stream",
     "text": [
      "На этапе rougher_input_feed | концентрация ag: 8.79, концентрация pb: 3.6, концентрация au: 8.27\n",
      "На этапе rougher_output_concentrate | концентрация ag: 11.99, концентрация pb: 7.61, концентрация au: 19.77\n",
      "На этапе primary_cleaner_output_concentrate | концентрация ag: 8.44, концентрация pb: 9.83, концентрация au: 32.12\n",
      "На этапе final_output_concentrate | концентрация ag: 5.17, концентрация pb: 9.98, концентрация au: 44.08\n"
     ]
    }
   ],
   "source": [
    "metals = ['ag', 'pb', 'au']\n",
    "processes = ['rougher_input_feed',\n",
    "             'rougher_output_concentrate',\n",
    "             'primary_cleaner_output_concentrate',\n",
    "             'final_output_concentrate'\n",
    "            ]\n",
    "\n",
    "concentrate_ag_list = []\n",
    "concentrate_pb_list = []\n",
    "concentrate_au_list = []\n",
    "\n",
    "for process in processes:\n",
    "    concentrate_ag = round(gold_recovery_full[process+'_'+metals[0]].mean(), 2)\n",
    "    concentrate_pb = round(gold_recovery_full[process+'_'+metals[1]].mean(), 2)\n",
    "    concentrate_au = round(gold_recovery_full[process+'_'+metals[2]].mean(), 2)\n",
    "    \n",
    "    concentrate_ag_list.append(concentrate_ag)\n",
    "    concentrate_pb_list.append(concentrate_pb)\n",
    "    concentrate_au_list.append(concentrate_au)\n",
    "    \n",
    "    print('На этапе {0} | концентрация {1}: {2}, концентрация {3}: {4}, концентрация {5}: {6}'.format(process,\n",
    "                                                                                                    metals[0],\n",
    "                                                                                                    concentrate_ag,\n",
    "                                                                                                    metals[1],\n",
    "                                                                                                    concentrate_pb,\n",
    "                                                                                                    metals[2],\n",
    "                                                                                                    concentrate_au))"
   ]
  },
  {
   "cell_type": "code",
   "execution_count": 289,
   "metadata": {},
   "outputs": [
    {
     "data": {
      "text/plain": [
       "Text(0.5, 0.98, 'Концентрация металлов')"
      ]
     },
     "execution_count": 289,
     "metadata": {},
     "output_type": "execute_result"
    },
    {
     "data": {
      "image/png": "[encoded data removed]",
      "text/plain": [
       "<Figure size 1080x360 with 3 Axes>"
      ]
     },
     "metadata": {
      "needs_background": "light"
     },
     "output_type": "display_data"
    }
   ],
   "source": [
    "processes = ['сырье', 'грубая очистка', 'первичная очистка', 'конечный продукт']\n",
    "fig, (ax1, ax2, ax3) = plt.subplots(1, 3, figsize=(15, 5))\n",
    "\n",
    "ax1.plot(processes, concentrate_ag_list)\n",
    "ax1.set_title('Серебро')\n",
    "ax1.tick_params(axis='x', labelrotation = 90)\n",
    "\n",
    "ax2.plot(processes, concentrate_pb_list)\n",
    "ax2.set_title('Свинец')\n",
    "ax2.tick_params(axis='x', labelrotation = 90)\n",
    "                \n",
    "ax3.plot(processes, concentrate_au_list)\n",
    "ax3.set_title('Золото')\n",
    "ax3.tick_params(axis='x', labelrotation = 90)                \n",
    "\n",
    "fig.suptitle('Концентрация металлов')"
   ]
  },
  {
   "cell_type": "markdown",
   "metadata": {
    "id": "N8-nmvv2it_I"
   },
   "source": [
    "Как видно из средних значений концентрация металлов концентрация золота растет по мере выполнения технологического процесса, концентрация свинца незначительно растет от этапа к этапу, концентрация серебра же падает."
   ]
  },
  {
   "cell_type": "markdown",
   "metadata": {
    "id": "MqCcok-Vit_I"
   },
   "source": [
    "Рассмотрим размер гранул перед грубой очисткой (rougher_input_feed_size) и перед первичной очисткой (primary_cleaner_input_feed_size) для обучающей и тестовой выборки."
   ]
  },
  {
   "cell_type": "code",
   "execution_count": 290,
   "metadata": {
    "colab": {
     "base_uri": "https://localhost:8080/"
    },
    "id": "Z7bhOOoDit_I",
    "outputId": "a4defe41-6e2f-4966-ba2b-312b0a7e0576"
   },
   "outputs": [
    {
     "data": {
      "text/plain": [
       "count    14149.000000\n",
       "mean        59.962270\n",
       "std         23.163772\n",
       "min          9.659576\n",
       "25%         48.917474\n",
       "50%         55.292117\n",
       "75%         65.949832\n",
       "max        484.967466\n",
       "Name: rougher_input_feed_size, dtype: float64"
      ]
     },
     "execution_count": 290,
     "metadata": {},
     "output_type": "execute_result"
    }
   ],
   "source": [
    "# Значения по обучающей выборке перед грубой очисткой\n",
    "gold_recovery_train_filled['rougher_input_feed_size'].describe()"
   ]
  },
  {
   "cell_type": "code",
   "execution_count": 291,
   "metadata": {
    "colab": {
     "base_uri": "https://localhost:8080/"
    },
    "id": "u9_YRE8Ait_I",
    "outputId": "86abb94f-035a-47a1-ad19-ee6d4acff03f"
   },
   "outputs": [
    {
     "data": {
      "text/plain": [
       "count    5229.000000\n",
       "mean       55.863978\n",
       "std        18.914656\n",
       "min         0.046369\n",
       "25%        43.911874\n",
       "50%        50.772729\n",
       "75%        62.265394\n",
       "max       392.494040\n",
       "Name: rougher_input_feed_size, dtype: float64"
      ]
     },
     "execution_count": 291,
     "metadata": {},
     "output_type": "execute_result"
    }
   ],
   "source": [
    "# Значения по тестовой выборке перед грубой очисткой\n",
    "gold_recovery_test['rougher_input_feed_size'].describe()"
   ]
  },
  {
   "cell_type": "code",
   "execution_count": 292,
   "metadata": {
    "colab": {
     "base_uri": "https://localhost:8080/"
    },
    "id": "YSrhzz-Jit_I",
    "outputId": "f24b8231-da3c-4cd8-f464-ab0a34e619c8"
   },
   "outputs": [
    {
     "data": {
      "text/plain": [
       "count    14149.000000\n",
       "mean         7.322310\n",
       "std          0.614062\n",
       "min          1.080000\n",
       "25%          6.960000\n",
       "50%          7.290000\n",
       "75%          7.700000\n",
       "max         10.470000\n",
       "Name: primary_cleaner_input_feed_size, dtype: float64"
      ]
     },
     "execution_count": 292,
     "metadata": {},
     "output_type": "execute_result"
    }
   ],
   "source": [
    "# Значения по обучающей выборке перед первичной очисткой\n",
    "gold_recovery_train_filled['primary_cleaner_input_feed_size'].describe()"
   ]
  },
  {
   "cell_type": "code",
   "execution_count": 293,
   "metadata": {
    "colab": {
     "base_uri": "https://localhost:8080/"
    },
    "id": "BZ8QJQEsit_J",
    "outputId": "484096c5-1f75-4e9e-c073-4b3944fa4568"
   },
   "outputs": [
    {
     "data": {
      "text/plain": [
       "count    5229.000000\n",
       "mean        7.271546\n",
       "std         0.605887\n",
       "min         5.650000\n",
       "25%         6.900000\n",
       "50%         7.250000\n",
       "75%         7.600000\n",
       "max        15.500000\n",
       "Name: primary_cleaner_input_feed_size, dtype: float64"
      ]
     },
     "execution_count": 293,
     "metadata": {},
     "output_type": "execute_result"
    }
   ],
   "source": [
    "# Значения по тестовой выборке перед первичной очисткой\n",
    "gold_recovery_test['primary_cleaner_input_feed_size'].describe()"
   ]
  },
  {
   "cell_type": "code",
   "execution_count": 294,
   "metadata": {
    "colab": {
     "base_uri": "https://localhost:8080/",
     "height": 776
    },
    "id": "SXu1M8bIit_J",
    "outputId": "f1a44750-d5e5-4eb3-ebbd-12e5fc4ed576"
   },
   "outputs": [
    {
     "data": {
      "text/plain": [
       "Text(0.5, 1.0, 'Размер гранул перед грубой очисткой')"
      ]
     },
     "execution_count": 294,
     "metadata": {},
     "output_type": "execute_result"
    },
    {
     "data": {
      "image/png": "[encoded data removed]",
      "text/plain": [
       "<Figure size 1440x720 with 1 Axes>"
      ]
     },
     "metadata": {
      "needs_background": "light"
     },
     "output_type": "display_data"
    }
   ],
   "source": [
    "# Построим график для размера гранул перед грубой очисткой\n",
    "for dataset,name in zip([gold_recovery_train_filled,gold_recovery_test],\n",
    "                       ['train','test']):\n",
    "    subset = dataset['rougher_input_feed_size']\n",
    "\n",
    "    sns.distplot(subset, hist = False, kde = True,\n",
    "                 label = name)\n",
    "plt.legend(prop={'size': 10}, title = 'Dataset')\n",
    "plt.rcParams[\"figure.figsize\"] = (10,6)\n",
    "plt.title('Размер гранул перед грубой очисткой')"
   ]
  },
  {
   "cell_type": "code",
   "execution_count": 295,
   "metadata": {
    "colab": {
     "base_uri": "https://localhost:8080/",
     "height": 581
    },
    "id": "XhovIOE-it_J",
    "outputId": "eb3ec3fe-2387-4d57-d98a-7acc0438f5d4"
   },
   "outputs": [
    {
     "data": {
      "text/plain": [
       "Text(0.5, 1.0, 'Размер гранул перед первичной очисткой')"
      ]
     },
     "execution_count": 295,
     "metadata": {},
     "output_type": "execute_result"
    },
    {
     "data": {
      "image/png": "[encoded data removed]",
      "text/plain": [
       "<Figure size 720x432 with 1 Axes>"
      ]
     },
     "metadata": {
      "needs_background": "light"
     },
     "output_type": "display_data"
    }
   ],
   "source": [
    "# Построим график для размера гранул перед первичной очисткой\n",
    "for dataset,name in zip([gold_recovery_train_filled,gold_recovery_test],\n",
    "                       ['train','test']):\n",
    "    subset = dataset['primary_cleaner_input_feed_size']\n",
    "\n",
    "    sns.distplot(subset, hist = False, kde = True,\n",
    "                 label = name)\n",
    "plt.legend(prop={'size': 10}, title = 'Dataset')\n",
    "plt.rcParams[\"figure.figsize\"] = (10,6)\n",
    "plt.title('Размер гранул перед первичной очисткой')"
   ]
  },
  {
   "cell_type": "markdown",
   "metadata": {
    "id": "WqWXVf2Vit_J"
   },
   "source": [
    "Распределение размера гранул перед грубой очисткой ненмого отличается для обучающей и тестовой выборки. Размер гранул в обучающей выборке ненмого больше чем в тестовой. Отличаются средние: для обучающей выборки - 59.96, для тестовой выборки - 55.86.\n",
    "\n",
    "Распределение размера гранул перед первичной очисткой сильно не различаются для обучающей и тестовой выборки. Средние практически равны: для обучающей выборки - 7.32, для тестовой выборки - 7.27."
   ]
  },
  {
   "cell_type": "code",
   "execution_count": 296,
   "metadata": {
    "id": "fG-oWE40it_J"
   },
   "outputs": [],
   "source": [
    "# Составим таблицу с суммарной концентрацией всех веществ на разных стадиях\n",
    "elements = ['au', 'ag', 'pb', 'sol']\n",
    "processes = ['rougher_input_feed_',\n",
    "             'rougher_output_concentrate_',\n",
    "             'primary_cleaner_output_concentrate_',\n",
    "             'final_output_concentrate_'\n",
    "            ]\n",
    "data_concentrate = pd.DataFrame(columns=['raw', 'rougher', 'primary_cleaner', 'final'])\n",
    "\n",
    "for i in range(len(processes)):\n",
    "    au = gold_recovery_full[processes[i]+'au']\n",
    "    ag = gold_recovery_full[processes[i]+'ag']\n",
    "    pb = gold_recovery_full[processes[i]+'pb']\n",
    "    sol = gold_recovery_full[processes[i]+'sol']\n",
    "    data_concentrate[data_concentrate.columns[i]] = au + ag + pb + sol"
   ]
  },
  {
   "cell_type": "code",
   "execution_count": 297,
   "metadata": {
    "colab": {
     "base_uri": "https://localhost:8080/",
     "height": 363
    },
    "id": "v14OiK0dit_J",
    "outputId": "50d4730a-c7c9-4544-9edc-17a55e343755"
   },
   "outputs": [
    {
     "data": {
      "text/html": [
       "<div>\n",
       "<style scoped>\n",
       "    .dataframe tbody tr th:only-of-type {\n",
       "        vertical-align: middle;\n",
       "    }\n",
       "\n",
       "    .dataframe tbody tr th {\n",
       "        vertical-align: top;\n",
       "    }\n",
       "\n",
       "    .dataframe thead th {\n",
       "        text-align: right;\n",
       "    }\n",
       "</style>\n",
       "<table border=\"1\" class=\"dataframe\">\n",
       "  <thead>\n",
       "    <tr style=\"text-align: right;\">\n",
       "      <th></th>\n",
       "      <th>raw</th>\n",
       "      <th>rougher</th>\n",
       "      <th>primary_cleaner</th>\n",
       "      <th>final</th>\n",
       "    </tr>\n",
       "  </thead>\n",
       "  <tbody>\n",
       "    <tr>\n",
       "      <th>0</th>\n",
       "      <td>51.680034</td>\n",
       "      <td>66.424950</td>\n",
       "      <td>72.640924</td>\n",
       "      <td>63.644396</td>\n",
       "    </tr>\n",
       "    <tr>\n",
       "      <th>1</th>\n",
       "      <td>50.659114</td>\n",
       "      <td>67.012710</td>\n",
       "      <td>72.543485</td>\n",
       "      <td>63.957723</td>\n",
       "    </tr>\n",
       "    <tr>\n",
       "      <th>2</th>\n",
       "      <td>50.609929</td>\n",
       "      <td>66.103793</td>\n",
       "      <td>72.095042</td>\n",
       "      <td>64.311180</td>\n",
       "    </tr>\n",
       "    <tr>\n",
       "      <th>3</th>\n",
       "      <td>51.061546</td>\n",
       "      <td>65.752751</td>\n",
       "      <td>59.957723</td>\n",
       "      <td>63.573449</td>\n",
       "    </tr>\n",
       "    <tr>\n",
       "      <th>4</th>\n",
       "      <td>47.859163</td>\n",
       "      <td>65.908382</td>\n",
       "      <td>71.321010</td>\n",
       "      <td>64.004667</td>\n",
       "    </tr>\n",
       "    <tr>\n",
       "      <th>5</th>\n",
       "      <td>48.838521</td>\n",
       "      <td>64.955919</td>\n",
       "      <td>70.607932</td>\n",
       "      <td>63.646320</td>\n",
       "    </tr>\n",
       "    <tr>\n",
       "      <th>6</th>\n",
       "      <td>49.120760</td>\n",
       "      <td>65.372419</td>\n",
       "      <td>71.165854</td>\n",
       "      <td>63.156407</td>\n",
       "    </tr>\n",
       "    <tr>\n",
       "      <th>7</th>\n",
       "      <td>50.790724</td>\n",
       "      <td>65.180132</td>\n",
       "      <td>71.533310</td>\n",
       "      <td>62.908843</td>\n",
       "    </tr>\n",
       "    <tr>\n",
       "      <th>8</th>\n",
       "      <td>50.550288</td>\n",
       "      <td>65.625127</td>\n",
       "      <td>72.072013</td>\n",
       "      <td>64.185763</td>\n",
       "    </tr>\n",
       "    <tr>\n",
       "      <th>9</th>\n",
       "      <td>51.941235</td>\n",
       "      <td>65.408849</td>\n",
       "      <td>71.887397</td>\n",
       "      <td>64.185200</td>\n",
       "    </tr>\n",
       "  </tbody>\n",
       "</table>\n",
       "</div>"
      ],
      "text/plain": [
       "         raw    rougher  primary_cleaner      final\n",
       "0  51.680034  66.424950        72.640924  63.644396\n",
       "1  50.659114  67.012710        72.543485  63.957723\n",
       "2  50.609929  66.103793        72.095042  64.311180\n",
       "3  51.061546  65.752751        59.957723  63.573449\n",
       "4  47.859163  65.908382        71.321010  64.004667\n",
       "5  48.838521  64.955919        70.607932  63.646320\n",
       "6  49.120760  65.372419        71.165854  63.156407\n",
       "7  50.790724  65.180132        71.533310  62.908843\n",
       "8  50.550288  65.625127        72.072013  64.185763\n",
       "9  51.941235  65.408849        71.887397  64.185200"
      ]
     },
     "execution_count": 297,
     "metadata": {},
     "output_type": "execute_result"
    }
   ],
   "source": [
    "data_concentrate.head(10)"
   ]
  },
  {
   "cell_type": "code",
   "execution_count": 298,
   "metadata": {
    "colab": {
     "base_uri": "https://localhost:8080/",
     "height": 597
    },
    "id": "FyatS0KEit_J",
    "outputId": "b0dcfdfd-8562-41c9-f1e5-fb97cf471c7a"
   },
   "outputs": [
    {
     "data": {
      "image/png": "[encoded data removed]",
      "text/plain": [
       "<Figure size 720x432 with 1 Axes>"
      ]
     },
     "metadata": {
      "needs_background": "light"
     },
     "output_type": "display_data"
    }
   ],
   "source": [
    "for column in data_concentrate.columns:    \n",
    "    sns.distplot(data_concentrate[column], hist = False, kde = True,\n",
    "                 label = column)\n",
    "    \n",
    "plt.tick_params(\n",
    "    axis='y',             \n",
    "    left=False,      \n",
    "    labelleft=False)\n",
    "plt.legend(prop={'size': 12}, title = 'Process')\n",
    "plt.title('Концентрация веществ', fontsize=25)\n",
    "\n",
    "plt.rcParams[\"figure.figsize\"] = (20,10)\n",
    "plt.rcParams[\"legend.title_fontsize\"] = 'medium'\n",
    "plt.xlabel('Концентрация', fontsize=18)\n",
    "plt.ylabel('')\n",
    "plt.xticks(fontsize=18)\n",
    "plt.show()"
   ]
  },
  {
   "cell_type": "markdown",
   "metadata": {
    "id": "gM6okMW-it_K"
   },
   "source": [
    "Как видно из графика для данных rougher, primary_cleaner, final среди значений есть выбросы около 0."
   ]
  },
  {
   "cell_type": "code",
   "execution_count": 299,
   "metadata": {
    "id": "yhH_j5A8it_K"
   },
   "outputs": [],
   "source": [
    "# Функция, удаляющая выбросы меньше числа n\n",
    "\n",
    "def drop_incorrect_values(data, n): \n",
    "    indexes = []\n",
    "\n",
    "    for i in elements:\n",
    "        for j in processes:\n",
    "            try:\n",
    "                index = data[data[j+i] < n].index        \n",
    "                indexes.append(index)\n",
    "            except:\n",
    "                pass\n",
    "\n",
    "    result_index = pd.Int64Index([])\n",
    "    for index in indexes:\n",
    "        result_index = result_index.union(index, sort=False)\n",
    "    \n",
    "    data_p = data.drop(index = result_index, axis = 0)\n",
    "    \n",
    "    return data_p   "
   ]
  },
  {
   "cell_type": "code",
   "execution_count": 300,
   "metadata": {
    "id": "sncp1kFMit_K"
   },
   "outputs": [],
   "source": [
    "gold_recovery_full_p = drop_incorrect_values(gold_recovery_full, 2)\n",
    "gold_recovery_train_p = drop_incorrect_values(gold_recovery_train_filled, 2)"
   ]
  },
  {
   "cell_type": "markdown",
   "metadata": {
    "id": "Muq_PQHYit_K"
   },
   "source": [
    "Проверим графики еще раз, чтобы убедиться что все выбросы были удалены из датасета."
   ]
  },
  {
   "cell_type": "code",
   "execution_count": 301,
   "metadata": {
    "id": "DUSaknpkit_K"
   },
   "outputs": [],
   "source": [
    "data_concentrate_p = pd.DataFrame(columns=['raw', 'rougher', 'primary_cleaner', 'final'])\n",
    "\n",
    "for i in range(len(processes)):\n",
    "    au = gold_recovery_full_p[processes[i]+'au']\n",
    "    ag = gold_recovery_full_p[processes[i]+'ag']\n",
    "    pb = gold_recovery_full_p[processes[i]+'pb']\n",
    "    sol = gold_recovery_full_p[processes[i]+'sol']\n",
    "    data_concentrate_p[data_concentrate.columns[i]] = au + ag + pb + sol"
   ]
  },
  {
   "cell_type": "code",
   "execution_count": 302,
   "metadata": {
    "colab": {
     "base_uri": "https://localhost:8080/",
     "height": 817
    },
    "id": "y-cxRScXit_K",
    "outputId": "d9c6f497-5a55-4a3e-e783-6fc37ca1e7d5"
   },
   "outputs": [
    {
     "data": {
      "image/png": "[encoded data removed]",
      "text/plain": [
       "<Figure size 1440x720 with 1 Axes>"
      ]
     },
     "metadata": {
      "needs_background": "light"
     },
     "output_type": "display_data"
    }
   ],
   "source": [
    "for column in data_concentrate_p.columns:    \n",
    "    sns.distplot(data_concentrate_p[column], hist = False, kde = True,\n",
    "                 label = column)\n",
    "    \n",
    "plt.tick_params(\n",
    "    axis='y',             \n",
    "    left=False,      \n",
    "    labelleft=False)\n",
    "plt.legend(prop={'size': 12}, title = 'Process')\n",
    "plt.title('Концентрация веществ', fontsize=25)\n",
    "\n",
    "plt.rcParams[\"figure.figsize\"] = (20,10)\n",
    "plt.rcParams[\"legend.title_fontsize\"] = 'medium'\n",
    "plt.xlabel('Концентрация', fontsize=18)\n",
    "plt.ylabel('')\n",
    "plt.xticks(fontsize=18)\n",
    "plt.show()"
   ]
  },
  {
   "cell_type": "markdown",
   "metadata": {
    "id": "is_oSCfyit_K"
   },
   "source": [
    "**Вывод: Из произведенного анализа средних значений концентраций металлов, концентрация золота растет по мере выполнения технологического процесса, концентрация свинца незначительно растет от этапа к этапу, концентрация серебра же падает. Распределение размера гранул перед грубой очисткой немного отличается для обучающей и тестовой выборки. Перед первичной очисткой распределение размера гранул не сильно различаются для обучающей и тестовой выборки. При анализе суммарной концентрации всех веществ на разных стадиях из датасета были удалены выбросные значения.**"
   ]
  },
  {
   "cell_type": "markdown",
   "metadata": {
    "id": "0pCoJZkpit_L"
   },
   "source": [
    "## Модель"
   ]
  },
  {
   "cell_type": "markdown",
   "metadata": {
    "id": "pXX4bDb8it_L"
   },
   "source": [
    "Напишем функцию для вычисление метрики sMAPE для поставленной нам задачи."
   ]
  },
  {
   "cell_type": "code",
   "execution_count": 303,
   "metadata": {
    "id": "gY2POfmrit_L"
   },
   "outputs": [],
   "source": [
    "def sMAPE(target, pred):\n",
    "    return np.mean(abs(target - pred) / ((abs(target) + abs(pred)) / 2) * 100)"
   ]
  },
  {
   "cell_type": "code",
   "execution_count": 304,
   "metadata": {
    "id": "FPwT8iDnit_L"
   },
   "outputs": [],
   "source": [
    "sMAPE_scorer = make_scorer(sMAPE)"
   ]
  },
  {
   "cell_type": "code",
   "execution_count": 305,
   "metadata": {
    "id": "WInBSI8Yit_L"
   },
   "outputs": [],
   "source": [
    "def sMAPE_final(sMAPE_rougher, sMAPE_final):    \n",
    "    return 0.25 * sMAPE_rougher + 0.75 * sMAPE_final"
   ]
  },
  {
   "cell_type": "code",
   "execution_count": 306,
   "metadata": {
    "id": "JoZVZdTxit_L"
   },
   "outputs": [],
   "source": [
    "# Создадим датасет с признакими, исключив из исходного датасета целевые признаки и дату\n",
    "drop_list = missing_in_test\n",
    "drop_list.append('date')\n",
    "features = gold_recovery_train_p.drop(drop_list, axis=1)\n",
    "# Создадим датасет с целевым признаком\n",
    "target_rougher = gold_recovery_train_p['rougher_output_recovery']\n",
    "target_final = gold_recovery_train_p['final_output_recovery']"
   ]
  },
  {
   "cell_type": "code",
   "execution_count": 307,
   "metadata": {
    "colab": {
     "base_uri": "https://localhost:8080/",
     "height": 299
    },
    "id": "8nAIKul7it_M",
    "outputId": "94b90d66-7bfb-4545-cf1a-a4de8a054428"
   },
   "outputs": [
    {
     "data": {
      "text/html": [
       "<div>\n",
       "<style scoped>\n",
       "    .dataframe tbody tr th:only-of-type {\n",
       "        vertical-align: middle;\n",
       "    }\n",
       "\n",
       "    .dataframe tbody tr th {\n",
       "        vertical-align: top;\n",
       "    }\n",
       "\n",
       "    .dataframe thead th {\n",
       "        text-align: right;\n",
       "    }\n",
       "</style>\n",
       "<table border=\"1\" class=\"dataframe\">\n",
       "  <thead>\n",
       "    <tr style=\"text-align: right;\">\n",
       "      <th></th>\n",
       "      <th>primary_cleaner_input_sulfate</th>\n",
       "      <th>primary_cleaner_input_depressant</th>\n",
       "      <th>primary_cleaner_input_feed_size</th>\n",
       "      <th>primary_cleaner_input_xanthate</th>\n",
       "      <th>primary_cleaner_state_floatbank8_a_air</th>\n",
       "      <th>primary_cleaner_state_floatbank8_a_level</th>\n",
       "      <th>primary_cleaner_state_floatbank8_b_air</th>\n",
       "      <th>primary_cleaner_state_floatbank8_b_level</th>\n",
       "      <th>primary_cleaner_state_floatbank8_c_air</th>\n",
       "      <th>primary_cleaner_state_floatbank8_c_level</th>\n",
       "      <th>...</th>\n",
       "      <th>secondary_cleaner_state_floatbank4_a_air</th>\n",
       "      <th>secondary_cleaner_state_floatbank4_a_level</th>\n",
       "      <th>secondary_cleaner_state_floatbank4_b_air</th>\n",
       "      <th>secondary_cleaner_state_floatbank4_b_level</th>\n",
       "      <th>secondary_cleaner_state_floatbank5_a_air</th>\n",
       "      <th>secondary_cleaner_state_floatbank5_a_level</th>\n",
       "      <th>secondary_cleaner_state_floatbank5_b_air</th>\n",
       "      <th>secondary_cleaner_state_floatbank5_b_level</th>\n",
       "      <th>secondary_cleaner_state_floatbank6_a_air</th>\n",
       "      <th>secondary_cleaner_state_floatbank6_a_level</th>\n",
       "    </tr>\n",
       "  </thead>\n",
       "  <tbody>\n",
       "    <tr>\n",
       "      <th>0</th>\n",
       "      <td>127.092003</td>\n",
       "      <td>10.128295</td>\n",
       "      <td>7.25</td>\n",
       "      <td>0.988759</td>\n",
       "      <td>1549.775757</td>\n",
       "      <td>-498.912140</td>\n",
       "      <td>1551.434204</td>\n",
       "      <td>-516.403442</td>\n",
       "      <td>1549.873901</td>\n",
       "      <td>-498.666595</td>\n",
       "      <td>...</td>\n",
       "      <td>14.016835</td>\n",
       "      <td>-502.488007</td>\n",
       "      <td>12.099931</td>\n",
       "      <td>-504.715942</td>\n",
       "      <td>9.925633</td>\n",
       "      <td>-498.310211</td>\n",
       "      <td>8.079666</td>\n",
       "      <td>-500.470978</td>\n",
       "      <td>14.151341</td>\n",
       "      <td>-605.841980</td>\n",
       "    </tr>\n",
       "    <tr>\n",
       "      <th>1</th>\n",
       "      <td>125.629232</td>\n",
       "      <td>10.296251</td>\n",
       "      <td>7.25</td>\n",
       "      <td>1.002663</td>\n",
       "      <td>1576.166671</td>\n",
       "      <td>-500.904965</td>\n",
       "      <td>1575.950626</td>\n",
       "      <td>-499.865889</td>\n",
       "      <td>1575.994189</td>\n",
       "      <td>-499.315107</td>\n",
       "      <td>...</td>\n",
       "      <td>13.992281</td>\n",
       "      <td>-505.503262</td>\n",
       "      <td>11.950531</td>\n",
       "      <td>-501.331529</td>\n",
       "      <td>10.039245</td>\n",
       "      <td>-500.169983</td>\n",
       "      <td>7.984757</td>\n",
       "      <td>-500.582168</td>\n",
       "      <td>13.998353</td>\n",
       "      <td>-599.787184</td>\n",
       "    </tr>\n",
       "    <tr>\n",
       "      <th>2</th>\n",
       "      <td>123.819808</td>\n",
       "      <td>11.316280</td>\n",
       "      <td>7.25</td>\n",
       "      <td>0.991265</td>\n",
       "      <td>1601.556163</td>\n",
       "      <td>-499.997791</td>\n",
       "      <td>1600.386685</td>\n",
       "      <td>-500.607762</td>\n",
       "      <td>1602.003542</td>\n",
       "      <td>-500.870069</td>\n",
       "      <td>...</td>\n",
       "      <td>14.015015</td>\n",
       "      <td>-502.520901</td>\n",
       "      <td>11.912783</td>\n",
       "      <td>-501.133383</td>\n",
       "      <td>10.070913</td>\n",
       "      <td>-500.129135</td>\n",
       "      <td>8.013877</td>\n",
       "      <td>-500.517572</td>\n",
       "      <td>14.028663</td>\n",
       "      <td>-601.427363</td>\n",
       "    </tr>\n",
       "    <tr>\n",
       "      <th>3</th>\n",
       "      <td>122.270188</td>\n",
       "      <td>11.322140</td>\n",
       "      <td>7.25</td>\n",
       "      <td>0.996739</td>\n",
       "      <td>1599.968720</td>\n",
       "      <td>-500.951778</td>\n",
       "      <td>1600.659236</td>\n",
       "      <td>-499.677094</td>\n",
       "      <td>1600.304144</td>\n",
       "      <td>-500.727997</td>\n",
       "      <td>...</td>\n",
       "      <td>14.036510</td>\n",
       "      <td>-500.857308</td>\n",
       "      <td>11.999550</td>\n",
       "      <td>-501.193686</td>\n",
       "      <td>9.970366</td>\n",
       "      <td>-499.201640</td>\n",
       "      <td>7.977324</td>\n",
       "      <td>-500.255908</td>\n",
       "      <td>14.005551</td>\n",
       "      <td>-599.996129</td>\n",
       "    </tr>\n",
       "    <tr>\n",
       "      <th>6</th>\n",
       "      <td>117.322323</td>\n",
       "      <td>12.469088</td>\n",
       "      <td>7.25</td>\n",
       "      <td>0.895207</td>\n",
       "      <td>1597.532455</td>\n",
       "      <td>-500.985364</td>\n",
       "      <td>1602.816321</td>\n",
       "      <td>-500.696736</td>\n",
       "      <td>1603.572091</td>\n",
       "      <td>-500.256955</td>\n",
       "      <td>...</td>\n",
       "      <td>14.046819</td>\n",
       "      <td>-500.971133</td>\n",
       "      <td>12.091543</td>\n",
       "      <td>-500.501426</td>\n",
       "      <td>10.003247</td>\n",
       "      <td>-497.083180</td>\n",
       "      <td>8.010890</td>\n",
       "      <td>-500.002423</td>\n",
       "      <td>14.029649</td>\n",
       "      <td>-600.905470</td>\n",
       "    </tr>\n",
       "  </tbody>\n",
       "</table>\n",
       "<p>5 rows × 52 columns</p>\n",
       "</div>"
      ],
      "text/plain": [
       "   primary_cleaner_input_sulfate  primary_cleaner_input_depressant  \\\n",
       "0                     127.092003                         10.128295   \n",
       "1                     125.629232                         10.296251   \n",
       "2                     123.819808                         11.316280   \n",
       "3                     122.270188                         11.322140   \n",
       "6                     117.322323                         12.469088   \n",
       "\n",
       "   primary_cleaner_input_feed_size  primary_cleaner_input_xanthate  \\\n",
       "0                             7.25                        0.988759   \n",
       "1                             7.25                        1.002663   \n",
       "2                             7.25                        0.991265   \n",
       "3                             7.25                        0.996739   \n",
       "6                             7.25                        0.895207   \n",
       "\n",
       "   primary_cleaner_state_floatbank8_a_air  \\\n",
       "0                             1549.775757   \n",
       "1                             1576.166671   \n",
       "2                             1601.556163   \n",
       "3                             1599.968720   \n",
       "6                             1597.532455   \n",
       "\n",
       "   primary_cleaner_state_floatbank8_a_level  \\\n",
       "0                               -498.912140   \n",
       "1                               -500.904965   \n",
       "2                               -499.997791   \n",
       "3                               -500.951778   \n",
       "6                               -500.985364   \n",
       "\n",
       "   primary_cleaner_state_floatbank8_b_air  \\\n",
       "0                             1551.434204   \n",
       "1                             1575.950626   \n",
       "2                             1600.386685   \n",
       "3                             1600.659236   \n",
       "6                             1602.816321   \n",
       "\n",
       "   primary_cleaner_state_floatbank8_b_level  \\\n",
       "0                               -516.403442   \n",
       "1                               -499.865889   \n",
       "2                               -500.607762   \n",
       "3                               -499.677094   \n",
       "6                               -500.696736   \n",
       "\n",
       "   primary_cleaner_state_floatbank8_c_air  \\\n",
       "0                             1549.873901   \n",
       "1                             1575.994189   \n",
       "2                             1602.003542   \n",
       "3                             1600.304144   \n",
       "6                             1603.572091   \n",
       "\n",
       "   primary_cleaner_state_floatbank8_c_level  ...  \\\n",
       "0                               -498.666595  ...   \n",
       "1                               -499.315107  ...   \n",
       "2                               -500.870069  ...   \n",
       "3                               -500.727997  ...   \n",
       "6                               -500.256955  ...   \n",
       "\n",
       "   secondary_cleaner_state_floatbank4_a_air  \\\n",
       "0                                 14.016835   \n",
       "1                                 13.992281   \n",
       "2                                 14.015015   \n",
       "3                                 14.036510   \n",
       "6                                 14.046819   \n",
       "\n",
       "   secondary_cleaner_state_floatbank4_a_level  \\\n",
       "0                                 -502.488007   \n",
       "1                                 -505.503262   \n",
       "2                                 -502.520901   \n",
       "3                                 -500.857308   \n",
       "6                                 -500.971133   \n",
       "\n",
       "   secondary_cleaner_state_floatbank4_b_air  \\\n",
       "0                                 12.099931   \n",
       "1                                 11.950531   \n",
       "2                                 11.912783   \n",
       "3                                 11.999550   \n",
       "6                                 12.091543   \n",
       "\n",
       "   secondary_cleaner_state_floatbank4_b_level  \\\n",
       "0                                 -504.715942   \n",
       "1                                 -501.331529   \n",
       "2                                 -501.133383   \n",
       "3                                 -501.193686   \n",
       "6                                 -500.501426   \n",
       "\n",
       "   secondary_cleaner_state_floatbank5_a_air  \\\n",
       "0                                  9.925633   \n",
       "1                                 10.039245   \n",
       "2                                 10.070913   \n",
       "3                                  9.970366   \n",
       "6                                 10.003247   \n",
       "\n",
       "   secondary_cleaner_state_floatbank5_a_level  \\\n",
       "0                                 -498.310211   \n",
       "1                                 -500.169983   \n",
       "2                                 -500.129135   \n",
       "3                                 -499.201640   \n",
       "6                                 -497.083180   \n",
       "\n",
       "   secondary_cleaner_state_floatbank5_b_air  \\\n",
       "0                                  8.079666   \n",
       "1                                  7.984757   \n",
       "2                                  8.013877   \n",
       "3                                  7.977324   \n",
       "6                                  8.010890   \n",
       "\n",
       "   secondary_cleaner_state_floatbank5_b_level  \\\n",
       "0                                 -500.470978   \n",
       "1                                 -500.582168   \n",
       "2                                 -500.517572   \n",
       "3                                 -500.255908   \n",
       "6                                 -500.002423   \n",
       "\n",
       "   secondary_cleaner_state_floatbank6_a_air  \\\n",
       "0                                 14.151341   \n",
       "1                                 13.998353   \n",
       "2                                 14.028663   \n",
       "3                                 14.005551   \n",
       "6                                 14.029649   \n",
       "\n",
       "   secondary_cleaner_state_floatbank6_a_level  \n",
       "0                                 -605.841980  \n",
       "1                                 -599.787184  \n",
       "2                                 -601.427363  \n",
       "3                                 -599.996129  \n",
       "6                                 -600.905470  \n",
       "\n",
       "[5 rows x 52 columns]"
      ]
     },
     "execution_count": 307,
     "metadata": {},
     "output_type": "execute_result"
    }
   ],
   "source": [
    "features.head(5)"
   ]
  },
  {
   "cell_type": "code",
   "execution_count": 308,
   "metadata": {
    "colab": {
     "base_uri": "https://localhost:8080/"
    },
    "id": "Mku13mz3it_M",
    "outputId": "08827502-2b9d-4006-bfd8-bd69de73e505"
   },
   "outputs": [
    {
     "data": {
      "text/plain": [
       "0    87.107763\n",
       "1    86.843261\n",
       "2    86.842308\n",
       "3    87.226430\n",
       "6    88.168065\n",
       "Name: rougher_output_recovery, dtype: float64"
      ]
     },
     "execution_count": 308,
     "metadata": {},
     "output_type": "execute_result"
    }
   ],
   "source": [
    "target_rougher.head(5)"
   ]
  },
  {
   "cell_type": "code",
   "execution_count": 309,
   "metadata": {
    "colab": {
     "base_uri": "https://localhost:8080/"
    },
    "id": "ABRiK3n6it_M",
    "outputId": "d3479a1d-5d51-43e9-ba9b-69fdfa3bc18a"
   },
   "outputs": [
    {
     "data": {
      "text/plain": [
       "0    70.541216\n",
       "1    69.266198\n",
       "2    68.116445\n",
       "3    68.347543\n",
       "6    69.300835\n",
       "Name: final_output_recovery, dtype: float64"
      ]
     },
     "execution_count": 309,
     "metadata": {},
     "output_type": "execute_result"
    }
   ],
   "source": [
    "target_final.head(5)"
   ]
  },
  {
   "cell_type": "code",
   "execution_count": 310,
   "metadata": {
    "id": "IbuVIrYeit_L"
   },
   "outputs": [],
   "source": [
    "gold_recovery_test_with_target = gold_recovery_test.merge(gold_recovery_full_p, how='inner')"
   ]
  },
  {
   "cell_type": "code",
   "execution_count": 311,
   "metadata": {
    "id": "VIlE1SPHit_M"
   },
   "outputs": [],
   "source": [
    "features_test = gold_recovery_test_with_target.drop(drop_list, axis=1)\n",
    "target_rougher_test = gold_recovery_test_with_target['rougher_output_recovery']\n",
    "target_final_test = gold_recovery_test_with_target['final_output_recovery']"
   ]
  },
  {
   "cell_type": "code",
   "execution_count": 312,
   "metadata": {
    "colab": {
     "base_uri": "https://localhost:8080/",
     "height": 299
    },
    "id": "B4hWqbW2-vIQ",
    "outputId": "98dae663-557d-48d9-b660-59632cdc4ab6"
   },
   "outputs": [
    {
     "data": {
      "text/html": [
       "<div>\n",
       "<style scoped>\n",
       "    .dataframe tbody tr th:only-of-type {\n",
       "        vertical-align: middle;\n",
       "    }\n",
       "\n",
       "    .dataframe tbody tr th {\n",
       "        vertical-align: top;\n",
       "    }\n",
       "\n",
       "    .dataframe thead th {\n",
       "        text-align: right;\n",
       "    }\n",
       "</style>\n",
       "<table border=\"1\" class=\"dataframe\">\n",
       "  <thead>\n",
       "    <tr style=\"text-align: right;\">\n",
       "      <th></th>\n",
       "      <th>primary_cleaner_input_sulfate</th>\n",
       "      <th>primary_cleaner_input_depressant</th>\n",
       "      <th>primary_cleaner_input_feed_size</th>\n",
       "      <th>primary_cleaner_input_xanthate</th>\n",
       "      <th>primary_cleaner_state_floatbank8_a_air</th>\n",
       "      <th>primary_cleaner_state_floatbank8_a_level</th>\n",
       "      <th>primary_cleaner_state_floatbank8_b_air</th>\n",
       "      <th>primary_cleaner_state_floatbank8_b_level</th>\n",
       "      <th>primary_cleaner_state_floatbank8_c_air</th>\n",
       "      <th>primary_cleaner_state_floatbank8_c_level</th>\n",
       "      <th>...</th>\n",
       "      <th>secondary_cleaner_state_floatbank4_a_air</th>\n",
       "      <th>secondary_cleaner_state_floatbank4_a_level</th>\n",
       "      <th>secondary_cleaner_state_floatbank4_b_air</th>\n",
       "      <th>secondary_cleaner_state_floatbank4_b_level</th>\n",
       "      <th>secondary_cleaner_state_floatbank5_a_air</th>\n",
       "      <th>secondary_cleaner_state_floatbank5_a_level</th>\n",
       "      <th>secondary_cleaner_state_floatbank5_b_air</th>\n",
       "      <th>secondary_cleaner_state_floatbank5_b_level</th>\n",
       "      <th>secondary_cleaner_state_floatbank6_a_air</th>\n",
       "      <th>secondary_cleaner_state_floatbank6_a_level</th>\n",
       "    </tr>\n",
       "  </thead>\n",
       "  <tbody>\n",
       "    <tr>\n",
       "      <th>0</th>\n",
       "      <td>210.800909</td>\n",
       "      <td>14.993118</td>\n",
       "      <td>8.080000</td>\n",
       "      <td>1.005021</td>\n",
       "      <td>1398.981301</td>\n",
       "      <td>-500.225577</td>\n",
       "      <td>1399.144926</td>\n",
       "      <td>-499.919735</td>\n",
       "      <td>1400.102998</td>\n",
       "      <td>-500.704369</td>\n",
       "      <td>...</td>\n",
       "      <td>12.023554</td>\n",
       "      <td>-497.795834</td>\n",
       "      <td>8.016656</td>\n",
       "      <td>-501.289139</td>\n",
       "      <td>7.946562</td>\n",
       "      <td>-432.317850</td>\n",
       "      <td>4.872511</td>\n",
       "      <td>-500.037437</td>\n",
       "      <td>26.705889</td>\n",
       "      <td>-499.709414</td>\n",
       "    </tr>\n",
       "    <tr>\n",
       "      <th>1</th>\n",
       "      <td>215.392455</td>\n",
       "      <td>14.987471</td>\n",
       "      <td>8.080000</td>\n",
       "      <td>0.990469</td>\n",
       "      <td>1398.777912</td>\n",
       "      <td>-500.057435</td>\n",
       "      <td>1398.055362</td>\n",
       "      <td>-499.778182</td>\n",
       "      <td>1396.151033</td>\n",
       "      <td>-499.240168</td>\n",
       "      <td>...</td>\n",
       "      <td>12.058140</td>\n",
       "      <td>-498.695773</td>\n",
       "      <td>8.130979</td>\n",
       "      <td>-499.634209</td>\n",
       "      <td>7.958270</td>\n",
       "      <td>-525.839648</td>\n",
       "      <td>4.878850</td>\n",
       "      <td>-500.162375</td>\n",
       "      <td>25.019940</td>\n",
       "      <td>-499.819438</td>\n",
       "    </tr>\n",
       "    <tr>\n",
       "      <th>2</th>\n",
       "      <td>215.259946</td>\n",
       "      <td>12.884934</td>\n",
       "      <td>7.786667</td>\n",
       "      <td>0.996043</td>\n",
       "      <td>1398.493666</td>\n",
       "      <td>-500.868360</td>\n",
       "      <td>1398.860436</td>\n",
       "      <td>-499.764529</td>\n",
       "      <td>1398.075709</td>\n",
       "      <td>-502.151509</td>\n",
       "      <td>...</td>\n",
       "      <td>11.962366</td>\n",
       "      <td>-498.767484</td>\n",
       "      <td>8.096893</td>\n",
       "      <td>-500.827423</td>\n",
       "      <td>8.071056</td>\n",
       "      <td>-500.801673</td>\n",
       "      <td>4.905125</td>\n",
       "      <td>-499.828510</td>\n",
       "      <td>24.994862</td>\n",
       "      <td>-500.622559</td>\n",
       "    </tr>\n",
       "    <tr>\n",
       "      <th>3</th>\n",
       "      <td>215.336236</td>\n",
       "      <td>12.006805</td>\n",
       "      <td>7.640000</td>\n",
       "      <td>0.863514</td>\n",
       "      <td>1399.618111</td>\n",
       "      <td>-498.863574</td>\n",
       "      <td>1397.440120</td>\n",
       "      <td>-499.211024</td>\n",
       "      <td>1400.129303</td>\n",
       "      <td>-498.355873</td>\n",
       "      <td>...</td>\n",
       "      <td>12.033091</td>\n",
       "      <td>-498.350935</td>\n",
       "      <td>8.074946</td>\n",
       "      <td>-499.474407</td>\n",
       "      <td>7.897085</td>\n",
       "      <td>-500.868509</td>\n",
       "      <td>4.931400</td>\n",
       "      <td>-499.963623</td>\n",
       "      <td>24.948919</td>\n",
       "      <td>-498.709987</td>\n",
       "    </tr>\n",
       "    <tr>\n",
       "      <th>4</th>\n",
       "      <td>199.099327</td>\n",
       "      <td>10.682530</td>\n",
       "      <td>7.530000</td>\n",
       "      <td>0.805575</td>\n",
       "      <td>1401.268123</td>\n",
       "      <td>-500.808305</td>\n",
       "      <td>1398.128818</td>\n",
       "      <td>-499.504543</td>\n",
       "      <td>1402.172226</td>\n",
       "      <td>-500.810606</td>\n",
       "      <td>...</td>\n",
       "      <td>12.025367</td>\n",
       "      <td>-500.786497</td>\n",
       "      <td>8.054678</td>\n",
       "      <td>-500.397500</td>\n",
       "      <td>8.107890</td>\n",
       "      <td>-509.526725</td>\n",
       "      <td>4.957674</td>\n",
       "      <td>-500.360026</td>\n",
       "      <td>25.003331</td>\n",
       "      <td>-500.856333</td>\n",
       "    </tr>\n",
       "  </tbody>\n",
       "</table>\n",
       "<p>5 rows × 52 columns</p>\n",
       "</div>"
      ],
      "text/plain": [
       "   primary_cleaner_input_sulfate  primary_cleaner_input_depressant  \\\n",
       "0                     210.800909                         14.993118   \n",
       "1                     215.392455                         14.987471   \n",
       "2                     215.259946                         12.884934   \n",
       "3                     215.336236                         12.006805   \n",
       "4                     199.099327                         10.682530   \n",
       "\n",
       "   primary_cleaner_input_feed_size  primary_cleaner_input_xanthate  \\\n",
       "0                         8.080000                        1.005021   \n",
       "1                         8.080000                        0.990469   \n",
       "2                         7.786667                        0.996043   \n",
       "3                         7.640000                        0.863514   \n",
       "4                         7.530000                        0.805575   \n",
       "\n",
       "   primary_cleaner_state_floatbank8_a_air  \\\n",
       "0                             1398.981301   \n",
       "1                             1398.777912   \n",
       "2                             1398.493666   \n",
       "3                             1399.618111   \n",
       "4                             1401.268123   \n",
       "\n",
       "   primary_cleaner_state_floatbank8_a_level  \\\n",
       "0                               -500.225577   \n",
       "1                               -500.057435   \n",
       "2                               -500.868360   \n",
       "3                               -498.863574   \n",
       "4                               -500.808305   \n",
       "\n",
       "   primary_cleaner_state_floatbank8_b_air  \\\n",
       "0                             1399.144926   \n",
       "1                             1398.055362   \n",
       "2                             1398.860436   \n",
       "3                             1397.440120   \n",
       "4                             1398.128818   \n",
       "\n",
       "   primary_cleaner_state_floatbank8_b_level  \\\n",
       "0                               -499.919735   \n",
       "1                               -499.778182   \n",
       "2                               -499.764529   \n",
       "3                               -499.211024   \n",
       "4                               -499.504543   \n",
       "\n",
       "   primary_cleaner_state_floatbank8_c_air  \\\n",
       "0                             1400.102998   \n",
       "1                             1396.151033   \n",
       "2                             1398.075709   \n",
       "3                             1400.129303   \n",
       "4                             1402.172226   \n",
       "\n",
       "   primary_cleaner_state_floatbank8_c_level  ...  \\\n",
       "0                               -500.704369  ...   \n",
       "1                               -499.240168  ...   \n",
       "2                               -502.151509  ...   \n",
       "3                               -498.355873  ...   \n",
       "4                               -500.810606  ...   \n",
       "\n",
       "   secondary_cleaner_state_floatbank4_a_air  \\\n",
       "0                                 12.023554   \n",
       "1                                 12.058140   \n",
       "2                                 11.962366   \n",
       "3                                 12.033091   \n",
       "4                                 12.025367   \n",
       "\n",
       "   secondary_cleaner_state_floatbank4_a_level  \\\n",
       "0                                 -497.795834   \n",
       "1                                 -498.695773   \n",
       "2                                 -498.767484   \n",
       "3                                 -498.350935   \n",
       "4                                 -500.786497   \n",
       "\n",
       "   secondary_cleaner_state_floatbank4_b_air  \\\n",
       "0                                  8.016656   \n",
       "1                                  8.130979   \n",
       "2                                  8.096893   \n",
       "3                                  8.074946   \n",
       "4                                  8.054678   \n",
       "\n",
       "   secondary_cleaner_state_floatbank4_b_level  \\\n",
       "0                                 -501.289139   \n",
       "1                                 -499.634209   \n",
       "2                                 -500.827423   \n",
       "3                                 -499.474407   \n",
       "4                                 -500.397500   \n",
       "\n",
       "   secondary_cleaner_state_floatbank5_a_air  \\\n",
       "0                                  7.946562   \n",
       "1                                  7.958270   \n",
       "2                                  8.071056   \n",
       "3                                  7.897085   \n",
       "4                                  8.107890   \n",
       "\n",
       "   secondary_cleaner_state_floatbank5_a_level  \\\n",
       "0                                 -432.317850   \n",
       "1                                 -525.839648   \n",
       "2                                 -500.801673   \n",
       "3                                 -500.868509   \n",
       "4                                 -509.526725   \n",
       "\n",
       "   secondary_cleaner_state_floatbank5_b_air  \\\n",
       "0                                  4.872511   \n",
       "1                                  4.878850   \n",
       "2                                  4.905125   \n",
       "3                                  4.931400   \n",
       "4                                  4.957674   \n",
       "\n",
       "   secondary_cleaner_state_floatbank5_b_level  \\\n",
       "0                                 -500.037437   \n",
       "1                                 -500.162375   \n",
       "2                                 -499.828510   \n",
       "3                                 -499.963623   \n",
       "4                                 -500.360026   \n",
       "\n",
       "   secondary_cleaner_state_floatbank6_a_air  \\\n",
       "0                                 26.705889   \n",
       "1                                 25.019940   \n",
       "2                                 24.994862   \n",
       "3                                 24.948919   \n",
       "4                                 25.003331   \n",
       "\n",
       "   secondary_cleaner_state_floatbank6_a_level  \n",
       "0                                 -499.709414  \n",
       "1                                 -499.819438  \n",
       "2                                 -500.622559  \n",
       "3                                 -498.709987  \n",
       "4                                 -500.856333  \n",
       "\n",
       "[5 rows x 52 columns]"
      ]
     },
     "execution_count": 312,
     "metadata": {},
     "output_type": "execute_result"
    }
   ],
   "source": [
    "features_test.head(5)"
   ]
  },
  {
   "cell_type": "code",
   "execution_count": 313,
   "metadata": {
    "colab": {
     "base_uri": "https://localhost:8080/"
    },
    "id": "9JyKQWir-vMP",
    "outputId": "d92b2de3-af41-47bd-9303-3f9e660ed3d7"
   },
   "outputs": [
    {
     "data": {
      "text/plain": [
       "0    89.993421\n",
       "1    88.089657\n",
       "2    88.412756\n",
       "3    87.360133\n",
       "4    83.236367\n",
       "Name: rougher_output_recovery, dtype: float64"
      ]
     },
     "execution_count": 313,
     "metadata": {},
     "output_type": "execute_result"
    }
   ],
   "source": [
    "target_rougher_test.head(5)"
   ]
  },
  {
   "cell_type": "code",
   "execution_count": 314,
   "metadata": {
    "colab": {
     "base_uri": "https://localhost:8080/"
    },
    "id": "_uyl3tGB-vR4",
    "outputId": "84736321-4b90-4604-cb67-dec57319e95b"
   },
   "outputs": [
    {
     "data": {
      "text/plain": [
       "0    70.273583\n",
       "1    68.910432\n",
       "2    68.143213\n",
       "3    67.776393\n",
       "4    61.467078\n",
       "Name: final_output_recovery, dtype: float64"
      ]
     },
     "execution_count": 314,
     "metadata": {},
     "output_type": "execute_result"
    }
   ],
   "source": [
    "target_final_test.head(5)"
   ]
  },
  {
   "cell_type": "markdown",
   "metadata": {
    "id": "aebESjjsit_N"
   },
   "source": [
    "Так в датасете присутствуют количественные признаки с разными разбросами значений, отмасштабируем признаки. Это потребуется для корректной работы модели линейной регрессии."
   ]
  },
  {
   "cell_type": "code",
   "execution_count": 315,
   "metadata": {
    "id": "jiln7knWit_N"
   },
   "outputs": [],
   "source": [
    "scaler = StandardScaler()\n",
    "scaler.fit(features)\n",
    "features_scaled = scaler.transform(features)\n",
    "features_scaled = pd.DataFrame(features_scaled, columns = features.columns)"
   ]
  },
  {
   "cell_type": "code",
   "execution_count": 316,
   "metadata": {
    "colab": {
     "base_uri": "https://localhost:8080/",
     "height": 299
    },
    "id": "Y8zwT_a9it_N",
    "outputId": "07b9e8db-bf4c-4dbd-c718-5d73f6c514e5"
   },
   "outputs": [
    {
     "data": {
      "text/html": [
       "<div>\n",
       "<style scoped>\n",
       "    .dataframe tbody tr th:only-of-type {\n",
       "        vertical-align: middle;\n",
       "    }\n",
       "\n",
       "    .dataframe tbody tr th {\n",
       "        vertical-align: top;\n",
       "    }\n",
       "\n",
       "    .dataframe thead th {\n",
       "        text-align: right;\n",
       "    }\n",
       "</style>\n",
       "<table border=\"1\" class=\"dataframe\">\n",
       "  <thead>\n",
       "    <tr style=\"text-align: right;\">\n",
       "      <th></th>\n",
       "      <th>primary_cleaner_input_sulfate</th>\n",
       "      <th>primary_cleaner_input_depressant</th>\n",
       "      <th>primary_cleaner_input_feed_size</th>\n",
       "      <th>primary_cleaner_input_xanthate</th>\n",
       "      <th>primary_cleaner_state_floatbank8_a_air</th>\n",
       "      <th>primary_cleaner_state_floatbank8_a_level</th>\n",
       "      <th>primary_cleaner_state_floatbank8_b_air</th>\n",
       "      <th>primary_cleaner_state_floatbank8_b_level</th>\n",
       "      <th>primary_cleaner_state_floatbank8_c_air</th>\n",
       "      <th>primary_cleaner_state_floatbank8_c_level</th>\n",
       "      <th>...</th>\n",
       "      <th>secondary_cleaner_state_floatbank4_a_air</th>\n",
       "      <th>secondary_cleaner_state_floatbank4_a_level</th>\n",
       "      <th>secondary_cleaner_state_floatbank4_b_air</th>\n",
       "      <th>secondary_cleaner_state_floatbank4_b_level</th>\n",
       "      <th>secondary_cleaner_state_floatbank5_a_air</th>\n",
       "      <th>secondary_cleaner_state_floatbank5_a_level</th>\n",
       "      <th>secondary_cleaner_state_floatbank5_b_air</th>\n",
       "      <th>secondary_cleaner_state_floatbank5_b_level</th>\n",
       "      <th>secondary_cleaner_state_floatbank6_a_air</th>\n",
       "      <th>secondary_cleaner_state_floatbank6_a_level</th>\n",
       "    </tr>\n",
       "  </thead>\n",
       "  <tbody>\n",
       "    <tr>\n",
       "      <th>0</th>\n",
       "      <td>-0.290461</td>\n",
       "      <td>0.335122</td>\n",
       "      <td>-0.137583</td>\n",
       "      <td>0.282837</td>\n",
       "      <td>-0.438446</td>\n",
       "      <td>-0.280548</td>\n",
       "      <td>-0.422458</td>\n",
       "      <td>-0.815826</td>\n",
       "      <td>-0.435706</td>\n",
       "      <td>-0.256712</td>\n",
       "      <td>...</td>\n",
       "      <td>-1.083149</td>\n",
       "      <td>-0.479249</td>\n",
       "      <td>-0.653302</td>\n",
       "      <td>-0.766344</td>\n",
       "      <td>-1.170724</td>\n",
       "      <td>-0.389530</td>\n",
       "      <td>-0.862082</td>\n",
       "      <td>-0.433548</td>\n",
       "      <td>-0.929879</td>\n",
       "      <td>-2.696028</td>\n",
       "    </tr>\n",
       "    <tr>\n",
       "      <th>1</th>\n",
       "      <td>-0.329944</td>\n",
       "      <td>0.385405</td>\n",
       "      <td>-0.137583</td>\n",
       "      <td>0.319914</td>\n",
       "      <td>-0.232360</td>\n",
       "      <td>-0.339726</td>\n",
       "      <td>-0.235203</td>\n",
       "      <td>-0.302891</td>\n",
       "      <td>-0.239546</td>\n",
       "      <td>-0.276345</td>\n",
       "      <td>...</td>\n",
       "      <td>-1.087565</td>\n",
       "      <td>-0.537620</td>\n",
       "      <td>-0.681585</td>\n",
       "      <td>-0.708984</td>\n",
       "      <td>-1.151276</td>\n",
       "      <td>-0.437761</td>\n",
       "      <td>-0.878623</td>\n",
       "      <td>-0.436399</td>\n",
       "      <td>-0.956301</td>\n",
       "      <td>-2.530453</td>\n",
       "    </tr>\n",
       "    <tr>\n",
       "      <th>2</th>\n",
       "      <td>-0.378785</td>\n",
       "      <td>0.690784</td>\n",
       "      <td>-0.137583</td>\n",
       "      <td>0.289520</td>\n",
       "      <td>-0.034094</td>\n",
       "      <td>-0.312787</td>\n",
       "      <td>-0.048561</td>\n",
       "      <td>-0.325901</td>\n",
       "      <td>-0.044220</td>\n",
       "      <td>-0.323420</td>\n",
       "      <td>...</td>\n",
       "      <td>-1.083476</td>\n",
       "      <td>-0.479886</td>\n",
       "      <td>-0.688732</td>\n",
       "      <td>-0.705626</td>\n",
       "      <td>-1.145855</td>\n",
       "      <td>-0.436701</td>\n",
       "      <td>-0.873548</td>\n",
       "      <td>-0.434743</td>\n",
       "      <td>-0.951066</td>\n",
       "      <td>-2.575306</td>\n",
       "    </tr>\n",
       "    <tr>\n",
       "      <th>3</th>\n",
       "      <td>-0.420612</td>\n",
       "      <td>0.692538</td>\n",
       "      <td>-0.137583</td>\n",
       "      <td>0.304116</td>\n",
       "      <td>-0.046490</td>\n",
       "      <td>-0.341116</td>\n",
       "      <td>-0.046479</td>\n",
       "      <td>-0.297035</td>\n",
       "      <td>-0.056982</td>\n",
       "      <td>-0.319119</td>\n",
       "      <td>...</td>\n",
       "      <td>-1.079610</td>\n",
       "      <td>-0.447681</td>\n",
       "      <td>-0.672305</td>\n",
       "      <td>-0.706648</td>\n",
       "      <td>-1.163067</td>\n",
       "      <td>-0.412648</td>\n",
       "      <td>-0.879919</td>\n",
       "      <td>-0.428034</td>\n",
       "      <td>-0.955058</td>\n",
       "      <td>-2.536167</td>\n",
       "    </tr>\n",
       "    <tr>\n",
       "      <th>4</th>\n",
       "      <td>-0.554166</td>\n",
       "      <td>1.035914</td>\n",
       "      <td>-0.137583</td>\n",
       "      <td>0.033365</td>\n",
       "      <td>-0.065515</td>\n",
       "      <td>-0.342113</td>\n",
       "      <td>-0.030003</td>\n",
       "      <td>-0.328661</td>\n",
       "      <td>-0.032440</td>\n",
       "      <td>-0.304859</td>\n",
       "      <td>...</td>\n",
       "      <td>-1.077756</td>\n",
       "      <td>-0.449885</td>\n",
       "      <td>-0.654890</td>\n",
       "      <td>-0.694915</td>\n",
       "      <td>-1.157438</td>\n",
       "      <td>-0.357708</td>\n",
       "      <td>-0.874069</td>\n",
       "      <td>-0.421536</td>\n",
       "      <td>-0.950896</td>\n",
       "      <td>-2.561034</td>\n",
       "    </tr>\n",
       "  </tbody>\n",
       "</table>\n",
       "<p>5 rows × 52 columns</p>\n",
       "</div>"
      ],
      "text/plain": [
       "   primary_cleaner_input_sulfate  primary_cleaner_input_depressant  \\\n",
       "0                      -0.290461                          0.335122   \n",
       "1                      -0.329944                          0.385405   \n",
       "2                      -0.378785                          0.690784   \n",
       "3                      -0.420612                          0.692538   \n",
       "4                      -0.554166                          1.035914   \n",
       "\n",
       "   primary_cleaner_input_feed_size  primary_cleaner_input_xanthate  \\\n",
       "0                        -0.137583                        0.282837   \n",
       "1                        -0.137583                        0.319914   \n",
       "2                        -0.137583                        0.289520   \n",
       "3                        -0.137583                        0.304116   \n",
       "4                        -0.137583                        0.033365   \n",
       "\n",
       "   primary_cleaner_state_floatbank8_a_air  \\\n",
       "0                               -0.438446   \n",
       "1                               -0.232360   \n",
       "2                               -0.034094   \n",
       "3                               -0.046490   \n",
       "4                               -0.065515   \n",
       "\n",
       "   primary_cleaner_state_floatbank8_a_level  \\\n",
       "0                                 -0.280548   \n",
       "1                                 -0.339726   \n",
       "2                                 -0.312787   \n",
       "3                                 -0.341116   \n",
       "4                                 -0.342113   \n",
       "\n",
       "   primary_cleaner_state_floatbank8_b_air  \\\n",
       "0                               -0.422458   \n",
       "1                               -0.235203   \n",
       "2                               -0.048561   \n",
       "3                               -0.046479   \n",
       "4                               -0.030003   \n",
       "\n",
       "   primary_cleaner_state_floatbank8_b_level  \\\n",
       "0                                 -0.815826   \n",
       "1                                 -0.302891   \n",
       "2                                 -0.325901   \n",
       "3                                 -0.297035   \n",
       "4                                 -0.328661   \n",
       "\n",
       "   primary_cleaner_state_floatbank8_c_air  \\\n",
       "0                               -0.435706   \n",
       "1                               -0.239546   \n",
       "2                               -0.044220   \n",
       "3                               -0.056982   \n",
       "4                               -0.032440   \n",
       "\n",
       "   primary_cleaner_state_floatbank8_c_level  ...  \\\n",
       "0                                 -0.256712  ...   \n",
       "1                                 -0.276345  ...   \n",
       "2                                 -0.323420  ...   \n",
       "3                                 -0.319119  ...   \n",
       "4                                 -0.304859  ...   \n",
       "\n",
       "   secondary_cleaner_state_floatbank4_a_air  \\\n",
       "0                                 -1.083149   \n",
       "1                                 -1.087565   \n",
       "2                                 -1.083476   \n",
       "3                                 -1.079610   \n",
       "4                                 -1.077756   \n",
       "\n",
       "   secondary_cleaner_state_floatbank4_a_level  \\\n",
       "0                                   -0.479249   \n",
       "1                                   -0.537620   \n",
       "2                                   -0.479886   \n",
       "3                                   -0.447681   \n",
       "4                                   -0.449885   \n",
       "\n",
       "   secondary_cleaner_state_floatbank4_b_air  \\\n",
       "0                                 -0.653302   \n",
       "1                                 -0.681585   \n",
       "2                                 -0.688732   \n",
       "3                                 -0.672305   \n",
       "4                                 -0.654890   \n",
       "\n",
       "   secondary_cleaner_state_floatbank4_b_level  \\\n",
       "0                                   -0.766344   \n",
       "1                                   -0.708984   \n",
       "2                                   -0.705626   \n",
       "3                                   -0.706648   \n",
       "4                                   -0.694915   \n",
       "\n",
       "   secondary_cleaner_state_floatbank5_a_air  \\\n",
       "0                                 -1.170724   \n",
       "1                                 -1.151276   \n",
       "2                                 -1.145855   \n",
       "3                                 -1.163067   \n",
       "4                                 -1.157438   \n",
       "\n",
       "   secondary_cleaner_state_floatbank5_a_level  \\\n",
       "0                                   -0.389530   \n",
       "1                                   -0.437761   \n",
       "2                                   -0.436701   \n",
       "3                                   -0.412648   \n",
       "4                                   -0.357708   \n",
       "\n",
       "   secondary_cleaner_state_floatbank5_b_air  \\\n",
       "0                                 -0.862082   \n",
       "1                                 -0.878623   \n",
       "2                                 -0.873548   \n",
       "3                                 -0.879919   \n",
       "4                                 -0.874069   \n",
       "\n",
       "   secondary_cleaner_state_floatbank5_b_level  \\\n",
       "0                                   -0.433548   \n",
       "1                                   -0.436399   \n",
       "2                                   -0.434743   \n",
       "3                                   -0.428034   \n",
       "4                                   -0.421536   \n",
       "\n",
       "   secondary_cleaner_state_floatbank6_a_air  \\\n",
       "0                                 -0.929879   \n",
       "1                                 -0.956301   \n",
       "2                                 -0.951066   \n",
       "3                                 -0.955058   \n",
       "4                                 -0.950896   \n",
       "\n",
       "   secondary_cleaner_state_floatbank6_a_level  \n",
       "0                                   -2.696028  \n",
       "1                                   -2.530453  \n",
       "2                                   -2.575306  \n",
       "3                                   -2.536167  \n",
       "4                                   -2.561034  \n",
       "\n",
       "[5 rows x 52 columns]"
      ]
     },
     "execution_count": 316,
     "metadata": {},
     "output_type": "execute_result"
    }
   ],
   "source": [
    "features_scaled.head(5)"
   ]
  },
  {
   "cell_type": "code",
   "execution_count": 317,
   "metadata": {
    "id": "BcXY2zoe--sx"
   },
   "outputs": [],
   "source": [
    "features_test_scaled = scaler.transform(features_test)\n",
    "features_test_scaled = pd.DataFrame(features_test_scaled, columns = features.columns)"
   ]
  },
  {
   "cell_type": "code",
   "execution_count": 318,
   "metadata": {
    "colab": {
     "base_uri": "https://localhost:8080/",
     "height": 299
    },
    "id": "VkCh4Fl1--vg",
    "outputId": "925439d3-5509-4b57-98e2-a6d280fc6dd1"
   },
   "outputs": [
    {
     "data": {
      "text/html": [
       "<div>\n",
       "<style scoped>\n",
       "    .dataframe tbody tr th:only-of-type {\n",
       "        vertical-align: middle;\n",
       "    }\n",
       "\n",
       "    .dataframe tbody tr th {\n",
       "        vertical-align: top;\n",
       "    }\n",
       "\n",
       "    .dataframe thead th {\n",
       "        text-align: right;\n",
       "    }\n",
       "</style>\n",
       "<table border=\"1\" class=\"dataframe\">\n",
       "  <thead>\n",
       "    <tr style=\"text-align: right;\">\n",
       "      <th></th>\n",
       "      <th>primary_cleaner_input_sulfate</th>\n",
       "      <th>primary_cleaner_input_depressant</th>\n",
       "      <th>primary_cleaner_input_feed_size</th>\n",
       "      <th>primary_cleaner_input_xanthate</th>\n",
       "      <th>primary_cleaner_state_floatbank8_a_air</th>\n",
       "      <th>primary_cleaner_state_floatbank8_a_level</th>\n",
       "      <th>primary_cleaner_state_floatbank8_b_air</th>\n",
       "      <th>primary_cleaner_state_floatbank8_b_level</th>\n",
       "      <th>primary_cleaner_state_floatbank8_c_air</th>\n",
       "      <th>primary_cleaner_state_floatbank8_c_level</th>\n",
       "      <th>...</th>\n",
       "      <th>secondary_cleaner_state_floatbank4_a_air</th>\n",
       "      <th>secondary_cleaner_state_floatbank4_a_level</th>\n",
       "      <th>secondary_cleaner_state_floatbank4_b_air</th>\n",
       "      <th>secondary_cleaner_state_floatbank4_b_level</th>\n",
       "      <th>secondary_cleaner_state_floatbank5_a_air</th>\n",
       "      <th>secondary_cleaner_state_floatbank5_a_level</th>\n",
       "      <th>secondary_cleaner_state_floatbank5_b_air</th>\n",
       "      <th>secondary_cleaner_state_floatbank5_b_level</th>\n",
       "      <th>secondary_cleaner_state_floatbank6_a_air</th>\n",
       "      <th>secondary_cleaner_state_floatbank6_a_level</th>\n",
       "    </tr>\n",
       "  </thead>\n",
       "  <tbody>\n",
       "    <tr>\n",
       "      <th>0</th>\n",
       "      <td>1.969027</td>\n",
       "      <td>1.791562</td>\n",
       "      <td>1.232104</td>\n",
       "      <td>0.326203</td>\n",
       "      <td>-1.615998</td>\n",
       "      <td>-0.319551</td>\n",
       "      <td>-1.585640</td>\n",
       "      <td>-0.304561</td>\n",
       "      <td>-1.560466</td>\n",
       "      <td>-0.318404</td>\n",
       "      <td>...</td>\n",
       "      <td>-1.441667</td>\n",
       "      <td>-0.388415</td>\n",
       "      <td>-1.426329</td>\n",
       "      <td>-0.708265</td>\n",
       "      <td>-1.509494</td>\n",
       "      <td>1.321914</td>\n",
       "      <td>-1.421043</td>\n",
       "      <td>-0.422433</td>\n",
       "      <td>1.238390</td>\n",
       "      <td>0.206286</td>\n",
       "    </tr>\n",
       "    <tr>\n",
       "      <th>1</th>\n",
       "      <td>2.092963</td>\n",
       "      <td>1.789872</td>\n",
       "      <td>1.232104</td>\n",
       "      <td>0.287397</td>\n",
       "      <td>-1.617586</td>\n",
       "      <td>-0.314558</td>\n",
       "      <td>-1.593962</td>\n",
       "      <td>-0.300170</td>\n",
       "      <td>-1.590145</td>\n",
       "      <td>-0.274076</td>\n",
       "      <td>...</td>\n",
       "      <td>-1.435447</td>\n",
       "      <td>-0.405837</td>\n",
       "      <td>-1.404686</td>\n",
       "      <td>-0.680217</td>\n",
       "      <td>-1.507490</td>\n",
       "      <td>-1.103477</td>\n",
       "      <td>-1.419938</td>\n",
       "      <td>-0.425636</td>\n",
       "      <td>0.947214</td>\n",
       "      <td>0.203277</td>\n",
       "    </tr>\n",
       "    <tr>\n",
       "      <th>2</th>\n",
       "      <td>2.089387</td>\n",
       "      <td>1.160410</td>\n",
       "      <td>0.748038</td>\n",
       "      <td>0.302261</td>\n",
       "      <td>-1.619805</td>\n",
       "      <td>-0.338639</td>\n",
       "      <td>-1.587813</td>\n",
       "      <td>-0.299747</td>\n",
       "      <td>-1.575691</td>\n",
       "      <td>-0.362215</td>\n",
       "      <td>...</td>\n",
       "      <td>-1.452673</td>\n",
       "      <td>-0.407225</td>\n",
       "      <td>-1.411139</td>\n",
       "      <td>-0.700440</td>\n",
       "      <td>-1.488184</td>\n",
       "      <td>-0.454143</td>\n",
       "      <td>-1.415359</td>\n",
       "      <td>-0.417077</td>\n",
       "      <td>0.942882</td>\n",
       "      <td>0.181315</td>\n",
       "    </tr>\n",
       "    <tr>\n",
       "      <th>3</th>\n",
       "      <td>2.091446</td>\n",
       "      <td>0.897514</td>\n",
       "      <td>0.506005</td>\n",
       "      <td>-0.051149</td>\n",
       "      <td>-1.611025</td>\n",
       "      <td>-0.279106</td>\n",
       "      <td>-1.598661</td>\n",
       "      <td>-0.282579</td>\n",
       "      <td>-1.560268</td>\n",
       "      <td>-0.247305</td>\n",
       "      <td>...</td>\n",
       "      <td>-1.439952</td>\n",
       "      <td>-0.399161</td>\n",
       "      <td>-1.415294</td>\n",
       "      <td>-0.677509</td>\n",
       "      <td>-1.517963</td>\n",
       "      <td>-0.455876</td>\n",
       "      <td>-1.410780</td>\n",
       "      <td>-0.420541</td>\n",
       "      <td>0.934948</td>\n",
       "      <td>0.233617</td>\n",
       "    </tr>\n",
       "    <tr>\n",
       "      <th>4</th>\n",
       "      <td>1.653176</td>\n",
       "      <td>0.501050</td>\n",
       "      <td>0.324480</td>\n",
       "      <td>-0.205654</td>\n",
       "      <td>-1.598140</td>\n",
       "      <td>-0.336855</td>\n",
       "      <td>-1.593401</td>\n",
       "      <td>-0.291683</td>\n",
       "      <td>-1.544926</td>\n",
       "      <td>-0.321620</td>\n",
       "      <td>...</td>\n",
       "      <td>-1.441341</td>\n",
       "      <td>-0.446310</td>\n",
       "      <td>-1.419131</td>\n",
       "      <td>-0.693154</td>\n",
       "      <td>-1.481878</td>\n",
       "      <td>-0.680418</td>\n",
       "      <td>-1.406200</td>\n",
       "      <td>-0.430704</td>\n",
       "      <td>0.944345</td>\n",
       "      <td>0.174922</td>\n",
       "    </tr>\n",
       "  </tbody>\n",
       "</table>\n",
       "<p>5 rows × 52 columns</p>\n",
       "</div>"
      ],
      "text/plain": [
       "   primary_cleaner_input_sulfate  primary_cleaner_input_depressant  \\\n",
       "0                       1.969027                          1.791562   \n",
       "1                       2.092963                          1.789872   \n",
       "2                       2.089387                          1.160410   \n",
       "3                       2.091446                          0.897514   \n",
       "4                       1.653176                          0.501050   \n",
       "\n",
       "   primary_cleaner_input_feed_size  primary_cleaner_input_xanthate  \\\n",
       "0                         1.232104                        0.326203   \n",
       "1                         1.232104                        0.287397   \n",
       "2                         0.748038                        0.302261   \n",
       "3                         0.506005                       -0.051149   \n",
       "4                         0.324480                       -0.205654   \n",
       "\n",
       "   primary_cleaner_state_floatbank8_a_air  \\\n",
       "0                               -1.615998   \n",
       "1                               -1.617586   \n",
       "2                               -1.619805   \n",
       "3                               -1.611025   \n",
       "4                               -1.598140   \n",
       "\n",
       "   primary_cleaner_state_floatbank8_a_level  \\\n",
       "0                                 -0.319551   \n",
       "1                                 -0.314558   \n",
       "2                                 -0.338639   \n",
       "3                                 -0.279106   \n",
       "4                                 -0.336855   \n",
       "\n",
       "   primary_cleaner_state_floatbank8_b_air  \\\n",
       "0                               -1.585640   \n",
       "1                               -1.593962   \n",
       "2                               -1.587813   \n",
       "3                               -1.598661   \n",
       "4                               -1.593401   \n",
       "\n",
       "   primary_cleaner_state_floatbank8_b_level  \\\n",
       "0                                 -0.304561   \n",
       "1                                 -0.300170   \n",
       "2                                 -0.299747   \n",
       "3                                 -0.282579   \n",
       "4                                 -0.291683   \n",
       "\n",
       "   primary_cleaner_state_floatbank8_c_air  \\\n",
       "0                               -1.560466   \n",
       "1                               -1.590145   \n",
       "2                               -1.575691   \n",
       "3                               -1.560268   \n",
       "4                               -1.544926   \n",
       "\n",
       "   primary_cleaner_state_floatbank8_c_level  ...  \\\n",
       "0                                 -0.318404  ...   \n",
       "1                                 -0.274076  ...   \n",
       "2                                 -0.362215  ...   \n",
       "3                                 -0.247305  ...   \n",
       "4                                 -0.321620  ...   \n",
       "\n",
       "   secondary_cleaner_state_floatbank4_a_air  \\\n",
       "0                                 -1.441667   \n",
       "1                                 -1.435447   \n",
       "2                                 -1.452673   \n",
       "3                                 -1.439952   \n",
       "4                                 -1.441341   \n",
       "\n",
       "   secondary_cleaner_state_floatbank4_a_level  \\\n",
       "0                                   -0.388415   \n",
       "1                                   -0.405837   \n",
       "2                                   -0.407225   \n",
       "3                                   -0.399161   \n",
       "4                                   -0.446310   \n",
       "\n",
       "   secondary_cleaner_state_floatbank4_b_air  \\\n",
       "0                                 -1.426329   \n",
       "1                                 -1.404686   \n",
       "2                                 -1.411139   \n",
       "3                                 -1.415294   \n",
       "4                                 -1.419131   \n",
       "\n",
       "   secondary_cleaner_state_floatbank4_b_level  \\\n",
       "0                                   -0.708265   \n",
       "1                                   -0.680217   \n",
       "2                                   -0.700440   \n",
       "3                                   -0.677509   \n",
       "4                                   -0.693154   \n",
       "\n",
       "   secondary_cleaner_state_floatbank5_a_air  \\\n",
       "0                                 -1.509494   \n",
       "1                                 -1.507490   \n",
       "2                                 -1.488184   \n",
       "3                                 -1.517963   \n",
       "4                                 -1.481878   \n",
       "\n",
       "   secondary_cleaner_state_floatbank5_a_level  \\\n",
       "0                                    1.321914   \n",
       "1                                   -1.103477   \n",
       "2                                   -0.454143   \n",
       "3                                   -0.455876   \n",
       "4                                   -0.680418   \n",
       "\n",
       "   secondary_cleaner_state_floatbank5_b_air  \\\n",
       "0                                 -1.421043   \n",
       "1                                 -1.419938   \n",
       "2                                 -1.415359   \n",
       "3                                 -1.410780   \n",
       "4                                 -1.406200   \n",
       "\n",
       "   secondary_cleaner_state_floatbank5_b_level  \\\n",
       "0                                   -0.422433   \n",
       "1                                   -0.425636   \n",
       "2                                   -0.417077   \n",
       "3                                   -0.420541   \n",
       "4                                   -0.430704   \n",
       "\n",
       "   secondary_cleaner_state_floatbank6_a_air  \\\n",
       "0                                  1.238390   \n",
       "1                                  0.947214   \n",
       "2                                  0.942882   \n",
       "3                                  0.934948   \n",
       "4                                  0.944345   \n",
       "\n",
       "   secondary_cleaner_state_floatbank6_a_level  \n",
       "0                                    0.206286  \n",
       "1                                    0.203277  \n",
       "2                                    0.181315  \n",
       "3                                    0.233617  \n",
       "4                                    0.174922  \n",
       "\n",
       "[5 rows x 52 columns]"
      ]
     },
     "execution_count": 318,
     "metadata": {},
     "output_type": "execute_result"
    }
   ],
   "source": [
    "features_test_scaled.head(5)"
   ]
  },
  {
   "cell_type": "code",
   "execution_count": 319,
   "metadata": {
    "id": "1VV29-wIit_N",
    "outputId": "868e1fc2-b54d-4b22-a336-bc47d19438b1"
   },
   "outputs": [
    {
     "name": "stdout",
     "output_type": "stream",
     "text": [
      "Средняя оценка качества модели: 8.433150252780056\n"
     ]
    }
   ],
   "source": [
    "model = RandomForestRegressor(random_state=RANDOM_STATE)\n",
    "\n",
    "scores = cross_val_score(model, features_scaled, target_rougher, cv=5, scoring=sMAPE_scorer) \n",
    "final_score_rougher = sum(scores)/len(scores)\n",
    "print('Средняя оценка качества модели:', final_score_rougher)"
   ]
  },
  {
   "cell_type": "code",
   "execution_count": 320,
   "metadata": {
    "id": "v0sreILGit_N",
    "outputId": "1f03dbe5-9eed-46fa-f65a-5fedf85d4766"
   },
   "outputs": [
    {
     "name": "stdout",
     "output_type": "stream",
     "text": [
      "Средняя оценка качества модели: 9.147314229140779\n"
     ]
    }
   ],
   "source": [
    "model = RandomForestRegressor(random_state=RANDOM_STATE)\n",
    "\n",
    "scores = cross_val_score(model, features_scaled, target_final, cv=5, scoring=sMAPE_scorer) \n",
    "final_score_final = sum(scores)/len(scores)\n",
    "print('Средняя оценка качества модели:', final_score_final)"
   ]
  },
  {
   "cell_type": "code",
   "execution_count": 321,
   "metadata": {
    "id": "tQw9VNdFit_N"
   },
   "outputs": [],
   "source": [
    "forest_score = sMAPE_final(final_score_rougher, final_score_final)"
   ]
  },
  {
   "cell_type": "code",
   "execution_count": 322,
   "metadata": {
    "id": "PZ29dIVBit_N",
    "outputId": "f983992f-8550-4964-c972-f5b4b4c6ff0b"
   },
   "outputs": [
    {
     "data": {
      "text/plain": [
       "8.968773235050598"
      ]
     },
     "execution_count": 322,
     "metadata": {},
     "output_type": "execute_result"
    }
   ],
   "source": [
    "forest_score"
   ]
  },
  {
   "cell_type": "code",
   "execution_count": 323,
   "metadata": {
    "id": "_WLFEZNlit_O",
    "outputId": "f75515b6-f769-4283-b2e4-cd17569da117"
   },
   "outputs": [
    {
     "name": "stdout",
     "output_type": "stream",
     "text": [
      "Средняя оценка качества модели: 7.176634855531629\n"
     ]
    }
   ],
   "source": [
    "model = LinearRegression()\n",
    "\n",
    "scores = cross_val_score(model, features_scaled, target_rougher, cv=5, scoring=sMAPE_scorer)\n",
    "final_score_rougher = sum(scores)/len(scores)\n",
    "print('Средняя оценка качества модели:', final_score_rougher)"
   ]
  },
  {
   "cell_type": "code",
   "execution_count": 324,
   "metadata": {
    "id": "ZG6n8YZ4it_O",
    "outputId": "c930eaa7-994d-437d-a890-9f7b4ff7e24f"
   },
   "outputs": [
    {
     "name": "stdout",
     "output_type": "stream",
     "text": [
      "Средняя оценка качества модели: 9.787968821462432\n"
     ]
    }
   ],
   "source": [
    "model = LinearRegression()\n",
    "\n",
    "scores = cross_val_score(model, features_scaled, target_final, cv=5, scoring=sMAPE_scorer) \n",
    "final_score_final = sum(scores)/len(scores)\n",
    "print('Средняя оценка качества модели:', final_score_final)"
   ]
  },
  {
   "cell_type": "code",
   "execution_count": 325,
   "metadata": {
    "id": "3Jqog1nsit_O"
   },
   "outputs": [],
   "source": [
    "linear_score = sMAPE_final(final_score_rougher, final_score_final)"
   ]
  },
  {
   "cell_type": "code",
   "execution_count": 326,
   "metadata": {
    "id": "gHg14iqxit_O",
    "outputId": "ee8e4fc3-76ea-408e-81c6-69a8405950f3"
   },
   "outputs": [
    {
     "data": {
      "text/plain": [
       "9.13513532997973"
      ]
     },
     "execution_count": 326,
     "metadata": {},
     "output_type": "execute_result"
    }
   ],
   "source": [
    "linear_score"
   ]
  },
  {
   "cell_type": "code",
   "execution_count": 327,
   "metadata": {
    "id": "8kBxqA9hit_O",
    "outputId": "7baf97e1-4462-4449-872a-da022ddeb669"
   },
   "outputs": [
    {
     "name": "stdout",
     "output_type": "stream",
     "text": [
      "Средняя оценка качества модели: 12.932946063653139\n"
     ]
    }
   ],
   "source": [
    "model = DecisionTreeRegressor(random_state=RANDOM_STATE)\n",
    "\n",
    "scores = cross_val_score(model, features_scaled, target_rougher, cv=5, scoring=sMAPE_scorer) \n",
    "final_score_rougher = sum(scores)/len(scores)\n",
    "print('Средняя оценка качества модели:', final_score_rougher)"
   ]
  },
  {
   "cell_type": "code",
   "execution_count": 328,
   "metadata": {
    "id": "-zzvRuOfit_O",
    "outputId": "e12ee59b-b6e2-4406-9aee-a801180f48b3"
   },
   "outputs": [
    {
     "name": "stdout",
     "output_type": "stream",
     "text": [
      "Средняя оценка качества модели: 17.23673969892669\n"
     ]
    }
   ],
   "source": [
    "model = DecisionTreeRegressor(random_state=RANDOM_STATE)\n",
    "\n",
    "scores = cross_val_score(model, features_scaled, target_final, cv=5, scoring=sMAPE_scorer) \n",
    "final_score_final = sum(scores)/len(scores)\n",
    "print('Средняя оценка качества модели:', final_score_final)"
   ]
  },
  {
   "cell_type": "code",
   "execution_count": 329,
   "metadata": {
    "id": "W6riiaRVit_P"
   },
   "outputs": [],
   "source": [
    "tree_score = sMAPE_final(final_score_rougher, final_score_final)"
   ]
  },
  {
   "cell_type": "code",
   "execution_count": 330,
   "metadata": {
    "id": "fR5vOSqUit_P",
    "outputId": "c0eb8b3c-caa5-43bf-d4cc-953035ed6336"
   },
   "outputs": [
    {
     "data": {
      "text/plain": [
       "16.160791290108303"
      ]
     },
     "execution_count": 330,
     "metadata": {},
     "output_type": "execute_result"
    }
   ],
   "source": [
    "tree_score"
   ]
  },
  {
   "cell_type": "markdown",
   "metadata": {
    "id": "ZZ53E_dYit_P"
   },
   "source": [
    "Среди трех выбранных моделей, самое низкое значение метрики итоговое sMAPE показала модель случайного леса (8.97). Проверим выбранную модель на тестовой выборке."
   ]
  },
  {
   "cell_type": "code",
   "execution_count": 331,
   "metadata": {},
   "outputs": [],
   "source": [
    "def rfr_objective(trial):\n",
    "    \n",
    "    param = {\n",
    "    'max_depth': trial.suggest_int('max_depth', 2, 30),\n",
    "    'n_estimators': trial.suggest_int('n_estimators', 10,30),\n",
    "    'min_samples_split': trial.suggest_int('min_samples_split', 2, 10), \n",
    "    'min_samples_leaf': trial.suggest_int('min_samples_leaf', 2, 8),         \n",
    "    }\n",
    "    \n",
    "    rfr = RandomForestRegressor(**param, random_state = RANDOM_STATE)\n",
    "    scores = cross_val_score(rfr, features_scaled, target_final, \n",
    "                             cv = KFold(n_splits = 5, shuffle = True, random_state = RANDOM_STATE),\n",
    "                             scoring=sMAPE_scorer\n",
    "                            )\n",
    "    return scores.mean()"
   ]
  },
  {
   "cell_type": "code",
   "execution_count": 332,
   "metadata": {
    "scrolled": true
   },
   "outputs": [
    {
     "name": "stderr",
     "output_type": "stream",
     "text": [
      "\u001b[32m[I 2023-04-21 12:17:31,381]\u001b[0m A new study created in memory with name: no-name-b36a5a9e-dc24-4cfc-9703-0e015949c7b0\u001b[0m\n",
      "\u001b[32m[I 2023-04-21 12:18:03,926]\u001b[0m Trial 0 finished with value: 5.934491702955741 and parameters: {'max_depth': 9, 'n_estimators': 24, 'min_samples_split': 8, 'min_samples_leaf': 3}. Best is trial 0 with value: 5.934491702955741.\u001b[0m\n",
      "\u001b[32m[I 2023-04-21 12:18:41,738]\u001b[0m Trial 1 finished with value: 5.768114325718765 and parameters: {'max_depth': 10, 'n_estimators': 26, 'min_samples_split': 7, 'min_samples_leaf': 4}. Best is trial 1 with value: 5.768114325718765.\u001b[0m\n",
      "\u001b[32m[I 2023-04-21 12:19:07,508]\u001b[0m Trial 2 finished with value: 5.528993972407086 and parameters: {'max_depth': 14, 'n_estimators': 15, 'min_samples_split': 2, 'min_samples_leaf': 7}. Best is trial 2 with value: 5.528993972407086.\u001b[0m\n",
      "\u001b[32m[I 2023-04-21 12:19:59,701]\u001b[0m Trial 3 finished with value: 5.332924682172267 and parameters: {'max_depth': 20, 'n_estimators': 25, 'min_samples_split': 6, 'min_samples_leaf': 3}. Best is trial 3 with value: 5.332924682172267.\u001b[0m\n",
      "\u001b[32m[I 2023-04-21 12:20:44,550]\u001b[0m Trial 4 finished with value: 5.406444182597771 and parameters: {'max_depth': 17, 'n_estimators': 24, 'min_samples_split': 8, 'min_samples_leaf': 7}. Best is trial 3 with value: 5.332924682172267.\u001b[0m\n",
      "\u001b[32m[I 2023-04-21 12:21:39,035]\u001b[0m Trial 5 finished with value: 5.319586734921309 and parameters: {'max_depth': 27, 'n_estimators': 25, 'min_samples_split': 8, 'min_samples_leaf': 3}. Best is trial 5 with value: 5.319586734921309.\u001b[0m\n",
      "\u001b[32m[I 2023-04-21 12:22:19,353]\u001b[0m Trial 6 finished with value: 5.364618830944894 and parameters: {'max_depth': 24, 'n_estimators': 20, 'min_samples_split': 4, 'min_samples_leaf': 5}. Best is trial 5 with value: 5.319586734921309.\u001b[0m\n",
      "\u001b[32m[I 2023-04-21 12:22:47,514]\u001b[0m Trial 7 finished with value: 5.453746422195105 and parameters: {'max_depth': 27, 'n_estimators': 14, 'min_samples_split': 9, 'min_samples_leaf': 6}. Best is trial 5 with value: 5.319586734921309.\u001b[0m\n",
      "\u001b[32m[I 2023-04-21 12:23:42,412]\u001b[0m Trial 8 finished with value: 5.330014861548891 and parameters: {'max_depth': 19, 'n_estimators': 27, 'min_samples_split': 8, 'min_samples_leaf': 4}. Best is trial 5 with value: 5.319586734921309.\u001b[0m\n",
      "\u001b[32m[I 2023-04-21 12:24:00,326]\u001b[0m Trial 9 finished with value: 5.579369273091826 and parameters: {'max_depth': 15, 'n_estimators': 10, 'min_samples_split': 4, 'min_samples_leaf': 7}. Best is trial 5 with value: 5.319586734921309.\u001b[0m\n"
     ]
    },
    {
     "name": "stdout",
     "output_type": "stream",
     "text": [
      "Лучший результат: -5.319586734921309\n",
      "\n",
      "Оптимизированные параметры: {'max_depth': 27, 'n_estimators': 25, 'min_samples_split': 8, 'min_samples_leaf': 3}\n",
      "\n"
     ]
    }
   ],
   "source": [
    "study = optuna.create_study()\n",
    "study.optimize(rfr_objective, n_trials=10, timeout=600)\n",
    "rfr_params = study.best_params\n",
    "rfr_score = study.best_value*-1\n",
    "\n",
    "print(f'Лучший результат: {rfr_score}\\n')\n",
    "print(f'Оптимизированные параметры: {rfr_params}\\n')"
   ]
  },
  {
   "cell_type": "markdown",
   "metadata": {},
   "source": [
    "Лучший результат: -5.32569517526634\n",
    "\n",
    "Оптимизированные параметры: {'max_depth': 18, 'n_estimators': 30, 'min_samples_split': 9, 'min_samples_leaf': 4}"
   ]
  },
  {
   "cell_type": "code",
   "execution_count": 333,
   "metadata": {},
   "outputs": [
    {
     "data": {
      "text/plain": [
       "RandomForestRegressor(max_depth=18, min_samples_leaf=4, min_samples_split=9,\n",
       "                      n_estimators=30, random_state=12345)"
      ]
     },
     "execution_count": 333,
     "metadata": {},
     "output_type": "execute_result"
    }
   ],
   "source": [
    "model_rougher = RandomForestRegressor(random_state=RANDOM_STATE,\n",
    "                                      max_depth=18,\n",
    "                                      n_estimators=30,\n",
    "                                      min_samples_split=9,\n",
    "                                      min_samples_leaf=4)\n",
    "model_rougher.fit(features_scaled, target_rougher)\n",
    "\n",
    "model_final = RandomForestRegressor(random_state=RANDOM_STATE,\n",
    "                                      max_depth=18,\n",
    "                                      n_estimators=30,\n",
    "                                      min_samples_split=9,\n",
    "                                      min_samples_leaf=4)\n",
    "model_final.fit(features_scaled, target_final)"
   ]
  },
  {
   "cell_type": "code",
   "execution_count": 334,
   "metadata": {},
   "outputs": [],
   "source": [
    "predicted_rougher = model_rougher.predict(features_test)\n",
    "predicted_final = model_final.predict(features_test)"
   ]
  },
  {
   "cell_type": "code",
   "execution_count": 335,
   "metadata": {},
   "outputs": [
    {
     "name": "stdout",
     "output_type": "stream",
     "text": [
      "Оценка качества модели (rougher): 4.521018552164001\n",
      "Оценка качества модели (final): 7.235768665786031\n"
     ]
    }
   ],
   "source": [
    "test_score_rougher = sMAPE(target_rougher_test, predicted_rougher)\n",
    "print('Оценка качества модели (rougher):', test_score_rougher)\n",
    "test_score_final = sMAPE(target_final_test, predicted_final)\n",
    "print('Оценка качества модели (final):', test_score_final)"
   ]
  },
  {
   "cell_type": "code",
   "execution_count": 336,
   "metadata": {},
   "outputs": [],
   "source": [
    "test_score = sMAPE_final(test_score_rougher, test_score_final)"
   ]
  },
  {
   "cell_type": "code",
   "execution_count": 337,
   "metadata": {},
   "outputs": [
    {
     "data": {
      "text/plain": [
       "6.557081137380523"
      ]
     },
     "execution_count": 337,
     "metadata": {},
     "output_type": "execute_result"
    }
   ],
   "source": [
    "test_score"
   ]
  },
  {
   "cell_type": "markdown",
   "metadata": {},
   "source": [
    "Для оценки модели на адекватность, модель должна быть умнее тривиальной модели. В нашем исследовании в качестве тривиальной модели будем использовать модель DummyRegressor со статегией mean, которая возвращает среднее значение целевого параметра."
   ]
  },
  {
   "cell_type": "code",
   "execution_count": 338,
   "metadata": {},
   "outputs": [
    {
     "data": {
      "text/plain": [
       "DummyRegressor()"
      ]
     },
     "execution_count": 338,
     "metadata": {},
     "output_type": "execute_result"
    }
   ],
   "source": [
    "dummy_regr_rougher = DummyRegressor(strategy=\"mean\")\n",
    "dummy_regr_rougher.fit(features_scaled, target_rougher)\n",
    "\n",
    "dummy_regr_final = DummyRegressor(strategy=\"mean\")\n",
    "dummy_regr_final.fit(features_scaled, target_final)"
   ]
  },
  {
   "cell_type": "code",
   "execution_count": 339,
   "metadata": {},
   "outputs": [],
   "source": [
    "dummy_regr_rougher_pred = dummy_regr_rougher.predict(features_test)\n",
    "dummy_regr_final_pred = dummy_regr_final.predict(features_test)"
   ]
  },
  {
   "cell_type": "code",
   "execution_count": 340,
   "metadata": {},
   "outputs": [],
   "source": [
    "dummy_score_rougher = sMAPE(target_rougher_test, dummy_regr_rougher_pred)\n",
    "dummy_score_final = sMAPE(target_final_test, dummy_regr_final_pred)"
   ]
  },
  {
   "cell_type": "code",
   "execution_count": 341,
   "metadata": {},
   "outputs": [],
   "source": [
    "dummy_score = sMAPE_final(dummy_score_rougher, dummy_score_final)"
   ]
  },
  {
   "cell_type": "code",
   "execution_count": 342,
   "metadata": {
    "scrolled": true
   },
   "outputs": [
    {
     "data": {
      "text/plain": [
       "7.146437574263466"
      ]
     },
     "execution_count": 342,
     "metadata": {},
     "output_type": "execute_result"
    }
   ],
   "source": [
    "dummy_score"
   ]
  },
  {
   "cell_type": "markdown",
   "metadata": {},
   "source": [
    "Наша модель прошла оценку на адекватность, занчение целевой метрики итоговое sMAPE меньше чем у тривиальной модели."
   ]
  },
  {
   "cell_type": "markdown",
   "metadata": {
    "id": "Jkk5AG6Wit_R"
   },
   "source": [
    "**Вывод: Для данной задачи были обучены три модели: модель случайного леса, модель линейной регрессии, модель решающего дерева. Качество моделей было оценено кросс-валидацией. Наилучшие значние метрики sMAPE показала модель случайного леса. Для проверки адекватности модели, модель сравнивалась с моделью DummyRegressor со статегией mean, возвращающей среднее значение целевого параметра. Выбранная модель показала лучшие значение целевой метрики чем тривиальная модель.**"
   ]
  },
  {
   "cell_type": "markdown",
   "metadata": {
    "id": "wfwpaNcQit_R"
   },
   "source": [
    "## Общий вывод"
   ]
  },
  {
   "cell_type": "markdown",
   "metadata": {
    "id": "ZqehEI3yit_R"
   },
   "source": [
    "В рамках данного исследования были загружены и изучены производственные данные восстановления золота из золотосодержащей руды. Данные были проверены на корректность, обработаны пропущенные значения.  \n",
    "\n",
    "Анализ данных показал, что концентрация золота растет по мере выполнения технологического процесса, концентрация свинца незначительно растет от этапа к этапу, концентрация серебра же падает. Распределение размера гранул перед грубой очисткой немного отличается для обучающей и тестовой выборки. Перед первичной очисткой распределение размера гранул не сильно различаются для обучающей и тестовой выборки. При анализе суммарной концентрации всех веществ на разных стадиях из датасета были удалены выбросные значения.  \n",
    "\n",
    "Были обучены три типо моделей: модель решающего дерева, модель случайного леса и модель линейной регресии. По условию задачи для исследования использовалась модель случайного леса. Модели были обучены на тренировочной выборке и оценены кросс-валидацией. Наилучшие значние метрики sMAPE показала модель линейной регресии. Значение итогового sMAPE на тестовой выборке составило 6.56. Для проверки адекватности модели, модель сравнивалась с моделью DummyRegressor со статегией mean, возвращающей среднее значение целевого параметра. Выбранная модель показала лучшие значение целевой метрики чем тривиальная модель, применение данной модели в бизнесе оправдано. В дальнейшем можно приступить к расчету экономического эффекта от внедрения модели."
   ]
  }
 ],
 "metadata": {
  "ExecuteTimeLog": [
   {
    "duration": 1548,
    "start_time": "2023-04-19T03:35:57.705Z"
   },
   {
    "duration": 73,
    "start_time": "2023-04-19T03:35:59.284Z"
   },
   {
    "duration": 47,
    "start_time": "2023-04-19T03:36:08.213Z"
   },
   {
    "duration": 2,
    "start_time": "2023-04-19T03:36:22.884Z"
   },
   {
    "duration": 10,
    "start_time": "2023-04-19T03:36:26.183Z"
   },
   {
    "duration": 5,
    "start_time": "2023-04-19T03:36:26.355Z"
   },
   {
    "duration": 10,
    "start_time": "2023-04-19T03:36:26.668Z"
   },
   {
    "duration": 4,
    "start_time": "2023-04-19T03:36:27.332Z"
   },
   {
    "duration": 700,
    "start_time": "2023-04-19T03:36:27.948Z"
   },
   {
    "duration": 2979,
    "start_time": "2023-04-19T03:37:18.660Z"
   },
   {
    "duration": 30,
    "start_time": "2023-04-19T03:38:28.915Z"
   },
   {
    "duration": 4,
    "start_time": "2023-04-19T03:43:57.156Z"
   },
   {
    "duration": 6,
    "start_time": "2023-04-19T03:43:57.166Z"
   },
   {
    "duration": 8,
    "start_time": "2023-04-19T03:43:57.174Z"
   },
   {
    "duration": 8,
    "start_time": "2023-04-19T03:43:57.183Z"
   },
   {
    "duration": 26,
    "start_time": "2023-04-19T03:43:57.192Z"
   },
   {
    "duration": 9,
    "start_time": "2023-04-19T03:43:57.220Z"
   },
   {
    "duration": 637,
    "start_time": "2023-04-19T03:43:57.231Z"
   },
   {
    "duration": 18,
    "start_time": "2023-04-19T03:43:57.870Z"
   },
   {
    "duration": 18,
    "start_time": "2023-04-19T03:43:57.890Z"
   },
   {
    "duration": 21,
    "start_time": "2023-04-19T03:43:57.910Z"
   },
   {
    "duration": 4,
    "start_time": "2023-04-19T03:46:21.521Z"
   },
   {
    "duration": 4,
    "start_time": "2023-04-19T03:46:41.941Z"
   },
   {
    "duration": 391,
    "start_time": "2023-04-19T03:51:51.661Z"
   },
   {
    "duration": 121,
    "start_time": "2023-04-19T03:54:53.365Z"
   },
   {
    "duration": 8,
    "start_time": "2023-04-19T03:55:44.326Z"
   },
   {
    "duration": 8,
    "start_time": "2023-04-19T03:56:21.838Z"
   },
   {
    "duration": 37847,
    "start_time": "2023-04-19T03:56:42.994Z"
   },
   {
    "duration": 38223,
    "start_time": "2023-04-19T03:57:56.423Z"
   },
   {
    "duration": 2,
    "start_time": "2023-04-19T04:13:40.733Z"
   },
   {
    "duration": 4,
    "start_time": "2023-04-19T04:14:33.853Z"
   },
   {
    "duration": 13,
    "start_time": "2023-04-19T04:26:30.132Z"
   },
   {
    "duration": 18,
    "start_time": "2023-04-19T04:26:58.669Z"
   },
   {
    "duration": 16,
    "start_time": "2023-04-19T04:26:59.104Z"
   },
   {
    "duration": 5,
    "start_time": "2023-04-19T04:27:07.565Z"
   },
   {
    "duration": 15,
    "start_time": "2023-04-19T04:27:07.902Z"
   },
   {
    "duration": 19,
    "start_time": "2023-04-19T04:28:51.612Z"
   },
   {
    "duration": 15,
    "start_time": "2023-04-19T04:28:52.036Z"
   },
   {
    "duration": 23,
    "start_time": "2023-04-19T04:28:58.269Z"
   },
   {
    "duration": 28,
    "start_time": "2023-04-19T04:28:59.070Z"
   },
   {
    "duration": 15,
    "start_time": "2023-04-19T04:29:15.068Z"
   },
   {
    "duration": 21,
    "start_time": "2023-04-19T04:29:16.069Z"
   },
   {
    "duration": 12,
    "start_time": "2023-04-19T04:29:25.772Z"
   },
   {
    "duration": 9,
    "start_time": "2023-04-19T04:33:02.541Z"
   },
   {
    "duration": 6,
    "start_time": "2023-04-19T04:33:25.372Z"
   },
   {
    "duration": 6,
    "start_time": "2023-04-19T04:34:14.212Z"
   },
   {
    "duration": 6,
    "start_time": "2023-04-19T04:34:18.309Z"
   },
   {
    "duration": 5,
    "start_time": "2023-04-19T04:34:21.733Z"
   },
   {
    "duration": 6,
    "start_time": "2023-04-19T04:34:48.974Z"
   },
   {
    "duration": 5,
    "start_time": "2023-04-19T04:42:05.148Z"
   },
   {
    "duration": 5,
    "start_time": "2023-04-19T04:42:15.549Z"
   },
   {
    "duration": 5,
    "start_time": "2023-04-19T04:43:49.102Z"
   },
   {
    "duration": 5,
    "start_time": "2023-04-19T04:43:49.446Z"
   },
   {
    "duration": 6,
    "start_time": "2023-04-19T04:44:46.543Z"
   },
   {
    "duration": 6,
    "start_time": "2023-04-19T04:44:51.870Z"
   },
   {
    "duration": 5,
    "start_time": "2023-04-19T04:48:03.715Z"
   },
   {
    "duration": 5,
    "start_time": "2023-04-19T04:48:14.047Z"
   },
   {
    "duration": 5,
    "start_time": "2023-04-19T04:49:07.795Z"
   },
   {
    "duration": 5,
    "start_time": "2023-04-19T04:49:48.523Z"
   },
   {
    "duration": 5,
    "start_time": "2023-04-19T04:50:34.055Z"
   },
   {
    "duration": 3,
    "start_time": "2023-04-19T05:03:41.921Z"
   },
   {
    "duration": 4,
    "start_time": "2023-04-19T05:03:48.865Z"
   },
   {
    "duration": 5,
    "start_time": "2023-04-19T05:04:29.934Z"
   },
   {
    "duration": 376,
    "start_time": "2023-04-19T05:24:35.546Z"
   },
   {
    "duration": 654,
    "start_time": "2023-04-19T05:24:37.846Z"
   },
   {
    "duration": 15,
    "start_time": "2023-04-19T05:43:10.571Z"
   },
   {
    "duration": 6,
    "start_time": "2023-04-19T05:43:28.303Z"
   },
   {
    "duration": 33,
    "start_time": "2023-04-19T05:55:32.659Z"
   },
   {
    "duration": 22,
    "start_time": "2023-04-19T05:55:50.116Z"
   },
   {
    "duration": 6,
    "start_time": "2023-04-19T05:58:30.059Z"
   },
   {
    "duration": 7,
    "start_time": "2023-04-19T05:58:37.294Z"
   },
   {
    "duration": 133,
    "start_time": "2023-04-19T05:59:24.595Z"
   },
   {
    "duration": 421,
    "start_time": "2023-04-19T05:59:54.498Z"
   },
   {
    "duration": 14,
    "start_time": "2023-04-19T06:03:03.615Z"
   },
   {
    "duration": 225,
    "start_time": "2023-04-19T06:03:10.903Z"
   },
   {
    "duration": 192,
    "start_time": "2023-04-19T06:03:29.300Z"
   },
   {
    "duration": 191,
    "start_time": "2023-04-19T06:04:02.416Z"
   },
   {
    "duration": 213,
    "start_time": "2023-04-19T06:04:13.495Z"
   },
   {
    "duration": 216,
    "start_time": "2023-04-19T06:04:15.897Z"
   },
   {
    "duration": 175,
    "start_time": "2023-04-19T06:04:23.094Z"
   },
   {
    "duration": 193,
    "start_time": "2023-04-19T06:04:43.160Z"
   },
   {
    "duration": 185,
    "start_time": "2023-04-19T06:04:51.396Z"
   },
   {
    "duration": 187,
    "start_time": "2023-04-19T06:04:54.467Z"
   },
   {
    "duration": 208,
    "start_time": "2023-04-19T06:05:02.000Z"
   },
   {
    "duration": 186,
    "start_time": "2023-04-19T06:06:24.336Z"
   },
   {
    "duration": 371,
    "start_time": "2023-04-19T06:06:24.874Z"
   },
   {
    "duration": 386,
    "start_time": "2023-04-19T06:09:30.803Z"
   },
   {
    "duration": 5,
    "start_time": "2023-04-19T06:15:34.323Z"
   },
   {
    "duration": 52,
    "start_time": "2023-04-19T19:30:45.387Z"
   },
   {
    "duration": 1630,
    "start_time": "2023-04-19T19:30:55.074Z"
   },
   {
    "duration": 3,
    "start_time": "2023-04-19T19:30:56.706Z"
   },
   {
    "duration": 8,
    "start_time": "2023-04-19T19:30:56.712Z"
   },
   {
    "duration": 8,
    "start_time": "2023-04-19T19:30:56.721Z"
   },
   {
    "duration": 11,
    "start_time": "2023-04-19T19:30:56.732Z"
   },
   {
    "duration": 7,
    "start_time": "2023-04-19T19:30:56.745Z"
   },
   {
    "duration": 2329,
    "start_time": "2023-04-19T19:30:56.754Z"
   },
   {
    "duration": 34,
    "start_time": "2023-04-19T19:30:59.086Z"
   },
   {
    "duration": 28,
    "start_time": "2023-04-19T19:30:59.123Z"
   },
   {
    "duration": 58,
    "start_time": "2023-04-19T19:30:59.154Z"
   },
   {
    "duration": 9,
    "start_time": "2023-04-19T19:30:59.214Z"
   },
   {
    "duration": 34,
    "start_time": "2023-04-19T19:30:59.225Z"
   },
   {
    "duration": 7,
    "start_time": "2023-04-19T19:31:08.094Z"
   },
   {
    "duration": 6,
    "start_time": "2023-04-19T19:31:30.228Z"
   },
   {
    "duration": 5,
    "start_time": "2023-04-19T19:33:24.642Z"
   },
   {
    "duration": 5,
    "start_time": "2023-04-19T19:34:34.472Z"
   },
   {
    "duration": 5,
    "start_time": "2023-04-19T19:34:53.419Z"
   },
   {
    "duration": 6,
    "start_time": "2023-04-19T19:36:45.809Z"
   },
   {
    "duration": 4,
    "start_time": "2023-04-19T19:36:57.678Z"
   },
   {
    "duration": 4,
    "start_time": "2023-04-19T19:37:21.923Z"
   },
   {
    "duration": 4,
    "start_time": "2023-04-19T19:42:08.597Z"
   },
   {
    "duration": 5,
    "start_time": "2023-04-19T19:42:20.475Z"
   },
   {
    "duration": 20,
    "start_time": "2023-04-19T20:00:29.715Z"
   },
   {
    "duration": 74,
    "start_time": "2023-04-19T20:01:45.620Z"
   },
   {
    "duration": 191,
    "start_time": "2023-04-19T20:01:54.214Z"
   },
   {
    "duration": 5,
    "start_time": "2023-04-19T20:09:14.097Z"
   },
   {
    "duration": 5,
    "start_time": "2023-04-19T20:09:14.897Z"
   },
   {
    "duration": 6,
    "start_time": "2023-04-19T20:09:15.606Z"
   },
   {
    "duration": 4,
    "start_time": "2023-04-19T20:09:47.550Z"
   },
   {
    "duration": 4,
    "start_time": "2023-04-19T20:09:54.294Z"
   },
   {
    "duration": 5,
    "start_time": "2023-04-19T20:09:57.942Z"
   },
   {
    "duration": 5,
    "start_time": "2023-04-19T20:14:12.894Z"
   },
   {
    "duration": 10,
    "start_time": "2023-04-19T20:20:29.482Z"
   },
   {
    "duration": 12,
    "start_time": "2023-04-19T20:22:29.118Z"
   },
   {
    "duration": 718,
    "start_time": "2023-04-19T20:24:23.503Z"
   },
   {
    "duration": 7,
    "start_time": "2023-04-19T20:25:07.230Z"
   },
   {
    "duration": 6,
    "start_time": "2023-04-19T20:25:43.014Z"
   },
   {
    "duration": 7,
    "start_time": "2023-04-19T20:26:03.689Z"
   },
   {
    "duration": 9,
    "start_time": "2023-04-19T20:26:20.447Z"
   },
   {
    "duration": 46,
    "start_time": "2023-04-19T20:28:50.977Z"
   },
   {
    "duration": 8,
    "start_time": "2023-04-19T20:28:56.911Z"
   },
   {
    "duration": 9,
    "start_time": "2023-04-19T20:29:27.359Z"
   },
   {
    "duration": 8,
    "start_time": "2023-04-19T20:32:34.343Z"
   },
   {
    "duration": 10,
    "start_time": "2023-04-19T20:33:00.446Z"
   },
   {
    "duration": 48,
    "start_time": "2023-04-20T03:36:28.052Z"
   },
   {
    "duration": 8,
    "start_time": "2023-04-20T03:36:35.700Z"
   },
   {
    "duration": 1566,
    "start_time": "2023-04-20T03:36:42.196Z"
   },
   {
    "duration": 2,
    "start_time": "2023-04-20T03:36:43.765Z"
   },
   {
    "duration": 6,
    "start_time": "2023-04-20T03:36:43.769Z"
   },
   {
    "duration": 9,
    "start_time": "2023-04-20T03:36:43.777Z"
   },
   {
    "duration": 29,
    "start_time": "2023-04-20T03:36:43.787Z"
   },
   {
    "duration": 13,
    "start_time": "2023-04-20T03:36:43.818Z"
   },
   {
    "duration": 1806,
    "start_time": "2023-04-20T03:36:43.832Z"
   },
   {
    "duration": 26,
    "start_time": "2023-04-20T03:36:45.639Z"
   },
   {
    "duration": 22,
    "start_time": "2023-04-20T03:36:45.666Z"
   },
   {
    "duration": 21,
    "start_time": "2023-04-20T03:36:45.690Z"
   },
   {
    "duration": 16,
    "start_time": "2023-04-20T03:36:45.713Z"
   },
   {
    "duration": 27,
    "start_time": "2023-04-20T03:36:45.731Z"
   },
   {
    "duration": 10,
    "start_time": "2023-04-20T03:36:45.760Z"
   },
   {
    "duration": 15,
    "start_time": "2023-04-20T03:36:45.771Z"
   },
   {
    "duration": 5,
    "start_time": "2023-04-20T03:36:45.788Z"
   },
   {
    "duration": 5,
    "start_time": "2023-04-20T03:36:45.794Z"
   },
   {
    "duration": 5,
    "start_time": "2023-04-20T03:36:45.801Z"
   },
   {
    "duration": 9,
    "start_time": "2023-04-20T03:36:45.807Z"
   },
   {
    "duration": 5,
    "start_time": "2023-04-20T03:36:45.818Z"
   },
   {
    "duration": 414,
    "start_time": "2023-04-20T03:36:45.824Z"
   },
   {
    "duration": 177,
    "start_time": "2023-04-20T03:36:46.240Z"
   },
   {
    "duration": 401,
    "start_time": "2023-04-20T03:36:46.420Z"
   },
   {
    "duration": 5,
    "start_time": "2023-04-20T03:36:46.823Z"
   },
   {
    "duration": 5,
    "start_time": "2023-04-20T03:36:46.829Z"
   },
   {
    "duration": 7,
    "start_time": "2023-04-20T03:36:46.835Z"
   },
   {
    "duration": 198,
    "start_time": "2023-04-20T03:36:46.844Z"
   },
   {
    "duration": 104,
    "start_time": "2023-04-20T03:36:47.044Z"
   },
   {
    "duration": 375,
    "start_time": "2023-04-20T03:36:47.151Z"
   },
   {
    "duration": 395,
    "start_time": "2023-04-20T03:36:47.528Z"
   },
   {
    "duration": 8,
    "start_time": "2023-04-20T03:36:47.925Z"
   },
   {
    "duration": 86,
    "start_time": "2023-04-20T03:36:47.935Z"
   },
   {
    "duration": 6,
    "start_time": "2023-04-20T03:40:32.996Z"
   },
   {
    "duration": 6,
    "start_time": "2023-04-20T03:40:40.669Z"
   },
   {
    "duration": 6,
    "start_time": "2023-04-20T03:41:08.756Z"
   },
   {
    "duration": 7,
    "start_time": "2023-04-20T03:41:24.079Z"
   },
   {
    "duration": 5,
    "start_time": "2023-04-20T03:43:12.652Z"
   },
   {
    "duration": 5,
    "start_time": "2023-04-20T03:43:18.989Z"
   },
   {
    "duration": 6,
    "start_time": "2023-04-20T03:43:24.093Z"
   },
   {
    "duration": 5,
    "start_time": "2023-04-20T03:43:27.693Z"
   },
   {
    "duration": 11,
    "start_time": "2023-04-20T03:43:49.997Z"
   },
   {
    "duration": 8,
    "start_time": "2023-04-20T03:43:54.749Z"
   },
   {
    "duration": 9,
    "start_time": "2023-04-20T03:48:57.524Z"
   },
   {
    "duration": 5,
    "start_time": "2023-04-20T03:48:58.116Z"
   },
   {
    "duration": 13,
    "start_time": "2023-04-20T03:49:51.029Z"
   },
   {
    "duration": 10,
    "start_time": "2023-04-20T03:49:51.413Z"
   },
   {
    "duration": 8,
    "start_time": "2023-04-20T03:49:51.797Z"
   },
   {
    "duration": 10,
    "start_time": "2023-04-20T04:24:01.247Z"
   },
   {
    "duration": 4,
    "start_time": "2023-04-20T04:24:21.447Z"
   },
   {
    "duration": 5,
    "start_time": "2023-04-20T04:24:33.064Z"
   },
   {
    "duration": 27,
    "start_time": "2023-04-20T04:24:37.391Z"
   },
   {
    "duration": 25,
    "start_time": "2023-04-20T04:25:03.848Z"
   },
   {
    "duration": 5,
    "start_time": "2023-04-20T04:25:35.935Z"
   },
   {
    "duration": 14,
    "start_time": "2023-04-20T04:25:52.783Z"
   },
   {
    "duration": 252,
    "start_time": "2023-04-20T04:27:16.175Z"
   },
   {
    "duration": 421,
    "start_time": "2023-04-20T04:27:57.279Z"
   },
   {
    "duration": 471,
    "start_time": "2023-04-20T04:28:37.664Z"
   },
   {
    "duration": 380,
    "start_time": "2023-04-20T04:30:56.111Z"
   },
   {
    "duration": 397,
    "start_time": "2023-04-20T04:31:02.897Z"
   },
   {
    "duration": 562,
    "start_time": "2023-04-20T04:31:35.063Z"
   },
   {
    "duration": 573,
    "start_time": "2023-04-20T04:31:51.544Z"
   },
   {
    "duration": 425,
    "start_time": "2023-04-20T04:33:16.901Z"
   },
   {
    "duration": 382,
    "start_time": "2023-04-20T04:34:17.096Z"
   },
   {
    "duration": 412,
    "start_time": "2023-04-20T04:34:46.136Z"
   },
   {
    "duration": 4,
    "start_time": "2023-04-20T04:53:02.137Z"
   },
   {
    "duration": 7,
    "start_time": "2023-04-20T04:55:47.105Z"
   },
   {
    "duration": 7,
    "start_time": "2023-04-20T04:55:57.697Z"
   },
   {
    "duration": 31,
    "start_time": "2023-04-20T04:57:22.809Z"
   },
   {
    "duration": 9,
    "start_time": "2023-04-20T04:58:20.441Z"
   },
   {
    "duration": 6,
    "start_time": "2023-04-20T05:00:10.225Z"
   },
   {
    "duration": 4,
    "start_time": "2023-04-20T05:00:15.394Z"
   },
   {
    "duration": 5,
    "start_time": "2023-04-20T05:00:17.818Z"
   },
   {
    "duration": 6,
    "start_time": "2023-04-20T05:00:20.241Z"
   },
   {
    "duration": 4,
    "start_time": "2023-04-20T05:00:53.002Z"
   },
   {
    "duration": 5,
    "start_time": "2023-04-20T05:00:55.985Z"
   },
   {
    "duration": 823,
    "start_time": "2023-04-20T05:00:58.770Z"
   },
   {
    "duration": 5,
    "start_time": "2023-04-20T05:01:07.153Z"
   },
   {
    "duration": 4,
    "start_time": "2023-04-20T05:01:12.073Z"
   },
   {
    "duration": 4,
    "start_time": "2023-04-20T05:01:14.553Z"
   },
   {
    "duration": 5,
    "start_time": "2023-04-20T05:01:21.937Z"
   },
   {
    "duration": 13,
    "start_time": "2023-04-20T05:01:41.257Z"
   },
   {
    "duration": 10,
    "start_time": "2023-04-20T05:01:49.105Z"
   },
   {
    "duration": 15,
    "start_time": "2023-04-20T05:01:54.417Z"
   },
   {
    "duration": 5,
    "start_time": "2023-04-20T05:02:47.026Z"
   },
   {
    "duration": 5,
    "start_time": "2023-04-20T05:03:04.194Z"
   },
   {
    "duration": 5,
    "start_time": "2023-04-20T05:03:15.113Z"
   },
   {
    "duration": 5,
    "start_time": "2023-04-20T05:03:23.825Z"
   },
   {
    "duration": 5,
    "start_time": "2023-04-20T05:03:32.185Z"
   },
   {
    "duration": 25,
    "start_time": "2023-04-20T05:04:42.178Z"
   },
   {
    "duration": 12,
    "start_time": "2023-04-20T05:04:44.098Z"
   },
   {
    "duration": 10,
    "start_time": "2023-04-20T05:04:52.842Z"
   },
   {
    "duration": 12,
    "start_time": "2023-04-20T05:04:54.626Z"
   },
   {
    "duration": 6,
    "start_time": "2023-04-20T05:10:24.522Z"
   },
   {
    "duration": 5,
    "start_time": "2023-04-20T05:10:45.378Z"
   },
   {
    "duration": 5,
    "start_time": "2023-04-20T05:10:54.250Z"
   },
   {
    "duration": 804,
    "start_time": "2023-04-20T05:11:36.818Z"
   },
   {
    "duration": 0,
    "start_time": "2023-04-20T05:11:37.625Z"
   },
   {
    "duration": 18,
    "start_time": "2023-04-20T05:11:49.266Z"
   },
   {
    "duration": 7,
    "start_time": "2023-04-20T05:11:49.627Z"
   },
   {
    "duration": 18,
    "start_time": "2023-04-20T05:11:54.098Z"
   },
   {
    "duration": 12,
    "start_time": "2023-04-20T05:12:19.354Z"
   },
   {
    "duration": 765,
    "start_time": "2023-04-20T05:13:51.866Z"
   },
   {
    "duration": 471,
    "start_time": "2023-04-20T05:14:09.322Z"
   },
   {
    "duration": 694,
    "start_time": "2023-04-20T05:14:29.146Z"
   },
   {
    "duration": 11,
    "start_time": "2023-04-20T05:17:10.242Z"
   },
   {
    "duration": 5,
    "start_time": "2023-04-20T05:17:24.634Z"
   },
   {
    "duration": 1298,
    "start_time": "2023-04-20T05:18:20.378Z"
   },
   {
    "duration": 1100,
    "start_time": "2023-04-20T05:18:43.979Z"
   },
   {
    "duration": 1401,
    "start_time": "2023-04-20T05:18:53.211Z"
   },
   {
    "duration": 1182,
    "start_time": "2023-04-20T05:19:24.922Z"
   },
   {
    "duration": 1164,
    "start_time": "2023-04-20T05:21:26.914Z"
   },
   {
    "duration": 1275,
    "start_time": "2023-04-20T05:21:34.731Z"
   },
   {
    "duration": 1246,
    "start_time": "2023-04-20T05:21:45.347Z"
   },
   {
    "duration": 1202,
    "start_time": "2023-04-20T05:21:52.275Z"
   },
   {
    "duration": 1339,
    "start_time": "2023-04-20T05:22:40.011Z"
   },
   {
    "duration": 1536,
    "start_time": "2023-04-20T05:23:19.563Z"
   },
   {
    "duration": 1729,
    "start_time": "2023-04-20T05:24:33.363Z"
   },
   {
    "duration": 1492,
    "start_time": "2023-04-20T05:26:10.082Z"
   },
   {
    "duration": 1546,
    "start_time": "2023-04-20T05:26:36.803Z"
   },
   {
    "duration": 1441,
    "start_time": "2023-04-20T05:27:03.924Z"
   },
   {
    "duration": 1478,
    "start_time": "2023-04-20T05:27:18.346Z"
   },
   {
    "duration": 1612,
    "start_time": "2023-04-20T05:27:38.556Z"
   },
   {
    "duration": 1202,
    "start_time": "2023-04-20T05:28:21.083Z"
   },
   {
    "duration": 1489,
    "start_time": "2023-04-20T05:30:19.259Z"
   },
   {
    "duration": 1318,
    "start_time": "2023-04-20T05:30:41.859Z"
   },
   {
    "duration": 1269,
    "start_time": "2023-04-20T05:30:50.461Z"
   },
   {
    "duration": 1344,
    "start_time": "2023-04-20T05:31:14.836Z"
   },
   {
    "duration": 1251,
    "start_time": "2023-04-20T05:31:26.509Z"
   },
   {
    "duration": 1558,
    "start_time": "2023-04-20T05:34:02.814Z"
   },
   {
    "duration": 1457,
    "start_time": "2023-04-20T05:34:16.201Z"
   },
   {
    "duration": 1162,
    "start_time": "2023-04-20T05:34:28.613Z"
   },
   {
    "duration": 1565,
    "start_time": "2023-04-20T05:34:37.412Z"
   },
   {
    "duration": 519,
    "start_time": "2023-04-20T05:39:15.148Z"
   },
   {
    "duration": 676,
    "start_time": "2023-04-20T05:39:26.331Z"
   },
   {
    "duration": 523,
    "start_time": "2023-04-20T05:39:36.355Z"
   },
   {
    "duration": 480,
    "start_time": "2023-04-20T05:39:44.284Z"
   },
   {
    "duration": 505,
    "start_time": "2023-04-20T05:39:49.433Z"
   },
   {
    "duration": 1290,
    "start_time": "2023-04-20T05:40:08.814Z"
   },
   {
    "duration": 1559,
    "start_time": "2023-04-20T05:40:14.483Z"
   },
   {
    "duration": 7,
    "start_time": "2023-04-20T05:43:09.731Z"
   },
   {
    "duration": 800,
    "start_time": "2023-04-20T05:43:47.956Z"
   },
   {
    "duration": 7,
    "start_time": "2023-04-20T05:44:46.315Z"
   },
   {
    "duration": 7,
    "start_time": "2023-04-20T05:44:59.939Z"
   },
   {
    "duration": 44,
    "start_time": "2023-04-20T05:45:08.459Z"
   },
   {
    "duration": 27,
    "start_time": "2023-04-20T05:45:19.299Z"
   },
   {
    "duration": 30,
    "start_time": "2023-04-20T05:49:18.084Z"
   },
   {
    "duration": 6,
    "start_time": "2023-04-20T05:49:29.547Z"
   },
   {
    "duration": 9,
    "start_time": "2023-04-20T05:49:40.100Z"
   },
   {
    "duration": 6,
    "start_time": "2023-04-20T05:49:54.831Z"
   },
   {
    "duration": 45,
    "start_time": "2023-04-20T05:50:12.620Z"
   },
   {
    "duration": 72,
    "start_time": "2023-04-20T05:52:01.308Z"
   },
   {
    "duration": 6,
    "start_time": "2023-04-20T05:54:09.876Z"
   },
   {
    "duration": 5,
    "start_time": "2023-04-20T05:54:41.060Z"
   },
   {
    "duration": 20,
    "start_time": "2023-04-20T05:54:41.991Z"
   },
   {
    "duration": 6,
    "start_time": "2023-04-20T05:56:10.068Z"
   },
   {
    "duration": 4,
    "start_time": "2023-04-20T05:56:49.357Z"
   },
   {
    "duration": 4,
    "start_time": "2023-04-20T05:57:02.324Z"
   },
   {
    "duration": 124,
    "start_time": "2023-04-20T05:57:13.317Z"
   },
   {
    "duration": 48,
    "start_time": "2023-04-20T05:57:14.460Z"
   },
   {
    "duration": 6,
    "start_time": "2023-04-20T05:57:14.971Z"
   },
   {
    "duration": 6,
    "start_time": "2023-04-20T05:57:26.372Z"
   },
   {
    "duration": 9,
    "start_time": "2023-04-20T05:57:26.885Z"
   },
   {
    "duration": 5,
    "start_time": "2023-04-20T05:57:28.676Z"
   },
   {
    "duration": 14,
    "start_time": "2023-04-20T05:59:00.156Z"
   },
   {
    "duration": 1387,
    "start_time": "2023-04-20T05:59:01.141Z"
   },
   {
    "duration": 5,
    "start_time": "2023-04-20T05:59:53.349Z"
   },
   {
    "duration": 14,
    "start_time": "2023-04-20T05:59:54.414Z"
   },
   {
    "duration": 5,
    "start_time": "2023-04-20T05:59:55.520Z"
   },
   {
    "duration": 48,
    "start_time": "2023-04-20T06:01:53.629Z"
   },
   {
    "duration": 144,
    "start_time": "2023-04-20T06:04:05.357Z"
   },
   {
    "duration": 123,
    "start_time": "2023-04-20T06:04:41.437Z"
   },
   {
    "duration": 172,
    "start_time": "2023-04-20T06:04:51.149Z"
   },
   {
    "duration": 953,
    "start_time": "2023-04-20T06:05:07.019Z"
   },
   {
    "duration": 141,
    "start_time": "2023-04-20T06:05:49.972Z"
   },
   {
    "duration": 7,
    "start_time": "2023-04-20T06:05:54.300Z"
   },
   {
    "duration": 140,
    "start_time": "2023-04-20T06:06:04.364Z"
   },
   {
    "duration": 5,
    "start_time": "2023-04-20T06:06:07.661Z"
   },
   {
    "duration": 102,
    "start_time": "2023-04-20T06:06:43.341Z"
   },
   {
    "duration": 6,
    "start_time": "2023-04-20T06:06:46.157Z"
   },
   {
    "duration": 9,
    "start_time": "2023-04-20T06:07:34.468Z"
   },
   {
    "duration": 6,
    "start_time": "2023-04-20T06:07:35.156Z"
   },
   {
    "duration": 8,
    "start_time": "2023-04-20T06:09:32.445Z"
   },
   {
    "duration": 8,
    "start_time": "2023-04-20T06:10:44.733Z"
   },
   {
    "duration": 18,
    "start_time": "2023-04-20T06:11:12.191Z"
   },
   {
    "duration": 96,
    "start_time": "2023-04-20T06:11:30.409Z"
   },
   {
    "duration": 39,
    "start_time": "2023-04-20T06:11:32.038Z"
   },
   {
    "duration": 16,
    "start_time": "2023-04-20T06:11:38.286Z"
   },
   {
    "duration": 9,
    "start_time": "2023-04-20T06:11:39.366Z"
   },
   {
    "duration": 6,
    "start_time": "2023-04-20T06:11:39.948Z"
   },
   {
    "duration": 93,
    "start_time": "2023-04-20T06:11:51.001Z"
   },
   {
    "duration": 6,
    "start_time": "2023-04-20T06:11:52.133Z"
   },
   {
    "duration": 126,
    "start_time": "2023-04-20T06:11:56.829Z"
   },
   {
    "duration": 7,
    "start_time": "2023-04-20T06:11:57.757Z"
   },
   {
    "duration": 5,
    "start_time": "2023-04-20T06:13:04.435Z"
   },
   {
    "duration": 16,
    "start_time": "2023-04-20T06:13:08.315Z"
   },
   {
    "duration": 11,
    "start_time": "2023-04-20T06:13:31.528Z"
   },
   {
    "duration": 6,
    "start_time": "2023-04-20T06:13:32.341Z"
   },
   {
    "duration": 140,
    "start_time": "2023-04-20T06:14:20.349Z"
   },
   {
    "duration": 7,
    "start_time": "2023-04-20T06:14:32.373Z"
   },
   {
    "duration": 11,
    "start_time": "2023-04-20T06:14:34.551Z"
   },
   {
    "duration": 8,
    "start_time": "2023-04-20T06:14:35.218Z"
   },
   {
    "duration": 80,
    "start_time": "2023-04-20T06:15:13.037Z"
   },
   {
    "duration": 7,
    "start_time": "2023-04-20T06:15:13.853Z"
   },
   {
    "duration": 11,
    "start_time": "2023-04-20T06:18:10.314Z"
   },
   {
    "duration": 7,
    "start_time": "2023-04-20T06:18:23.703Z"
   },
   {
    "duration": 8,
    "start_time": "2023-04-20T06:18:32.021Z"
   },
   {
    "duration": 8,
    "start_time": "2023-04-20T06:18:50.648Z"
   },
   {
    "duration": 10,
    "start_time": "2023-04-20T06:19:01.278Z"
   },
   {
    "duration": 7,
    "start_time": "2023-04-20T06:19:02.957Z"
   },
   {
    "duration": 8,
    "start_time": "2023-04-20T06:19:03.934Z"
   },
   {
    "duration": 6,
    "start_time": "2023-04-20T06:19:11.728Z"
   },
   {
    "duration": 11,
    "start_time": "2023-04-20T06:20:41.110Z"
   },
   {
    "duration": 6,
    "start_time": "2023-04-20T06:20:45.637Z"
   },
   {
    "duration": 79,
    "start_time": "2023-04-20T06:20:59.053Z"
   },
   {
    "duration": 13,
    "start_time": "2023-04-20T06:21:06.025Z"
   },
   {
    "duration": 4,
    "start_time": "2023-04-20T06:21:08.557Z"
   },
   {
    "duration": 5,
    "start_time": "2023-04-20T06:21:09.112Z"
   },
   {
    "duration": 4,
    "start_time": "2023-04-20T06:21:16.732Z"
   },
   {
    "duration": 4,
    "start_time": "2023-04-20T06:21:17.613Z"
   },
   {
    "duration": 4,
    "start_time": "2023-04-20T06:22:21.677Z"
   },
   {
    "duration": 5,
    "start_time": "2023-04-20T06:22:21.774Z"
   },
   {
    "duration": 18,
    "start_time": "2023-04-20T06:24:39.221Z"
   },
   {
    "duration": 7,
    "start_time": "2023-04-20T06:24:42.055Z"
   },
   {
    "duration": 10,
    "start_time": "2023-04-20T06:25:46.812Z"
   },
   {
    "duration": 9,
    "start_time": "2023-04-20T06:26:05.422Z"
   },
   {
    "duration": 6,
    "start_time": "2023-04-20T06:27:28.622Z"
   },
   {
    "duration": 4,
    "start_time": "2023-04-20T06:27:35.670Z"
   },
   {
    "duration": 4,
    "start_time": "2023-04-20T06:27:49.078Z"
   },
   {
    "duration": 16,
    "start_time": "2023-04-20T06:27:58.515Z"
   },
   {
    "duration": 7,
    "start_time": "2023-04-20T06:27:59.046Z"
   },
   {
    "duration": 4,
    "start_time": "2023-04-20T06:27:59.566Z"
   },
   {
    "duration": 19,
    "start_time": "2023-04-20T06:28:03.009Z"
   },
   {
    "duration": 10,
    "start_time": "2023-04-20T06:28:03.207Z"
   },
   {
    "duration": 4,
    "start_time": "2023-04-20T06:28:03.526Z"
   },
   {
    "duration": 10,
    "start_time": "2023-04-20T06:29:02.814Z"
   },
   {
    "duration": 6,
    "start_time": "2023-04-20T06:29:27.366Z"
   },
   {
    "duration": 12,
    "start_time": "2023-04-20T06:39:36.047Z"
   },
   {
    "duration": 18,
    "start_time": "2023-04-20T06:39:52.142Z"
   },
   {
    "duration": 5,
    "start_time": "2023-04-20T06:40:02.577Z"
   },
   {
    "duration": 1240,
    "start_time": "2023-04-20T06:40:38.526Z"
   },
   {
    "duration": 7,
    "start_time": "2023-04-20T06:40:59.632Z"
   },
   {
    "duration": 4,
    "start_time": "2023-04-20T06:41:05.834Z"
   },
   {
    "duration": 5,
    "start_time": "2023-04-20T06:45:54.322Z"
   },
   {
    "duration": 20,
    "start_time": "2023-04-20T06:46:16.031Z"
   },
   {
    "duration": 6,
    "start_time": "2023-04-20T06:46:20.414Z"
   },
   {
    "duration": 7,
    "start_time": "2023-04-20T06:47:13.968Z"
   },
   {
    "duration": 37,
    "start_time": "2023-04-20T06:47:14.819Z"
   },
   {
    "duration": 22,
    "start_time": "2023-04-20T06:47:27.384Z"
   },
   {
    "duration": 1250,
    "start_time": "2023-04-20T06:47:28.518Z"
   },
   {
    "duration": 7,
    "start_time": "2023-04-20T06:48:21.071Z"
   },
   {
    "duration": 4,
    "start_time": "2023-04-20T06:48:32.240Z"
   },
   {
    "duration": 7,
    "start_time": "2023-04-20T06:48:44.743Z"
   },
   {
    "duration": 1658,
    "start_time": "2023-04-20T06:49:02.453Z"
   },
   {
    "duration": 12,
    "start_time": "2023-04-20T08:09:11.366Z"
   },
   {
    "duration": 79,
    "start_time": "2023-04-20T08:24:12.979Z"
   },
   {
    "duration": 5,
    "start_time": "2023-04-20T08:24:16.512Z"
   },
   {
    "duration": 4,
    "start_time": "2023-04-20T08:57:52.122Z"
   },
   {
    "duration": 3,
    "start_time": "2023-04-20T08:57:52.512Z"
   },
   {
    "duration": 4095,
    "start_time": "2023-04-20T09:00:53.380Z"
   },
   {
    "duration": 8,
    "start_time": "2023-04-20T09:08:59.106Z"
   },
   {
    "duration": 8,
    "start_time": "2023-04-20T09:21:01.463Z"
   },
   {
    "duration": 77,
    "start_time": "2023-04-20T09:33:05.314Z"
   },
   {
    "duration": 10,
    "start_time": "2023-04-20T09:33:55.097Z"
   },
   {
    "duration": 8,
    "start_time": "2023-04-20T09:36:45.636Z"
   },
   {
    "duration": 6,
    "start_time": "2023-04-20T09:36:46.136Z"
   },
   {
    "duration": 5,
    "start_time": "2023-04-20T09:37:24.613Z"
   },
   {
    "duration": 7,
    "start_time": "2023-04-20T09:37:25.310Z"
   },
   {
    "duration": 11,
    "start_time": "2023-04-20T09:38:00.559Z"
   },
   {
    "duration": 40,
    "start_time": "2023-04-20T09:38:11.071Z"
   },
   {
    "duration": 6,
    "start_time": "2023-04-20T09:38:28.810Z"
   },
   {
    "duration": 30,
    "start_time": "2023-04-20T09:42:34.927Z"
   },
   {
    "duration": 19,
    "start_time": "2023-04-20T09:42:40.078Z"
   },
   {
    "duration": 10,
    "start_time": "2023-04-20T09:43:15.267Z"
   },
   {
    "duration": 10,
    "start_time": "2023-04-20T09:43:15.967Z"
   },
   {
    "duration": 22,
    "start_time": "2023-04-20T09:47:12.200Z"
   },
   {
    "duration": 12,
    "start_time": "2023-04-20T09:47:12.224Z"
   },
   {
    "duration": 20,
    "start_time": "2023-04-20T09:47:18.271Z"
   },
   {
    "duration": 11,
    "start_time": "2023-04-20T09:47:18.936Z"
   },
   {
    "duration": 11,
    "start_time": "2023-04-20T09:47:19.630Z"
   },
   {
    "duration": 16,
    "start_time": "2023-04-20T09:47:37.625Z"
   },
   {
    "duration": 10,
    "start_time": "2023-04-20T09:47:38.231Z"
   },
   {
    "duration": 22,
    "start_time": "2023-04-20T09:48:10.376Z"
   },
   {
    "duration": 42,
    "start_time": "2023-04-20T09:48:12.778Z"
   },
   {
    "duration": 38,
    "start_time": "2023-04-20T09:48:31.005Z"
   },
   {
    "duration": 14,
    "start_time": "2023-04-20T09:48:31.319Z"
   },
   {
    "duration": 41,
    "start_time": "2023-04-20T09:48:59.380Z"
   },
   {
    "duration": 14,
    "start_time": "2023-04-20T09:49:00.224Z"
   },
   {
    "duration": 7,
    "start_time": "2023-04-20T09:49:12.743Z"
   },
   {
    "duration": 33,
    "start_time": "2023-04-20T09:49:13.328Z"
   },
   {
    "duration": 23,
    "start_time": "2023-04-20T09:49:13.927Z"
   },
   {
    "duration": 26,
    "start_time": "2023-04-20T09:49:16.224Z"
   },
   {
    "duration": 46,
    "start_time": "2023-04-20T09:49:17.010Z"
   },
   {
    "duration": 20,
    "start_time": "2023-04-20T09:50:07.616Z"
   },
   {
    "duration": 392,
    "start_time": "2023-04-20T09:50:15.238Z"
   },
   {
    "duration": 52,
    "start_time": "2023-04-20T09:50:27.876Z"
   },
   {
    "duration": 45,
    "start_time": "2023-04-20T09:50:38.127Z"
   },
   {
    "duration": 9,
    "start_time": "2023-04-20T09:50:39.930Z"
   },
   {
    "duration": 69,
    "start_time": "2023-04-20T09:52:25.374Z"
   },
   {
    "duration": 9,
    "start_time": "2023-04-20T09:53:21.019Z"
   },
   {
    "duration": 608,
    "start_time": "2023-04-20T09:53:21.935Z"
   },
   {
    "duration": 21,
    "start_time": "2023-04-20T10:20:52.423Z"
   },
   {
    "duration": 49,
    "start_time": "2023-04-20T10:21:07.952Z"
   },
   {
    "duration": 6,
    "start_time": "2023-04-20T10:21:13.536Z"
   },
   {
    "duration": 37,
    "start_time": "2023-04-20T10:22:12.906Z"
   },
   {
    "duration": 43,
    "start_time": "2023-04-20T10:23:39.175Z"
   },
   {
    "duration": 439,
    "start_time": "2023-04-20T10:23:47.918Z"
   },
   {
    "duration": 3194,
    "start_time": "2023-04-20T10:24:25.274Z"
   },
   {
    "duration": 6,
    "start_time": "2023-04-20T10:24:28.471Z"
   },
   {
    "duration": 5,
    "start_time": "2023-04-20T10:24:28.479Z"
   },
   {
    "duration": 10,
    "start_time": "2023-04-20T10:24:28.487Z"
   },
   {
    "duration": 9,
    "start_time": "2023-04-20T10:24:28.501Z"
   },
   {
    "duration": 12,
    "start_time": "2023-04-20T10:24:33.273Z"
   },
   {
    "duration": 6,
    "start_time": "2023-04-20T10:24:33.372Z"
   },
   {
    "duration": 1179,
    "start_time": "2023-04-20T10:24:33.381Z"
   },
   {
    "duration": 37,
    "start_time": "2023-04-20T10:24:34.562Z"
   },
   {
    "duration": 39,
    "start_time": "2023-04-20T10:24:34.601Z"
   },
   {
    "duration": 37,
    "start_time": "2023-04-20T10:24:34.646Z"
   },
   {
    "duration": 9,
    "start_time": "2023-04-20T10:24:34.688Z"
   },
   {
    "duration": 33,
    "start_time": "2023-04-20T10:24:34.704Z"
   },
   {
    "duration": 11,
    "start_time": "2023-04-20T10:24:34.743Z"
   },
   {
    "duration": 9,
    "start_time": "2023-04-20T10:24:34.761Z"
   },
   {
    "duration": 8,
    "start_time": "2023-04-20T10:24:34.776Z"
   },
   {
    "duration": 11,
    "start_time": "2023-04-20T10:24:34.791Z"
   },
   {
    "duration": 7,
    "start_time": "2023-04-20T10:24:34.804Z"
   },
   {
    "duration": 8,
    "start_time": "2023-04-20T10:24:34.813Z"
   },
   {
    "duration": 12,
    "start_time": "2023-04-20T10:24:34.827Z"
   },
   {
    "duration": 632,
    "start_time": "2023-04-20T10:24:34.842Z"
   },
   {
    "duration": 277,
    "start_time": "2023-04-20T10:24:35.477Z"
   },
   {
    "duration": 635,
    "start_time": "2023-04-20T10:24:35.756Z"
   },
   {
    "duration": 10,
    "start_time": "2023-04-20T10:24:36.397Z"
   },
   {
    "duration": 30,
    "start_time": "2023-04-20T10:24:36.412Z"
   },
   {
    "duration": 20,
    "start_time": "2023-04-20T10:24:36.449Z"
   },
   {
    "duration": 236,
    "start_time": "2023-04-20T10:24:36.475Z"
   },
   {
    "duration": 181,
    "start_time": "2023-04-20T10:24:36.713Z"
   },
   {
    "duration": 471,
    "start_time": "2023-04-20T10:24:36.898Z"
   },
   {
    "duration": 513,
    "start_time": "2023-04-20T10:24:37.371Z"
   },
   {
    "duration": 19,
    "start_time": "2023-04-20T10:24:37.888Z"
   },
   {
    "duration": 42,
    "start_time": "2023-04-20T10:24:37.911Z"
   },
   {
    "duration": 20,
    "start_time": "2023-04-20T10:24:37.956Z"
   },
   {
    "duration": 16,
    "start_time": "2023-04-20T10:24:37.980Z"
   },
   {
    "duration": 16,
    "start_time": "2023-04-20T10:24:38.003Z"
   },
   {
    "duration": 38,
    "start_time": "2023-04-20T10:24:38.021Z"
   },
   {
    "duration": 0,
    "start_time": "2023-04-20T10:24:38.061Z"
   },
   {
    "duration": 0,
    "start_time": "2023-04-20T10:24:38.063Z"
   },
   {
    "duration": 0,
    "start_time": "2023-04-20T10:24:38.064Z"
   },
   {
    "duration": 0,
    "start_time": "2023-04-20T10:24:38.066Z"
   },
   {
    "duration": 0,
    "start_time": "2023-04-20T10:24:38.070Z"
   },
   {
    "duration": 0,
    "start_time": "2023-04-20T10:24:38.071Z"
   },
   {
    "duration": 0,
    "start_time": "2023-04-20T10:24:38.073Z"
   },
   {
    "duration": 0,
    "start_time": "2023-04-20T10:24:38.075Z"
   },
   {
    "duration": 0,
    "start_time": "2023-04-20T10:24:38.076Z"
   },
   {
    "duration": 586,
    "start_time": "2023-04-20T10:25:02.137Z"
   },
   {
    "duration": 651,
    "start_time": "2023-04-20T10:25:03.104Z"
   },
   {
    "duration": 15,
    "start_time": "2023-04-20T10:25:07.568Z"
   },
   {
    "duration": 12,
    "start_time": "2023-04-20T10:25:08.044Z"
   },
   {
    "duration": 1393,
    "start_time": "2023-04-20T10:25:09.056Z"
   },
   {
    "duration": 16,
    "start_time": "2023-04-20T10:25:10.454Z"
   },
   {
    "duration": 84,
    "start_time": "2023-04-20T10:25:10.475Z"
   },
   {
    "duration": 26,
    "start_time": "2023-04-20T10:25:11.372Z"
   },
   {
    "duration": 1355,
    "start_time": "2023-04-20T10:25:11.928Z"
   },
   {
    "duration": 10,
    "start_time": "2023-04-20T10:25:17.717Z"
   },
   {
    "duration": 10,
    "start_time": "2023-04-20T10:25:18.497Z"
   },
   {
    "duration": 7,
    "start_time": "2023-04-20T10:25:20.162Z"
   },
   {
    "duration": 64,
    "start_time": "2023-04-20T10:25:20.876Z"
   },
   {
    "duration": 7,
    "start_time": "2023-04-20T10:25:22.525Z"
   },
   {
    "duration": 47,
    "start_time": "2023-04-20T10:25:26.401Z"
   },
   {
    "duration": 62,
    "start_time": "2023-04-20T10:25:26.450Z"
   },
   {
    "duration": 78,
    "start_time": "2023-04-20T10:25:26.563Z"
   },
   {
    "duration": 38,
    "start_time": "2023-04-20T10:25:30.257Z"
   },
   {
    "duration": 353,
    "start_time": "2023-04-20T10:25:33.585Z"
   },
   {
    "duration": 493,
    "start_time": "2023-04-20T10:29:53.513Z"
   },
   {
    "duration": 480,
    "start_time": "2023-04-20T10:30:10.160Z"
   },
   {
    "duration": 403,
    "start_time": "2023-04-20T10:30:18.634Z"
   },
   {
    "duration": 6,
    "start_time": "2023-04-20T10:30:49.573Z"
   },
   {
    "duration": 24,
    "start_time": "2023-04-20T10:30:49.844Z"
   },
   {
    "duration": 6,
    "start_time": "2023-04-20T10:30:50.644Z"
   },
   {
    "duration": 22,
    "start_time": "2023-04-20T10:30:53.941Z"
   },
   {
    "duration": 34,
    "start_time": "2023-04-20T10:30:55.376Z"
   },
   {
    "duration": 7801,
    "start_time": "2023-04-20T10:30:57.538Z"
   },
   {
    "duration": 35,
    "start_time": "2023-04-20T10:31:05.348Z"
   },
   {
    "duration": 287,
    "start_time": "2023-04-20T10:31:05.704Z"
   },
   {
    "duration": 288,
    "start_time": "2023-04-20T10:31:39.144Z"
   },
   {
    "duration": 5,
    "start_time": "2023-04-20T10:31:46.856Z"
   },
   {
    "duration": 2976,
    "start_time": "2023-04-20T10:45:52.054Z"
   },
   {
    "duration": 1980,
    "start_time": "2023-04-20T10:45:55.034Z"
   },
   {
    "duration": 5,
    "start_time": "2023-04-20T10:45:57.016Z"
   },
   {
    "duration": 16,
    "start_time": "2023-04-20T10:45:57.024Z"
   },
   {
    "duration": 27,
    "start_time": "2023-04-20T10:45:57.042Z"
   },
   {
    "duration": 10,
    "start_time": "2023-04-20T10:45:57.071Z"
   },
   {
    "duration": 34,
    "start_time": "2023-04-20T10:45:57.083Z"
   },
   {
    "duration": 947,
    "start_time": "2023-04-20T10:45:57.123Z"
   },
   {
    "duration": 55,
    "start_time": "2023-04-20T10:45:58.073Z"
   },
   {
    "duration": 33,
    "start_time": "2023-04-20T10:45:58.135Z"
   },
   {
    "duration": 49,
    "start_time": "2023-04-20T10:45:58.171Z"
   },
   {
    "duration": 14,
    "start_time": "2023-04-20T10:45:58.222Z"
   },
   {
    "duration": 26,
    "start_time": "2023-04-20T10:45:58.240Z"
   },
   {
    "duration": 12,
    "start_time": "2023-04-20T10:45:58.269Z"
   },
   {
    "duration": 36,
    "start_time": "2023-04-20T10:45:58.282Z"
   },
   {
    "duration": 30,
    "start_time": "2023-04-20T10:45:58.323Z"
   },
   {
    "duration": 14,
    "start_time": "2023-04-20T10:45:58.360Z"
   },
   {
    "duration": 6,
    "start_time": "2023-04-20T10:45:58.378Z"
   },
   {
    "duration": 46,
    "start_time": "2023-04-20T10:45:58.396Z"
   },
   {
    "duration": 10,
    "start_time": "2023-04-20T10:45:58.449Z"
   },
   {
    "duration": 496,
    "start_time": "2023-04-20T10:45:58.461Z"
   },
   {
    "duration": 252,
    "start_time": "2023-04-20T10:45:58.958Z"
   },
   {
    "duration": 490,
    "start_time": "2023-04-20T10:45:59.212Z"
   },
   {
    "duration": 13,
    "start_time": "2023-04-20T10:45:59.711Z"
   },
   {
    "duration": 12,
    "start_time": "2023-04-20T10:45:59.726Z"
   },
   {
    "duration": 33,
    "start_time": "2023-04-20T10:45:59.740Z"
   },
   {
    "duration": 269,
    "start_time": "2023-04-20T10:45:59.775Z"
   },
   {
    "duration": 193,
    "start_time": "2023-04-20T10:46:00.048Z"
   },
   {
    "duration": 489,
    "start_time": "2023-04-20T10:46:00.243Z"
   },
   {
    "duration": 541,
    "start_time": "2023-04-20T10:46:00.735Z"
   },
   {
    "duration": 27,
    "start_time": "2023-04-20T10:46:01.278Z"
   },
   {
    "duration": 66,
    "start_time": "2023-04-20T10:46:01.310Z"
   },
   {
    "duration": 43,
    "start_time": "2023-04-20T10:46:01.378Z"
   },
   {
    "duration": 15,
    "start_time": "2023-04-20T10:46:01.429Z"
   },
   {
    "duration": 61,
    "start_time": "2023-04-20T10:46:01.446Z"
   },
   {
    "duration": 468,
    "start_time": "2023-04-20T10:46:01.509Z"
   },
   {
    "duration": 502,
    "start_time": "2023-04-20T10:46:01.981Z"
   },
   {
    "duration": 24,
    "start_time": "2023-04-20T10:46:02.485Z"
   },
   {
    "duration": 29,
    "start_time": "2023-04-20T10:46:02.515Z"
   },
   {
    "duration": 1451,
    "start_time": "2023-04-20T10:46:02.547Z"
   },
   {
    "duration": 12,
    "start_time": "2023-04-20T10:46:04.005Z"
   },
   {
    "duration": 57,
    "start_time": "2023-04-20T10:46:04.023Z"
   },
   {
    "duration": 28,
    "start_time": "2023-04-20T10:46:04.082Z"
   },
   {
    "duration": 1414,
    "start_time": "2023-04-20T10:46:04.121Z"
   },
   {
    "duration": 8,
    "start_time": "2023-04-20T10:46:05.537Z"
   },
   {
    "duration": 24,
    "start_time": "2023-04-20T10:46:05.547Z"
   },
   {
    "duration": 26,
    "start_time": "2023-04-20T10:46:05.573Z"
   },
   {
    "duration": 60,
    "start_time": "2023-04-20T10:46:05.603Z"
   },
   {
    "duration": 36,
    "start_time": "2023-04-20T10:46:05.665Z"
   },
   {
    "duration": 49,
    "start_time": "2023-04-20T10:46:05.703Z"
   },
   {
    "duration": 26,
    "start_time": "2023-04-20T10:46:05.755Z"
   },
   {
    "duration": 5766,
    "start_time": "2023-04-20T10:47:39.158Z"
   },
   {
    "duration": 11,
    "start_time": "2023-04-20T10:52:34.330Z"
   },
   {
    "duration": 6,
    "start_time": "2023-04-20T10:52:34.957Z"
   },
   {
    "duration": 6,
    "start_time": "2023-04-20T10:53:46.432Z"
   },
   {
    "duration": 236,
    "start_time": "2023-04-20T10:54:24.194Z"
   },
   {
    "duration": 17,
    "start_time": "2023-04-20T10:54:28.356Z"
   },
   {
    "duration": 30,
    "start_time": "2023-04-20T10:54:28.739Z"
   },
   {
    "duration": 17,
    "start_time": "2023-04-20T10:54:31.030Z"
   },
   {
    "duration": 50,
    "start_time": "2023-04-20T10:54:31.053Z"
   },
   {
    "duration": 4264,
    "start_time": "2023-04-20T10:56:04.920Z"
   },
   {
    "duration": 4864,
    "start_time": "2023-04-20T10:56:09.188Z"
   },
   {
    "duration": 7411,
    "start_time": "2023-04-20T11:07:35.271Z"
   },
   {
    "duration": 10,
    "start_time": "2023-04-20T11:07:42.685Z"
   },
   {
    "duration": 9,
    "start_time": "2023-04-20T11:07:42.704Z"
   },
   {
    "duration": 13,
    "start_time": "2023-04-20T11:07:42.719Z"
   },
   {
    "duration": 16,
    "start_time": "2023-04-20T11:07:42.740Z"
   },
   {
    "duration": 17,
    "start_time": "2023-04-20T11:07:42.758Z"
   },
   {
    "duration": 6,
    "start_time": "2023-04-20T11:07:42.777Z"
   },
   {
    "duration": 968,
    "start_time": "2023-04-20T11:07:42.799Z"
   },
   {
    "duration": 45,
    "start_time": "2023-04-20T11:07:43.769Z"
   },
   {
    "duration": 35,
    "start_time": "2023-04-20T11:07:43.817Z"
   },
   {
    "duration": 40,
    "start_time": "2023-04-20T11:07:43.855Z"
   },
   {
    "duration": 9,
    "start_time": "2023-04-20T11:07:43.898Z"
   },
   {
    "duration": 37,
    "start_time": "2023-04-20T11:07:43.910Z"
   },
   {
    "duration": 7,
    "start_time": "2023-04-20T11:07:43.951Z"
   },
   {
    "duration": 9,
    "start_time": "2023-04-20T11:07:43.960Z"
   },
   {
    "duration": 23,
    "start_time": "2023-04-20T11:07:43.972Z"
   },
   {
    "duration": 10,
    "start_time": "2023-04-20T11:07:43.999Z"
   },
   {
    "duration": 13,
    "start_time": "2023-04-20T11:07:44.011Z"
   },
   {
    "duration": 5,
    "start_time": "2023-04-20T11:07:44.029Z"
   },
   {
    "duration": 18,
    "start_time": "2023-04-20T11:07:44.038Z"
   },
   {
    "duration": 579,
    "start_time": "2023-04-20T11:07:44.060Z"
   },
   {
    "duration": 414,
    "start_time": "2023-04-20T11:07:44.645Z"
   },
   {
    "duration": 602,
    "start_time": "2023-04-20T11:07:45.064Z"
   },
   {
    "duration": 6,
    "start_time": "2023-04-20T11:07:45.668Z"
   },
   {
    "duration": 36,
    "start_time": "2023-04-20T11:07:45.676Z"
   },
   {
    "duration": 14,
    "start_time": "2023-04-20T11:07:45.714Z"
   },
   {
    "duration": 235,
    "start_time": "2023-04-20T11:07:45.735Z"
   },
   {
    "duration": 152,
    "start_time": "2023-04-20T11:07:45.972Z"
   },
   {
    "duration": 482,
    "start_time": "2023-04-20T11:07:46.132Z"
   },
   {
    "duration": 471,
    "start_time": "2023-04-20T11:07:46.615Z"
   },
   {
    "duration": 13,
    "start_time": "2023-04-20T11:07:47.088Z"
   },
   {
    "duration": 31,
    "start_time": "2023-04-20T11:07:47.103Z"
   },
   {
    "duration": 16,
    "start_time": "2023-04-20T11:07:47.136Z"
   },
   {
    "duration": 15,
    "start_time": "2023-04-20T11:07:47.154Z"
   },
   {
    "duration": 8,
    "start_time": "2023-04-20T11:07:47.171Z"
   },
   {
    "duration": 555,
    "start_time": "2023-04-20T11:07:47.181Z"
   },
   {
    "duration": 536,
    "start_time": "2023-04-20T11:07:47.738Z"
   },
   {
    "duration": 28,
    "start_time": "2023-04-20T11:07:48.276Z"
   },
   {
    "duration": 24,
    "start_time": "2023-04-20T11:07:48.309Z"
   },
   {
    "duration": 1349,
    "start_time": "2023-04-20T11:07:48.335Z"
   },
   {
    "duration": 13,
    "start_time": "2023-04-20T11:07:49.696Z"
   },
   {
    "duration": 76,
    "start_time": "2023-04-20T11:07:49.712Z"
   },
   {
    "duration": 32,
    "start_time": "2023-04-20T11:07:49.792Z"
   },
   {
    "duration": 1468,
    "start_time": "2023-04-20T11:07:49.831Z"
   },
   {
    "duration": 10,
    "start_time": "2023-04-20T11:07:51.301Z"
   },
   {
    "duration": 29,
    "start_time": "2023-04-20T11:07:51.321Z"
   },
   {
    "duration": 31,
    "start_time": "2023-04-20T11:07:51.352Z"
   },
   {
    "duration": 63,
    "start_time": "2023-04-20T11:07:51.393Z"
   },
   {
    "duration": 13,
    "start_time": "2023-04-20T11:07:51.458Z"
   },
   {
    "duration": 34,
    "start_time": "2023-04-20T11:07:51.473Z"
   },
   {
    "duration": 33,
    "start_time": "2023-04-20T11:07:51.509Z"
   },
   {
    "duration": 30,
    "start_time": "2023-04-20T11:07:51.544Z"
   },
   {
    "duration": 4400,
    "start_time": "2023-04-20T11:07:51.577Z"
   },
   {
    "duration": 4863,
    "start_time": "2023-04-20T11:07:55.990Z"
   },
   {
    "duration": 5,
    "start_time": "2023-04-20T11:08:23.378Z"
   },
   {
    "duration": 4876,
    "start_time": "2023-04-20T11:08:45.363Z"
   },
   {
    "duration": 3537,
    "start_time": "2023-04-20T11:09:13.117Z"
   },
   {
    "duration": 6,
    "start_time": "2023-04-20T11:09:44.857Z"
   },
   {
    "duration": 5700,
    "start_time": "2023-04-20T11:09:45.028Z"
   },
   {
    "duration": 9,
    "start_time": "2023-04-20T11:10:44.119Z"
   },
   {
    "duration": 8,
    "start_time": "2023-04-20T11:13:48.059Z"
   },
   {
    "duration": 42,
    "start_time": "2023-04-20T11:13:48.934Z"
   },
   {
    "duration": 5,
    "start_time": "2023-04-20T11:16:46.546Z"
   },
   {
    "duration": 46,
    "start_time": "2023-04-20T11:16:53.675Z"
   },
   {
    "duration": 10,
    "start_time": "2023-04-20T11:17:34.317Z"
   },
   {
    "duration": 6,
    "start_time": "2023-04-20T11:17:34.955Z"
   },
   {
    "duration": 5,
    "start_time": "2023-04-20T11:17:43.868Z"
   },
   {
    "duration": 9,
    "start_time": "2023-04-20T11:17:44.311Z"
   },
   {
    "duration": 7,
    "start_time": "2023-04-20T11:27:53.641Z"
   },
   {
    "duration": 10,
    "start_time": "2023-04-20T11:28:22.125Z"
   },
   {
    "duration": 8,
    "start_time": "2023-04-20T11:32:27.138Z"
   },
   {
    "duration": 46,
    "start_time": "2023-04-20T11:32:28.108Z"
   },
   {
    "duration": 8,
    "start_time": "2023-04-20T11:32:43.741Z"
   },
   {
    "duration": 56,
    "start_time": "2023-04-20T11:32:44.116Z"
   },
   {
    "duration": 6162,
    "start_time": "2023-04-20T11:35:51.821Z"
   },
   {
    "duration": 8276,
    "start_time": "2023-04-20T11:36:14.131Z"
   },
   {
    "duration": 15,
    "start_time": "2023-04-20T11:51:08.819Z"
   },
   {
    "duration": 15,
    "start_time": "2023-04-20T11:51:17.250Z"
   },
   {
    "duration": 14,
    "start_time": "2023-04-20T11:51:52.218Z"
   },
   {
    "duration": 4,
    "start_time": "2023-04-20T11:52:00.603Z"
   },
   {
    "duration": 4,
    "start_time": "2023-04-20T11:52:42.406Z"
   },
   {
    "duration": 3,
    "start_time": "2023-04-20T11:52:47.809Z"
   },
   {
    "duration": 6,
    "start_time": "2023-04-20T11:52:49.007Z"
   },
   {
    "duration": 4235,
    "start_time": "2023-04-20T11:53:04.083Z"
   },
   {
    "duration": 4039,
    "start_time": "2023-04-20T11:53:08.321Z"
   },
   {
    "duration": 4160,
    "start_time": "2023-04-20T11:53:24.267Z"
   },
   {
    "duration": 4,
    "start_time": "2023-04-20T11:53:44.738Z"
   },
   {
    "duration": 4,
    "start_time": "2023-04-20T11:53:46.699Z"
   },
   {
    "duration": 4175,
    "start_time": "2023-04-20T11:53:53.842Z"
   },
   {
    "duration": 20,
    "start_time": "2023-04-20T11:55:01.482Z"
   },
   {
    "duration": 3777,
    "start_time": "2023-04-20T11:55:07.657Z"
   },
   {
    "duration": 12,
    "start_time": "2023-04-20T11:55:12.961Z"
   },
   {
    "duration": 54,
    "start_time": "2023-04-20T11:55:33.609Z"
   },
   {
    "duration": 1291,
    "start_time": "2023-04-20T11:55:36.002Z"
   },
   {
    "duration": 237390,
    "start_time": "2023-04-20T11:56:49.311Z"
   },
   {
    "duration": 4444,
    "start_time": "2023-04-20T15:46:06.341Z"
   },
   {
    "duration": 1877,
    "start_time": "2023-04-20T15:46:10.787Z"
   },
   {
    "duration": 3,
    "start_time": "2023-04-20T15:46:12.666Z"
   },
   {
    "duration": 20,
    "start_time": "2023-04-20T15:46:12.670Z"
   },
   {
    "duration": 34,
    "start_time": "2023-04-20T15:46:12.692Z"
   },
   {
    "duration": 35,
    "start_time": "2023-04-20T15:46:12.728Z"
   },
   {
    "duration": 29,
    "start_time": "2023-04-20T15:46:12.764Z"
   },
   {
    "duration": 2949,
    "start_time": "2023-04-20T15:46:12.794Z"
   },
   {
    "duration": 26,
    "start_time": "2023-04-20T15:46:15.784Z"
   },
   {
    "duration": 79,
    "start_time": "2023-04-20T15:46:15.812Z"
   },
   {
    "duration": 45,
    "start_time": "2023-04-20T15:46:15.893Z"
   },
   {
    "duration": 46,
    "start_time": "2023-04-20T15:46:15.940Z"
   },
   {
    "duration": 36,
    "start_time": "2023-04-20T15:46:15.988Z"
   },
   {
    "duration": 62,
    "start_time": "2023-04-20T15:46:16.027Z"
   },
   {
    "duration": 43,
    "start_time": "2023-04-20T15:46:16.091Z"
   },
   {
    "duration": 21,
    "start_time": "2023-04-20T15:46:16.136Z"
   },
   {
    "duration": 5,
    "start_time": "2023-04-20T15:46:16.184Z"
   },
   {
    "duration": 36,
    "start_time": "2023-04-20T15:46:16.191Z"
   },
   {
    "duration": 56,
    "start_time": "2023-04-20T15:46:16.229Z"
   },
   {
    "duration": 21,
    "start_time": "2023-04-20T15:46:16.287Z"
   },
   {
    "duration": 815,
    "start_time": "2023-04-20T15:46:16.311Z"
   },
   {
    "duration": 193,
    "start_time": "2023-04-20T15:46:17.127Z"
   },
   {
    "duration": 411,
    "start_time": "2023-04-20T15:46:17.321Z"
   },
   {
    "duration": 4,
    "start_time": "2023-04-20T15:46:17.733Z"
   },
   {
    "duration": 27,
    "start_time": "2023-04-20T15:46:17.739Z"
   },
   {
    "duration": 25,
    "start_time": "2023-04-20T15:46:17.767Z"
   },
   {
    "duration": 209,
    "start_time": "2023-04-20T15:46:17.794Z"
   },
   {
    "duration": 135,
    "start_time": "2023-04-20T15:46:18.005Z"
   },
   {
    "duration": 410,
    "start_time": "2023-04-20T15:46:18.141Z"
   },
   {
    "duration": 435,
    "start_time": "2023-04-20T15:46:18.553Z"
   },
   {
    "duration": 9,
    "start_time": "2023-04-20T15:46:18.991Z"
   },
   {
    "duration": 25,
    "start_time": "2023-04-20T15:46:19.002Z"
   },
   {
    "duration": 43,
    "start_time": "2023-04-20T15:46:19.029Z"
   },
   {
    "duration": 31,
    "start_time": "2023-04-20T15:46:19.074Z"
   },
   {
    "duration": 11,
    "start_time": "2023-04-20T15:46:19.107Z"
   },
   {
    "duration": 460,
    "start_time": "2023-04-20T15:46:19.120Z"
   },
   {
    "duration": 472,
    "start_time": "2023-04-20T15:46:19.583Z"
   },
   {
    "duration": 15,
    "start_time": "2023-04-20T15:46:20.057Z"
   },
   {
    "duration": 27,
    "start_time": "2023-04-20T15:46:20.082Z"
   },
   {
    "duration": 1145,
    "start_time": "2023-04-20T15:46:20.111Z"
   },
   {
    "duration": 4,
    "start_time": "2023-04-20T15:46:21.260Z"
   },
   {
    "duration": 59,
    "start_time": "2023-04-20T15:46:21.265Z"
   },
   {
    "duration": 13,
    "start_time": "2023-04-20T15:46:21.325Z"
   },
   {
    "duration": 1120,
    "start_time": "2023-04-20T15:46:21.340Z"
   },
   {
    "duration": 3,
    "start_time": "2023-04-20T15:46:22.462Z"
   },
   {
    "duration": 11,
    "start_time": "2023-04-20T15:46:22.466Z"
   },
   {
    "duration": 37,
    "start_time": "2023-04-20T15:46:22.479Z"
   },
   {
    "duration": 40,
    "start_time": "2023-04-20T15:46:22.517Z"
   },
   {
    "duration": 49,
    "start_time": "2023-04-20T15:46:22.559Z"
   },
   {
    "duration": 27,
    "start_time": "2023-04-20T15:46:22.610Z"
   },
   {
    "duration": 6,
    "start_time": "2023-04-20T15:46:22.639Z"
   },
   {
    "duration": 27,
    "start_time": "2023-04-20T15:46:22.647Z"
   },
   {
    "duration": 20,
    "start_time": "2023-04-20T15:46:22.675Z"
   },
   {
    "duration": 195847,
    "start_time": "2023-04-20T15:46:45.980Z"
   },
   {
    "duration": 230357,
    "start_time": "2023-04-20T15:50:01.829Z"
   },
   {
    "duration": 3,
    "start_time": "2023-04-20T15:53:52.187Z"
   },
   {
    "duration": 16,
    "start_time": "2023-04-20T15:53:52.192Z"
   },
   {
    "duration": 1482,
    "start_time": "2023-04-20T15:53:52.210Z"
   },
   {
    "duration": 1398,
    "start_time": "2023-04-20T15:53:53.784Z"
   },
   {
    "duration": 3371,
    "start_time": "2023-04-20T15:55:12.182Z"
   },
   {
    "duration": 3764,
    "start_time": "2023-04-20T15:55:15.555Z"
   },
   {
    "duration": 3,
    "start_time": "2023-04-20T15:55:19.320Z"
   },
   {
    "duration": 3,
    "start_time": "2023-04-20T15:56:36.734Z"
   },
   {
    "duration": 23,
    "start_time": "2023-04-20T15:56:36.741Z"
   },
   {
    "duration": 3,
    "start_time": "2023-04-20T15:57:27.718Z"
   },
   {
    "duration": 32,
    "start_time": "2023-04-20T16:01:45.482Z"
   },
   {
    "duration": 24,
    "start_time": "2023-04-20T16:04:15.902Z"
   },
   {
    "duration": 5,
    "start_time": "2023-04-20T16:07:18.750Z"
   },
   {
    "duration": 4,
    "start_time": "2023-04-20T16:17:05.415Z"
   },
   {
    "duration": 4,
    "start_time": "2023-04-20T16:22:51.335Z"
   },
   {
    "duration": 77,
    "start_time": "2023-04-20T16:30:23.004Z"
   },
   {
    "duration": 90,
    "start_time": "2023-04-20T16:31:51.920Z"
   },
   {
    "duration": 29,
    "start_time": "2023-04-20T16:32:38.752Z"
   },
   {
    "duration": 146,
    "start_time": "2023-04-20T16:33:20.441Z"
   },
   {
    "duration": 53,
    "start_time": "2023-04-20T16:33:28.721Z"
   },
   {
    "duration": 27,
    "start_time": "2023-04-20T16:36:53.424Z"
   },
   {
    "duration": 27,
    "start_time": "2023-04-20T16:36:54.598Z"
   },
   {
    "duration": 28,
    "start_time": "2023-04-20T16:37:02.241Z"
   },
   {
    "duration": 29,
    "start_time": "2023-04-20T16:37:03.312Z"
   },
   {
    "duration": 73,
    "start_time": "2023-04-20T16:39:22.349Z"
   },
   {
    "duration": 72,
    "start_time": "2023-04-21T07:49:54.437Z"
   },
   {
    "duration": 5447,
    "start_time": "2023-04-21T07:50:02.150Z"
   },
   {
    "duration": 2198,
    "start_time": "2023-04-21T07:50:07.599Z"
   },
   {
    "duration": 4,
    "start_time": "2023-04-21T07:50:09.808Z"
   },
   {
    "duration": 16,
    "start_time": "2023-04-21T07:50:09.813Z"
   },
   {
    "duration": 25,
    "start_time": "2023-04-21T07:50:09.831Z"
   },
   {
    "duration": 3694,
    "start_time": "2023-04-21T07:50:09.857Z"
   },
   {
    "duration": 30,
    "start_time": "2023-04-21T07:50:13.553Z"
   },
   {
    "duration": 51,
    "start_time": "2023-04-21T07:50:13.584Z"
   },
   {
    "duration": 43,
    "start_time": "2023-04-21T07:50:13.637Z"
   },
   {
    "duration": 46,
    "start_time": "2023-04-21T07:50:13.682Z"
   },
   {
    "duration": 28,
    "start_time": "2023-04-21T07:50:13.730Z"
   },
   {
    "duration": 32,
    "start_time": "2023-04-21T07:50:13.760Z"
   },
   {
    "duration": 37,
    "start_time": "2023-04-21T07:50:13.795Z"
   },
   {
    "duration": 7,
    "start_time": "2023-04-21T07:53:53.247Z"
   },
   {
    "duration": 7,
    "start_time": "2023-04-21T07:53:55.768Z"
   },
   {
    "duration": 90,
    "start_time": "2023-04-21T07:55:24.295Z"
   },
   {
    "duration": 97,
    "start_time": "2023-04-21T07:55:27.446Z"
   },
   {
    "duration": 108,
    "start_time": "2023-04-21T07:55:46.774Z"
   },
   {
    "duration": 78,
    "start_time": "2023-04-21T07:56:26.705Z"
   },
   {
    "duration": 11,
    "start_time": "2023-04-21T08:52:57.871Z"
   },
   {
    "duration": 369,
    "start_time": "2023-04-21T08:53:20.237Z"
   },
   {
    "duration": 313,
    "start_time": "2023-04-21T08:53:50.625Z"
   },
   {
    "duration": 322,
    "start_time": "2023-04-21T08:56:14.478Z"
   },
   {
    "duration": 358,
    "start_time": "2023-04-21T08:56:38.949Z"
   },
   {
    "duration": 447,
    "start_time": "2023-04-21T08:56:58.794Z"
   },
   {
    "duration": 376,
    "start_time": "2023-04-21T08:57:05.732Z"
   },
   {
    "duration": 360,
    "start_time": "2023-04-21T08:58:43.421Z"
   },
   {
    "duration": 423,
    "start_time": "2023-04-21T08:58:52.185Z"
   },
   {
    "duration": 308,
    "start_time": "2023-04-21T08:59:09.655Z"
   },
   {
    "duration": 376,
    "start_time": "2023-04-21T08:59:14.719Z"
   },
   {
    "duration": 499,
    "start_time": "2023-04-21T09:01:13.469Z"
   },
   {
    "duration": 85,
    "start_time": "2023-04-21T09:03:21.558Z"
   },
   {
    "duration": 355,
    "start_time": "2023-04-21T09:03:34.469Z"
   },
   {
    "duration": 11,
    "start_time": "2023-04-21T09:06:56.170Z"
   },
   {
    "duration": 2686,
    "start_time": "2023-04-21T09:07:05.698Z"
   },
   {
    "duration": 11,
    "start_time": "2023-04-21T09:07:08.388Z"
   },
   {
    "duration": 35,
    "start_time": "2023-04-21T09:07:08.403Z"
   },
   {
    "duration": 16,
    "start_time": "2023-04-21T09:07:08.441Z"
   },
   {
    "duration": 13,
    "start_time": "2023-04-21T09:07:08.459Z"
   },
   {
    "duration": 840,
    "start_time": "2023-04-21T09:07:08.474Z"
   },
   {
    "duration": 26,
    "start_time": "2023-04-21T09:07:09.317Z"
   },
   {
    "duration": 87,
    "start_time": "2023-04-21T09:07:09.344Z"
   },
   {
    "duration": 38,
    "start_time": "2023-04-21T09:07:09.433Z"
   },
   {
    "duration": 11,
    "start_time": "2023-04-21T09:07:09.475Z"
   },
   {
    "duration": 49,
    "start_time": "2023-04-21T09:07:09.487Z"
   },
   {
    "duration": 47,
    "start_time": "2023-04-21T09:07:09.537Z"
   },
   {
    "duration": 65,
    "start_time": "2023-04-21T09:07:09.586Z"
   },
   {
    "duration": 45,
    "start_time": "2023-04-21T09:07:09.653Z"
   },
   {
    "duration": 501,
    "start_time": "2023-04-21T09:07:09.703Z"
   },
   {
    "duration": 236,
    "start_time": "2023-04-21T09:07:10.206Z"
   },
   {
    "duration": 536,
    "start_time": "2023-04-21T09:07:10.444Z"
   },
   {
    "duration": 21,
    "start_time": "2023-04-21T09:07:10.982Z"
   },
   {
    "duration": 118,
    "start_time": "2023-04-21T09:07:11.006Z"
   },
   {
    "duration": 33,
    "start_time": "2023-04-21T09:07:11.126Z"
   },
   {
    "duration": 217,
    "start_time": "2023-04-21T09:07:11.162Z"
   },
   {
    "duration": 137,
    "start_time": "2023-04-21T09:07:11.381Z"
   },
   {
    "duration": 425,
    "start_time": "2023-04-21T09:07:11.520Z"
   },
   {
    "duration": 461,
    "start_time": "2023-04-21T09:07:11.947Z"
   },
   {
    "duration": 12,
    "start_time": "2023-04-21T09:07:12.410Z"
   },
   {
    "duration": 335,
    "start_time": "2023-04-21T09:07:12.424Z"
   },
   {
    "duration": 385,
    "start_time": "2023-04-21T09:07:12.761Z"
   },
   {
    "duration": 12,
    "start_time": "2023-04-21T09:07:13.150Z"
   },
   {
    "duration": 29,
    "start_time": "2023-04-21T09:07:13.164Z"
   },
   {
    "duration": 11,
    "start_time": "2023-04-21T09:07:13.194Z"
   },
   {
    "duration": 30,
    "start_time": "2023-04-21T09:07:13.207Z"
   },
   {
    "duration": 469,
    "start_time": "2023-04-21T09:07:13.239Z"
   },
   {
    "duration": 445,
    "start_time": "2023-04-21T09:07:13.710Z"
   },
   {
    "duration": 16,
    "start_time": "2023-04-21T09:07:14.157Z"
   },
   {
    "duration": 18,
    "start_time": "2023-04-21T09:07:14.192Z"
   },
   {
    "duration": 1094,
    "start_time": "2023-04-21T09:07:14.211Z"
   },
   {
    "duration": 5,
    "start_time": "2023-04-21T09:07:15.307Z"
   },
   {
    "duration": 84,
    "start_time": "2023-04-21T09:07:15.314Z"
   },
   {
    "duration": 16,
    "start_time": "2023-04-21T09:07:15.402Z"
   },
   {
    "duration": 1291,
    "start_time": "2023-04-21T09:07:15.420Z"
   },
   {
    "duration": 3,
    "start_time": "2023-04-21T09:07:16.713Z"
   },
   {
    "duration": 9,
    "start_time": "2023-04-21T09:07:16.717Z"
   },
   {
    "duration": 4,
    "start_time": "2023-04-21T09:07:57.239Z"
   },
   {
    "duration": 9,
    "start_time": "2023-04-21T09:08:01.468Z"
   },
   {
    "duration": 37,
    "start_time": "2023-04-21T09:08:02.182Z"
   },
   {
    "duration": 5,
    "start_time": "2023-04-21T09:08:03.324Z"
   },
   {
    "duration": 8,
    "start_time": "2023-04-21T09:08:04.492Z"
   },
   {
    "duration": 16,
    "start_time": "2023-04-21T09:08:05.219Z"
   },
   {
    "duration": 333,
    "start_time": "2023-04-21T09:08:16.674Z"
   },
   {
    "duration": 7,
    "start_time": "2023-04-21T09:08:18.154Z"
   },
   {
    "duration": 32,
    "start_time": "2023-04-21T09:08:18.784Z"
   },
   {
    "duration": 5,
    "start_time": "2023-04-21T09:08:21.073Z"
   },
   {
    "duration": 6,
    "start_time": "2023-04-21T09:08:22.502Z"
   },
   {
    "duration": 3,
    "start_time": "2023-04-21T09:11:57.865Z"
   },
   {
    "duration": 2668,
    "start_time": "2023-04-21T09:17:22.685Z"
   },
   {
    "duration": 6,
    "start_time": "2023-04-21T09:17:25.356Z"
   },
   {
    "duration": 45,
    "start_time": "2023-04-21T09:17:25.363Z"
   },
   {
    "duration": 17,
    "start_time": "2023-04-21T09:17:25.410Z"
   },
   {
    "duration": 41,
    "start_time": "2023-04-21T09:17:25.429Z"
   },
   {
    "duration": 794,
    "start_time": "2023-04-21T09:17:25.472Z"
   },
   {
    "duration": 38,
    "start_time": "2023-04-21T09:17:26.268Z"
   },
   {
    "duration": 39,
    "start_time": "2023-04-21T09:17:26.308Z"
   },
   {
    "duration": 87,
    "start_time": "2023-04-21T09:17:26.349Z"
   },
   {
    "duration": 34,
    "start_time": "2023-04-21T09:17:26.438Z"
   },
   {
    "duration": 51,
    "start_time": "2023-04-21T09:17:26.474Z"
   },
   {
    "duration": 48,
    "start_time": "2023-04-21T09:17:26.527Z"
   },
   {
    "duration": 37,
    "start_time": "2023-04-21T09:17:26.577Z"
   },
   {
    "duration": 30,
    "start_time": "2023-04-21T09:17:26.618Z"
   },
   {
    "duration": 450,
    "start_time": "2023-04-21T09:17:26.650Z"
   },
   {
    "duration": 212,
    "start_time": "2023-04-21T09:17:27.102Z"
   },
   {
    "duration": 444,
    "start_time": "2023-04-21T09:17:27.316Z"
   },
   {
    "duration": 5,
    "start_time": "2023-04-21T09:17:27.762Z"
   },
   {
    "duration": 23,
    "start_time": "2023-04-21T09:17:27.768Z"
   },
   {
    "duration": 18,
    "start_time": "2023-04-21T09:17:27.798Z"
   },
   {
    "duration": 198,
    "start_time": "2023-04-21T09:17:27.818Z"
   },
   {
    "duration": 122,
    "start_time": "2023-04-21T09:17:28.018Z"
   },
   {
    "duration": 417,
    "start_time": "2023-04-21T09:17:28.142Z"
   },
   {
    "duration": 450,
    "start_time": "2023-04-21T09:17:28.561Z"
   },
   {
    "duration": 10,
    "start_time": "2023-04-21T09:17:29.013Z"
   },
   {
    "duration": 349,
    "start_time": "2023-04-21T09:17:29.025Z"
   },
   {
    "duration": 22,
    "start_time": "2023-04-21T09:17:29.375Z"
   },
   {
    "duration": 9,
    "start_time": "2023-04-21T09:17:29.401Z"
   },
   {
    "duration": 8,
    "start_time": "2023-04-21T09:17:29.412Z"
   },
   {
    "duration": 21,
    "start_time": "2023-04-21T09:17:29.422Z"
   },
   {
    "duration": 732,
    "start_time": "2023-04-21T09:17:29.445Z"
   },
   {
    "duration": 505,
    "start_time": "2023-04-21T09:17:30.187Z"
   },
   {
    "duration": 17,
    "start_time": "2023-04-21T09:17:30.697Z"
   },
   {
    "duration": 34,
    "start_time": "2023-04-21T09:17:30.717Z"
   },
   {
    "duration": 1189,
    "start_time": "2023-04-21T09:17:30.754Z"
   },
   {
    "duration": 4,
    "start_time": "2023-04-21T09:17:31.946Z"
   },
   {
    "duration": 98,
    "start_time": "2023-04-21T09:17:31.952Z"
   },
   {
    "duration": 13,
    "start_time": "2023-04-21T09:17:32.052Z"
   },
   {
    "duration": 1294,
    "start_time": "2023-04-21T09:17:32.067Z"
   },
   {
    "duration": 3,
    "start_time": "2023-04-21T09:17:33.363Z"
   },
   {
    "duration": 21,
    "start_time": "2023-04-21T09:17:33.370Z"
   },
   {
    "duration": 25,
    "start_time": "2023-04-21T09:17:33.394Z"
   },
   {
    "duration": 38,
    "start_time": "2023-04-21T09:17:33.421Z"
   },
   {
    "duration": 60,
    "start_time": "2023-04-21T09:17:33.460Z"
   },
   {
    "duration": 23,
    "start_time": "2023-04-21T09:17:33.522Z"
   },
   {
    "duration": 33,
    "start_time": "2023-04-21T09:17:33.547Z"
   },
   {
    "duration": 330,
    "start_time": "2023-04-21T09:17:33.582Z"
   },
   {
    "duration": 7,
    "start_time": "2023-04-21T09:17:33.914Z"
   },
   {
    "duration": 53,
    "start_time": "2023-04-21T09:17:33.923Z"
   },
   {
    "duration": 22,
    "start_time": "2023-04-21T09:17:33.977Z"
   },
   {
    "duration": 13,
    "start_time": "2023-04-21T09:17:34.002Z"
   },
   {
    "duration": 34,
    "start_time": "2023-04-21T09:17:34.016Z"
   },
   {
    "duration": 22,
    "start_time": "2023-04-21T09:17:34.052Z"
   },
   {
    "duration": 10,
    "start_time": "2023-04-21T09:17:34.075Z"
   },
   {
    "duration": 40,
    "start_time": "2023-04-21T09:17:34.087Z"
   },
   {
    "duration": 222887,
    "start_time": "2023-04-21T09:17:34.129Z"
   },
   {
    "duration": 255342,
    "start_time": "2023-04-21T09:21:17.018Z"
   },
   {
    "duration": 3,
    "start_time": "2023-04-21T09:25:32.363Z"
   },
   {
    "duration": 24,
    "start_time": "2023-04-21T09:25:32.367Z"
   },
   {
    "duration": 1905,
    "start_time": "2023-04-21T09:25:32.397Z"
   },
   {
    "duration": 2202,
    "start_time": "2023-04-21T09:25:34.309Z"
   },
   {
    "duration": 3,
    "start_time": "2023-04-21T09:25:36.514Z"
   },
   {
    "duration": 19,
    "start_time": "2023-04-21T09:25:36.594Z"
   },
   {
    "duration": 3892,
    "start_time": "2023-04-21T09:25:36.615Z"
   },
   {
    "duration": 4602,
    "start_time": "2023-04-21T09:25:40.509Z"
   },
   {
    "duration": 4,
    "start_time": "2023-04-21T09:25:45.113Z"
   },
   {
    "duration": 7,
    "start_time": "2023-04-21T09:25:45.119Z"
   },
   {
    "duration": 5,
    "start_time": "2023-04-21T09:59:03.349Z"
   },
   {
    "duration": 7,
    "start_time": "2023-04-21T10:10:40.159Z"
   },
   {
    "duration": 3,
    "start_time": "2023-04-21T10:10:41.172Z"
   },
   {
    "duration": 8,
    "start_time": "2023-04-21T10:10:42.596Z"
   },
   {
    "duration": 4,
    "start_time": "2023-04-21T10:10:43.261Z"
   },
   {
    "duration": 11,
    "start_time": "2023-04-21T10:10:43.987Z"
   },
   {
    "duration": 14,
    "start_time": "2023-04-21T10:17:26.652Z"
   },
   {
    "duration": 1472,
    "start_time": "2023-04-21T10:17:36.331Z"
   },
   {
    "duration": 105,
    "start_time": "2023-04-21T10:17:37.809Z"
   },
   {
    "duration": 15,
    "start_time": "2023-04-21T10:17:48.428Z"
   },
   {
    "duration": 11,
    "start_time": "2023-04-21T10:17:48.626Z"
   },
   {
    "duration": 13,
    "start_time": "2023-04-21T10:17:59.798Z"
   },
   {
    "duration": 7,
    "start_time": "2023-04-21T10:18:00.478Z"
   },
   {
    "duration": 4,
    "start_time": "2023-04-21T10:18:01.204Z"
   },
   {
    "duration": 4,
    "start_time": "2023-04-21T10:18:01.960Z"
   },
   {
    "duration": 8,
    "start_time": "2023-04-21T10:19:05.627Z"
   },
   {
    "duration": 3,
    "start_time": "2023-04-21T10:19:06.960Z"
   },
   {
    "duration": 2976,
    "start_time": "2023-04-21T10:19:16.424Z"
   },
   {
    "duration": 6,
    "start_time": "2023-04-21T10:19:19.403Z"
   },
   {
    "duration": 218,
    "start_time": "2023-04-21T10:19:19.411Z"
   },
   {
    "duration": 37,
    "start_time": "2023-04-21T10:19:19.632Z"
   },
   {
    "duration": 56,
    "start_time": "2023-04-21T10:19:19.671Z"
   },
   {
    "duration": 968,
    "start_time": "2023-04-21T10:19:19.729Z"
   },
   {
    "duration": 30,
    "start_time": "2023-04-21T10:19:20.701Z"
   },
   {
    "duration": 41,
    "start_time": "2023-04-21T10:19:20.732Z"
   },
   {
    "duration": 36,
    "start_time": "2023-04-21T10:19:20.778Z"
   },
   {
    "duration": 55,
    "start_time": "2023-04-21T10:19:20.818Z"
   },
   {
    "duration": 38,
    "start_time": "2023-04-21T10:19:20.876Z"
   },
   {
    "duration": 14,
    "start_time": "2023-04-21T10:19:20.916Z"
   },
   {
    "duration": 11,
    "start_time": "2023-04-21T10:19:20.932Z"
   },
   {
    "duration": 19,
    "start_time": "2023-04-21T10:19:20.945Z"
   },
   {
    "duration": 489,
    "start_time": "2023-04-21T10:19:20.966Z"
   },
   {
    "duration": 237,
    "start_time": "2023-04-21T10:19:21.457Z"
   },
   {
    "duration": 465,
    "start_time": "2023-04-21T10:19:21.703Z"
   },
   {
    "duration": 5,
    "start_time": "2023-04-21T10:19:22.170Z"
   },
   {
    "duration": 53,
    "start_time": "2023-04-21T10:19:22.176Z"
   },
   {
    "duration": 19,
    "start_time": "2023-04-21T10:19:22.231Z"
   },
   {
    "duration": 215,
    "start_time": "2023-04-21T10:19:22.252Z"
   },
   {
    "duration": 152,
    "start_time": "2023-04-21T10:19:22.468Z"
   },
   {
    "duration": 453,
    "start_time": "2023-04-21T10:19:22.622Z"
   },
   {
    "duration": 462,
    "start_time": "2023-04-21T10:19:23.077Z"
   },
   {
    "duration": 11,
    "start_time": "2023-04-21T10:19:23.541Z"
   },
   {
    "duration": 386,
    "start_time": "2023-04-21T10:19:23.554Z"
   },
   {
    "duration": 10,
    "start_time": "2023-04-21T10:19:23.942Z"
   },
   {
    "duration": 17,
    "start_time": "2023-04-21T10:19:23.957Z"
   },
   {
    "duration": 18,
    "start_time": "2023-04-21T10:19:23.989Z"
   },
   {
    "duration": 17,
    "start_time": "2023-04-21T10:19:24.010Z"
   },
   {
    "duration": 647,
    "start_time": "2023-04-21T10:19:24.029Z"
   },
   {
    "duration": 475,
    "start_time": "2023-04-21T10:19:24.678Z"
   },
   {
    "duration": 14,
    "start_time": "2023-04-21T10:19:25.155Z"
   },
   {
    "duration": 134,
    "start_time": "2023-04-21T10:19:25.171Z"
   },
   {
    "duration": 1315,
    "start_time": "2023-04-21T10:19:25.307Z"
   },
   {
    "duration": 5,
    "start_time": "2023-04-21T10:19:26.624Z"
   },
   {
    "duration": 87,
    "start_time": "2023-04-21T10:19:26.631Z"
   },
   {
    "duration": 14,
    "start_time": "2023-04-21T10:19:26.720Z"
   },
   {
    "duration": 1336,
    "start_time": "2023-04-21T10:19:26.736Z"
   },
   {
    "duration": 3,
    "start_time": "2023-04-21T10:19:28.075Z"
   },
   {
    "duration": 13,
    "start_time": "2023-04-21T10:19:28.094Z"
   },
   {
    "duration": 18,
    "start_time": "2023-04-21T10:19:28.109Z"
   },
   {
    "duration": 14,
    "start_time": "2023-04-21T10:19:28.129Z"
   },
   {
    "duration": 41,
    "start_time": "2023-04-21T10:19:28.145Z"
   },
   {
    "duration": 36,
    "start_time": "2023-04-21T10:19:28.188Z"
   },
   {
    "duration": 12,
    "start_time": "2023-04-21T10:19:28.226Z"
   },
   {
    "duration": 301,
    "start_time": "2023-04-21T10:19:28.240Z"
   },
   {
    "duration": 7,
    "start_time": "2023-04-21T10:19:28.543Z"
   },
   {
    "duration": 25,
    "start_time": "2023-04-21T10:19:28.552Z"
   },
   {
    "duration": 19,
    "start_time": "2023-04-21T10:19:28.587Z"
   },
   {
    "duration": 7,
    "start_time": "2023-04-21T10:19:28.608Z"
   },
   {
    "duration": 29,
    "start_time": "2023-04-21T10:19:28.617Z"
   },
   {
    "duration": 32,
    "start_time": "2023-04-21T10:19:28.648Z"
   },
   {
    "duration": 24,
    "start_time": "2023-04-21T10:19:28.682Z"
   },
   {
    "duration": 43,
    "start_time": "2023-04-21T10:19:28.708Z"
   },
   {
    "duration": 232930,
    "start_time": "2023-04-21T10:19:28.753Z"
   },
   {
    "duration": 266608,
    "start_time": "2023-04-21T10:23:21.687Z"
   },
   {
    "duration": 7,
    "start_time": "2023-04-21T10:27:48.300Z"
   },
   {
    "duration": 11,
    "start_time": "2023-04-21T10:27:48.310Z"
   },
   {
    "duration": 3085,
    "start_time": "2023-04-21T10:27:48.323Z"
   },
   {
    "duration": 2397,
    "start_time": "2023-04-21T10:27:51.412Z"
   },
   {
    "duration": 67,
    "start_time": "2023-04-21T10:27:53.829Z"
   },
   {
    "duration": 26,
    "start_time": "2023-04-21T10:27:53.907Z"
   },
   {
    "duration": 3925,
    "start_time": "2023-04-21T10:27:53.935Z"
   },
   {
    "duration": 4566,
    "start_time": "2023-04-21T10:27:57.861Z"
   },
   {
    "duration": 3,
    "start_time": "2023-04-21T10:28:02.430Z"
   },
   {
    "duration": 69,
    "start_time": "2023-04-21T10:28:02.435Z"
   },
   {
    "duration": 1089,
    "start_time": "2023-04-21T10:28:02.506Z"
   },
   {
    "duration": 122,
    "start_time": "2023-04-21T10:28:03.602Z"
   },
   {
    "duration": 83,
    "start_time": "2023-04-21T10:28:03.726Z"
   },
   {
    "duration": 82,
    "start_time": "2023-04-21T10:28:03.815Z"
   },
   {
    "duration": 13,
    "start_time": "2023-04-21T10:28:03.903Z"
   },
   {
    "duration": 15,
    "start_time": "2023-04-21T10:28:03.918Z"
   },
   {
    "duration": 15,
    "start_time": "2023-04-21T10:28:03.935Z"
   },
   {
    "duration": 10,
    "start_time": "2023-04-21T10:28:03.952Z"
   },
   {
    "duration": 9,
    "start_time": "2023-04-21T10:28:03.964Z"
   },
   {
    "duration": 29,
    "start_time": "2023-04-21T10:28:03.975Z"
   },
   {
    "duration": 127356,
    "start_time": "2023-04-21T10:31:59.263Z"
   },
   {
    "duration": 77,
    "start_time": "2023-04-21T10:34:06.621Z"
   },
   {
    "duration": 11,
    "start_time": "2023-04-21T10:34:06.704Z"
   },
   {
    "duration": 4,
    "start_time": "2023-04-21T10:34:06.717Z"
   },
   {
    "duration": 12,
    "start_time": "2023-04-21T10:34:06.723Z"
   },
   {
    "duration": 2949,
    "start_time": "2023-04-21T10:40:45.957Z"
   },
   {
    "duration": 3084,
    "start_time": "2023-04-21T10:40:48.910Z"
   },
   {
    "duration": 3,
    "start_time": "2023-04-21T10:40:54.950Z"
   },
   {
    "duration": 12,
    "start_time": "2023-04-21T10:40:55.588Z"
   },
   {
    "duration": 5,
    "start_time": "2023-04-21T11:08:59.833Z"
   },
   {
    "duration": 7,
    "start_time": "2023-04-21T11:58:13.102Z"
   },
   {
    "duration": 310005,
    "start_time": "2023-04-21T11:58:37.814Z"
   },
   {
    "duration": 14396,
    "start_time": "2023-04-21T12:08:00.719Z"
   },
   {
    "duration": 0,
    "start_time": "2023-04-21T12:08:15.117Z"
   },
   {
    "duration": 0,
    "start_time": "2023-04-21T12:08:15.118Z"
   },
   {
    "duration": 0,
    "start_time": "2023-04-21T12:08:15.120Z"
   },
   {
    "duration": 0,
    "start_time": "2023-04-21T12:08:15.122Z"
   },
   {
    "duration": 2693,
    "start_time": "2023-04-21T12:08:53.198Z"
   },
   {
    "duration": 10,
    "start_time": "2023-04-21T12:08:55.895Z"
   },
   {
    "duration": 15,
    "start_time": "2023-04-21T12:08:55.907Z"
   },
   {
    "duration": 19,
    "start_time": "2023-04-21T12:08:55.925Z"
   },
   {
    "duration": 13,
    "start_time": "2023-04-21T12:08:55.948Z"
   },
   {
    "duration": 819,
    "start_time": "2023-04-21T12:08:55.962Z"
   },
   {
    "duration": 41,
    "start_time": "2023-04-21T12:08:56.783Z"
   },
   {
    "duration": 24,
    "start_time": "2023-04-21T12:08:56.826Z"
   },
   {
    "duration": 38,
    "start_time": "2023-04-21T12:08:56.852Z"
   },
   {
    "duration": 10,
    "start_time": "2023-04-21T12:08:56.892Z"
   },
   {
    "duration": 35,
    "start_time": "2023-04-21T12:08:56.907Z"
   },
   {
    "duration": 14,
    "start_time": "2023-04-21T12:08:56.944Z"
   },
   {
    "duration": 16,
    "start_time": "2023-04-21T12:08:56.960Z"
   },
   {
    "duration": 21,
    "start_time": "2023-04-21T12:08:56.980Z"
   },
   {
    "duration": 454,
    "start_time": "2023-04-21T12:08:57.004Z"
   },
   {
    "duration": 242,
    "start_time": "2023-04-21T12:08:57.460Z"
   },
   {
    "duration": 472,
    "start_time": "2023-04-21T12:08:57.704Z"
   },
   {
    "duration": 10,
    "start_time": "2023-04-21T12:08:58.178Z"
   },
   {
    "duration": 20,
    "start_time": "2023-04-21T12:08:58.190Z"
   },
   {
    "duration": 10,
    "start_time": "2023-04-21T12:08:58.213Z"
   },
   {
    "duration": 218,
    "start_time": "2023-04-21T12:08:58.225Z"
   },
   {
    "duration": 129,
    "start_time": "2023-04-21T12:08:58.445Z"
   },
   {
    "duration": 456,
    "start_time": "2023-04-21T12:08:58.576Z"
   },
   {
    "duration": 506,
    "start_time": "2023-04-21T12:08:59.034Z"
   },
   {
    "duration": 11,
    "start_time": "2023-04-21T12:08:59.542Z"
   },
   {
    "duration": 396,
    "start_time": "2023-04-21T12:08:59.555Z"
   },
   {
    "duration": 9,
    "start_time": "2023-04-21T12:08:59.953Z"
   },
   {
    "duration": 31,
    "start_time": "2023-04-21T12:08:59.964Z"
   },
   {
    "duration": 14,
    "start_time": "2023-04-21T12:08:59.998Z"
   },
   {
    "duration": 32,
    "start_time": "2023-04-21T12:09:00.014Z"
   },
   {
    "duration": 585,
    "start_time": "2023-04-21T12:09:00.048Z"
   },
   {
    "duration": 778,
    "start_time": "2023-04-21T12:09:00.635Z"
   },
   {
    "duration": 19,
    "start_time": "2023-04-21T12:09:01.415Z"
   },
   {
    "duration": 48,
    "start_time": "2023-04-21T12:09:01.436Z"
   },
   {
    "duration": 1196,
    "start_time": "2023-04-21T12:09:01.486Z"
   },
   {
    "duration": 9,
    "start_time": "2023-04-21T12:09:02.684Z"
   },
   {
    "duration": 70,
    "start_time": "2023-04-21T12:09:02.699Z"
   },
   {
    "duration": 18,
    "start_time": "2023-04-21T12:09:02.771Z"
   },
   {
    "duration": 1270,
    "start_time": "2023-04-21T12:09:02.792Z"
   },
   {
    "duration": 3,
    "start_time": "2023-04-21T12:09:04.064Z"
   },
   {
    "duration": 20,
    "start_time": "2023-04-21T12:09:04.073Z"
   },
   {
    "duration": 24,
    "start_time": "2023-04-21T12:09:04.096Z"
   },
   {
    "duration": 15,
    "start_time": "2023-04-21T12:09:04.123Z"
   },
   {
    "duration": 41,
    "start_time": "2023-04-21T12:09:04.140Z"
   },
   {
    "duration": 9,
    "start_time": "2023-04-21T12:09:04.183Z"
   },
   {
    "duration": 10,
    "start_time": "2023-04-21T12:09:04.195Z"
   },
   {
    "duration": 291,
    "start_time": "2023-04-21T12:09:04.207Z"
   },
   {
    "duration": 7,
    "start_time": "2023-04-21T12:09:04.501Z"
   },
   {
    "duration": 25,
    "start_time": "2023-04-21T12:09:04.510Z"
   },
   {
    "duration": 13,
    "start_time": "2023-04-21T12:09:04.537Z"
   },
   {
    "duration": 12,
    "start_time": "2023-04-21T12:09:04.553Z"
   },
   {
    "duration": 52,
    "start_time": "2023-04-21T12:09:04.567Z"
   },
   {
    "duration": 22,
    "start_time": "2023-04-21T12:09:04.621Z"
   },
   {
    "duration": 14,
    "start_time": "2023-04-21T12:09:04.645Z"
   },
   {
    "duration": 49,
    "start_time": "2023-04-21T12:09:04.661Z"
   },
   {
    "duration": 233256,
    "start_time": "2023-04-21T12:09:04.712Z"
   },
   {
    "duration": 258987,
    "start_time": "2023-04-21T12:12:57.970Z"
   },
   {
    "duration": 3,
    "start_time": "2023-04-21T12:17:16.959Z"
   },
   {
    "duration": 9,
    "start_time": "2023-04-21T12:17:16.964Z"
   },
   {
    "duration": 2423,
    "start_time": "2023-04-21T12:17:16.975Z"
   },
   {
    "duration": 3291,
    "start_time": "2023-04-21T12:17:19.403Z"
   },
   {
    "duration": 6,
    "start_time": "2023-04-21T12:17:22.696Z"
   },
   {
    "duration": 81,
    "start_time": "2023-04-21T12:17:22.789Z"
   },
   {
    "duration": 3829,
    "start_time": "2023-04-21T12:17:22.872Z"
   },
   {
    "duration": 4542,
    "start_time": "2023-04-21T12:17:26.703Z"
   },
   {
    "duration": 3,
    "start_time": "2023-04-21T12:17:31.247Z"
   },
   {
    "duration": 43,
    "start_time": "2023-04-21T12:17:31.252Z"
   },
   {
    "duration": 41,
    "start_time": "2023-04-21T12:17:31.297Z"
   },
   {
    "duration": 388989,
    "start_time": "2023-04-21T12:17:31.340Z"
   },
   {
    "duration": 28700,
    "start_time": "2023-04-21T12:24:00.331Z"
   },
   {
    "duration": 22,
    "start_time": "2023-04-21T12:24:29.033Z"
   },
   {
    "duration": 8,
    "start_time": "2023-04-21T12:24:29.057Z"
   },
   {
    "duration": 22,
    "start_time": "2023-04-21T12:24:29.066Z"
   },
   {
    "duration": 11,
    "start_time": "2023-04-21T12:24:29.090Z"
   },
   {
    "duration": 23,
    "start_time": "2023-04-21T12:24:29.103Z"
   },
   {
    "duration": 19,
    "start_time": "2023-04-21T12:24:29.128Z"
   },
   {
    "duration": 18,
    "start_time": "2023-04-21T12:24:29.149Z"
   },
   {
    "duration": 18,
    "start_time": "2023-04-21T12:24:29.169Z"
   },
   {
    "duration": 16,
    "start_time": "2023-04-21T12:24:29.189Z"
   }
  ],
  "colab": {
   "provenance": []
  },
  "kernelspec": {
   "display_name": "Python 3 (ipykernel)",
   "language": "python",
   "name": "python3"
  },
  "language_info": {
   "codemirror_mode": {
    "name": "ipython",
    "version": 3
   },
   "file_extension": ".py",
   "mimetype": "text/x-python",
   "name": "python",
   "nbconvert_exporter": "python",
   "pygments_lexer": "ipython3",
   "version": "3.9.5"
  },
  "toc": {
   "base_numbering": 1,
   "nav_menu": {},
   "number_sections": true,
   "sideBar": true,
   "skip_h1_title": true,
   "title_cell": "Содержание",
   "title_sidebar": "Contents",
   "toc_cell": true,
   "toc_position": {
    "height": "calc(100% - 180px)",
    "left": "10px",
    "top": "150px",
    "width": "191.8px"
   },
   "toc_section_display": true,
   "toc_window_display": true
  }
 },
 "nbformat": 4,
 "nbformat_minor": 1
}
