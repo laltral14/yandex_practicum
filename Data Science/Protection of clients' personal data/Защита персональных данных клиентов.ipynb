{
 "cells": [
  {
   "cell_type": "markdown",
   "metadata": {
    "toc": true
   },
   "source": [
    "<h1>Содержание<span class=\"tocSkip\"></span></h1>\n",
    "<div class=\"toc\"><ul class=\"toc-item\"><li><span><a href=\"#План-проекта\" data-toc-modified-id=\"План-проекта-1\"><span class=\"toc-item-num\">1&nbsp;&nbsp;</span>План проекта</a></span></li><li><span><a href=\"#Загрузка-данных\" data-toc-modified-id=\"Загрузка-данных-2\"><span class=\"toc-item-num\">2&nbsp;&nbsp;</span>Загрузка данных</a></span></li><li><span><a href=\"#Умножение-матриц\" data-toc-modified-id=\"Умножение-матриц-3\"><span class=\"toc-item-num\">3&nbsp;&nbsp;</span>Умножение матриц</a></span></li><li><span><a href=\"#Алгоритм-преобразования\" data-toc-modified-id=\"Алгоритм-преобразования-4\"><span class=\"toc-item-num\">4&nbsp;&nbsp;</span>Алгоритм преобразования</a></span></li><li><span><a href=\"#Проверка-алгоритма\" data-toc-modified-id=\"Проверка-алгоритма-5\"><span class=\"toc-item-num\">5&nbsp;&nbsp;</span>Проверка алгоритма</a></span></li><li><span><a href=\"#Общий-вывод\" data-toc-modified-id=\"Общий-вывод-6\"><span class=\"toc-item-num\">6&nbsp;&nbsp;</span>Общий вывод</a></span></li><li><span><a href=\"#Чек-лист-проверки\" data-toc-modified-id=\"Чек-лист-проверки-7\"><span class=\"toc-item-num\">7&nbsp;&nbsp;</span>Чек-лист проверки</a></span></li></ul></div>"
   ]
  },
  {
   "cell_type": "markdown",
   "metadata": {
    "id": "ZNPjL8p2_HEd"
   },
   "source": [
    "# Защита персональных данных клиентов"
   ]
  },
  {
   "cell_type": "markdown",
   "metadata": {
    "id": "2JLWpkOZ_HEd"
   },
   "source": [
    "Вам нужно защитить данные клиентов страховой компании «Хоть потоп». Разработайте такой метод преобразования данных, чтобы по ним было сложно восстановить персональную информацию. Обоснуйте корректность его работы.\n",
    "\n",
    "Нужно защитить данные, чтобы при преобразовании качество моделей машинного обучения не ухудшилось. Подбирать наилучшую модель не требуется."
   ]
  },
  {
   "cell_type": "markdown",
   "metadata": {
    "id": "C0L34Kiu_HEe"
   },
   "source": [
    "## План проекта\n",
    "**1. Загрузка данных**\n",
    "\n",
    "**Первичное исследование данных:** \n",
    "* Импорт необходимых библиотек\n",
    "* Чтение файлов и сохранение полученных данных в переменные\n",
    "* Получение общей информации о таблицах (head, info, describe)\n",
    "* Графическое представление данных из таблиц\n",
    "* Выводы\n",
    "\n",
    "**2. Умножение матриц:**\n",
    "* Теоретическое доказательство неизменности качества линейной регресии при умножение на обратимую матрицу\n",
    "* Выводы\n",
    "\n",
    "**3. Алгоритм преобразования:**\n",
    "* Описание алгоритма преобразования\n",
    "\n",
    "**4. Проверка алгоритма:**\n",
    "* Проверка качества линейной регрессии до и после преобразования\n",
    "* Выводы\n",
    "\n",
    "**5. Общий вывод**"
   ]
  },
  {
   "cell_type": "markdown",
   "metadata": {
    "id": "zALyYnMl_HEg"
   },
   "source": [
    "## Загрузка данных"
   ]
  },
  {
   "cell_type": "code",
   "execution_count": 1,
   "metadata": {
    "executionInfo": {
     "elapsed": 1507,
     "status": "ok",
     "timestamp": 1684669515929,
     "user": {
      "displayName": "Мистер Скальпинг",
      "userId": "13412952563104260617"
     },
     "user_tz": -180
    },
    "id": "rpZKlg2G_HEh"
   },
   "outputs": [],
   "source": [
    "# Импортируем нужные библиотеки\n",
    "import pandas as pd\n",
    "import matplotlib.pylab as plt\n",
    "import seaborn as sns\n",
    "import math\n",
    "import numpy as np\n",
    "\n",
    "from sklearn.preprocessing import StandardScaler\n",
    "from sklearn.linear_model import LinearRegression\n",
    "from sklearn.metrics import r2_score\n",
    "from sklearn.model_selection import cross_val_score"
   ]
  },
  {
   "cell_type": "code",
   "execution_count": 2,
   "metadata": {
    "executionInfo": {
     "elapsed": 13,
     "status": "ok",
     "timestamp": 1684669515930,
     "user": {
      "displayName": "Мистер Скальпинг",
      "userId": "13412952563104260617"
     },
     "user_tz": -180
    },
    "id": "lOsHbqzx_HEj"
   },
   "outputs": [],
   "source": [
    "# Напишем функцию для первичной проверки данных\n",
    "def check_data(data_df):\n",
    "    print ('\\033[1m' + 'Изучим исходные данные'+ '\\033[0m')\n",
    "    print(data_df.info())\n",
    "    #print(data_df.shape)\n",
    "        \n",
    "    missed_cells = data_df.isnull().sum().sum()/(data_df.shape[0]*(data_df.shape[1]-1))\n",
    "    missed_rows = sum(data_df.isnull().sum(axis = 1)>0)/data_df.shape[0]\n",
    "    print ('\\033[1m' + '\\nПроверка пропусков'+ '\\033[0m')\n",
    "    print ('Количество пропусков: {:.0f}'.format(data_df.isnull().sum().sum()))\n",
    "    print ('Доля пропусков: {:.1%}'.format(missed_cells)+ '\\033[0m')\n",
    "    print ('Доля строк содержащих пропуски: {:.1%}'.format(missed_rows))\n",
    "\n",
    "    ## Проверим дубликаты\n",
    "    print ('\\033[1m' + '\\nПроверка на дубликаты'+ '\\033[0m')\n",
    "    print('Количество полных дубликатов: ', data_df.duplicated().sum())\n",
    "        \n",
    "    ## Посмотрим на сами данные\n",
    "    print ('\\033[1m' + '\\nПервые пять строк датасета'+ '\\033[0m')\n",
    "    display(data_df.head())\n",
    "    \n",
    "    print('\\033[1m' + '\\nОписание количественных данных:'+ '\\033[0m')\n",
    "    display(data_df.describe().T)"
   ]
  },
  {
   "cell_type": "code",
   "execution_count": 3,
   "metadata": {
    "executionInfo": {
     "elapsed": 12,
     "status": "ok",
     "timestamp": 1684669515931,
     "user": {
      "displayName": "Мистер Скальпинг",
      "userId": "13412952563104260617"
     },
     "user_tz": -180
    },
    "id": "Kr4teAPx_HEk"
   },
   "outputs": [],
   "source": [
    "def plot_hist(data, col_column):\n",
    "    '''\n",
    "    Функция отрисовки гистограмм и ящика с усами для количесвтенных переменных.\n",
    "    На вход: исходная таблица и список количественных переменных.\n",
    "    На выходе: графики\n",
    "    '''\n",
    "    rows = len(col_column)\n",
    "    f, ax = plt.subplots(rows,2, figsize=(8, 15))\n",
    "    f.tight_layout()\n",
    "    f.set_figheight(30)\n",
    "    f.set_figwidth(14)\n",
    "    plt.rcParams.update({'font.size': 18})\n",
    "    \n",
    "    for i, col in enumerate(col_column):         \n",
    "        sns.histplot(data[col], kde=True, bins=24, ax = ax[i, 0])                    \n",
    "        sns.boxplot(data[col], ax = ax[i, 1])\n",
    "\n",
    "        ax[i, 0].set_xlabel(col)\n",
    "        ax[i, 1].set_xlabel(col)\n",
    "        ax[i, 0].set_ylabel('Количество')\n",
    "    plt.suptitle(\"Гистограмма и ящик с усами для количественных данных\", fontsize=22, y=1.01)\n",
    "    plt.show()"
   ]
  },
  {
   "cell_type": "code",
   "execution_count": 4,
   "metadata": {
    "executionInfo": {
     "elapsed": 1330,
     "status": "ok",
     "timestamp": 1684669517251,
     "user": {
      "displayName": "Мистер Скальпинг",
      "userId": "13412952563104260617"
     },
     "user_tz": -180
    },
    "id": "syp-pO5z_HEl"
   },
   "outputs": [],
   "source": [
    "# Считываем данные из csv-файла в датафрейм и сохраняем в переменной data\n",
    "try:\n",
    "    data = pd.read_csv('/datasets/insurance.csv')    \n",
    "except:\n",
    "    data = pd.read_csv('https://code.s3.yandex.net/datasets/insurance.csv')"
   ]
  },
  {
   "cell_type": "code",
   "execution_count": 5,
   "metadata": {
    "colab": {
     "base_uri": "https://localhost:8080/",
     "height": 206
    },
    "executionInfo": {
     "elapsed": 49,
     "status": "ok",
     "timestamp": 1684669517254,
     "user": {
      "displayName": "Мистер Скальпинг",
      "userId": "13412952563104260617"
     },
     "user_tz": -180
    },
    "id": "1zPQDXLT_HEm",
    "outputId": "293fcd4a-4be1-4d8a-dcc6-8792a11d5662"
   },
   "outputs": [
    {
     "data": {
      "text/html": [
       "\n",
       "  <div id=\"df-99f8be21-c536-4ad1-943c-93631f3146e1\">\n",
       "    <div class=\"colab-df-container\">\n",
       "      <div>\n",
       "<style scoped>\n",
       "    .dataframe tbody tr th:only-of-type {\n",
       "        vertical-align: middle;\n",
       "    }\n",
       "\n",
       "    .dataframe tbody tr th {\n",
       "        vertical-align: top;\n",
       "    }\n",
       "\n",
       "    .dataframe thead th {\n",
       "        text-align: right;\n",
       "    }\n",
       "</style>\n",
       "<table border=\"1\" class=\"dataframe\">\n",
       "  <thead>\n",
       "    <tr style=\"text-align: right;\">\n",
       "      <th></th>\n",
       "      <th>Пол</th>\n",
       "      <th>Возраст</th>\n",
       "      <th>Зарплата</th>\n",
       "      <th>Члены семьи</th>\n",
       "      <th>Страховые выплаты</th>\n",
       "    </tr>\n",
       "  </thead>\n",
       "  <tbody>\n",
       "    <tr>\n",
       "      <th>0</th>\n",
       "      <td>1</td>\n",
       "      <td>41.0</td>\n",
       "      <td>49600.0</td>\n",
       "      <td>1</td>\n",
       "      <td>0</td>\n",
       "    </tr>\n",
       "    <tr>\n",
       "      <th>1</th>\n",
       "      <td>0</td>\n",
       "      <td>46.0</td>\n",
       "      <td>38000.0</td>\n",
       "      <td>1</td>\n",
       "      <td>1</td>\n",
       "    </tr>\n",
       "    <tr>\n",
       "      <th>2</th>\n",
       "      <td>0</td>\n",
       "      <td>29.0</td>\n",
       "      <td>21000.0</td>\n",
       "      <td>0</td>\n",
       "      <td>0</td>\n",
       "    </tr>\n",
       "    <tr>\n",
       "      <th>3</th>\n",
       "      <td>0</td>\n",
       "      <td>21.0</td>\n",
       "      <td>41700.0</td>\n",
       "      <td>2</td>\n",
       "      <td>0</td>\n",
       "    </tr>\n",
       "    <tr>\n",
       "      <th>4</th>\n",
       "      <td>1</td>\n",
       "      <td>28.0</td>\n",
       "      <td>26100.0</td>\n",
       "      <td>0</td>\n",
       "      <td>0</td>\n",
       "    </tr>\n",
       "  </tbody>\n",
       "</table>\n",
       "</div>\n",
       "      <button class=\"colab-df-convert\" onclick=\"convertToInteractive('df-99f8be21-c536-4ad1-943c-93631f3146e1')\"\n",
       "              title=\"Convert this dataframe to an interactive table.\"\n",
       "              style=\"display:none;\">\n",
       "        \n",
       "  <svg xmlns=\"http://www.w3.org/2000/svg\" height=\"24px\"viewBox=\"0 0 24 24\"\n",
       "       width=\"24px\">\n",
       "    <path d=\"M0 0h24v24H0V0z\" fill=\"none\"/>\n",
       "    <path d=\"M18.56 5.44l.94 2.06.94-2.06 2.06-.94-2.06-.94-.94-2.06-.94 2.06-2.06.94zm-11 1L8.5 8.5l.94-2.06 2.06-.94-2.06-.94L8.5 2.5l-.94 2.06-2.06.94zm10 10l.94 2.06.94-2.06 2.06-.94-2.06-.94-.94-2.06-.94 2.06-2.06.94z\"/><path d=\"M17.41 7.96l-1.37-1.37c-.4-.4-.92-.59-1.43-.59-.52 0-1.04.2-1.43.59L10.3 9.45l-7.72 7.72c-.78.78-.78 2.05 0 2.83L4 21.41c.39.39.9.59 1.41.59.51 0 1.02-.2 1.41-.59l7.78-7.78 2.81-2.81c.8-.78.8-2.07 0-2.86zM5.41 20L4 18.59l7.72-7.72 1.47 1.35L5.41 20z\"/>\n",
       "  </svg>\n",
       "      </button>\n",
       "      \n",
       "  <style>\n",
       "    .colab-df-container {\n",
       "      display:flex;\n",
       "      flex-wrap:wrap;\n",
       "      gap: 12px;\n",
       "    }\n",
       "\n",
       "    .colab-df-convert {\n",
       "      background-color: #E8F0FE;\n",
       "      border: none;\n",
       "      border-radius: 50%;\n",
       "      cursor: pointer;\n",
       "      display: none;\n",
       "      fill: #1967D2;\n",
       "      height: 32px;\n",
       "      padding: 0 0 0 0;\n",
       "      width: 32px;\n",
       "    }\n",
       "\n",
       "    .colab-df-convert:hover {\n",
       "      background-color: #E2EBFA;\n",
       "      box-shadow: 0px 1px 2px rgba(60, 64, 67, 0.3), 0px 1px 3px 1px rgba(60, 64, 67, 0.15);\n",
       "      fill: #174EA6;\n",
       "    }\n",
       "\n",
       "    [theme=dark] .colab-df-convert {\n",
       "      background-color: #3B4455;\n",
       "      fill: #D2E3FC;\n",
       "    }\n",
       "\n",
       "    [theme=dark] .colab-df-convert:hover {\n",
       "      background-color: #434B5C;\n",
       "      box-shadow: 0px 1px 3px 1px rgba(0, 0, 0, 0.15);\n",
       "      filter: drop-shadow(0px 1px 2px rgba(0, 0, 0, 0.3));\n",
       "      fill: #FFFFFF;\n",
       "    }\n",
       "  </style>\n",
       "\n",
       "      <script>\n",
       "        const buttonEl =\n",
       "          document.querySelector('#df-99f8be21-c536-4ad1-943c-93631f3146e1 button.colab-df-convert');\n",
       "        buttonEl.style.display =\n",
       "          google.colab.kernel.accessAllowed ? 'block' : 'none';\n",
       "\n",
       "        async function convertToInteractive(key) {\n",
       "          const element = document.querySelector('#df-99f8be21-c536-4ad1-943c-93631f3146e1');\n",
       "          const dataTable =\n",
       "            await google.colab.kernel.invokeFunction('convertToInteractive',\n",
       "                                                     [key], {});\n",
       "          if (!dataTable) return;\n",
       "\n",
       "          const docLinkHtml = 'Like what you see? Visit the ' +\n",
       "            '<a target=\"_blank\" href=https://colab.research.google.com/notebooks/data_table.ipynb>data table notebook</a>'\n",
       "            + ' to learn more about interactive tables.';\n",
       "          element.innerHTML = '';\n",
       "          dataTable['output_type'] = 'display_data';\n",
       "          await google.colab.output.renderOutput(dataTable, element);\n",
       "          const docLink = document.createElement('div');\n",
       "          docLink.innerHTML = docLinkHtml;\n",
       "          element.appendChild(docLink);\n",
       "        }\n",
       "      </script>\n",
       "    </div>\n",
       "  </div>\n",
       "  "
      ],
      "text/plain": [
       "   Пол  Возраст  Зарплата  Члены семьи  Страховые выплаты\n",
       "0    1     41.0   49600.0            1                  0\n",
       "1    0     46.0   38000.0            1                  1\n",
       "2    0     29.0   21000.0            0                  0\n",
       "3    0     21.0   41700.0            2                  0\n",
       "4    1     28.0   26100.0            0                  0"
      ]
     },
     "execution_count": 5,
     "metadata": {},
     "output_type": "execute_result"
    }
   ],
   "source": [
    "data.head(5)"
   ]
  },
  {
   "cell_type": "code",
   "execution_count": 6,
   "metadata": {
    "colab": {
     "base_uri": "https://localhost:8080/",
     "height": 846
    },
    "executionInfo": {
     "elapsed": 47,
     "status": "ok",
     "timestamp": 1684669517256,
     "user": {
      "displayName": "Мистер Скальпинг",
      "userId": "13412952563104260617"
     },
     "user_tz": -180
    },
    "id": "zyGaLbny_HEn",
    "outputId": "21baf071-a404-49a2-9439-c8d4b38839d9"
   },
   "outputs": [
    {
     "name": "stdout",
     "output_type": "stream",
     "text": [
      "\u001b[1mИзучим исходные данные\u001b[0m\n",
      "<class 'pandas.core.frame.DataFrame'>\n",
      "RangeIndex: 5000 entries, 0 to 4999\n",
      "Data columns (total 5 columns):\n",
      " #   Column             Non-Null Count  Dtype  \n",
      "---  ------             --------------  -----  \n",
      " 0   Пол                5000 non-null   int64  \n",
      " 1   Возраст            5000 non-null   float64\n",
      " 2   Зарплата           5000 non-null   float64\n",
      " 3   Члены семьи        5000 non-null   int64  \n",
      " 4   Страховые выплаты  5000 non-null   int64  \n",
      "dtypes: float64(2), int64(3)\n",
      "memory usage: 195.4 KB\n",
      "None\n",
      "\u001b[1m\n",
      "Проверка пропусков\u001b[0m\n",
      "Количество пропусков: 0\n",
      "Доля пропусков: 0.0%\u001b[0m\n",
      "Доля строк содержащих пропуски: 0.0%\n",
      "\u001b[1m\n",
      "Проверка на дубликаты\u001b[0m\n",
      "Количество полных дубликатов:  153\n",
      "\u001b[1m\n",
      "Первые пять строк датасета\u001b[0m\n"
     ]
    },
    {
     "data": {
      "text/html": [
       "\n",
       "  <div id=\"df-50fb7105-c3e5-4a4a-994f-eeeaae19caaa\">\n",
       "    <div class=\"colab-df-container\">\n",
       "      <div>\n",
       "<style scoped>\n",
       "    .dataframe tbody tr th:only-of-type {\n",
       "        vertical-align: middle;\n",
       "    }\n",
       "\n",
       "    .dataframe tbody tr th {\n",
       "        vertical-align: top;\n",
       "    }\n",
       "\n",
       "    .dataframe thead th {\n",
       "        text-align: right;\n",
       "    }\n",
       "</style>\n",
       "<table border=\"1\" class=\"dataframe\">\n",
       "  <thead>\n",
       "    <tr style=\"text-align: right;\">\n",
       "      <th></th>\n",
       "      <th>Пол</th>\n",
       "      <th>Возраст</th>\n",
       "      <th>Зарплата</th>\n",
       "      <th>Члены семьи</th>\n",
       "      <th>Страховые выплаты</th>\n",
       "    </tr>\n",
       "  </thead>\n",
       "  <tbody>\n",
       "    <tr>\n",
       "      <th>0</th>\n",
       "      <td>1</td>\n",
       "      <td>41.0</td>\n",
       "      <td>49600.0</td>\n",
       "      <td>1</td>\n",
       "      <td>0</td>\n",
       "    </tr>\n",
       "    <tr>\n",
       "      <th>1</th>\n",
       "      <td>0</td>\n",
       "      <td>46.0</td>\n",
       "      <td>38000.0</td>\n",
       "      <td>1</td>\n",
       "      <td>1</td>\n",
       "    </tr>\n",
       "    <tr>\n",
       "      <th>2</th>\n",
       "      <td>0</td>\n",
       "      <td>29.0</td>\n",
       "      <td>21000.0</td>\n",
       "      <td>0</td>\n",
       "      <td>0</td>\n",
       "    </tr>\n",
       "    <tr>\n",
       "      <th>3</th>\n",
       "      <td>0</td>\n",
       "      <td>21.0</td>\n",
       "      <td>41700.0</td>\n",
       "      <td>2</td>\n",
       "      <td>0</td>\n",
       "    </tr>\n",
       "    <tr>\n",
       "      <th>4</th>\n",
       "      <td>1</td>\n",
       "      <td>28.0</td>\n",
       "      <td>26100.0</td>\n",
       "      <td>0</td>\n",
       "      <td>0</td>\n",
       "    </tr>\n",
       "  </tbody>\n",
       "</table>\n",
       "</div>\n",
       "      <button class=\"colab-df-convert\" onclick=\"convertToInteractive('df-50fb7105-c3e5-4a4a-994f-eeeaae19caaa')\"\n",
       "              title=\"Convert this dataframe to an interactive table.\"\n",
       "              style=\"display:none;\">\n",
       "        \n",
       "  <svg xmlns=\"http://www.w3.org/2000/svg\" height=\"24px\"viewBox=\"0 0 24 24\"\n",
       "       width=\"24px\">\n",
       "    <path d=\"M0 0h24v24H0V0z\" fill=\"none\"/>\n",
       "    <path d=\"M18.56 5.44l.94 2.06.94-2.06 2.06-.94-2.06-.94-.94-2.06-.94 2.06-2.06.94zm-11 1L8.5 8.5l.94-2.06 2.06-.94-2.06-.94L8.5 2.5l-.94 2.06-2.06.94zm10 10l.94 2.06.94-2.06 2.06-.94-2.06-.94-.94-2.06-.94 2.06-2.06.94z\"/><path d=\"M17.41 7.96l-1.37-1.37c-.4-.4-.92-.59-1.43-.59-.52 0-1.04.2-1.43.59L10.3 9.45l-7.72 7.72c-.78.78-.78 2.05 0 2.83L4 21.41c.39.39.9.59 1.41.59.51 0 1.02-.2 1.41-.59l7.78-7.78 2.81-2.81c.8-.78.8-2.07 0-2.86zM5.41 20L4 18.59l7.72-7.72 1.47 1.35L5.41 20z\"/>\n",
       "  </svg>\n",
       "      </button>\n",
       "      \n",
       "  <style>\n",
       "    .colab-df-container {\n",
       "      display:flex;\n",
       "      flex-wrap:wrap;\n",
       "      gap: 12px;\n",
       "    }\n",
       "\n",
       "    .colab-df-convert {\n",
       "      background-color: #E8F0FE;\n",
       "      border: none;\n",
       "      border-radius: 50%;\n",
       "      cursor: pointer;\n",
       "      display: none;\n",
       "      fill: #1967D2;\n",
       "      height: 32px;\n",
       "      padding: 0 0 0 0;\n",
       "      width: 32px;\n",
       "    }\n",
       "\n",
       "    .colab-df-convert:hover {\n",
       "      background-color: #E2EBFA;\n",
       "      box-shadow: 0px 1px 2px rgba(60, 64, 67, 0.3), 0px 1px 3px 1px rgba(60, 64, 67, 0.15);\n",
       "      fill: #174EA6;\n",
       "    }\n",
       "\n",
       "    [theme=dark] .colab-df-convert {\n",
       "      background-color: #3B4455;\n",
       "      fill: #D2E3FC;\n",
       "    }\n",
       "\n",
       "    [theme=dark] .colab-df-convert:hover {\n",
       "      background-color: #434B5C;\n",
       "      box-shadow: 0px 1px 3px 1px rgba(0, 0, 0, 0.15);\n",
       "      filter: drop-shadow(0px 1px 2px rgba(0, 0, 0, 0.3));\n",
       "      fill: #FFFFFF;\n",
       "    }\n",
       "  </style>\n",
       "\n",
       "      <script>\n",
       "        const buttonEl =\n",
       "          document.querySelector('#df-50fb7105-c3e5-4a4a-994f-eeeaae19caaa button.colab-df-convert');\n",
       "        buttonEl.style.display =\n",
       "          google.colab.kernel.accessAllowed ? 'block' : 'none';\n",
       "\n",
       "        async function convertToInteractive(key) {\n",
       "          const element = document.querySelector('#df-50fb7105-c3e5-4a4a-994f-eeeaae19caaa');\n",
       "          const dataTable =\n",
       "            await google.colab.kernel.invokeFunction('convertToInteractive',\n",
       "                                                     [key], {});\n",
       "          if (!dataTable) return;\n",
       "\n",
       "          const docLinkHtml = 'Like what you see? Visit the ' +\n",
       "            '<a target=\"_blank\" href=https://colab.research.google.com/notebooks/data_table.ipynb>data table notebook</a>'\n",
       "            + ' to learn more about interactive tables.';\n",
       "          element.innerHTML = '';\n",
       "          dataTable['output_type'] = 'display_data';\n",
       "          await google.colab.output.renderOutput(dataTable, element);\n",
       "          const docLink = document.createElement('div');\n",
       "          docLink.innerHTML = docLinkHtml;\n",
       "          element.appendChild(docLink);\n",
       "        }\n",
       "      </script>\n",
       "    </div>\n",
       "  </div>\n",
       "  "
      ],
      "text/plain": [
       "   Пол  Возраст  Зарплата  Члены семьи  Страховые выплаты\n",
       "0    1     41.0   49600.0            1                  0\n",
       "1    0     46.0   38000.0            1                  1\n",
       "2    0     29.0   21000.0            0                  0\n",
       "3    0     21.0   41700.0            2                  0\n",
       "4    1     28.0   26100.0            0                  0"
      ]
     },
     "metadata": {},
     "output_type": "display_data"
    },
    {
     "name": "stdout",
     "output_type": "stream",
     "text": [
      "\u001b[1m\n",
      "Описание количественных данных:\u001b[0m\n"
     ]
    },
    {
     "data": {
      "text/html": [
       "\n",
       "  <div id=\"df-995a509d-c6ff-4507-aef8-553d96efe9f6\">\n",
       "    <div class=\"colab-df-container\">\n",
       "      <div>\n",
       "<style scoped>\n",
       "    .dataframe tbody tr th:only-of-type {\n",
       "        vertical-align: middle;\n",
       "    }\n",
       "\n",
       "    .dataframe tbody tr th {\n",
       "        vertical-align: top;\n",
       "    }\n",
       "\n",
       "    .dataframe thead th {\n",
       "        text-align: right;\n",
       "    }\n",
       "</style>\n",
       "<table border=\"1\" class=\"dataframe\">\n",
       "  <thead>\n",
       "    <tr style=\"text-align: right;\">\n",
       "      <th></th>\n",
       "      <th>count</th>\n",
       "      <th>mean</th>\n",
       "      <th>std</th>\n",
       "      <th>min</th>\n",
       "      <th>25%</th>\n",
       "      <th>50%</th>\n",
       "      <th>75%</th>\n",
       "      <th>max</th>\n",
       "    </tr>\n",
       "  </thead>\n",
       "  <tbody>\n",
       "    <tr>\n",
       "      <th>Пол</th>\n",
       "      <td>5000.0</td>\n",
       "      <td>0.4990</td>\n",
       "      <td>0.500049</td>\n",
       "      <td>0.0</td>\n",
       "      <td>0.0</td>\n",
       "      <td>0.0</td>\n",
       "      <td>1.0</td>\n",
       "      <td>1.0</td>\n",
       "    </tr>\n",
       "    <tr>\n",
       "      <th>Возраст</th>\n",
       "      <td>5000.0</td>\n",
       "      <td>30.9528</td>\n",
       "      <td>8.440807</td>\n",
       "      <td>18.0</td>\n",
       "      <td>24.0</td>\n",
       "      <td>30.0</td>\n",
       "      <td>37.0</td>\n",
       "      <td>65.0</td>\n",
       "    </tr>\n",
       "    <tr>\n",
       "      <th>Зарплата</th>\n",
       "      <td>5000.0</td>\n",
       "      <td>39916.3600</td>\n",
       "      <td>9900.083569</td>\n",
       "      <td>5300.0</td>\n",
       "      <td>33300.0</td>\n",
       "      <td>40200.0</td>\n",
       "      <td>46600.0</td>\n",
       "      <td>79000.0</td>\n",
       "    </tr>\n",
       "    <tr>\n",
       "      <th>Члены семьи</th>\n",
       "      <td>5000.0</td>\n",
       "      <td>1.1942</td>\n",
       "      <td>1.091387</td>\n",
       "      <td>0.0</td>\n",
       "      <td>0.0</td>\n",
       "      <td>1.0</td>\n",
       "      <td>2.0</td>\n",
       "      <td>6.0</td>\n",
       "    </tr>\n",
       "    <tr>\n",
       "      <th>Страховые выплаты</th>\n",
       "      <td>5000.0</td>\n",
       "      <td>0.1480</td>\n",
       "      <td>0.463183</td>\n",
       "      <td>0.0</td>\n",
       "      <td>0.0</td>\n",
       "      <td>0.0</td>\n",
       "      <td>0.0</td>\n",
       "      <td>5.0</td>\n",
       "    </tr>\n",
       "  </tbody>\n",
       "</table>\n",
       "</div>\n",
       "      <button class=\"colab-df-convert\" onclick=\"convertToInteractive('df-995a509d-c6ff-4507-aef8-553d96efe9f6')\"\n",
       "              title=\"Convert this dataframe to an interactive table.\"\n",
       "              style=\"display:none;\">\n",
       "        \n",
       "  <svg xmlns=\"http://www.w3.org/2000/svg\" height=\"24px\"viewBox=\"0 0 24 24\"\n",
       "       width=\"24px\">\n",
       "    <path d=\"M0 0h24v24H0V0z\" fill=\"none\"/>\n",
       "    <path d=\"M18.56 5.44l.94 2.06.94-2.06 2.06-.94-2.06-.94-.94-2.06-.94 2.06-2.06.94zm-11 1L8.5 8.5l.94-2.06 2.06-.94-2.06-.94L8.5 2.5l-.94 2.06-2.06.94zm10 10l.94 2.06.94-2.06 2.06-.94-2.06-.94-.94-2.06-.94 2.06-2.06.94z\"/><path d=\"M17.41 7.96l-1.37-1.37c-.4-.4-.92-.59-1.43-.59-.52 0-1.04.2-1.43.59L10.3 9.45l-7.72 7.72c-.78.78-.78 2.05 0 2.83L4 21.41c.39.39.9.59 1.41.59.51 0 1.02-.2 1.41-.59l7.78-7.78 2.81-2.81c.8-.78.8-2.07 0-2.86zM5.41 20L4 18.59l7.72-7.72 1.47 1.35L5.41 20z\"/>\n",
       "  </svg>\n",
       "      </button>\n",
       "      \n",
       "  <style>\n",
       "    .colab-df-container {\n",
       "      display:flex;\n",
       "      flex-wrap:wrap;\n",
       "      gap: 12px;\n",
       "    }\n",
       "\n",
       "    .colab-df-convert {\n",
       "      background-color: #E8F0FE;\n",
       "      border: none;\n",
       "      border-radius: 50%;\n",
       "      cursor: pointer;\n",
       "      display: none;\n",
       "      fill: #1967D2;\n",
       "      height: 32px;\n",
       "      padding: 0 0 0 0;\n",
       "      width: 32px;\n",
       "    }\n",
       "\n",
       "    .colab-df-convert:hover {\n",
       "      background-color: #E2EBFA;\n",
       "      box-shadow: 0px 1px 2px rgba(60, 64, 67, 0.3), 0px 1px 3px 1px rgba(60, 64, 67, 0.15);\n",
       "      fill: #174EA6;\n",
       "    }\n",
       "\n",
       "    [theme=dark] .colab-df-convert {\n",
       "      background-color: #3B4455;\n",
       "      fill: #D2E3FC;\n",
       "    }\n",
       "\n",
       "    [theme=dark] .colab-df-convert:hover {\n",
       "      background-color: #434B5C;\n",
       "      box-shadow: 0px 1px 3px 1px rgba(0, 0, 0, 0.15);\n",
       "      filter: drop-shadow(0px 1px 2px rgba(0, 0, 0, 0.3));\n",
       "      fill: #FFFFFF;\n",
       "    }\n",
       "  </style>\n",
       "\n",
       "      <script>\n",
       "        const buttonEl =\n",
       "          document.querySelector('#df-995a509d-c6ff-4507-aef8-553d96efe9f6 button.colab-df-convert');\n",
       "        buttonEl.style.display =\n",
       "          google.colab.kernel.accessAllowed ? 'block' : 'none';\n",
       "\n",
       "        async function convertToInteractive(key) {\n",
       "          const element = document.querySelector('#df-995a509d-c6ff-4507-aef8-553d96efe9f6');\n",
       "          const dataTable =\n",
       "            await google.colab.kernel.invokeFunction('convertToInteractive',\n",
       "                                                     [key], {});\n",
       "          if (!dataTable) return;\n",
       "\n",
       "          const docLinkHtml = 'Like what you see? Visit the ' +\n",
       "            '<a target=\"_blank\" href=https://colab.research.google.com/notebooks/data_table.ipynb>data table notebook</a>'\n",
       "            + ' to learn more about interactive tables.';\n",
       "          element.innerHTML = '';\n",
       "          dataTable['output_type'] = 'display_data';\n",
       "          await google.colab.output.renderOutput(dataTable, element);\n",
       "          const docLink = document.createElement('div');\n",
       "          docLink.innerHTML = docLinkHtml;\n",
       "          element.appendChild(docLink);\n",
       "        }\n",
       "      </script>\n",
       "    </div>\n",
       "  </div>\n",
       "  "
      ],
      "text/plain": [
       "                    count        mean          std     min      25%      50%  \\\n",
       "Пол                5000.0      0.4990     0.500049     0.0      0.0      0.0   \n",
       "Возраст            5000.0     30.9528     8.440807    18.0     24.0     30.0   \n",
       "Зарплата           5000.0  39916.3600  9900.083569  5300.0  33300.0  40200.0   \n",
       "Члены семьи        5000.0      1.1942     1.091387     0.0      0.0      1.0   \n",
       "Страховые выплаты  5000.0      0.1480     0.463183     0.0      0.0      0.0   \n",
       "\n",
       "                       75%      max  \n",
       "Пол                    1.0      1.0  \n",
       "Возраст               37.0     65.0  \n",
       "Зарплата           46600.0  79000.0  \n",
       "Члены семьи            2.0      6.0  \n",
       "Страховые выплаты      0.0      5.0  "
      ]
     },
     "metadata": {},
     "output_type": "display_data"
    }
   ],
   "source": [
    "# описательный анализ полной выборки\n",
    "check_data(data)"
   ]
  },
  {
   "cell_type": "markdown",
   "metadata": {
    "id": "A95UJ50Z_3sd"
   },
   "source": [
    "Загруженная таблица соответствует заданию.\n",
    "\n",
    "Признаки: пол, возраст и зарплата застрахованного, количество членов его семьи.  \n",
    "Целевой признак: количество страховых выплат клиенту за последние 5 лет."
   ]
  },
  {
   "cell_type": "code",
   "execution_count": 7,
   "metadata": {
    "colab": {
     "base_uri": "https://localhost:8080/",
     "height": 423
    },
    "executionInfo": {
     "elapsed": 36,
     "status": "ok",
     "timestamp": 1684669517258,
     "user": {
      "displayName": "Мистер Скальпинг",
      "userId": "13412952563104260617"
     },
     "user_tz": -180
    },
    "id": "_QbzLOmC_HEn",
    "outputId": "1bf30e06-606c-4566-8ed5-3a108230e662"
   },
   "outputs": [
    {
     "data": {
      "text/html": [
       "\n",
       "  <div id=\"df-a7db4b02-14f3-4f49-bddc-373143ff6e24\">\n",
       "    <div class=\"colab-df-container\">\n",
       "      <div>\n",
       "<style scoped>\n",
       "    .dataframe tbody tr th:only-of-type {\n",
       "        vertical-align: middle;\n",
       "    }\n",
       "\n",
       "    .dataframe tbody tr th {\n",
       "        vertical-align: top;\n",
       "    }\n",
       "\n",
       "    .dataframe thead th {\n",
       "        text-align: right;\n",
       "    }\n",
       "</style>\n",
       "<table border=\"1\" class=\"dataframe\">\n",
       "  <thead>\n",
       "    <tr style=\"text-align: right;\">\n",
       "      <th></th>\n",
       "      <th>Пол</th>\n",
       "      <th>Возраст</th>\n",
       "      <th>Зарплата</th>\n",
       "      <th>Члены семьи</th>\n",
       "      <th>Страховые выплаты</th>\n",
       "    </tr>\n",
       "  </thead>\n",
       "  <tbody>\n",
       "    <tr>\n",
       "      <th>281</th>\n",
       "      <td>1</td>\n",
       "      <td>39.0</td>\n",
       "      <td>48100.0</td>\n",
       "      <td>1</td>\n",
       "      <td>0</td>\n",
       "    </tr>\n",
       "    <tr>\n",
       "      <th>488</th>\n",
       "      <td>1</td>\n",
       "      <td>24.0</td>\n",
       "      <td>32900.0</td>\n",
       "      <td>1</td>\n",
       "      <td>0</td>\n",
       "    </tr>\n",
       "    <tr>\n",
       "      <th>513</th>\n",
       "      <td>0</td>\n",
       "      <td>31.0</td>\n",
       "      <td>37400.0</td>\n",
       "      <td>2</td>\n",
       "      <td>0</td>\n",
       "    </tr>\n",
       "    <tr>\n",
       "      <th>718</th>\n",
       "      <td>1</td>\n",
       "      <td>22.0</td>\n",
       "      <td>32600.0</td>\n",
       "      <td>1</td>\n",
       "      <td>0</td>\n",
       "    </tr>\n",
       "    <tr>\n",
       "      <th>785</th>\n",
       "      <td>0</td>\n",
       "      <td>20.0</td>\n",
       "      <td>35800.0</td>\n",
       "      <td>0</td>\n",
       "      <td>0</td>\n",
       "    </tr>\n",
       "    <tr>\n",
       "      <th>...</th>\n",
       "      <td>...</td>\n",
       "      <td>...</td>\n",
       "      <td>...</td>\n",
       "      <td>...</td>\n",
       "      <td>...</td>\n",
       "    </tr>\n",
       "    <tr>\n",
       "      <th>4793</th>\n",
       "      <td>1</td>\n",
       "      <td>24.0</td>\n",
       "      <td>37800.0</td>\n",
       "      <td>0</td>\n",
       "      <td>0</td>\n",
       "    </tr>\n",
       "    <tr>\n",
       "      <th>4902</th>\n",
       "      <td>1</td>\n",
       "      <td>35.0</td>\n",
       "      <td>38700.0</td>\n",
       "      <td>1</td>\n",
       "      <td>0</td>\n",
       "    </tr>\n",
       "    <tr>\n",
       "      <th>4935</th>\n",
       "      <td>1</td>\n",
       "      <td>19.0</td>\n",
       "      <td>32700.0</td>\n",
       "      <td>0</td>\n",
       "      <td>0</td>\n",
       "    </tr>\n",
       "    <tr>\n",
       "      <th>4945</th>\n",
       "      <td>1</td>\n",
       "      <td>21.0</td>\n",
       "      <td>45800.0</td>\n",
       "      <td>0</td>\n",
       "      <td>0</td>\n",
       "    </tr>\n",
       "    <tr>\n",
       "      <th>4965</th>\n",
       "      <td>0</td>\n",
       "      <td>22.0</td>\n",
       "      <td>40100.0</td>\n",
       "      <td>1</td>\n",
       "      <td>0</td>\n",
       "    </tr>\n",
       "  </tbody>\n",
       "</table>\n",
       "<p>153 rows × 5 columns</p>\n",
       "</div>\n",
       "      <button class=\"colab-df-convert\" onclick=\"convertToInteractive('df-a7db4b02-14f3-4f49-bddc-373143ff6e24')\"\n",
       "              title=\"Convert this dataframe to an interactive table.\"\n",
       "              style=\"display:none;\">\n",
       "        \n",
       "  <svg xmlns=\"http://www.w3.org/2000/svg\" height=\"24px\"viewBox=\"0 0 24 24\"\n",
       "       width=\"24px\">\n",
       "    <path d=\"M0 0h24v24H0V0z\" fill=\"none\"/>\n",
       "    <path d=\"M18.56 5.44l.94 2.06.94-2.06 2.06-.94-2.06-.94-.94-2.06-.94 2.06-2.06.94zm-11 1L8.5 8.5l.94-2.06 2.06-.94-2.06-.94L8.5 2.5l-.94 2.06-2.06.94zm10 10l.94 2.06.94-2.06 2.06-.94-2.06-.94-.94-2.06-.94 2.06-2.06.94z\"/><path d=\"M17.41 7.96l-1.37-1.37c-.4-.4-.92-.59-1.43-.59-.52 0-1.04.2-1.43.59L10.3 9.45l-7.72 7.72c-.78.78-.78 2.05 0 2.83L4 21.41c.39.39.9.59 1.41.59.51 0 1.02-.2 1.41-.59l7.78-7.78 2.81-2.81c.8-.78.8-2.07 0-2.86zM5.41 20L4 18.59l7.72-7.72 1.47 1.35L5.41 20z\"/>\n",
       "  </svg>\n",
       "      </button>\n",
       "      \n",
       "  <style>\n",
       "    .colab-df-container {\n",
       "      display:flex;\n",
       "      flex-wrap:wrap;\n",
       "      gap: 12px;\n",
       "    }\n",
       "\n",
       "    .colab-df-convert {\n",
       "      background-color: #E8F0FE;\n",
       "      border: none;\n",
       "      border-radius: 50%;\n",
       "      cursor: pointer;\n",
       "      display: none;\n",
       "      fill: #1967D2;\n",
       "      height: 32px;\n",
       "      padding: 0 0 0 0;\n",
       "      width: 32px;\n",
       "    }\n",
       "\n",
       "    .colab-df-convert:hover {\n",
       "      background-color: #E2EBFA;\n",
       "      box-shadow: 0px 1px 2px rgba(60, 64, 67, 0.3), 0px 1px 3px 1px rgba(60, 64, 67, 0.15);\n",
       "      fill: #174EA6;\n",
       "    }\n",
       "\n",
       "    [theme=dark] .colab-df-convert {\n",
       "      background-color: #3B4455;\n",
       "      fill: #D2E3FC;\n",
       "    }\n",
       "\n",
       "    [theme=dark] .colab-df-convert:hover {\n",
       "      background-color: #434B5C;\n",
       "      box-shadow: 0px 1px 3px 1px rgba(0, 0, 0, 0.15);\n",
       "      filter: drop-shadow(0px 1px 2px rgba(0, 0, 0, 0.3));\n",
       "      fill: #FFFFFF;\n",
       "    }\n",
       "  </style>\n",
       "\n",
       "      <script>\n",
       "        const buttonEl =\n",
       "          document.querySelector('#df-a7db4b02-14f3-4f49-bddc-373143ff6e24 button.colab-df-convert');\n",
       "        buttonEl.style.display =\n",
       "          google.colab.kernel.accessAllowed ? 'block' : 'none';\n",
       "\n",
       "        async function convertToInteractive(key) {\n",
       "          const element = document.querySelector('#df-a7db4b02-14f3-4f49-bddc-373143ff6e24');\n",
       "          const dataTable =\n",
       "            await google.colab.kernel.invokeFunction('convertToInteractive',\n",
       "                                                     [key], {});\n",
       "          if (!dataTable) return;\n",
       "\n",
       "          const docLinkHtml = 'Like what you see? Visit the ' +\n",
       "            '<a target=\"_blank\" href=https://colab.research.google.com/notebooks/data_table.ipynb>data table notebook</a>'\n",
       "            + ' to learn more about interactive tables.';\n",
       "          element.innerHTML = '';\n",
       "          dataTable['output_type'] = 'display_data';\n",
       "          await google.colab.output.renderOutput(dataTable, element);\n",
       "          const docLink = document.createElement('div');\n",
       "          docLink.innerHTML = docLinkHtml;\n",
       "          element.appendChild(docLink);\n",
       "        }\n",
       "      </script>\n",
       "    </div>\n",
       "  </div>\n",
       "  "
      ],
      "text/plain": [
       "      Пол  Возраст  Зарплата  Члены семьи  Страховые выплаты\n",
       "281     1     39.0   48100.0            1                  0\n",
       "488     1     24.0   32900.0            1                  0\n",
       "513     0     31.0   37400.0            2                  0\n",
       "718     1     22.0   32600.0            1                  0\n",
       "785     0     20.0   35800.0            0                  0\n",
       "...   ...      ...       ...          ...                ...\n",
       "4793    1     24.0   37800.0            0                  0\n",
       "4902    1     35.0   38700.0            1                  0\n",
       "4935    1     19.0   32700.0            0                  0\n",
       "4945    1     21.0   45800.0            0                  0\n",
       "4965    0     22.0   40100.0            1                  0\n",
       "\n",
       "[153 rows x 5 columns]"
      ]
     },
     "execution_count": 7,
     "metadata": {},
     "output_type": "execute_result"
    }
   ],
   "source": [
    "#Проверим дубликаты\n",
    "data[data.duplicated()]"
   ]
  },
  {
   "cell_type": "code",
   "execution_count": 8,
   "metadata": {
    "executionInfo": {
     "elapsed": 34,
     "status": "ok",
     "timestamp": 1684669517259,
     "user": {
      "displayName": "Мистер Скальпинг",
      "userId": "13412952563104260617"
     },
     "user_tz": -180
    },
    "id": "IgvyWGkX2uKp"
   },
   "outputs": [],
   "source": [
    "#Приведем столбцы Возраст и Зарплата к целочисленному типу \n",
    "data[['Возраст', 'Зарплата']] = data[['Возраст', 'Зарплата']].astype(int)"
   ]
  },
  {
   "cell_type": "markdown",
   "metadata": {
    "id": "zdcYYSPS_HEo"
   },
   "source": [
    "Так как данные без уникальный идентификаторов пользователей, то скорее всего дублирующиеся строки принадлежат к разным пользователям, у которых одинаковые признаки. Удалять такие строки мы не будем"
   ]
  },
  {
   "cell_type": "code",
   "execution_count": 9,
   "metadata": {
    "colab": {
     "base_uri": "https://localhost:8080/"
    },
    "executionInfo": {
     "elapsed": 35,
     "status": "ok",
     "timestamp": 1684669517261,
     "user": {
      "displayName": "Мистер Скальпинг",
      "userId": "13412952563104260617"
     },
     "user_tz": -180
    },
    "id": "1MVrxzNZ_HEo",
    "outputId": "577a5c5f-b0d2-450c-be02-5c229e6fe3c3"
   },
   "outputs": [
    {
     "data": {
      "text/plain": [
       "Index(['Пол', 'Возраст', 'Зарплата', 'Члены семьи', 'Страховые выплаты'], dtype='object')"
      ]
     },
     "execution_count": 9,
     "metadata": {},
     "output_type": "execute_result"
    }
   ],
   "source": [
    "# ГРАФИЧЕСКИЙ АНАЛИЗ данных\n",
    "num_features = data.select_dtypes(exclude=[object]).columns\n",
    "\n",
    "# Проверка\n",
    "num_features"
   ]
  },
  {
   "cell_type": "code",
   "execution_count": 10,
   "metadata": {
    "colab": {
     "base_uri": "https://localhost:8080/",
     "height": 1000
    },
    "executionInfo": {
     "elapsed": 4533,
     "status": "ok",
     "timestamp": 1684669521769,
     "user": {
      "displayName": "Мистер Скальпинг",
      "userId": "13412952563104260617"
     },
     "user_tz": -180
    },
    "id": "q3z4-sai_HEp",
    "outputId": "eaf0c182-b75c-4fc6-efb5-6f7672022c92"
   },
   "outputs": [
    {
     "data": {
      "image/png": "[encoded data removed]",
      "text/plain": [
       "<Figure size 1400x3000 with 10 Axes>"
      ]
     },
     "metadata": {},
     "output_type": "display_data"
    }
   ],
   "source": [
    "plot_hist(data, num_features)"
   ]
  },
  {
   "cell_type": "code",
   "execution_count": 11,
   "metadata": {
    "colab": {
     "base_uri": "https://localhost:8080/",
     "height": 807
    },
    "executionInfo": {
     "elapsed": 33,
     "status": "ok",
     "timestamp": 1684669521770,
     "user": {
      "displayName": "Мистер Скальпинг",
      "userId": "13412952563104260617"
     },
     "user_tz": -180
    },
    "id": "Lw7xXpbN_HEp",
    "outputId": "e7ae5172-b2bc-4132-9108-8fe3a4e56103"
   },
   "outputs": [
    {
     "data": {
      "image/png": "[encoded data removed]",
      "text/plain": [
       "<Figure size 800x600 with 2 Axes>"
      ]
     },
     "metadata": {},
     "output_type": "display_data"
    }
   ],
   "source": [
    "# Корреляционный анализ данных\n",
    "plt.close()\n",
    "plt.figure(figsize=(8, 6))\n",
    "title = 'Корреляция признаков'\n",
    "plt.title(title)\n",
    "sns.heatmap(data.corr(method='pearson'), annot = True, cmap=\"coolwarm\", annot_kws={'size':10}, fmt='.1g')\n",
    "plt.show()"
   ]
  },
  {
   "cell_type": "markdown",
   "metadata": {
    "id": "8LQQWnA__HEq"
   },
   "source": [
    "Из корреляционного анализа видно, что между возрастом и колличеством выплат есть положительная зависимость."
   ]
  },
  {
   "cell_type": "markdown",
   "metadata": {
    "id": "RtPyihvP_pNX"
   },
   "source": [
    "**Вывод: Исходя из полученных графиков и информации о датасете видно что датасет предобработан: в нем нету пропущенных значений, дубликатов и некорректных значений. Можно приступать к поставленной задаче.**"
   ]
  },
  {
   "cell_type": "markdown",
   "metadata": {
    "id": "FkDB0UMc_HEq"
   },
   "source": [
    "## Умножение матриц"
   ]
  },
  {
   "cell_type": "markdown",
   "metadata": {
    "id": "sVferVYZ_HFQ"
   },
   "source": [
    "Обозначения:\n",
    "\n",
    "- $X$ — матрица признаков (нулевой столбец состоит из единиц)\n",
    "\n",
    "- $y$ — вектор целевого признака\n",
    "\n",
    "- $P$ — матрица, на которую умножаются признаки\n",
    "\n",
    "- $w$ — вектор весов линейной регрессии (нулевой элемент равен сдвигу)"
   ]
  },
  {
   "cell_type": "markdown",
   "metadata": {
    "id": "J8B6LxozXaX3"
   },
   "source": [
    "Для доказательства будем использовать свойста матриц:  \n",
    "$A(BC) = (AB)C$  \n",
    "$AA^{-1}=A^{-1}A=E$  \n",
    "$(AB)^T = B^TA^T$  :\n",
    "$(AB)^{-1} = B^{-1}A^{-1}$  \n",
    "$EA = AE = A$  "
   ]
  },
  {
   "cell_type": "markdown",
   "metadata": {
    "id": "dKv_NwJp_HFR"
   },
   "source": [
    "Предсказания:\n",
    "\n",
    "$$\n",
    "a = Xw\n",
    "$$\n",
    "\n",
    "Задача обучения:\n",
    "\n",
    "$$\n",
    "w = \\arg\\min_w MSE(Xw, y)\n",
    "$$\n",
    "\n",
    "Формула обучения:\n",
    "\n",
    "$$\n",
    "w = (X^T X)^{-1} X^T y\n",
    "$$"
   ]
  },
  {
   "cell_type": "markdown",
   "metadata": {
    "id": "VAMhmi2L_HFR"
   },
   "source": [
    "**Ответ:** Признаки умножаются на обратимую матрицу, это эквивалентно линейному преобразованию признакового пространства. Линейная регрессия моделирует линейную зависимость между признаками и целевой переменной. При умножении признаков на обратимую матрицу, мы изменяем коэффициенты исходной модели, но не меняем саму линейность зависимости.\n",
    "\n",
    "**Обоснование:**"
   ]
  },
  {
   "cell_type": "markdown",
   "metadata": {
    "id": "LfJdjfHQHPHV"
   },
   "source": [
    "Докажем что $a=a'$\n",
    "\n",
    "$X(X^TX)^{-1} X^Ty = XP((XP)^T(XP))^{-1} (XP)^Ty$  \n",
    "$X(X^TX)^{-1} X^Ty = XPP^{-1}((XP)^TX)^{-1} (XP)^Ty$  \n",
    "$X(X^TX)^{-1} X^Ty = XPP^{-1}((XP)^TX)^{-1} P^TX^Ty$  \n",
    "$X(X^TX)^{-1} X^Ty = XPP^{-1}(P^TX^TX)^{-1} P^TX^Ty$   \n",
    "$X(X^TX)^{-1} X^Ty = XPP^{-1}(X^TX)^{-1} (P^T)^{-1} P^TX^Ty$  \n",
    "$X(X^TX)^{-1} X^Ty = XE(X^TX)^{-1} EX^Ty$  \n",
    "$X(X^TX)^{-1} X^Ty = X(X^TX)^{-1}X^Ty$ "
   ]
  },
  {
   "cell_type": "markdown",
   "metadata": {
    "id": "3WeSEsU3X3qb"
   },
   "source": [
    "**Вывод: В ходе исследования задачи было теоретически доказано что при умножении матрицы признаков на матрицу (в том числе и на обратимую) качество линейной регрессии не изменяется.**"
   ]
  },
  {
   "cell_type": "markdown",
   "metadata": {
    "id": "zg4VOW4q_HFR"
   },
   "source": [
    "## Алгоритм преобразования"
   ]
  },
  {
   "cell_type": "markdown",
   "metadata": {
    "id": "In1iP9dHiIw3"
   },
   "source": [
    "Для защиты данных клиентов заданая матрица признаков криентов будет умножаться на случайно сгенерированную обратимую матрицу. В итоге мы получим зашифрованные данные клиентов. Восстановление исходных даннух будет производиться умножением зашифрованной матрицы на обратную матрицу.  \n",
    "Качество линейной регрессии при умножении матрицы признаков на случайную матрицу как уже было доказано в предыдущем пункте не изменяется. "
   ]
  },
  {
   "cell_type": "code",
   "execution_count": 12,
   "metadata": {
    "executionInfo": {
     "elapsed": 32,
     "status": "ok",
     "timestamp": 1684669521772,
     "user": {
      "displayName": "Мистер Скальпинг",
      "userId": "13412952563104260617"
     },
     "user_tz": -180
    },
    "id": "jdwAeNeh_HFS"
   },
   "outputs": [],
   "source": [
    "# Создадим датасет с признакими, исключив из исходного датасета целевой признак\n",
    "features = data.drop(['Страховые выплаты'], axis=1)\n",
    "# Создадим датасет с целевым признаком\n",
    "target = data['Страховые выплаты']"
   ]
  },
  {
   "cell_type": "code",
   "execution_count": 13,
   "metadata": {
    "executionInfo": {
     "elapsed": 32,
     "status": "ok",
     "timestamp": 1684669521773,
     "user": {
      "displayName": "Мистер Скальпинг",
      "userId": "13412952563104260617"
     },
     "user_tz": -180
    },
    "id": "djn3AD7z_HEu"
   },
   "outputs": [],
   "source": [
    "def generate_random_invertible_matrix(dim):\n",
    "    while True:\n",
    "        matrix = np.random.randint(low=-10, high=10, size=(dim, dim))  # Создаем случайную матрицу заданного размера\n",
    "        if np.linalg.det(matrix) != 0:  # Проверка на обратимость\n",
    "            inverse_matrix = np.linalg.inv(matrix)  # Вычисляем обратную матрицу\n",
    "            product = matrix @ inverse_matrix  # Произведение матрицы на обратную матрицу\n",
    "            if np.array_equal(product, np.eye(dim)):  # Проверка на равенство единичной матрице\n",
    "                return matrix"
   ]
  },
  {
   "cell_type": "code",
   "execution_count": 14,
   "metadata": {
    "colab": {
     "base_uri": "https://localhost:8080/"
    },
    "executionInfo": {
     "elapsed": 33,
     "status": "ok",
     "timestamp": 1684669521775,
     "user": {
      "displayName": "Мистер Скальпинг",
      "userId": "13412952563104260617"
     },
     "user_tz": -180
    },
    "id": "eyvXoPnC_HEu",
    "outputId": "93028116-f222-461a-e05b-cd6b50f3a502"
   },
   "outputs": [
    {
     "name": "stdout",
     "output_type": "stream",
     "text": [
      "[[ 8 -8  0 -1]\n",
      " [ 7  1  9  9]\n",
      " [-5 -3 -7  6]\n",
      " [-3 -1 -6 -8]]\n"
     ]
    }
   ],
   "source": [
    "dimension = features.values.shape[1]\n",
    "random_matrix = generate_random_invertible_matrix(dimension)\n",
    "print(random_matrix)"
   ]
  },
  {
   "cell_type": "code",
   "execution_count": 15,
   "metadata": {
    "executionInfo": {
     "elapsed": 20,
     "status": "ok",
     "timestamp": 1684669521776,
     "user": {
      "displayName": "Мистер Скальпинг",
      "userId": "13412952563104260617"
     },
     "user_tz": -180
    },
    "id": "uPXeDD8dt_1u"
   },
   "outputs": [],
   "source": [
    "features_changed = features.values @ random_matrix"
   ]
  },
  {
   "cell_type": "markdown",
   "metadata": {
    "id": "ri_5D0_s_HFS"
   },
   "source": [
    "## Проверка алгоритма"
   ]
  },
  {
   "cell_type": "code",
   "execution_count": 16,
   "metadata": {
    "colab": {
     "base_uri": "https://localhost:8080/"
    },
    "executionInfo": {
     "elapsed": 34,
     "status": "ok",
     "timestamp": 1684669522273,
     "user": {
      "displayName": "Мистер Скальпинг",
      "userId": "13412952563104260617"
     },
     "user_tz": -180
    },
    "id": "hrglEwdq6cwW",
    "outputId": "da841d5f-f049-4d53-ef2f-628202021b66"
   },
   "outputs": [
    {
     "name": "stdout",
     "output_type": "stream",
     "text": [
      "Средняя оценка качества модели: 0.4231137692077528\n"
     ]
    }
   ],
   "source": [
    "model = LinearRegression()\n",
    "\n",
    "scores = cross_val_score(model, features, target, cv=5, scoring='r2')\n",
    "final_score = sum(scores)/len(scores)\n",
    "print('Средняя оценка качества модели:', final_score)"
   ]
  },
  {
   "cell_type": "code",
   "execution_count": 17,
   "metadata": {
    "colab": {
     "base_uri": "https://localhost:8080/"
    },
    "executionInfo": {
     "elapsed": 32,
     "status": "ok",
     "timestamp": 1684669522275,
     "user": {
      "displayName": "Мистер Скальпинг",
      "userId": "13412952563104260617"
     },
     "user_tz": -180
    },
    "id": "HXshaoEQ6zpf",
    "outputId": "9f4136f5-639a-4cec-9464-180f421eb2e1"
   },
   "outputs": [
    {
     "name": "stdout",
     "output_type": "stream",
     "text": [
      "Средняя оценка качества модели: 0.4231137692077821\n"
     ]
    }
   ],
   "source": [
    "model_changed = LinearRegression()\n",
    "\n",
    "scores_changed = cross_val_score(model_changed, features_changed, target, cv=5, scoring='r2')\n",
    "final_score_changed = sum(scores_changed)/len(scores_changed)\n",
    "print('Средняя оценка качества модели:', final_score_changed)"
   ]
  },
  {
   "cell_type": "markdown",
   "metadata": {
    "id": "R-Wnk5t1_OHC"
   },
   "source": [
    "Как видим средняя оценка качества модели после умножения матрицы признаков на случайную матрицу действительно не поменялась."
   ]
  },
  {
   "cell_type": "code",
   "execution_count": 18,
   "metadata": {
    "executionInfo": {
     "elapsed": 26,
     "status": "ok",
     "timestamp": 1684669522276,
     "user": {
      "displayName": "Мистер Скальпинг",
      "userId": "13412952563104260617"
     },
     "user_tz": -180
    },
    "id": "Lu1quitHkBic"
   },
   "outputs": [],
   "source": [
    "#Восстановим преобразованные данные\n",
    "features_restored_np = features_changed @ np.linalg.inv(random_matrix)"
   ]
  },
  {
   "cell_type": "code",
   "execution_count": 19,
   "metadata": {
    "executionInfo": {
     "elapsed": 26,
     "status": "ok",
     "timestamp": 1684669522277,
     "user": {
      "displayName": "Мистер Скальпинг",
      "userId": "13412952563104260617"
     },
     "user_tz": -180
    },
    "id": "N1WdajL7kEe_"
   },
   "outputs": [],
   "source": [
    "features_restored = pd.DataFrame(features_restored_np, columns = features.columns)\n",
    "features_restored[['Пол', 'Возраст', 'Зарплата', 'Члены семьи']] = features_restored[['Пол', 'Возраст', 'Зарплата', 'Члены семьи']].astype(int)"
   ]
  },
  {
   "cell_type": "code",
   "execution_count": 20,
   "metadata": {
    "colab": {
     "base_uri": "https://localhost:8080/",
     "height": 206
    },
    "executionInfo": {
     "elapsed": 26,
     "status": "ok",
     "timestamp": 1684669522277,
     "user": {
      "displayName": "Мистер Скальпинг",
      "userId": "13412952563104260617"
     },
     "user_tz": -180
    },
    "id": "m0KTpYaOlDpq",
    "outputId": "8348c58b-5553-4a83-e729-d5973f9480fd"
   },
   "outputs": [
    {
     "data": {
      "text/html": [
       "\n",
       "  <div id=\"df-2e80c09e-60a8-41c3-a870-96b208633c54\">\n",
       "    <div class=\"colab-df-container\">\n",
       "      <div>\n",
       "<style scoped>\n",
       "    .dataframe tbody tr th:only-of-type {\n",
       "        vertical-align: middle;\n",
       "    }\n",
       "\n",
       "    .dataframe tbody tr th {\n",
       "        vertical-align: top;\n",
       "    }\n",
       "\n",
       "    .dataframe thead th {\n",
       "        text-align: right;\n",
       "    }\n",
       "</style>\n",
       "<table border=\"1\" class=\"dataframe\">\n",
       "  <thead>\n",
       "    <tr style=\"text-align: right;\">\n",
       "      <th></th>\n",
       "      <th>Пол</th>\n",
       "      <th>Возраст</th>\n",
       "      <th>Зарплата</th>\n",
       "      <th>Члены семьи</th>\n",
       "    </tr>\n",
       "  </thead>\n",
       "  <tbody>\n",
       "    <tr>\n",
       "      <th>0</th>\n",
       "      <td>1</td>\n",
       "      <td>41</td>\n",
       "      <td>49600</td>\n",
       "      <td>1</td>\n",
       "    </tr>\n",
       "    <tr>\n",
       "      <th>1</th>\n",
       "      <td>0</td>\n",
       "      <td>46</td>\n",
       "      <td>38000</td>\n",
       "      <td>1</td>\n",
       "    </tr>\n",
       "    <tr>\n",
       "      <th>2</th>\n",
       "      <td>0</td>\n",
       "      <td>29</td>\n",
       "      <td>21000</td>\n",
       "      <td>0</td>\n",
       "    </tr>\n",
       "    <tr>\n",
       "      <th>3</th>\n",
       "      <td>0</td>\n",
       "      <td>21</td>\n",
       "      <td>41700</td>\n",
       "      <td>2</td>\n",
       "    </tr>\n",
       "    <tr>\n",
       "      <th>4</th>\n",
       "      <td>1</td>\n",
       "      <td>28</td>\n",
       "      <td>26100</td>\n",
       "      <td>0</td>\n",
       "    </tr>\n",
       "  </tbody>\n",
       "</table>\n",
       "</div>\n",
       "      <button class=\"colab-df-convert\" onclick=\"convertToInteractive('df-2e80c09e-60a8-41c3-a870-96b208633c54')\"\n",
       "              title=\"Convert this dataframe to an interactive table.\"\n",
       "              style=\"display:none;\">\n",
       "        \n",
       "  <svg xmlns=\"http://www.w3.org/2000/svg\" height=\"24px\"viewBox=\"0 0 24 24\"\n",
       "       width=\"24px\">\n",
       "    <path d=\"M0 0h24v24H0V0z\" fill=\"none\"/>\n",
       "    <path d=\"M18.56 5.44l.94 2.06.94-2.06 2.06-.94-2.06-.94-.94-2.06-.94 2.06-2.06.94zm-11 1L8.5 8.5l.94-2.06 2.06-.94-2.06-.94L8.5 2.5l-.94 2.06-2.06.94zm10 10l.94 2.06.94-2.06 2.06-.94-2.06-.94-.94-2.06-.94 2.06-2.06.94z\"/><path d=\"M17.41 7.96l-1.37-1.37c-.4-.4-.92-.59-1.43-.59-.52 0-1.04.2-1.43.59L10.3 9.45l-7.72 7.72c-.78.78-.78 2.05 0 2.83L4 21.41c.39.39.9.59 1.41.59.51 0 1.02-.2 1.41-.59l7.78-7.78 2.81-2.81c.8-.78.8-2.07 0-2.86zM5.41 20L4 18.59l7.72-7.72 1.47 1.35L5.41 20z\"/>\n",
       "  </svg>\n",
       "      </button>\n",
       "      \n",
       "  <style>\n",
       "    .colab-df-container {\n",
       "      display:flex;\n",
       "      flex-wrap:wrap;\n",
       "      gap: 12px;\n",
       "    }\n",
       "\n",
       "    .colab-df-convert {\n",
       "      background-color: #E8F0FE;\n",
       "      border: none;\n",
       "      border-radius: 50%;\n",
       "      cursor: pointer;\n",
       "      display: none;\n",
       "      fill: #1967D2;\n",
       "      height: 32px;\n",
       "      padding: 0 0 0 0;\n",
       "      width: 32px;\n",
       "    }\n",
       "\n",
       "    .colab-df-convert:hover {\n",
       "      background-color: #E2EBFA;\n",
       "      box-shadow: 0px 1px 2px rgba(60, 64, 67, 0.3), 0px 1px 3px 1px rgba(60, 64, 67, 0.15);\n",
       "      fill: #174EA6;\n",
       "    }\n",
       "\n",
       "    [theme=dark] .colab-df-convert {\n",
       "      background-color: #3B4455;\n",
       "      fill: #D2E3FC;\n",
       "    }\n",
       "\n",
       "    [theme=dark] .colab-df-convert:hover {\n",
       "      background-color: #434B5C;\n",
       "      box-shadow: 0px 1px 3px 1px rgba(0, 0, 0, 0.15);\n",
       "      filter: drop-shadow(0px 1px 2px rgba(0, 0, 0, 0.3));\n",
       "      fill: #FFFFFF;\n",
       "    }\n",
       "  </style>\n",
       "\n",
       "      <script>\n",
       "        const buttonEl =\n",
       "          document.querySelector('#df-2e80c09e-60a8-41c3-a870-96b208633c54 button.colab-df-convert');\n",
       "        buttonEl.style.display =\n",
       "          google.colab.kernel.accessAllowed ? 'block' : 'none';\n",
       "\n",
       "        async function convertToInteractive(key) {\n",
       "          const element = document.querySelector('#df-2e80c09e-60a8-41c3-a870-96b208633c54');\n",
       "          const dataTable =\n",
       "            await google.colab.kernel.invokeFunction('convertToInteractive',\n",
       "                                                     [key], {});\n",
       "          if (!dataTable) return;\n",
       "\n",
       "          const docLinkHtml = 'Like what you see? Visit the ' +\n",
       "            '<a target=\"_blank\" href=https://colab.research.google.com/notebooks/data_table.ipynb>data table notebook</a>'\n",
       "            + ' to learn more about interactive tables.';\n",
       "          element.innerHTML = '';\n",
       "          dataTable['output_type'] = 'display_data';\n",
       "          await google.colab.output.renderOutput(dataTable, element);\n",
       "          const docLink = document.createElement('div');\n",
       "          docLink.innerHTML = docLinkHtml;\n",
       "          element.appendChild(docLink);\n",
       "        }\n",
       "      </script>\n",
       "    </div>\n",
       "  </div>\n",
       "  "
      ],
      "text/plain": [
       "   Пол  Возраст  Зарплата  Члены семьи\n",
       "0    1       41     49600            1\n",
       "1    0       46     38000            1\n",
       "2    0       29     21000            0\n",
       "3    0       21     41700            2\n",
       "4    1       28     26100            0"
      ]
     },
     "execution_count": 20,
     "metadata": {},
     "output_type": "execute_result"
    }
   ],
   "source": [
    "features_restored.head(5)"
   ]
  },
  {
   "cell_type": "code",
   "execution_count": 21,
   "metadata": {
    "colab": {
     "base_uri": "https://localhost:8080/"
    },
    "executionInfo": {
     "elapsed": 25,
     "status": "ok",
     "timestamp": 1684669522278,
     "user": {
      "displayName": "Мистер Скальпинг",
      "userId": "13412952563104260617"
     },
     "user_tz": -180
    },
    "id": "N7-gXLDi1aSS",
    "outputId": "bab75fdf-6e89-425b-a7d9-950531678f18"
   },
   "outputs": [
    {
     "name": "stdout",
     "output_type": "stream",
     "text": [
      "0\n"
     ]
    }
   ],
   "source": [
    "#Проверим что данные после преобразований не изменились\n",
    "check = features_restored - features\n",
    "print(check.values.sum())"
   ]
  },
  {
   "cell_type": "markdown",
   "metadata": {
    "id": "UXu7CMdCGG0s"
   },
   "source": [
    "**Вывод: Используя предложенный алгоритм шифрования (умножение матрицы признаков на случайную обратимую матрицу) удалось защитить данные пользователей. Неизменность качества линейной регрессии при данном преобразовании была проверена практически**"
   ]
  },
  {
   "cell_type": "markdown",
   "metadata": {
    "id": "JEKflAHpFkYN"
   },
   "source": [
    "## Общий вывод"
   ]
  },
  {
   "cell_type": "markdown",
   "metadata": {
    "id": "w0Dn95p0FnK0"
   },
   "source": [
    "В рамках данного исследования были загружены и изучены данные данные клиентов страховой компании. Были исследованы зависимости между данными: количество страховых выплат сильно зависит от возраста.\n",
    "\n",
    "В ходе исследования задачи был разработан алгоритм шифрования данных (умножение матрицы признаков на случайную обратимую матрицу) и восстановления данных (умножение зашифрованной матрицы признаков на обратную матрицу). Было теоретически доказано что качество линейной регрессии при использваонии данного алгоритма не изменяется. Неизменность качества линейной регрессии при данном преобразовании также была проверена практически."
   ]
  }
 ],
 "metadata": {
  "ExecuteTimeLog": [
   {
    "duration": 1440,
    "start_time": "2023-05-18T19:54:53.606Z"
   },
   {
    "duration": 3,
    "start_time": "2023-05-18T19:54:55.048Z"
   },
   {
    "duration": 22,
    "start_time": "2023-05-18T19:54:55.052Z"
   },
   {
    "duration": 83,
    "start_time": "2023-05-18T19:54:56.957Z"
   },
   {
    "duration": 17,
    "start_time": "2023-05-18T19:55:21.510Z"
   },
   {
    "duration": 56,
    "start_time": "2023-05-18T19:55:59.401Z"
   },
   {
    "duration": 44,
    "start_time": "2023-05-19T05:52:32.751Z"
   },
   {
    "duration": 1412,
    "start_time": "2023-05-19T05:52:38.488Z"
   },
   {
    "duration": 2,
    "start_time": "2023-05-19T05:52:39.902Z"
   },
   {
    "duration": 20,
    "start_time": "2023-05-19T05:52:39.906Z"
   },
   {
    "duration": 83,
    "start_time": "2023-05-19T05:52:39.928Z"
   },
   {
    "duration": 14,
    "start_time": "2023-05-19T05:52:40.013Z"
   },
   {
    "duration": 54,
    "start_time": "2023-05-19T05:52:40.028Z"
   },
   {
    "duration": 5,
    "start_time": "2023-05-19T05:52:40.084Z"
   },
   {
    "duration": 7,
    "start_time": "2023-05-19T05:52:47.466Z"
   },
   {
    "duration": 15,
    "start_time": "2023-05-19T05:52:57.721Z"
   },
   {
    "duration": 6,
    "start_time": "2023-05-19T05:59:19.900Z"
   },
   {
    "duration": 7,
    "start_time": "2023-05-19T05:59:49.371Z"
   },
   {
    "duration": 2031,
    "start_time": "2023-05-19T06:00:04.926Z"
   },
   {
    "duration": 3,
    "start_time": "2023-05-19T06:01:30.620Z"
   },
   {
    "duration": 1025,
    "start_time": "2023-05-19T06:01:31.050Z"
   },
   {
    "duration": 4,
    "start_time": "2023-05-19T06:02:32.963Z"
   },
   {
    "duration": 5,
    "start_time": "2023-05-19T06:03:40.364Z"
   },
   {
    "duration": 602,
    "start_time": "2023-05-19T06:03:41.185Z"
   },
   {
    "duration": 551,
    "start_time": "2023-05-19T06:03:46.961Z"
   },
   {
    "duration": 6,
    "start_time": "2023-05-19T06:04:10.853Z"
   },
   {
    "duration": 29,
    "start_time": "2023-05-19T06:04:11.280Z"
   },
   {
    "duration": 9,
    "start_time": "2023-05-19T06:04:11.508Z"
   },
   {
    "duration": 43,
    "start_time": "2023-05-19T06:04:12.032Z"
   },
   {
    "duration": 15,
    "start_time": "2023-05-19T06:04:12.387Z"
   },
   {
    "duration": 6,
    "start_time": "2023-05-19T06:04:13.702Z"
   },
   {
    "duration": 3,
    "start_time": "2023-05-19T06:04:13.942Z"
   },
   {
    "duration": 820,
    "start_time": "2023-05-19T06:04:14.289Z"
   },
   {
    "duration": 2,
    "start_time": "2023-05-19T06:04:15.111Z"
   },
   {
    "duration": 408,
    "start_time": "2023-05-19T06:04:15.230Z"
   },
   {
    "duration": 6,
    "start_time": "2023-05-19T06:04:25.861Z"
   },
   {
    "duration": 29,
    "start_time": "2023-05-19T06:04:26.199Z"
   },
   {
    "duration": 9,
    "start_time": "2023-05-19T06:04:26.887Z"
   },
   {
    "duration": 43,
    "start_time": "2023-05-19T06:04:27.177Z"
   },
   {
    "duration": 13,
    "start_time": "2023-05-19T06:04:27.426Z"
   },
   {
    "duration": 5,
    "start_time": "2023-05-19T06:04:28.326Z"
   },
   {
    "duration": 3,
    "start_time": "2023-05-19T06:04:28.621Z"
   },
   {
    "duration": 873,
    "start_time": "2023-05-19T06:04:28.881Z"
   },
   {
    "duration": 3,
    "start_time": "2023-05-19T06:04:29.755Z"
   },
   {
    "duration": 412,
    "start_time": "2023-05-19T06:04:29.760Z"
   },
   {
    "duration": 6,
    "start_time": "2023-05-19T06:05:18.178Z"
   },
   {
    "duration": 29,
    "start_time": "2023-05-19T06:05:18.611Z"
   },
   {
    "duration": 9,
    "start_time": "2023-05-19T06:05:18.851Z"
   },
   {
    "duration": 42,
    "start_time": "2023-05-19T06:05:19.044Z"
   },
   {
    "duration": 17,
    "start_time": "2023-05-19T06:05:19.217Z"
   },
   {
    "duration": 6,
    "start_time": "2023-05-19T06:05:19.573Z"
   },
   {
    "duration": 3,
    "start_time": "2023-05-19T06:05:19.979Z"
   },
   {
    "duration": 826,
    "start_time": "2023-05-19T06:05:20.352Z"
   },
   {
    "duration": 3,
    "start_time": "2023-05-19T06:05:21.180Z"
   },
   {
    "duration": 382,
    "start_time": "2023-05-19T06:05:21.363Z"
   },
   {
    "duration": 4,
    "start_time": "2023-05-19T06:06:00.142Z"
   },
   {
    "duration": 29,
    "start_time": "2023-05-19T06:06:00.382Z"
   },
   {
    "duration": 9,
    "start_time": "2023-05-19T06:06:00.549Z"
   },
   {
    "duration": 41,
    "start_time": "2023-05-19T06:06:00.732Z"
   },
   {
    "duration": 15,
    "start_time": "2023-05-19T06:06:00.902Z"
   },
   {
    "duration": 6,
    "start_time": "2023-05-19T06:06:01.250Z"
   },
   {
    "duration": 3,
    "start_time": "2023-05-19T06:06:01.688Z"
   },
   {
    "duration": 810,
    "start_time": "2023-05-19T06:06:01.877Z"
   },
   {
    "duration": 3,
    "start_time": "2023-05-19T06:06:02.689Z"
   },
   {
    "duration": 519,
    "start_time": "2023-05-19T06:06:02.697Z"
   },
   {
    "duration": 4,
    "start_time": "2023-05-19T06:07:33.969Z"
   },
   {
    "duration": 29,
    "start_time": "2023-05-19T06:07:34.345Z"
   },
   {
    "duration": 9,
    "start_time": "2023-05-19T06:07:34.574Z"
   },
   {
    "duration": 41,
    "start_time": "2023-05-19T06:07:34.753Z"
   },
   {
    "duration": 14,
    "start_time": "2023-05-19T06:07:34.949Z"
   },
   {
    "duration": 5,
    "start_time": "2023-05-19T06:07:35.591Z"
   },
   {
    "duration": 3,
    "start_time": "2023-05-19T06:07:35.876Z"
   },
   {
    "duration": 823,
    "start_time": "2023-05-19T06:07:36.102Z"
   },
   {
    "duration": 3,
    "start_time": "2023-05-19T06:07:36.927Z"
   },
   {
    "duration": 403,
    "start_time": "2023-05-19T06:07:37.206Z"
   },
   {
    "duration": 5,
    "start_time": "2023-05-19T06:08:22.241Z"
   },
   {
    "duration": 29,
    "start_time": "2023-05-19T06:08:22.425Z"
   },
   {
    "duration": 8,
    "start_time": "2023-05-19T06:08:22.586Z"
   },
   {
    "duration": 39,
    "start_time": "2023-05-19T06:08:22.746Z"
   },
   {
    "duration": 15,
    "start_time": "2023-05-19T06:08:23.054Z"
   },
   {
    "duration": 6,
    "start_time": "2023-05-19T06:08:23.374Z"
   },
   {
    "duration": 3,
    "start_time": "2023-05-19T06:08:23.532Z"
   },
   {
    "duration": 768,
    "start_time": "2023-05-19T06:08:23.706Z"
   },
   {
    "duration": 3,
    "start_time": "2023-05-19T06:08:24.476Z"
   },
   {
    "duration": 405,
    "start_time": "2023-05-19T06:08:24.558Z"
   },
   {
    "duration": 4,
    "start_time": "2023-05-19T06:25:33.383Z"
   },
   {
    "duration": 13,
    "start_time": "2023-05-19T06:25:41.879Z"
   },
   {
    "duration": 11,
    "start_time": "2023-05-19T06:27:18.813Z"
   },
   {
    "duration": 7,
    "start_time": "2023-05-19T06:27:19.863Z"
   },
   {
    "duration": 3,
    "start_time": "2023-05-19T06:27:30.944Z"
   },
   {
    "duration": 4,
    "start_time": "2023-05-19T06:27:31.635Z"
   },
   {
    "duration": 3,
    "start_time": "2023-05-19T06:29:33.983Z"
   },
   {
    "duration": 321,
    "start_time": "2023-05-19T06:29:58.961Z"
   },
   {
    "duration": 5,
    "start_time": "2023-05-19T06:29:59.311Z"
   },
   {
    "duration": 5,
    "start_time": "2023-05-19T06:29:59.463Z"
   },
   {
    "duration": 29,
    "start_time": "2023-05-19T06:29:59.619Z"
   },
   {
    "duration": 9,
    "start_time": "2023-05-19T06:29:59.784Z"
   },
   {
    "duration": 44,
    "start_time": "2023-05-19T06:29:59.943Z"
   },
   {
    "duration": 13,
    "start_time": "2023-05-19T06:30:00.113Z"
   },
   {
    "duration": 6,
    "start_time": "2023-05-19T06:30:00.715Z"
   },
   {
    "duration": 1537,
    "start_time": "2023-05-19T06:30:00.930Z"
   },
   {
    "duration": 5,
    "start_time": "2023-05-19T06:30:05.252Z"
   },
   {
    "duration": 3,
    "start_time": "2023-05-19T06:30:08.264Z"
   },
   {
    "duration": 14,
    "start_time": "2023-05-19T06:30:24.788Z"
   },
   {
    "duration": 13,
    "start_time": "2023-05-19T06:30:25.966Z"
   },
   {
    "duration": 3,
    "start_time": "2023-05-19T06:30:43.814Z"
   },
   {
    "duration": 4,
    "start_time": "2023-05-19T06:30:44.344Z"
   },
   {
    "duration": 207,
    "start_time": "2023-05-19T15:59:26.614Z"
   },
   {
    "duration": 136,
    "start_time": "2023-05-19T15:59:45.122Z"
   },
   {
    "duration": 265,
    "start_time": "2023-05-19T16:00:04.576Z"
   },
   {
    "duration": 380,
    "start_time": "2023-05-19T16:00:48.310Z"
   },
   {
    "duration": 10,
    "start_time": "2023-05-19T16:02:09.374Z"
   },
   {
    "duration": 15,
    "start_time": "2023-05-19T16:02:22.300Z"
   },
   {
    "duration": 820,
    "start_time": "2023-05-19T16:02:38.226Z"
   },
   {
    "duration": 39,
    "start_time": "2023-05-19T16:33:57.048Z"
   },
   {
    "duration": 15,
    "start_time": "2023-05-19T16:34:11.877Z"
   },
   {
    "duration": 3,
    "start_time": "2023-05-19T16:34:55.881Z"
   },
   {
    "duration": 14,
    "start_time": "2023-05-19T16:35:03.235Z"
   },
   {
    "duration": 34,
    "start_time": "2023-05-19T16:38:45.281Z"
   },
   {
    "duration": 46,
    "start_time": "2023-05-19T16:38:55.805Z"
   },
   {
    "duration": 11,
    "start_time": "2023-05-19T16:39:19.941Z"
   },
   {
    "duration": 30,
    "start_time": "2023-05-19T16:39:23.187Z"
   },
   {
    "duration": 7,
    "start_time": "2023-05-19T16:39:26.897Z"
   },
   {
    "duration": 28,
    "start_time": "2023-05-19T16:39:26.906Z"
   },
   {
    "duration": 25,
    "start_time": "2023-05-19T16:39:26.936Z"
   },
   {
    "duration": 74,
    "start_time": "2023-05-19T16:39:26.962Z"
   },
   {
    "duration": 8,
    "start_time": "2023-05-19T16:39:27.039Z"
   },
   {
    "duration": 52,
    "start_time": "2023-05-19T16:39:27.049Z"
   },
   {
    "duration": 19,
    "start_time": "2023-05-19T16:39:27.105Z"
   },
   {
    "duration": 7,
    "start_time": "2023-05-19T16:39:27.126Z"
   },
   {
    "duration": 1711,
    "start_time": "2023-05-19T16:39:27.135Z"
   },
   {
    "duration": 598,
    "start_time": "2023-05-19T16:39:28.848Z"
   },
   {
    "duration": 5,
    "start_time": "2023-05-19T16:39:29.447Z"
   },
   {
    "duration": 22,
    "start_time": "2023-05-19T16:39:29.453Z"
   },
   {
    "duration": 48,
    "start_time": "2023-05-19T16:39:29.477Z"
   },
   {
    "duration": 3,
    "start_time": "2023-05-19T16:39:29.527Z"
   },
   {
    "duration": 23,
    "start_time": "2023-05-19T16:39:29.531Z"
   },
   {
    "duration": 12,
    "start_time": "2023-05-19T16:39:29.556Z"
   },
   {
    "duration": 48,
    "start_time": "2023-05-19T16:39:29.569Z"
   },
   {
    "duration": 3,
    "start_time": "2023-05-19T16:39:29.619Z"
   },
   {
    "duration": 10,
    "start_time": "2023-05-19T16:39:29.624Z"
   },
   {
    "duration": 11,
    "start_time": "2023-05-19T16:39:29.636Z"
   },
   {
    "duration": 2,
    "start_time": "2023-05-19T16:42:49.010Z"
   },
   {
    "duration": 5,
    "start_time": "2023-05-19T16:42:49.765Z"
   },
   {
    "duration": 6,
    "start_time": "2023-05-19T16:58:02.254Z"
   },
   {
    "duration": 4,
    "start_time": "2023-05-19T16:58:46.172Z"
   },
   {
    "duration": 4,
    "start_time": "2023-05-19T16:59:03.196Z"
   },
   {
    "duration": 21081,
    "start_time": "2023-05-19T16:59:33.820Z"
   },
   {
    "duration": 6,
    "start_time": "2023-05-19T17:04:58.033Z"
   },
   {
    "duration": 6,
    "start_time": "2023-05-19T17:05:47.000Z"
   },
   {
    "duration": 583806,
    "start_time": "2023-05-19T17:06:26.532Z"
   },
   {
    "duration": 11,
    "start_time": "2023-05-19T18:00:25.050Z"
   },
   {
    "duration": 5,
    "start_time": "2023-05-19T18:00:41.974Z"
   },
   {
    "duration": 16,
    "start_time": "2023-05-19T18:00:42.931Z"
   },
   {
    "duration": 3,
    "start_time": "2023-05-19T18:00:53.429Z"
   },
   {
    "duration": 9,
    "start_time": "2023-05-19T18:00:53.444Z"
   },
   {
    "duration": 8,
    "start_time": "2023-05-19T18:00:53.455Z"
   },
   {
    "duration": 40,
    "start_time": "2023-05-19T18:00:53.465Z"
   },
   {
    "duration": 16,
    "start_time": "2023-05-19T18:00:53.507Z"
   },
   {
    "duration": 64,
    "start_time": "2023-05-19T18:00:53.526Z"
   },
   {
    "duration": 27,
    "start_time": "2023-05-19T18:00:53.592Z"
   },
   {
    "duration": 11,
    "start_time": "2023-05-19T18:00:53.621Z"
   },
   {
    "duration": 1926,
    "start_time": "2023-05-19T18:00:53.634Z"
   },
   {
    "duration": 481,
    "start_time": "2023-05-19T18:00:55.562Z"
   },
   {
    "duration": 5,
    "start_time": "2023-05-19T18:00:56.046Z"
   },
   {
    "duration": 21,
    "start_time": "2023-05-19T18:00:56.053Z"
   },
   {
    "duration": 42,
    "start_time": "2023-05-19T18:00:56.076Z"
   },
   {
    "duration": 11,
    "start_time": "2023-05-19T18:00:56.129Z"
   },
   {
    "duration": 20,
    "start_time": "2023-05-19T18:00:56.141Z"
   },
   {
    "duration": 12,
    "start_time": "2023-05-19T18:00:56.162Z"
   },
   {
    "duration": 43,
    "start_time": "2023-05-19T18:00:56.176Z"
   },
   {
    "duration": 4,
    "start_time": "2023-05-19T18:00:56.227Z"
   },
   {
    "duration": 13,
    "start_time": "2023-05-19T18:00:56.233Z"
   },
   {
    "duration": 11,
    "start_time": "2023-05-19T18:00:56.248Z"
   },
   {
    "duration": 10,
    "start_time": "2023-05-19T18:00:56.261Z"
   },
   {
    "duration": 19,
    "start_time": "2023-05-19T18:00:56.272Z"
   },
   {
    "duration": 0,
    "start_time": "2023-05-19T18:00:56.292Z"
   },
   {
    "duration": 0,
    "start_time": "2023-05-19T18:00:56.294Z"
   }
  ],
  "colab": {
   "provenance": [],
   "toc_visible": true
  },
  "kernelspec": {
   "display_name": "Python 3 (ipykernel)",
   "language": "python",
   "name": "python3"
  },
  "language_info": {
   "codemirror_mode": {
    "name": "ipython",
    "version": 3
   },
   "file_extension": ".py",
   "mimetype": "text/x-python",
   "name": "python",
   "nbconvert_exporter": "python",
   "pygments_lexer": "ipython3",
   "version": "3.9.5"
  },
  "toc": {
   "base_numbering": 1,
   "nav_menu": {},
   "number_sections": true,
   "sideBar": true,
   "skip_h1_title": true,
   "title_cell": "Содержание",
   "title_sidebar": "Contents",
   "toc_cell": true,
   "toc_position": {
    "height": "calc(100% - 180px)",
    "left": "10px",
    "top": "150px",
    "width": "290.875px"
   },
   "toc_section_display": true,
   "toc_window_display": true
  }
 },
 "nbformat": 4,
 "nbformat_minor": 1
}
