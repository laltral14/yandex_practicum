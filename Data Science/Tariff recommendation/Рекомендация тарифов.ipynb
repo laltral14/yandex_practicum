{
 "cells": [
  {
   "cell_type": "markdown",
   "metadata": {
    "id": "j9dWRIJu82KX"
   },
   "source": [
    "# Рекомендация тарифов"
   ]
  },
  {
   "cell_type": "markdown",
   "metadata": {
    "id": "YJVCpIkI82KZ"
   },
   "source": [
    "В вашем распоряжении данные о поведении клиентов, которые уже перешли на эти тарифы. Нужно построить модель для задачи классификации, которая выберет подходящий тариф. Предобработка данных не понадобится — вы её уже сделали.\n",
    "\n",
    "Постройте модель с максимально большим значением *accuracy*. Чтобы сдать проект успешно, нужно довести долю правильных ответов по крайней мере до 0.75. Проверьте *accuracy* на тестовой выборке самостоятельно."
   ]
  },
  {
   "cell_type": "markdown",
   "metadata": {
    "id": "YmNE8E5q82Ka"
   },
   "source": [
    "## План проекта\n",
    "**1. Проведение обзора данных**\n",
    "\n",
    "**Первичное исследование данных:** \n",
    "* Импорт необходимых библиотек;\n",
    "* Чтение файлов и сохранение полученных данных в переменные;\n",
    "* Получение общей информации о таблицах (head, info, describe);\n",
    "* Графическое представление данных из таблиц\n",
    "* Выводы\n",
    "\n",
    "**2. Построение модели машинного обучения:**\n",
    "* Разбивка данных на выборки\n",
    "* Выбор оптимальных гиперпараметров для моделей\n",
    "* Выбор оптимальной модели\n",
    "* Проверка выбранной модели на тестовой выборке\n",
    "* Проверка выбранной модели на адекватность\n",
    "* Выводы\n",
    "\n",
    "**3. Общий вывод**\n"
   ]
  },
  {
   "cell_type": "markdown",
   "metadata": {
    "id": "Dx9QWOc682Ka"
   },
   "source": [
    "## Первичное исследование данных"
   ]
  },
  {
   "cell_type": "markdown",
   "metadata": {
    "id": "tofuAqXH82Ka"
   },
   "source": [
    "### Загрузка данных"
   ]
  },
  {
   "cell_type": "code",
   "execution_count": 22,
   "metadata": {
    "id": "CIJAO-QV82Ka"
   },
   "outputs": [],
   "source": [
    "# Импортируем нужные библиотеки\n",
    "import pandas as pd\n",
    "import matplotlib.pylab as plt\n",
    "import seaborn as sns\n",
    "import math\n",
    "import numpy as np\n",
    "\n",
    "from sklearn.model_selection import train_test_split\n",
    "from sklearn.tree import DecisionTreeClassifier\n",
    "from sklearn.linear_model import LogisticRegression\n",
    "from sklearn.ensemble import RandomForestClassifier\n",
    "\n",
    "from sklearn.dummy import DummyClassifier"
   ]
  },
  {
   "cell_type": "code",
   "execution_count": 23,
   "metadata": {
    "id": "R_gzZQgA82Kb"
   },
   "outputs": [],
   "source": [
    "# Напишем функцию для первичной проверки данных\n",
    "def check_data(data_df):\n",
    "    print ('\\033[1m' + 'Изучим исходные данные'+ '\\033[0m')\n",
    "    print(data_df.info())\n",
    "    print(data_df.shape)\n",
    "        \n",
    "    missed_cells = data_df.isnull().sum().sum()/(data_df.shape[0]*(data_df.shape[1]-1))\n",
    "    missed_rows = sum(data_df.isnull().sum(axis = 1)>0)/data_df.shape[0]\n",
    "    print ('\\033[1m' + '\\nПроверка пропусков'+ '\\033[0m')\n",
    "    print ('Количество пропусков: {:.0f}'.format(data_df.isnull().sum().sum()))\n",
    "    print ('Доля пропусков: {:.1%}'.format(missed_cells)+ '\\033[0m')\n",
    "    print ('Доля строк содержащих пропуски: {:.1%}'.format(missed_rows))\n",
    "\n",
    "    ## Проверим дубликаты\n",
    "    print ('\\033[1m' + '\\nПроверка на дубликаты'+ '\\033[0m')\n",
    "    print('Количество полных дубликатов: ', data_df.duplicated().sum())\n",
    "        \n",
    "    ## Посмотрим на сами данные\n",
    "    print ('\\033[1m' + '\\nПервые пять строк датасета'+ '\\033[0m')\n",
    "    display(data_df.head())\n",
    "    \n",
    "    print('\\033[1m' + '\\nОписание количественных данных:'+ '\\033[0m')\n",
    "    display(data_df.describe().T)"
   ]
  },
  {
   "cell_type": "code",
   "execution_count": 24,
   "metadata": {
    "id": "T0EJ2Ys482Kc"
   },
   "outputs": [],
   "source": [
    "def plot_hist(data, col_column):\n",
    "    '''\n",
    "    Функция отрисовки гистограмм и ящика с усами для количесвтенных переменных.\n",
    "    На вход: исходная таблица и список количественных переменных.\n",
    "    На выходе: графики\n",
    "    '''\n",
    "    rows = len(col_column)\n",
    "    f, ax = plt.subplots(rows,2, figsize=(8, 15))\n",
    "    f.tight_layout()\n",
    "    f.set_figheight(30)\n",
    "    f.set_figwidth(14)\n",
    "    plt.rcParams.update({'font.size': 18})\n",
    "    \n",
    "    for i, col in enumerate(col_column):         \n",
    "        sns.histplot(data[col], kde=True, bins=24, ax = ax[i, 0])                    \n",
    "        sns.boxplot(data[col], ax = ax[i, 1])\n",
    "\n",
    "        ax[i, 0].set_xlabel(col)\n",
    "        ax[i, 1].set_xlabel(col)\n",
    "        ax[i, 0].set_ylabel('Количество')\n",
    "    plt.suptitle(\"Гистограмма и ящик с усами для количественных данных\", fontsize=22, y=1.01)\n",
    "    plt.show()"
   ]
  },
  {
   "cell_type": "code",
   "execution_count": 25,
   "metadata": {
    "id": "fd-obo6o82Kd"
   },
   "outputs": [],
   "source": [
    "#Считываем данные из csv-файла в датафрейм и сохраняем в переменной data\n",
    "try:\n",
    "    data = pd.read_csv('/datasets/users_behavior.csv')\n",
    "except:\n",
    "    data = pd.read_csv('https://code.s3.yandex.net/datasets/users_behavior.csv')"
   ]
  },
  {
   "cell_type": "code",
   "execution_count": 26,
   "metadata": {
    "colab": {
     "base_uri": "https://localhost:8080/",
     "height": 423
    },
    "id": "t5O_p2Vl82Kd",
    "outputId": "5108cdfe-4ecb-4ed4-8e2d-456684b2307b"
   },
   "outputs": [
    {
     "data": {
      "text/html": [
       "<div>\n",
       "<style scoped>\n",
       "    .dataframe tbody tr th:only-of-type {\n",
       "        vertical-align: middle;\n",
       "    }\n",
       "\n",
       "    .dataframe tbody tr th {\n",
       "        vertical-align: top;\n",
       "    }\n",
       "\n",
       "    .dataframe thead th {\n",
       "        text-align: right;\n",
       "    }\n",
       "</style>\n",
       "<table border=\"1\" class=\"dataframe\">\n",
       "  <thead>\n",
       "    <tr style=\"text-align: right;\">\n",
       "      <th></th>\n",
       "      <th>calls</th>\n",
       "      <th>minutes</th>\n",
       "      <th>messages</th>\n",
       "      <th>mb_used</th>\n",
       "      <th>is_ultra</th>\n",
       "    </tr>\n",
       "  </thead>\n",
       "  <tbody>\n",
       "    <tr>\n",
       "      <th>0</th>\n",
       "      <td>40.0</td>\n",
       "      <td>311.90</td>\n",
       "      <td>83.0</td>\n",
       "      <td>19915.42</td>\n",
       "      <td>0</td>\n",
       "    </tr>\n",
       "    <tr>\n",
       "      <th>1</th>\n",
       "      <td>85.0</td>\n",
       "      <td>516.75</td>\n",
       "      <td>56.0</td>\n",
       "      <td>22696.96</td>\n",
       "      <td>0</td>\n",
       "    </tr>\n",
       "    <tr>\n",
       "      <th>2</th>\n",
       "      <td>77.0</td>\n",
       "      <td>467.66</td>\n",
       "      <td>86.0</td>\n",
       "      <td>21060.45</td>\n",
       "      <td>0</td>\n",
       "    </tr>\n",
       "    <tr>\n",
       "      <th>3</th>\n",
       "      <td>106.0</td>\n",
       "      <td>745.53</td>\n",
       "      <td>81.0</td>\n",
       "      <td>8437.39</td>\n",
       "      <td>1</td>\n",
       "    </tr>\n",
       "    <tr>\n",
       "      <th>4</th>\n",
       "      <td>66.0</td>\n",
       "      <td>418.74</td>\n",
       "      <td>1.0</td>\n",
       "      <td>14502.75</td>\n",
       "      <td>0</td>\n",
       "    </tr>\n",
       "    <tr>\n",
       "      <th>...</th>\n",
       "      <td>...</td>\n",
       "      <td>...</td>\n",
       "      <td>...</td>\n",
       "      <td>...</td>\n",
       "      <td>...</td>\n",
       "    </tr>\n",
       "    <tr>\n",
       "      <th>3209</th>\n",
       "      <td>122.0</td>\n",
       "      <td>910.98</td>\n",
       "      <td>20.0</td>\n",
       "      <td>35124.90</td>\n",
       "      <td>1</td>\n",
       "    </tr>\n",
       "    <tr>\n",
       "      <th>3210</th>\n",
       "      <td>25.0</td>\n",
       "      <td>190.36</td>\n",
       "      <td>0.0</td>\n",
       "      <td>3275.61</td>\n",
       "      <td>0</td>\n",
       "    </tr>\n",
       "    <tr>\n",
       "      <th>3211</th>\n",
       "      <td>97.0</td>\n",
       "      <td>634.44</td>\n",
       "      <td>70.0</td>\n",
       "      <td>13974.06</td>\n",
       "      <td>0</td>\n",
       "    </tr>\n",
       "    <tr>\n",
       "      <th>3212</th>\n",
       "      <td>64.0</td>\n",
       "      <td>462.32</td>\n",
       "      <td>90.0</td>\n",
       "      <td>31239.78</td>\n",
       "      <td>0</td>\n",
       "    </tr>\n",
       "    <tr>\n",
       "      <th>3213</th>\n",
       "      <td>80.0</td>\n",
       "      <td>566.09</td>\n",
       "      <td>6.0</td>\n",
       "      <td>29480.52</td>\n",
       "      <td>1</td>\n",
       "    </tr>\n",
       "  </tbody>\n",
       "</table>\n",
       "<p>3214 rows × 5 columns</p>\n",
       "</div>"
      ],
      "text/plain": [
       "      calls  minutes  messages   mb_used  is_ultra\n",
       "0      40.0   311.90      83.0  19915.42         0\n",
       "1      85.0   516.75      56.0  22696.96         0\n",
       "2      77.0   467.66      86.0  21060.45         0\n",
       "3     106.0   745.53      81.0   8437.39         1\n",
       "4      66.0   418.74       1.0  14502.75         0\n",
       "...     ...      ...       ...       ...       ...\n",
       "3209  122.0   910.98      20.0  35124.90         1\n",
       "3210   25.0   190.36       0.0   3275.61         0\n",
       "3211   97.0   634.44      70.0  13974.06         0\n",
       "3212   64.0   462.32      90.0  31239.78         0\n",
       "3213   80.0   566.09       6.0  29480.52         1\n",
       "\n",
       "[3214 rows x 5 columns]"
      ]
     },
     "execution_count": 26,
     "metadata": {},
     "output_type": "execute_result"
    }
   ],
   "source": [
    "data"
   ]
  },
  {
   "cell_type": "markdown",
   "metadata": {
    "id": "hy_6meQW82Kd"
   },
   "source": [
    "Загруженная таблица соответствует заданию."
   ]
  },
  {
   "cell_type": "markdown",
   "metadata": {
    "id": "-xEAcEl482Kd"
   },
   "source": [
    "### Первичный осмотр данных"
   ]
  },
  {
   "cell_type": "code",
   "execution_count": 27,
   "metadata": {
    "colab": {
     "base_uri": "https://localhost:8080/",
     "height": 846
    },
    "id": "a3LUHY_Z82Kd",
    "outputId": "c178ab11-b83c-4607-e656-51118678dd50"
   },
   "outputs": [
    {
     "name": "stdout",
     "output_type": "stream",
     "text": [
      "\u001b[1mИзучим исходные данные\u001b[0m\n",
      "<class 'pandas.core.frame.DataFrame'>\n",
      "RangeIndex: 3214 entries, 0 to 3213\n",
      "Data columns (total 5 columns):\n",
      " #   Column    Non-Null Count  Dtype  \n",
      "---  ------    --------------  -----  \n",
      " 0   calls     3214 non-null   float64\n",
      " 1   minutes   3214 non-null   float64\n",
      " 2   messages  3214 non-null   float64\n",
      " 3   mb_used   3214 non-null   float64\n",
      " 4   is_ultra  3214 non-null   int64  \n",
      "dtypes: float64(4), int64(1)\n",
      "memory usage: 125.7 KB\n",
      "None\n",
      "(3214, 5)\n",
      "\u001b[1m\n",
      "Проверка пропусков\u001b[0m\n",
      "Количество пропусков: 0\n",
      "Доля пропусков: 0.0%\u001b[0m\n",
      "Доля строк содержащих пропуски: 0.0%\n",
      "\u001b[1m\n",
      "Проверка на дубликаты\u001b[0m\n",
      "Количество полных дубликатов:  0\n",
      "\u001b[1m\n",
      "Первые пять строк датасета\u001b[0m\n"
     ]
    },
    {
     "data": {
      "text/html": [
       "<div>\n",
       "<style scoped>\n",
       "    .dataframe tbody tr th:only-of-type {\n",
       "        vertical-align: middle;\n",
       "    }\n",
       "\n",
       "    .dataframe tbody tr th {\n",
       "        vertical-align: top;\n",
       "    }\n",
       "\n",
       "    .dataframe thead th {\n",
       "        text-align: right;\n",
       "    }\n",
       "</style>\n",
       "<table border=\"1\" class=\"dataframe\">\n",
       "  <thead>\n",
       "    <tr style=\"text-align: right;\">\n",
       "      <th></th>\n",
       "      <th>calls</th>\n",
       "      <th>minutes</th>\n",
       "      <th>messages</th>\n",
       "      <th>mb_used</th>\n",
       "      <th>is_ultra</th>\n",
       "    </tr>\n",
       "  </thead>\n",
       "  <tbody>\n",
       "    <tr>\n",
       "      <th>0</th>\n",
       "      <td>40.0</td>\n",
       "      <td>311.90</td>\n",
       "      <td>83.0</td>\n",
       "      <td>19915.42</td>\n",
       "      <td>0</td>\n",
       "    </tr>\n",
       "    <tr>\n",
       "      <th>1</th>\n",
       "      <td>85.0</td>\n",
       "      <td>516.75</td>\n",
       "      <td>56.0</td>\n",
       "      <td>22696.96</td>\n",
       "      <td>0</td>\n",
       "    </tr>\n",
       "    <tr>\n",
       "      <th>2</th>\n",
       "      <td>77.0</td>\n",
       "      <td>467.66</td>\n",
       "      <td>86.0</td>\n",
       "      <td>21060.45</td>\n",
       "      <td>0</td>\n",
       "    </tr>\n",
       "    <tr>\n",
       "      <th>3</th>\n",
       "      <td>106.0</td>\n",
       "      <td>745.53</td>\n",
       "      <td>81.0</td>\n",
       "      <td>8437.39</td>\n",
       "      <td>1</td>\n",
       "    </tr>\n",
       "    <tr>\n",
       "      <th>4</th>\n",
       "      <td>66.0</td>\n",
       "      <td>418.74</td>\n",
       "      <td>1.0</td>\n",
       "      <td>14502.75</td>\n",
       "      <td>0</td>\n",
       "    </tr>\n",
       "  </tbody>\n",
       "</table>\n",
       "</div>"
      ],
      "text/plain": [
       "   calls  minutes  messages   mb_used  is_ultra\n",
       "0   40.0   311.90      83.0  19915.42         0\n",
       "1   85.0   516.75      56.0  22696.96         0\n",
       "2   77.0   467.66      86.0  21060.45         0\n",
       "3  106.0   745.53      81.0   8437.39         1\n",
       "4   66.0   418.74       1.0  14502.75         0"
      ]
     },
     "metadata": {},
     "output_type": "display_data"
    },
    {
     "name": "stdout",
     "output_type": "stream",
     "text": [
      "\u001b[1m\n",
      "Описание количественных данных:\u001b[0m\n"
     ]
    },
    {
     "data": {
      "text/html": [
       "<div>\n",
       "<style scoped>\n",
       "    .dataframe tbody tr th:only-of-type {\n",
       "        vertical-align: middle;\n",
       "    }\n",
       "\n",
       "    .dataframe tbody tr th {\n",
       "        vertical-align: top;\n",
       "    }\n",
       "\n",
       "    .dataframe thead th {\n",
       "        text-align: right;\n",
       "    }\n",
       "</style>\n",
       "<table border=\"1\" class=\"dataframe\">\n",
       "  <thead>\n",
       "    <tr style=\"text-align: right;\">\n",
       "      <th></th>\n",
       "      <th>count</th>\n",
       "      <th>mean</th>\n",
       "      <th>std</th>\n",
       "      <th>min</th>\n",
       "      <th>25%</th>\n",
       "      <th>50%</th>\n",
       "      <th>75%</th>\n",
       "      <th>max</th>\n",
       "    </tr>\n",
       "  </thead>\n",
       "  <tbody>\n",
       "    <tr>\n",
       "      <th>calls</th>\n",
       "      <td>3214.0</td>\n",
       "      <td>63.038892</td>\n",
       "      <td>33.236368</td>\n",
       "      <td>0.0</td>\n",
       "      <td>40.0000</td>\n",
       "      <td>62.000</td>\n",
       "      <td>82.0000</td>\n",
       "      <td>244.00</td>\n",
       "    </tr>\n",
       "    <tr>\n",
       "      <th>minutes</th>\n",
       "      <td>3214.0</td>\n",
       "      <td>438.208787</td>\n",
       "      <td>234.569872</td>\n",
       "      <td>0.0</td>\n",
       "      <td>274.5750</td>\n",
       "      <td>430.600</td>\n",
       "      <td>571.9275</td>\n",
       "      <td>1632.06</td>\n",
       "    </tr>\n",
       "    <tr>\n",
       "      <th>messages</th>\n",
       "      <td>3214.0</td>\n",
       "      <td>38.281269</td>\n",
       "      <td>36.148326</td>\n",
       "      <td>0.0</td>\n",
       "      <td>9.0000</td>\n",
       "      <td>30.000</td>\n",
       "      <td>57.0000</td>\n",
       "      <td>224.00</td>\n",
       "    </tr>\n",
       "    <tr>\n",
       "      <th>mb_used</th>\n",
       "      <td>3214.0</td>\n",
       "      <td>17207.673836</td>\n",
       "      <td>7570.968246</td>\n",
       "      <td>0.0</td>\n",
       "      <td>12491.9025</td>\n",
       "      <td>16943.235</td>\n",
       "      <td>21424.7000</td>\n",
       "      <td>49745.73</td>\n",
       "    </tr>\n",
       "    <tr>\n",
       "      <th>is_ultra</th>\n",
       "      <td>3214.0</td>\n",
       "      <td>0.306472</td>\n",
       "      <td>0.461100</td>\n",
       "      <td>0.0</td>\n",
       "      <td>0.0000</td>\n",
       "      <td>0.000</td>\n",
       "      <td>1.0000</td>\n",
       "      <td>1.00</td>\n",
       "    </tr>\n",
       "  </tbody>\n",
       "</table>\n",
       "</div>"
      ],
      "text/plain": [
       "           count          mean          std  min         25%        50%  \\\n",
       "calls     3214.0     63.038892    33.236368  0.0     40.0000     62.000   \n",
       "minutes   3214.0    438.208787   234.569872  0.0    274.5750    430.600   \n",
       "messages  3214.0     38.281269    36.148326  0.0      9.0000     30.000   \n",
       "mb_used   3214.0  17207.673836  7570.968246  0.0  12491.9025  16943.235   \n",
       "is_ultra  3214.0      0.306472     0.461100  0.0      0.0000      0.000   \n",
       "\n",
       "                 75%       max  \n",
       "calls        82.0000    244.00  \n",
       "minutes     571.9275   1632.06  \n",
       "messages     57.0000    224.00  \n",
       "mb_used   21424.7000  49745.73  \n",
       "is_ultra      1.0000      1.00  "
      ]
     },
     "metadata": {},
     "output_type": "display_data"
    }
   ],
   "source": [
    "check_data(data)"
   ]
  },
  {
   "cell_type": "code",
   "execution_count": 28,
   "metadata": {
    "colab": {
     "base_uri": "https://localhost:8080/"
    },
    "id": "EVeZs2mt82Ke",
    "outputId": "5bf67a55-23f0-4cb3-d899-441b3d14a4e2"
   },
   "outputs": [
    {
     "data": {
      "text/plain": [
       "Index(['calls', 'minutes', 'messages', 'mb_used', 'is_ultra'], dtype='object')"
      ]
     },
     "execution_count": 28,
     "metadata": {},
     "output_type": "execute_result"
    }
   ],
   "source": [
    "# ГРАФИЧЕСКИЙ АНАЛИЗ количественных данных данных\n",
    "num_features = data.select_dtypes(exclude=[object]).columns\n",
    "\n",
    "# Проверка\n",
    "num_features"
   ]
  },
  {
   "cell_type": "code",
   "execution_count": 29,
   "metadata": {
    "id": "bV6_FnmR82Ke"
   },
   "outputs": [],
   "source": [
    "num_features = num_features.drop(['is_ultra'])"
   ]
  },
  {
   "cell_type": "code",
   "execution_count": 30,
   "metadata": {
    "colab": {
     "base_uri": "https://localhost:8080/",
     "height": 1000
    },
    "id": "F5EfoSVI82Ke",
    "outputId": "c6c79c85-8da2-47b8-a863-402da6b1cb5e",
    "scrolled": false
   },
   "outputs": [
    {
     "name": "stderr",
     "output_type": "stream",
     "text": [
      "/opt/conda/lib/python3.9/site-packages/seaborn/_decorators.py:36: FutureWarning: Pass the following variable as a keyword arg: x. From version 0.12, the only valid positional argument will be `data`, and passing other arguments without an explicit keyword will result in an error or misinterpretation.\n",
      "  warnings.warn(\n",
      "/opt/conda/lib/python3.9/site-packages/seaborn/_decorators.py:36: FutureWarning: Pass the following variable as a keyword arg: x. From version 0.12, the only valid positional argument will be `data`, and passing other arguments without an explicit keyword will result in an error or misinterpretation.\n",
      "  warnings.warn(\n",
      "/opt/conda/lib/python3.9/site-packages/seaborn/_decorators.py:36: FutureWarning: Pass the following variable as a keyword arg: x. From version 0.12, the only valid positional argument will be `data`, and passing other arguments without an explicit keyword will result in an error or misinterpretation.\n",
      "  warnings.warn(\n",
      "/opt/conda/lib/python3.9/site-packages/seaborn/_decorators.py:36: FutureWarning: Pass the following variable as a keyword arg: x. From version 0.12, the only valid positional argument will be `data`, and passing other arguments without an explicit keyword will result in an error or misinterpretation.\n",
      "  warnings.warn(\n"
     ]
    },
    {
     "data": {
      "image/png": "[encoded data removed]",
      "text/plain": [
       "<Figure size 1008x2160 with 8 Axes>"
      ]
     },
     "metadata": {
      "needs_background": "light"
     },
     "output_type": "display_data"
    }
   ],
   "source": [
    "plot_hist(data, num_features)"
   ]
  },
  {
   "cell_type": "code",
   "execution_count": 31,
   "metadata": {
    "colab": {
     "base_uri": "https://localhost:8080/",
     "height": 461
    },
    "id": "exrcArK_82Ke",
    "outputId": "70280796-da32-4c07-fe1b-26afd59e675c"
   },
   "outputs": [
    {
     "data": {
      "image/png": "[encoded data removed]",
      "text/plain": [
       "<Figure size 540x540 with 1 Axes>"
      ]
     },
     "metadata": {},
     "output_type": "display_data"
    }
   ],
   "source": [
    "# ГРАФИЧЕСКИЙ АНАЛИЗ категориальных данных\n",
    "data_grouped = data.groupby('is_ultra')['is_ultra'].agg(['count'])\n",
    "ax = data_grouped['count'].plot(kind=\"pie\", autopct='%1.1f%%', legend=True, title='Количество пользователей по тарифам', ylabel='', figsize = (7.5,7.5), labeldistance=None, labels = ['Смарт', 'Ультра'])\n",
    "ax.legend(bbox_to_anchor=(1, 1.02), loc='upper left')\n",
    "plt.show()"
   ]
  },
  {
   "cell_type": "markdown",
   "metadata": {
    "id": "fTWzjmgst5XF"
   },
   "source": [
    "**Вывод: Исходя из полученных графиков и информации о датасете видно что датасет предобработан: в нем нету пропущенных значений, дубдикатов и некорректных значений. Можно приступать к исследованию.**"
   ]
  },
  {
   "cell_type": "markdown",
   "metadata": {
    "id": "qRSfFROtdEEj"
   },
   "source": [
    "## Построение модели машинного обучения"
   ]
  },
  {
   "cell_type": "markdown",
   "metadata": {
    "id": "EuhCWGNN82Ke"
   },
   "source": [
    "### Разбивка данных на выборки"
   ]
  },
  {
   "cell_type": "code",
   "execution_count": 32,
   "metadata": {
    "id": "nc-9ok6LCqu2"
   },
   "outputs": [],
   "source": [
    "# Создадим датасет с признакими, исключив из исходного датасета целевой признак\n",
    "features = data.drop(['is_ultra'], axis=1)\n",
    "# Сздадим датасет с целевым признаком\n",
    "target = data['is_ultra']"
   ]
  },
  {
   "cell_type": "code",
   "execution_count": 33,
   "metadata": {
    "id": "pamNnZAXSIGt"
   },
   "outputs": [],
   "source": [
    "# Разделим данные. Так как нам нужно выделить три выборки: обучающую, валидационную и тестовую, \\\n",
    "# то нам нужно разделить данные в отношении 3:1:1.\n",
    "features_train, features_valid_test, target_train, target_valid_test = train_test_split(\n",
    "    features, target, test_size=0.4, random_state=12345) # отделим 40% данных для валидационной и тестовой выборки"
   ]
  },
  {
   "cell_type": "code",
   "execution_count": 34,
   "metadata": {
    "id": "uVAuD_zaS0aP"
   },
   "outputs": [],
   "source": [
    "# Разделим 40% данных пополам между валидационной и тестовой выборками (по 20% данных)\n",
    "features_test, features_valid, target_test, target_valid = train_test_split(\n",
    "    features_valid_test, target_valid_test, test_size=0.5, random_state=12345)"
   ]
  },
  {
   "cell_type": "code",
   "execution_count": 35,
   "metadata": {},
   "outputs": [
    {
     "name": "stdout",
     "output_type": "stream",
     "text": [
      "Размер обучающей выборки (признаки) - 1928\n",
      "Размер обучающей выборки (целевой признак) - 1928\n",
      "Размер тестовой выборки (признаки) - 643\n",
      "Размер тестовой выборки (признаки) - 643\n",
      "Размер валидационной выборки (признаки) - 643\n",
      "Размер валидационной выборки (признаки) - 643\n"
     ]
    }
   ],
   "source": [
    "print('Размер обучающей выборки (признаки) -', features_train.shape[0])\n",
    "print('Размер обучающей выборки (целевой признак) -', target_train.shape[0])\n",
    "print('Размер тестовой выборки (признаки) -', features_test.shape[0])\n",
    "print('Размер тестовой выборки (признаки) -', target_test.shape[0])\n",
    "print('Размер валидационной выборки (признаки) -', features_valid.shape[0])\n",
    "print('Размер валидационной выборки (признаки) -', target_valid.shape[0])"
   ]
  },
  {
   "cell_type": "markdown",
   "metadata": {
    "id": "P5g3kpcq82Kf"
   },
   "source": [
    "### Исследование моделей"
   ]
  },
  {
   "cell_type": "code",
   "execution_count": 36,
   "metadata": {
    "id": "9ZXPRcJNdC-k"
   },
   "outputs": [],
   "source": [
    "def best_model(tree_depth, n_trees, iter, features_train, target_train, features_valid, target_valid):\n",
    "  '''\n",
    "  Функция находит значения гиперпараметров для наилучший модели для каждого типа моделей\n",
    "  (модель решающего дерева, модель случайного леса, модель логистической регресии).\n",
    "  На вход: значения гиперпараметров, тестовая и валидационная выборки.\n",
    "  На выходе: значения Accuracy и гиперпаметров для наилучшей модели каждого типа моделей\n",
    "  '''\n",
    "  best_model_dtc = None\n",
    "  best_result_dtc = 0\n",
    "  best_depth = 0\n",
    "  for depth in range(1, tree_depth):\n",
    "    model = DecisionTreeClassifier(random_state=12345, max_depth=depth) # обучаем модель с заданной глубиной дерева\n",
    "    model.fit(features_train, target_train) # обучаем модель на тренировочной выборке\n",
    "    result = model.score(features_valid,target_valid) # посчитаем качество модели на валидационной выборке\n",
    "    if result > best_result_dtc:\n",
    "      best_depth = depth\n",
    "      best_model_dtc = model # сохраняем наилучшую модель\n",
    "      best_result_dtc = result # сохрасохраняемните наилучшее значение метрики accuracy на валидационных данных\n",
    "\n",
    "  print(\"Accuracy наилучшей модели решающего дерева на валидационной выборке:\",\n",
    "        best_result_dtc, \"Глубина дерева:\", best_depth)\n",
    "\n",
    "  best_model_rfc = None\n",
    "  best_result_rfc = 0\n",
    "  best_est = 0\n",
    "  best_depth = 0\n",
    "  for est in range(10, n_trees, 10):\n",
    "    for depth in range (1, tree_depth):\n",
    "        # обучаем модель с заданным количеством деревьев\n",
    "        model = RandomForestClassifier(random_state=12345, n_estimators=est, max_depth=depth)\n",
    "        model.fit(features_train, target_train) # обучаем модель на тренировочной выборке\n",
    "        result = model.score(features_valid,target_valid) # посчитаем качество модели на валидационной выборке\n",
    "        if result > best_result_rfc:\n",
    "            best_model_rfc = model # сохраняем наилучшую модель\n",
    "            best_result_rfc = result # сохраняем наилучшее значение метрики accuracy на валидационных данных\n",
    "            best_est = est\n",
    "            best_depth = depth\n",
    "\n",
    "  print(\"Accuracy наилучшей модели случайного леса на валидационной выборке:\",\n",
    "        best_result_rfc, \"Количество деревьев:\", best_est, \"Максимальная глубина дерева:\", best_depth)\n",
    "\n",
    "  best_model_lr = None\n",
    "  best_result_lr = 0\n",
    "  best_iter = 0\n",
    "  for iter in range(100, iter, 100):\n",
    "    model = LogisticRegression(random_state=12345, solver='lbfgs', max_iter=iter) # обучаем модель\n",
    "    model.fit(features_train, target_train) # обучаем модель на тренировочной выборке\n",
    "    result = model.score(features_valid, target_valid) # посчитаем качество модели на валидационной выборке\n",
    "    if result > best_result_lr:\n",
    "        best_model_lr = model # сохраняем наилучшую модель\n",
    "        best_result_lr = result # сохраняем наилучшее значение метрики accuracy на валидационных данных\n",
    "        best_iter = iter\n",
    "\n",
    "  print(\"Accuracy наилучшей модели логистической регресии на валидационной выборке:\",\n",
    "        best_result_lr, \"Количество итераций:\", best_iter)\n",
    "\n",
    "  #выберем из трех типов моделей лучшую и сохраним ее в переменную best_model\n",
    "  best_results = []\n",
    "  best_result = 0\n",
    "  best_model = None\n",
    "  best_results.append(best_result_dtc)\n",
    "  best_results.append(best_result_rfc)\n",
    "  best_results.append(best_result_lr)\n",
    "  for result in best_results:\n",
    "    if result > best_result:\n",
    "        best_result = result\n",
    "  if best_results.index(best_result) == 0:\n",
    "    best_model = best_result_dtc\n",
    "  elif best_results.index(best_result) == 1:\n",
    "    best_model = best_model_rfc\n",
    "  elif best_results.index(best_result) == 2:\n",
    "    best_model = best_model_lr\n",
    "  \n",
    "  return best_model"
   ]
  },
  {
   "cell_type": "code",
   "execution_count": 37,
   "metadata": {
    "colab": {
     "base_uri": "https://localhost:8080/"
    },
    "id": "CTfAlszHrR_O",
    "outputId": "c5819589-01f8-4c16-8487-dc582b27a5df"
   },
   "outputs": [
    {
     "name": "stdout",
     "output_type": "stream",
     "text": [
      "Accuracy наилучшей модели решающего дерева на валидационной выборке: 0.7993779160186625 Глубина дерева: 7\n",
      "Accuracy наилучшей модели случайного леса на валидационной выборке: 0.8133748055987559 Количество деревьев: 10 Максимальная глубина дерева: 9\n",
      "Accuracy наилучшей модели логистической регресии на валидационной выборке: 0.6842923794712286 Количество итераций: 100\n"
     ]
    }
   ],
   "source": [
    "# Задаем гиперпараметры\n",
    "tree_depth = 11 #грубина дерева\n",
    "n_trees = 51 #количество деревьев\n",
    "iter = 1000 #количество итераций\n",
    "\n",
    "# Найдем модель с наибольшим значением Accuracy на валидационной выборке\n",
    "model = best_model(tree_depth, n_trees, iter,features_train, target_train, features_valid, target_valid)"
   ]
  },
  {
   "cell_type": "markdown",
   "metadata": {
    "id": "-sn4CvEtxInu"
   },
   "source": [
    "Как видим, самое большое значение Accuracy на валидационной выборке - для модели случайного леса с количеством деревьев равным 10 и максимальной глубиной дерева 9. "
   ]
  },
  {
   "cell_type": "code",
   "execution_count": 38,
   "metadata": {
    "colab": {
     "base_uri": "https://localhost:8080/"
    },
    "id": "ei2wLww2NhSA",
    "outputId": "e6cf3a93-19a1-4843-eac6-de9a97afa17a"
   },
   "outputs": [
    {
     "data": {
      "text/plain": [
       "'# Обучим модель, самое большим значением Accuracy на валидационной выборке по известным гиперпараметрам\\nmodel = RandomForestClassifier(random_state=12345, n_estimators=10, max_depth=9)\\nmodel.fit(features_train, target_train) # обучаем модель на тренировочной выборке\\nresult_valid = model.score(features_valid,target_valid) # посчитаем качество модели на валидационной выборке\\nprint(\"Accuracy модели на валидационной выборке:\",  result_valid)'"
      ]
     },
     "execution_count": 38,
     "metadata": {},
     "output_type": "execute_result"
    }
   ],
   "source": [
    "'''# Обучим модель, самое большим значением Accuracy на валидационной выборке по известным гиперпараметрам\n",
    "model = RandomForestClassifier(random_state=12345, n_estimators=10, max_depth=9)\n",
    "model.fit(features_train, target_train) # обучаем модель на тренировочной выборке\n",
    "result_valid = model.score(features_valid,target_valid) # посчитаем качество модели на валидационной выборке\n",
    "print(\"Accuracy модели на валидационной выборке:\",  result_valid)'''"
   ]
  },
  {
   "cell_type": "markdown",
   "metadata": {
    "id": "xSQxL_rr82Kf"
   },
   "source": [
    "### Проверка модели на тестовой выборке"
   ]
  },
  {
   "cell_type": "markdown",
   "metadata": {
    "id": "RUrTjZqEyTBE"
   },
   "source": [
    "Чтобы правильно оценить готовую модель проверим ее на тестовой выборке."
   ]
  },
  {
   "cell_type": "code",
   "execution_count": 39,
   "metadata": {
    "colab": {
     "base_uri": "https://localhost:8080/"
    },
    "id": "TkH72XuHQBzz",
    "outputId": "c5ee0b99-9e67-46f8-97b5-995b74a60442"
   },
   "outputs": [
    {
     "name": "stdout",
     "output_type": "stream",
     "text": [
      "Accuracy модели на тестовой выборке: 0.7853810264385692\n"
     ]
    }
   ],
   "source": [
    "result_test = model.score(features_test,target_test) # посчитаем качество модели на тестовой выборке\n",
    "print(\"Accuracy модели на тестовой выборке:\",  result_test)"
   ]
  },
  {
   "cell_type": "markdown",
   "metadata": {
    "id": "UF4eGRd_yhuP"
   },
   "source": [
    "Как видно, доля правильных ответов на тестовой выборке немного снизилась по сравнению с ответами на валидационной выборке. Но доля ответов (0.785) все еще высока и подходит по условиям поставленной задачи (больше 0.75)."
   ]
  },
  {
   "cell_type": "markdown",
   "metadata": {
    "id": "yj5f2Yf382Kf"
   },
   "source": [
    "### Проверка модели на адекватность"
   ]
  },
  {
   "cell_type": "markdown",
   "metadata": {
    "id": "n4BTLX7NzV4E"
   },
   "source": [
    "Для оценки модели на адекватность, модель должна быть умнее тривиальной модели. В нашем исследовании в качестве тривиальной модели будем использовать модель DummyClassifier со статегией most_frequent, которая возвращает наиболее часто встречающееся значение целевого параметра."
   ]
  },
  {
   "cell_type": "code",
   "execution_count": 40,
   "metadata": {
    "colab": {
     "base_uri": "https://localhost:8080/"
    },
    "id": "g5PR3D4P82Kf",
    "outputId": "25ffd5cb-aae1-4132-a4a8-79e45f88d473"
   },
   "outputs": [
    {
     "name": "stdout",
     "output_type": "stream",
     "text": [
      "Accuracy тривиальной модели на валидационной выборке: 0.6842923794712286\n",
      "Accuracy тривиальной модели на тестовой выборке: 0.7060653188180405\n"
     ]
    }
   ],
   "source": [
    "model_dummy = DummyClassifier(random_state=12345, strategy = 'most_frequent')\n",
    "model_dummy.fit(features_train, target_train)\n",
    "result_dummy_valid = model_dummy.score(features_valid,target_valid) # посчитаем качество модели на валидационной выборке\n",
    "print(\"Accuracy тривиальной модели на валидационной выборке:\",  result_dummy_valid)\n",
    "result_dummy_test = model_dummy.score(features_test,target_test) # посчитаем качество модели на тестовой выборке\n",
    "print(\"Accuracy тривиальной модели на тестовой выборке:\",  result_dummy_test)"
   ]
  },
  {
   "cell_type": "markdown",
   "metadata": {
    "id": "yLTuJDgQ0xgo"
   },
   "source": [
    "Наша модель прошла проверку на адекватность."
   ]
  },
  {
   "cell_type": "markdown",
   "metadata": {
    "id": "WzkcTW4SbL_J"
   },
   "source": [
    "**Вывод: В разделе построения модели машинного обучения были  проверены три типа моделей (модель решающего дерева, модель случайного леса и модель логистической регресии). Следуя поставленной задаче, была выбрана модель с максимально большим значением accuracy. Выбранная нами модель случайного леса определяет целевой параметр (тип тарифа) с более высокой точностью чем тривиальная модель, как на валидационной выборке, так и на тестовой выборке. Следовательно применение данной модели оправдано.**"
   ]
  },
  {
   "cell_type": "markdown",
   "metadata": {
    "id": "5R-NtlV5dd3B"
   },
   "source": [
    "## Общий вывод"
   ]
  },
  {
   "cell_type": "markdown",
   "metadata": {
    "id": "EiO7b8Cg1G86"
   },
   "source": [
    "В рамках данного исследования были загружены и изучены данные о поведении клиентов, которые уже перешли на новые тарифы (Смарт и Ультра). Были исследованы три типа моделей: модель решающего дерева, модель случайного леса и модель логистической регресии. Модели были обучены на тренировочной выборке и для каждого из типов моделей были найдены значения гиперпараметров, обеспечивабщие наибольшую долю правильных ответов на валидационной выборке.Наибольшую точность (значение accuracy) показала модель случайного леса с количеством деревьев равным 10 и максимальной глубиной дерева 9 (accuracy на валидационной выборке: 0.813), что выше поставленных условий (0.75). Выбранная модель была проверена на тестовой выборке, где показатель accuracy составил 0.785. В заключении исследования выбранная модель была проверена на адекватность, где мы сравнили значением accuracy на валидационной и тестовой выборках выбранной модели с тривиальной моделью, возвращающей наиболее часто встречающееся значение целевого параметра. Наша модель прошла проверку, а значит применение модели для задачи классификации (выбора подходящего тарифа) оправдана. В дальнейшем можно приступить к расчету экономического эффекта от внедрения модели классификации тарифа.\n"
   ]
  },
  {
   "cell_type": "code",
   "execution_count": 41,
   "metadata": {},
   "outputs": [
    {
     "name": "stdout",
     "output_type": "stream",
     "text": [
      "Размер увеличенной обучающей выборки (признаки) - 2571\n",
      "Размер увеличенной обучающей выборки (целевой признак) - 2571\n"
     ]
    }
   ],
   "source": [
    "# для улчшения точности модели обучим ее на общей (тренировочной + валидационной) выборке\n",
    "\n",
    "# соединим тренировочную и валидационную выборки\n",
    "features_train_adv = pd.concat([features_train, features_valid])\n",
    "target_train_adv = pd.concat([target_train, target_valid])\n",
    "\n",
    "print('Размер увеличенной обучающей выборки (признаки) -', features_train_adv.shape[0])\n",
    "print('Размер увеличенной обучающей выборки (целевой признак) -', target_train_adv.shape[0])"
   ]
  },
  {
   "cell_type": "code",
   "execution_count": 42,
   "metadata": {},
   "outputs": [
    {
     "name": "stdout",
     "output_type": "stream",
     "text": [
      "Accuracy модели на тестовой выборке: 0.80248833592535\n"
     ]
    }
   ],
   "source": [
    "# Обучим модель\n",
    "model = RandomForestClassifier(random_state=12345, n_estimators=10, max_depth=9)\n",
    "model.fit(features_train_adv, target_train_adv) # обучаем модель на общей выборке\n",
    "result_valid = model.score(features_test,target_test) # посчитаем качество модели на тестовой выборке\n",
    "print(\"Accuracy модели на тестовой выборке:\",  result_valid)"
   ]
  }
 ],
 "metadata": {
  "ExecuteTimeLog": [
   {
    "duration": 355,
    "start_time": "2023-03-03T05:47:18.687Z"
   },
   {
    "duration": 134,
    "start_time": "2023-03-03T05:47:20.460Z"
   },
   {
    "duration": 20,
    "start_time": "2023-03-03T05:47:30.756Z"
   },
   {
    "duration": 11,
    "start_time": "2023-03-03T05:47:47.584Z"
   },
   {
    "duration": 1177,
    "start_time": "2023-03-03T05:48:03.292Z"
   },
   {
    "duration": 3,
    "start_time": "2023-03-03T05:48:16.784Z"
   },
   {
    "duration": 4,
    "start_time": "2023-03-03T05:48:20.252Z"
   },
   {
    "duration": 29,
    "start_time": "2023-03-03T05:48:20.517Z"
   },
   {
    "duration": 13,
    "start_time": "2023-03-03T05:48:20.748Z"
   },
   {
    "duration": 11,
    "start_time": "2023-03-03T05:48:21.248Z"
   },
   {
    "duration": 643,
    "start_time": "2023-03-03T05:48:32.956Z"
   },
   {
    "duration": 28,
    "start_time": "2023-03-03T05:48:54.777Z"
   },
   {
    "duration": 12,
    "start_time": "2023-03-04T15:36:32.850Z"
   },
   {
    "duration": 47,
    "start_time": "2023-03-04T15:36:51.358Z"
   },
   {
    "duration": 810,
    "start_time": "2023-03-04T15:36:59.246Z"
   },
   {
    "duration": 62,
    "start_time": "2023-03-04T15:37:00.057Z"
   },
   {
    "duration": 7,
    "start_time": "2023-03-04T15:37:00.120Z"
   },
   {
    "duration": 17,
    "start_time": "2023-03-04T15:37:00.496Z"
   },
   {
    "duration": 89,
    "start_time": "2023-03-04T15:37:01.438Z"
   },
   {
    "duration": 7,
    "start_time": "2023-03-04T15:41:51.443Z"
   },
   {
    "duration": 8,
    "start_time": "2023-03-04T15:41:59.245Z"
   },
   {
    "duration": 13,
    "start_time": "2023-03-04T15:42:06.026Z"
   },
   {
    "duration": 50,
    "start_time": "2023-03-04T15:43:10.036Z"
   },
   {
    "duration": 28,
    "start_time": "2023-03-04T15:43:13.524Z"
   },
   {
    "duration": 10,
    "start_time": "2023-03-04T15:43:26.305Z"
   },
   {
    "duration": 24,
    "start_time": "2023-03-04T15:43:37.411Z"
   },
   {
    "duration": 19,
    "start_time": "2023-03-04T15:44:05.129Z"
   },
   {
    "duration": 14,
    "start_time": "2023-03-04T15:44:44.603Z"
   },
   {
    "duration": 14,
    "start_time": "2023-03-04T15:44:53.393Z"
   },
   {
    "duration": 10,
    "start_time": "2023-03-04T15:45:02.590Z"
   },
   {
    "duration": 14,
    "start_time": "2023-03-04T15:46:23.567Z"
   },
   {
    "duration": 15,
    "start_time": "2023-03-04T15:46:27.456Z"
   },
   {
    "duration": 11,
    "start_time": "2023-03-04T15:46:37.689Z"
   },
   {
    "duration": 4,
    "start_time": "2023-03-04T15:47:05.912Z"
   },
   {
    "duration": 14,
    "start_time": "2023-03-04T15:47:11.068Z"
   },
   {
    "duration": 7,
    "start_time": "2023-03-04T15:47:22.489Z"
   },
   {
    "duration": 11,
    "start_time": "2023-03-04T15:47:27.359Z"
   },
   {
    "duration": 14,
    "start_time": "2023-03-04T15:47:34.568Z"
   },
   {
    "duration": 52,
    "start_time": "2023-03-04T15:48:40.561Z"
   },
   {
    "duration": 10,
    "start_time": "2023-03-04T15:48:52.795Z"
   },
   {
    "duration": 7,
    "start_time": "2023-03-04T15:48:55.429Z"
   },
   {
    "duration": 48,
    "start_time": "2023-03-04T15:49:19.590Z"
   },
   {
    "duration": 24,
    "start_time": "2023-03-05T07:34:00.644Z"
   },
   {
    "duration": 56,
    "start_time": "2023-03-05T07:34:01.629Z"
   },
   {
    "duration": 9,
    "start_time": "2023-03-05T07:34:09.270Z"
   },
   {
    "duration": 942,
    "start_time": "2023-03-05T07:34:14.738Z"
   },
   {
    "duration": 5,
    "start_time": "2023-03-05T07:34:15.683Z"
   },
   {
    "duration": 165,
    "start_time": "2023-03-05T07:34:15.690Z"
   },
   {
    "duration": 31,
    "start_time": "2023-03-05T07:34:15.864Z"
   },
   {
    "duration": 60,
    "start_time": "2023-03-05T07:34:19.710Z"
   },
   {
    "duration": 51,
    "start_time": "2023-03-05T07:36:44.974Z"
   },
   {
    "duration": 7,
    "start_time": "2023-03-05T07:37:06.139Z"
   },
   {
    "duration": 10,
    "start_time": "2023-03-05T07:37:20.490Z"
   },
   {
    "duration": 5,
    "start_time": "2023-03-05T07:37:50.602Z"
   },
   {
    "duration": 48,
    "start_time": "2023-03-05T07:37:51.063Z"
   },
   {
    "duration": 725,
    "start_time": "2023-03-05T07:37:51.293Z"
   },
   {
    "duration": 6,
    "start_time": "2023-03-05T07:37:52.019Z"
   },
   {
    "duration": 9,
    "start_time": "2023-03-05T07:37:52.097Z"
   },
   {
    "duration": 7,
    "start_time": "2023-03-05T07:38:02.832Z"
   },
   {
    "duration": 1299,
    "start_time": "2023-03-05T07:38:11.108Z"
   },
   {
    "duration": 616,
    "start_time": "2023-03-05T07:38:23.618Z"
   },
   {
    "duration": 5,
    "start_time": "2023-03-05T07:38:24.236Z"
   },
   {
    "duration": 271,
    "start_time": "2023-03-05T07:38:24.243Z"
   },
   {
    "duration": 14,
    "start_time": "2023-03-05T07:38:24.516Z"
   },
   {
    "duration": 6,
    "start_time": "2023-03-05T07:38:24.532Z"
   },
   {
    "duration": 67,
    "start_time": "2023-03-05T07:38:24.575Z"
   },
   {
    "duration": 729,
    "start_time": "2023-03-05T07:38:24.707Z"
   },
   {
    "duration": 7,
    "start_time": "2023-03-05T07:38:25.438Z"
   },
   {
    "duration": 1856,
    "start_time": "2023-03-05T07:38:25.823Z"
   },
   {
    "duration": 44,
    "start_time": "2023-03-05T07:41:59.816Z"
   },
   {
    "duration": 5,
    "start_time": "2023-03-05T07:44:56.138Z"
   },
   {
    "duration": 4,
    "start_time": "2023-03-05T07:44:58.207Z"
   },
   {
    "duration": 7,
    "start_time": "2023-03-05T07:45:11.947Z"
   },
   {
    "duration": 8,
    "start_time": "2023-03-05T07:45:13.770Z"
   },
   {
    "duration": 3,
    "start_time": "2023-03-05T07:45:21.505Z"
   },
   {
    "duration": 9,
    "start_time": "2023-03-05T07:45:21.944Z"
   },
   {
    "duration": 1447,
    "start_time": "2023-03-05T07:45:41.226Z"
   },
   {
    "duration": 14,
    "start_time": "2023-03-05T07:53:49.347Z"
   },
   {
    "duration": 3,
    "start_time": "2023-03-05T07:54:07.739Z"
   },
   {
    "duration": 8,
    "start_time": "2023-03-05T07:54:09.003Z"
   },
   {
    "duration": 8,
    "start_time": "2023-03-05T07:54:14.807Z"
   },
   {
    "duration": 9,
    "start_time": "2023-03-05T07:54:19.137Z"
   },
   {
    "duration": 12,
    "start_time": "2023-03-05T07:54:30.908Z"
   },
   {
    "duration": 2,
    "start_time": "2023-03-05T07:55:08.495Z"
   },
   {
    "duration": 392,
    "start_time": "2023-03-05T07:55:16.002Z"
   },
   {
    "duration": 7,
    "start_time": "2023-03-05T08:06:02.397Z"
   },
   {
    "duration": 1293,
    "start_time": "2023-03-05T08:06:07.156Z"
   },
   {
    "duration": 5,
    "start_time": "2023-03-05T08:06:19.082Z"
   },
   {
    "duration": 6,
    "start_time": "2023-03-05T08:06:19.376Z"
   },
   {
    "duration": 6,
    "start_time": "2023-03-05T08:06:19.623Z"
   },
   {
    "duration": 31,
    "start_time": "2023-03-05T08:06:19.916Z"
   },
   {
    "duration": 16,
    "start_time": "2023-03-05T08:06:20.268Z"
   },
   {
    "duration": 57,
    "start_time": "2023-03-05T08:06:21.425Z"
   },
   {
    "duration": 7,
    "start_time": "2023-03-05T08:06:22.822Z"
   },
   {
    "duration": 3,
    "start_time": "2023-03-05T08:06:24.505Z"
   },
   {
    "duration": 1484,
    "start_time": "2023-03-05T08:06:24.695Z"
   },
   {
    "duration": 5,
    "start_time": "2023-03-05T08:06:36.780Z"
   },
   {
    "duration": 316,
    "start_time": "2023-03-05T08:06:37.592Z"
   },
   {
    "duration": 6,
    "start_time": "2023-03-05T08:07:03.378Z"
   },
   {
    "duration": 8,
    "start_time": "2023-03-05T08:07:05.585Z"
   },
   {
    "duration": 8,
    "start_time": "2023-03-05T08:07:06.833Z"
   },
   {
    "duration": 29,
    "start_time": "2023-03-05T08:07:09.177Z"
   },
   {
    "duration": 14,
    "start_time": "2023-03-05T08:07:09.880Z"
   },
   {
    "duration": 4,
    "start_time": "2023-03-05T08:07:17.684Z"
   },
   {
    "duration": 11,
    "start_time": "2023-03-05T08:07:17.690Z"
   },
   {
    "duration": 9,
    "start_time": "2023-03-05T08:07:17.703Z"
   },
   {
    "duration": 10,
    "start_time": "2023-03-05T08:07:17.714Z"
   },
   {
    "duration": 7,
    "start_time": "2023-03-05T08:07:17.726Z"
   },
   {
    "duration": 56,
    "start_time": "2023-03-05T08:07:17.734Z"
   },
   {
    "duration": 14,
    "start_time": "2023-03-05T08:07:17.792Z"
   },
   {
    "duration": 4,
    "start_time": "2023-03-05T08:07:20.509Z"
   },
   {
    "duration": 9,
    "start_time": "2023-03-05T08:07:20.515Z"
   },
   {
    "duration": 10,
    "start_time": "2023-03-05T08:07:20.526Z"
   },
   {
    "duration": 44,
    "start_time": "2023-03-05T08:07:20.539Z"
   },
   {
    "duration": 14,
    "start_time": "2023-03-05T08:07:20.585Z"
   },
   {
    "duration": 52,
    "start_time": "2023-03-05T08:07:20.601Z"
   },
   {
    "duration": 26,
    "start_time": "2023-03-05T08:07:20.655Z"
   },
   {
    "duration": 44,
    "start_time": "2023-03-05T08:07:20.685Z"
   },
   {
    "duration": 7,
    "start_time": "2023-03-05T08:07:20.730Z"
   },
   {
    "duration": 12,
    "start_time": "2023-03-05T08:07:20.753Z"
   },
   {
    "duration": 1336,
    "start_time": "2023-03-05T08:07:20.771Z"
   },
   {
    "duration": 4,
    "start_time": "2023-03-05T08:07:22.109Z"
   },
   {
    "duration": 338,
    "start_time": "2023-03-05T08:07:22.114Z"
   },
   {
    "duration": 4,
    "start_time": "2023-03-05T08:07:47.382Z"
   },
   {
    "duration": 20,
    "start_time": "2023-03-05T08:07:47.389Z"
   },
   {
    "duration": 12,
    "start_time": "2023-03-05T08:07:47.411Z"
   },
   {
    "duration": 54,
    "start_time": "2023-03-05T08:07:47.425Z"
   },
   {
    "duration": 33,
    "start_time": "2023-03-05T08:07:47.481Z"
   },
   {
    "duration": 48,
    "start_time": "2023-03-05T08:07:47.516Z"
   },
   {
    "duration": 22,
    "start_time": "2023-03-05T08:07:47.569Z"
   },
   {
    "duration": 87,
    "start_time": "2023-03-05T08:07:47.593Z"
   },
   {
    "duration": 7,
    "start_time": "2023-03-05T08:07:47.685Z"
   },
   {
    "duration": 19,
    "start_time": "2023-03-05T08:07:47.694Z"
   },
   {
    "duration": 1464,
    "start_time": "2023-03-05T08:07:47.715Z"
   },
   {
    "duration": 4,
    "start_time": "2023-03-05T08:07:49.180Z"
   },
   {
    "duration": 343,
    "start_time": "2023-03-05T08:07:49.187Z"
   },
   {
    "duration": 3,
    "start_time": "2023-03-05T08:14:38.316Z"
   },
   {
    "duration": 7,
    "start_time": "2023-03-05T08:14:38.321Z"
   },
   {
    "duration": 6,
    "start_time": "2023-03-05T08:14:38.330Z"
   },
   {
    "duration": 18,
    "start_time": "2023-03-05T08:14:38.338Z"
   },
   {
    "duration": 24,
    "start_time": "2023-03-05T08:14:38.363Z"
   },
   {
    "duration": 34,
    "start_time": "2023-03-05T08:14:38.389Z"
   },
   {
    "duration": 17,
    "start_time": "2023-03-05T08:14:38.425Z"
   },
   {
    "duration": 85,
    "start_time": "2023-03-05T08:14:38.444Z"
   },
   {
    "duration": 6,
    "start_time": "2023-03-05T08:14:38.531Z"
   },
   {
    "duration": 7,
    "start_time": "2023-03-05T08:14:38.539Z"
   },
   {
    "duration": 1411,
    "start_time": "2023-03-05T08:14:38.547Z"
   },
   {
    "duration": 13,
    "start_time": "2023-03-05T08:14:39.967Z"
   },
   {
    "duration": 331,
    "start_time": "2023-03-05T08:14:39.982Z"
   },
   {
    "duration": 1257,
    "start_time": "2023-03-05T08:15:18.646Z"
   },
   {
    "duration": 7,
    "start_time": "2023-03-05T08:15:19.905Z"
   },
   {
    "duration": 9,
    "start_time": "2023-03-05T08:15:19.914Z"
   },
   {
    "duration": 8,
    "start_time": "2023-03-05T08:15:19.926Z"
   },
   {
    "duration": 43,
    "start_time": "2023-03-05T08:15:19.936Z"
   },
   {
    "duration": 42,
    "start_time": "2023-03-05T08:15:19.981Z"
   },
   {
    "duration": 33,
    "start_time": "2023-03-05T08:15:20.026Z"
   },
   {
    "duration": 51,
    "start_time": "2023-03-05T08:15:20.065Z"
   },
   {
    "duration": 5,
    "start_time": "2023-03-05T08:15:20.118Z"
   },
   {
    "duration": 5,
    "start_time": "2023-03-05T08:15:20.125Z"
   },
   {
    "duration": 1535,
    "start_time": "2023-03-05T08:15:20.132Z"
   },
   {
    "duration": 6,
    "start_time": "2023-03-05T08:15:21.668Z"
   },
   {
    "duration": 421,
    "start_time": "2023-03-05T08:15:21.676Z"
   },
   {
    "duration": 3,
    "start_time": "2023-03-05T08:15:53.044Z"
   },
   {
    "duration": 39,
    "start_time": "2023-03-05T08:15:53.049Z"
   },
   {
    "duration": 10,
    "start_time": "2023-03-05T08:15:53.089Z"
   },
   {
    "duration": 8,
    "start_time": "2023-03-05T08:15:53.101Z"
   },
   {
    "duration": 8,
    "start_time": "2023-03-05T08:15:53.111Z"
   },
   {
    "duration": 53,
    "start_time": "2023-03-05T08:15:53.120Z"
   },
   {
    "duration": 14,
    "start_time": "2023-03-05T08:15:53.176Z"
   },
   {
    "duration": 47,
    "start_time": "2023-03-05T08:15:53.192Z"
   },
   {
    "duration": 6,
    "start_time": "2023-03-05T08:15:53.241Z"
   },
   {
    "duration": 44,
    "start_time": "2023-03-05T08:15:53.249Z"
   },
   {
    "duration": 1449,
    "start_time": "2023-03-05T08:15:53.295Z"
   },
   {
    "duration": 17,
    "start_time": "2023-03-05T08:15:54.746Z"
   },
   {
    "duration": 299,
    "start_time": "2023-03-05T08:15:54.771Z"
   },
   {
    "duration": 10,
    "start_time": "2023-03-05T08:18:39.246Z"
   },
   {
    "duration": 30,
    "start_time": "2023-03-05T08:18:39.263Z"
   },
   {
    "duration": 12,
    "start_time": "2023-03-05T08:18:39.295Z"
   },
   {
    "duration": 9,
    "start_time": "2023-03-05T08:18:39.309Z"
   },
   {
    "duration": 6,
    "start_time": "2023-03-05T08:18:39.320Z"
   },
   {
    "duration": 52,
    "start_time": "2023-03-05T08:18:39.327Z"
   },
   {
    "duration": 13,
    "start_time": "2023-03-05T08:18:39.380Z"
   },
   {
    "duration": 50,
    "start_time": "2023-03-05T08:18:39.395Z"
   },
   {
    "duration": 11,
    "start_time": "2023-03-05T08:18:39.447Z"
   },
   {
    "duration": 39,
    "start_time": "2023-03-05T08:18:39.460Z"
   },
   {
    "duration": 1300,
    "start_time": "2023-03-05T08:18:39.501Z"
   },
   {
    "duration": 4,
    "start_time": "2023-03-05T08:18:40.803Z"
   },
   {
    "duration": 344,
    "start_time": "2023-03-05T08:18:40.808Z"
   },
   {
    "duration": 318,
    "start_time": "2023-03-05T08:33:09.900Z"
   },
   {
    "duration": 3,
    "start_time": "2023-03-05T08:44:50.498Z"
   },
   {
    "duration": 9,
    "start_time": "2023-03-05T08:44:50.503Z"
   },
   {
    "duration": 58,
    "start_time": "2023-03-05T08:44:50.514Z"
   },
   {
    "duration": 24,
    "start_time": "2023-03-05T08:44:50.574Z"
   },
   {
    "duration": 34,
    "start_time": "2023-03-05T08:44:50.599Z"
   },
   {
    "duration": 53,
    "start_time": "2023-03-05T08:44:50.634Z"
   },
   {
    "duration": 44,
    "start_time": "2023-03-05T08:44:50.690Z"
   },
   {
    "duration": 7,
    "start_time": "2023-03-05T08:44:50.735Z"
   },
   {
    "duration": 30,
    "start_time": "2023-03-05T08:44:50.744Z"
   },
   {
    "duration": 1266,
    "start_time": "2023-03-05T08:44:50.775Z"
   },
   {
    "duration": 10,
    "start_time": "2023-03-05T08:44:52.042Z"
   },
   {
    "duration": 2436,
    "start_time": "2023-03-05T19:03:28.370Z"
   },
   {
    "duration": 7,
    "start_time": "2023-03-05T19:03:30.809Z"
   },
   {
    "duration": 27,
    "start_time": "2023-03-05T19:03:30.817Z"
   },
   {
    "duration": 64,
    "start_time": "2023-03-05T19:03:30.846Z"
   },
   {
    "duration": 21,
    "start_time": "2023-03-05T19:03:30.912Z"
   },
   {
    "duration": 60,
    "start_time": "2023-03-05T19:03:30.934Z"
   },
   {
    "duration": 8,
    "start_time": "2023-03-05T19:03:30.996Z"
   },
   {
    "duration": 31,
    "start_time": "2023-03-05T19:03:31.006Z"
   },
   {
    "duration": 1643,
    "start_time": "2023-03-05T19:03:31.040Z"
   },
   {
    "duration": 155,
    "start_time": "2023-03-05T19:03:32.684Z"
   },
   {
    "duration": 5,
    "start_time": "2023-03-05T19:03:32.841Z"
   },
   {
    "duration": 8,
    "start_time": "2023-03-05T19:03:32.847Z"
   },
   {
    "duration": 9,
    "start_time": "2023-03-05T19:03:32.857Z"
   },
   {
    "duration": 9,
    "start_time": "2023-03-05T19:03:32.868Z"
   },
   {
    "duration": 4395,
    "start_time": "2023-03-05T19:03:32.878Z"
   },
   {
    "duration": 63,
    "start_time": "2023-03-05T19:03:37.275Z"
   },
   {
    "duration": 9,
    "start_time": "2023-03-05T19:03:37.340Z"
   },
   {
    "duration": 7,
    "start_time": "2023-03-05T19:03:37.352Z"
   },
   {
    "duration": 8,
    "start_time": "2023-03-05T19:08:58.761Z"
   },
   {
    "duration": 46,
    "start_time": "2023-03-06T07:51:22.855Z"
   },
   {
    "duration": 2798,
    "start_time": "2023-03-06T07:51:36.090Z"
   },
   {
    "duration": 7,
    "start_time": "2023-03-06T07:51:38.893Z"
   },
   {
    "duration": 46,
    "start_time": "2023-03-06T07:51:38.902Z"
   },
   {
    "duration": 167,
    "start_time": "2023-03-06T07:51:38.952Z"
   },
   {
    "duration": 31,
    "start_time": "2023-03-06T07:51:39.121Z"
   },
   {
    "duration": 101,
    "start_time": "2023-03-06T07:51:39.154Z"
   },
   {
    "duration": 38,
    "start_time": "2023-03-06T07:51:39.257Z"
   },
   {
    "duration": 60,
    "start_time": "2023-03-06T07:51:39.297Z"
   },
   {
    "duration": 1970,
    "start_time": "2023-03-06T07:51:39.359Z"
   },
   {
    "duration": 150,
    "start_time": "2023-03-06T07:51:41.331Z"
   },
   {
    "duration": 4,
    "start_time": "2023-03-06T07:51:41.483Z"
   },
   {
    "duration": 10,
    "start_time": "2023-03-06T07:51:41.488Z"
   },
   {
    "duration": 50,
    "start_time": "2023-03-06T07:51:41.500Z"
   },
   {
    "duration": 102,
    "start_time": "2023-03-06T07:51:41.553Z"
   },
   {
    "duration": 0,
    "start_time": "2023-03-06T07:51:41.657Z"
   },
   {
    "duration": 0,
    "start_time": "2023-03-06T07:51:41.659Z"
   },
   {
    "duration": 0,
    "start_time": "2023-03-06T07:51:41.661Z"
   },
   {
    "duration": 0,
    "start_time": "2023-03-06T07:51:41.662Z"
   },
   {
    "duration": 0,
    "start_time": "2023-03-06T07:51:41.663Z"
   },
   {
    "duration": 4,
    "start_time": "2023-03-06T07:52:05.789Z"
   },
   {
    "duration": 4,
    "start_time": "2023-03-06T07:53:15.999Z"
   },
   {
    "duration": 7,
    "start_time": "2023-03-06T07:53:38.245Z"
   },
   {
    "duration": 6,
    "start_time": "2023-03-06T07:55:17.688Z"
   },
   {
    "duration": 6,
    "start_time": "2023-03-06T07:55:31.142Z"
   },
   {
    "duration": 4,
    "start_time": "2023-03-06T08:40:29.968Z"
   },
   {
    "duration": 13,
    "start_time": "2023-03-06T08:40:29.974Z"
   },
   {
    "duration": 66,
    "start_time": "2023-03-06T08:40:29.989Z"
   },
   {
    "duration": 51,
    "start_time": "2023-03-06T08:40:30.058Z"
   },
   {
    "duration": 27,
    "start_time": "2023-03-06T08:40:30.111Z"
   },
   {
    "duration": 94,
    "start_time": "2023-03-06T08:40:30.141Z"
   },
   {
    "duration": 30,
    "start_time": "2023-03-06T08:40:30.237Z"
   },
   {
    "duration": 17,
    "start_time": "2023-03-06T08:40:30.270Z"
   },
   {
    "duration": 1779,
    "start_time": "2023-03-06T08:40:30.290Z"
   },
   {
    "duration": 132,
    "start_time": "2023-03-06T08:40:32.072Z"
   },
   {
    "duration": 17,
    "start_time": "2023-03-06T08:40:32.206Z"
   },
   {
    "duration": 43,
    "start_time": "2023-03-06T08:40:32.234Z"
   },
   {
    "duration": 27,
    "start_time": "2023-03-06T08:40:32.279Z"
   },
   {
    "duration": 69,
    "start_time": "2023-03-06T08:40:32.308Z"
   },
   {
    "duration": 45,
    "start_time": "2023-03-06T08:40:32.379Z"
   },
   {
    "duration": 5016,
    "start_time": "2023-03-06T08:40:32.431Z"
   },
   {
    "duration": 54,
    "start_time": "2023-03-06T08:40:37.449Z"
   },
   {
    "duration": 30,
    "start_time": "2023-03-06T08:40:37.505Z"
   },
   {
    "duration": 32,
    "start_time": "2023-03-06T08:40:37.546Z"
   },
   {
    "duration": 129,
    "start_time": "2023-03-06T08:41:23.763Z"
   },
   {
    "duration": 15,
    "start_time": "2023-03-06T08:41:27.350Z"
   },
   {
    "duration": 4792,
    "start_time": "2023-03-06T08:41:27.941Z"
   },
   {
    "duration": 7,
    "start_time": "2023-03-06T08:51:56.248Z"
   },
   {
    "duration": 42,
    "start_time": "2023-03-06T08:51:56.258Z"
   },
   {
    "duration": 100,
    "start_time": "2023-03-06T08:51:56.306Z"
   },
   {
    "duration": 157,
    "start_time": "2023-03-06T08:51:56.408Z"
   },
   {
    "duration": 37,
    "start_time": "2023-03-06T08:51:56.582Z"
   },
   {
    "duration": 153,
    "start_time": "2023-03-06T08:51:56.634Z"
   },
   {
    "duration": 91,
    "start_time": "2023-03-06T08:51:56.789Z"
   },
   {
    "duration": 27,
    "start_time": "2023-03-06T08:51:56.884Z"
   },
   {
    "duration": 2050,
    "start_time": "2023-03-06T08:51:56.913Z"
   },
   {
    "duration": 246,
    "start_time": "2023-03-06T08:51:58.965Z"
   },
   {
    "duration": 17,
    "start_time": "2023-03-06T08:51:59.214Z"
   },
   {
    "duration": 38,
    "start_time": "2023-03-06T08:51:59.233Z"
   },
   {
    "duration": 17,
    "start_time": "2023-03-06T08:51:59.288Z"
   },
   {
    "duration": 91,
    "start_time": "2023-03-06T08:51:59.311Z"
   },
   {
    "duration": 80,
    "start_time": "2023-03-06T08:51:59.405Z"
   },
   {
    "duration": 148,
    "start_time": "2023-03-06T08:51:59.491Z"
   },
   {
    "duration": 0,
    "start_time": "2023-03-06T08:51:59.645Z"
   },
   {
    "duration": 0,
    "start_time": "2023-03-06T08:51:59.647Z"
   },
   {
    "duration": 0,
    "start_time": "2023-03-06T08:51:59.648Z"
   },
   {
    "duration": 45,
    "start_time": "2023-03-06T08:52:56.745Z"
   },
   {
    "duration": 6028,
    "start_time": "2023-03-06T08:52:57.885Z"
   },
   {
    "duration": 32,
    "start_time": "2023-03-06T08:53:13.840Z"
   },
   {
    "duration": 10,
    "start_time": "2023-03-06T08:53:19.274Z"
   },
   {
    "duration": 16,
    "start_time": "2023-03-06T08:53:45.546Z"
   },
   {
    "duration": 8,
    "start_time": "2023-03-06T09:00:45.375Z"
   },
   {
    "duration": 63,
    "start_time": "2023-03-06T09:00:52.048Z"
   },
   {
    "duration": 84,
    "start_time": "2023-03-06T09:03:24.028Z"
   },
   {
    "duration": 4,
    "start_time": "2023-03-06T09:14:44.699Z"
   },
   {
    "duration": 115,
    "start_time": "2023-03-06T09:14:44.706Z"
   },
   {
    "duration": 64,
    "start_time": "2023-03-06T09:14:44.826Z"
   },
   {
    "duration": 74,
    "start_time": "2023-03-06T09:14:44.892Z"
   },
   {
    "duration": 100,
    "start_time": "2023-03-06T09:14:44.974Z"
   },
   {
    "duration": 116,
    "start_time": "2023-03-06T09:14:45.081Z"
   },
   {
    "duration": 40,
    "start_time": "2023-03-06T09:14:45.199Z"
   },
   {
    "duration": 86,
    "start_time": "2023-03-06T09:14:45.241Z"
   },
   {
    "duration": 2099,
    "start_time": "2023-03-06T09:14:45.336Z"
   },
   {
    "duration": 202,
    "start_time": "2023-03-06T09:14:47.444Z"
   },
   {
    "duration": 6,
    "start_time": "2023-03-06T09:14:47.653Z"
   },
   {
    "duration": 35,
    "start_time": "2023-03-06T09:14:47.668Z"
   },
   {
    "duration": 6,
    "start_time": "2023-03-06T09:14:47.707Z"
   },
   {
    "duration": 25,
    "start_time": "2023-03-06T09:14:47.717Z"
   },
   {
    "duration": 24,
    "start_time": "2023-03-06T09:14:47.745Z"
   },
   {
    "duration": 6376,
    "start_time": "2023-03-06T09:14:47.771Z"
   },
   {
    "duration": 14,
    "start_time": "2023-03-06T09:14:54.153Z"
   },
   {
    "duration": 152,
    "start_time": "2023-03-06T09:14:54.172Z"
   },
   {
    "duration": 75,
    "start_time": "2023-03-06T09:14:54.335Z"
   },
   {
    "duration": 63,
    "start_time": "2023-03-06T09:14:54.425Z"
   },
   {
    "duration": 185,
    "start_time": "2023-03-06T09:14:54.490Z"
   },
   {
    "duration": 5189,
    "start_time": "2023-03-06T09:19:38.258Z"
   },
   {
    "duration": 11,
    "start_time": "2023-03-06T09:19:43.464Z"
   },
   {
    "duration": 117,
    "start_time": "2023-03-06T09:19:43.479Z"
   },
   {
    "duration": 80,
    "start_time": "2023-03-06T09:19:43.604Z"
   },
   {
    "duration": 37,
    "start_time": "2023-03-06T09:19:43.690Z"
   },
   {
    "duration": 173,
    "start_time": "2023-03-06T09:19:43.737Z"
   },
   {
    "duration": 18,
    "start_time": "2023-03-06T09:19:43.933Z"
   },
   {
    "duration": 20,
    "start_time": "2023-03-06T09:19:43.955Z"
   },
   {
    "duration": 2489,
    "start_time": "2023-03-06T09:19:43.992Z"
   },
   {
    "duration": 225,
    "start_time": "2023-03-06T09:19:46.502Z"
   },
   {
    "duration": 8,
    "start_time": "2023-03-06T09:19:46.731Z"
   },
   {
    "duration": 71,
    "start_time": "2023-03-06T09:19:46.743Z"
   },
   {
    "duration": 72,
    "start_time": "2023-03-06T09:19:46.825Z"
   },
   {
    "duration": 169,
    "start_time": "2023-03-06T09:19:46.905Z"
   },
   {
    "duration": 173,
    "start_time": "2023-03-06T09:19:47.079Z"
   },
   {
    "duration": 17,
    "start_time": "2023-03-06T09:26:12.753Z"
   },
   {
    "duration": 24,
    "start_time": "2023-03-06T09:26:12.773Z"
   },
   {
    "duration": 97,
    "start_time": "2023-03-06T09:26:12.802Z"
   },
   {
    "duration": 196,
    "start_time": "2023-03-06T09:26:12.903Z"
   },
   {
    "duration": 40,
    "start_time": "2023-03-06T09:26:13.102Z"
   },
   {
    "duration": 105,
    "start_time": "2023-03-06T09:26:13.149Z"
   },
   {
    "duration": 12,
    "start_time": "2023-03-06T09:26:13.256Z"
   },
   {
    "duration": 30,
    "start_time": "2023-03-06T09:26:13.280Z"
   },
   {
    "duration": 1860,
    "start_time": "2023-03-06T09:26:13.312Z"
   },
   {
    "duration": 167,
    "start_time": "2023-03-06T09:26:15.176Z"
   },
   {
    "duration": 19,
    "start_time": "2023-03-06T09:26:15.358Z"
   },
   {
    "duration": 22,
    "start_time": "2023-03-06T09:26:15.379Z"
   },
   {
    "duration": 27,
    "start_time": "2023-03-06T09:26:15.404Z"
   },
   {
    "duration": 58,
    "start_time": "2023-03-06T09:26:15.442Z"
   },
   {
    "duration": 85,
    "start_time": "2023-03-06T09:26:15.503Z"
   },
   {
    "duration": 5330,
    "start_time": "2023-03-06T09:26:15.590Z"
   },
   {
    "duration": 8,
    "start_time": "2023-03-06T09:26:20.925Z"
   },
   {
    "duration": 65,
    "start_time": "2023-03-06T09:26:20.938Z"
   },
   {
    "duration": 21,
    "start_time": "2023-03-06T09:26:21.005Z"
   },
   {
    "duration": 60,
    "start_time": "2023-03-06T09:26:21.028Z"
   },
   {
    "duration": 87,
    "start_time": "2023-03-06T09:26:21.090Z"
   }
  ],
  "colab": {
   "provenance": []
  },
  "kernelspec": {
   "display_name": "Python 3 (ipykernel)",
   "language": "python",
   "name": "python3"
  },
  "language_info": {
   "codemirror_mode": {
    "name": "ipython",
    "version": 3
   },
   "file_extension": ".py",
   "mimetype": "text/x-python",
   "name": "python",
   "nbconvert_exporter": "python",
   "pygments_lexer": "ipython3",
   "version": "3.9.5"
  },
  "toc": {
   "base_numbering": 1,
   "nav_menu": {},
   "number_sections": true,
   "sideBar": true,
   "skip_h1_title": true,
   "title_cell": "Table of Contents",
   "title_sidebar": "Contents",
   "toc_cell": false,
   "toc_position": {},
   "toc_section_display": true,
   "toc_window_display": false
  }
 },
 "nbformat": 4,
 "nbformat_minor": 1
}
